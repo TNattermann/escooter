{
 "cells": [
  {
   "cell_type": "code",
   "execution_count": 11,
   "id": "53991a2e",
   "metadata": {},
   "outputs": [],
   "source": [
    "import pandas as pd\n",
    "import numpy as np\n",
    "import seaborn as sns\n",
    "import plotly.express as px\n",
    "import datetime"
   ]
  },
  {
   "cell_type": "code",
   "execution_count": 2,
   "id": "1d28b5f9",
   "metadata": {},
   "outputs": [],
   "source": [
    "raw = pd.read_parquet(\"escooter_history.parquet\", engine=\"fastparquet\")"
   ]
  },
  {
   "cell_type": "markdown",
   "id": "b666b52a",
   "metadata": {},
   "source": [
    "## Data Cleaning"
   ]
  },
  {
   "cell_type": "code",
   "execution_count": 3,
   "id": "37e3139e",
   "metadata": {},
   "outputs": [],
   "source": [
    "# create copy\n",
    "df = raw.copy()\n",
    "\n",
    "# fix data types\n",
    "df = df.astype({\n",
    "    \"holiday\": \"boolean\",\n",
    "    \"workingday\": \"boolean\",\n",
    "    \"weather\": \"category\"\n",
    "})\n",
    "# fix typo in weather\n",
    "df.weather.cat.rename_categories(\n",
    "    {\"heacy rain or thunderstorm or snow or ice pallets\": \"heavy rain or thunderstorm or snow or ice pallets\"}, inplace=True)"
   ]
  },
  {
   "cell_type": "code",
   "execution_count": 4,
   "id": "e60d7972",
   "metadata": {},
   "outputs": [
    {
     "data": {
      "text/plain": [
       "datetime               datetime64[ns]\n",
       "holiday                       boolean\n",
       "workingday                    boolean\n",
       "weather                      category\n",
       "temp                          float64\n",
       "atemp                         float64\n",
       "humidity                        int64\n",
       "windspeed                     float64\n",
       "registered_customer           boolean\n",
       "dtype: object"
      ]
     },
     "execution_count": 4,
     "metadata": {},
     "output_type": "execute_result"
    }
   ],
   "source": [
    "df.dtypes"
   ]
  },
  {
   "cell_type": "code",
   "execution_count": 109,
   "id": "2d7fadd4",
   "metadata": {},
   "outputs": [
    {
     "data": {
      "text/plain": [
       "['clear, few clouds', 'cloudy, mist', 'light snow or rain or thunderstorm', 'heavy rain or thunderstorm or snow or ice pal...]\n",
       "Categories (4, object): ['clear, few clouds', 'cloudy, mist', 'light snow or rain or thunderstorm', 'heavy rain or thunderstorm or snow or ice pal...]"
      ]
     },
     "execution_count": 109,
     "metadata": {},
     "output_type": "execute_result"
    }
   ],
   "source": [
    "df.weather.unique()"
   ]
  },
  {
   "cell_type": "code",
   "execution_count": 6,
   "id": "d23a5057",
   "metadata": {},
   "outputs": [
    {
     "data": {
      "text/html": [
       "<div>\n",
       "<style scoped>\n",
       "    .dataframe tbody tr th:only-of-type {\n",
       "        vertical-align: middle;\n",
       "    }\n",
       "\n",
       "    .dataframe tbody tr th {\n",
       "        vertical-align: top;\n",
       "    }\n",
       "\n",
       "    .dataframe thead th {\n",
       "        text-align: right;\n",
       "    }\n",
       "</style>\n",
       "<table border=\"1\" class=\"dataframe\">\n",
       "  <thead>\n",
       "    <tr style=\"text-align: right;\">\n",
       "      <th></th>\n",
       "      <th>datetime</th>\n",
       "      <th>holiday</th>\n",
       "      <th>workingday</th>\n",
       "      <th>weather</th>\n",
       "      <th>temp</th>\n",
       "      <th>atemp</th>\n",
       "      <th>humidity</th>\n",
       "      <th>windspeed</th>\n",
       "      <th>registered_customer</th>\n",
       "    </tr>\n",
       "  </thead>\n",
       "  <tbody>\n",
       "    <tr>\n",
       "      <th>0</th>\n",
       "      <td>2019-01-01 00:00:09</td>\n",
       "      <td>False</td>\n",
       "      <td>False</td>\n",
       "      <td>clear, few clouds</td>\n",
       "      <td>9.84</td>\n",
       "      <td>14.395</td>\n",
       "      <td>81</td>\n",
       "      <td>0.0</td>\n",
       "      <td>True</td>\n",
       "    </tr>\n",
       "    <tr>\n",
       "      <th>1</th>\n",
       "      <td>2019-01-01 00:00:41</td>\n",
       "      <td>False</td>\n",
       "      <td>False</td>\n",
       "      <td>clear, few clouds</td>\n",
       "      <td>9.84</td>\n",
       "      <td>14.395</td>\n",
       "      <td>81</td>\n",
       "      <td>0.0</td>\n",
       "      <td>True</td>\n",
       "    </tr>\n",
       "    <tr>\n",
       "      <th>2</th>\n",
       "      <td>2019-01-01 00:01:20</td>\n",
       "      <td>False</td>\n",
       "      <td>False</td>\n",
       "      <td>clear, few clouds</td>\n",
       "      <td>9.84</td>\n",
       "      <td>14.395</td>\n",
       "      <td>81</td>\n",
       "      <td>0.0</td>\n",
       "      <td>True</td>\n",
       "    </tr>\n",
       "  </tbody>\n",
       "</table>\n",
       "</div>"
      ],
      "text/plain": [
       "             datetime  holiday  workingday            weather  temp   atemp  \\\n",
       "0 2019-01-01 00:00:09    False       False  clear, few clouds  9.84  14.395   \n",
       "1 2019-01-01 00:00:41    False       False  clear, few clouds  9.84  14.395   \n",
       "2 2019-01-01 00:01:20    False       False  clear, few clouds  9.84  14.395   \n",
       "\n",
       "   humidity  windspeed  registered_customer  \n",
       "0        81        0.0                 True  \n",
       "1        81        0.0                 True  \n",
       "2        81        0.0                 True  "
      ]
     },
     "execution_count": 6,
     "metadata": {},
     "output_type": "execute_result"
    }
   ],
   "source": [
    "df.head(3)"
   ]
  },
  {
   "cell_type": "code",
   "execution_count": 7,
   "id": "54917982",
   "metadata": {},
   "outputs": [
    {
     "data": {
      "text/html": [
       "<div>\n",
       "<style scoped>\n",
       "    .dataframe tbody tr th:only-of-type {\n",
       "        vertical-align: middle;\n",
       "    }\n",
       "\n",
       "    .dataframe tbody tr th {\n",
       "        vertical-align: top;\n",
       "    }\n",
       "\n",
       "    .dataframe thead th {\n",
       "        text-align: right;\n",
       "    }\n",
       "</style>\n",
       "<table border=\"1\" class=\"dataframe\">\n",
       "  <thead>\n",
       "    <tr style=\"text-align: right;\">\n",
       "      <th></th>\n",
       "      <th>temp</th>\n",
       "      <th>atemp</th>\n",
       "      <th>humidity</th>\n",
       "      <th>windspeed</th>\n",
       "    </tr>\n",
       "  </thead>\n",
       "  <tbody>\n",
       "    <tr>\n",
       "      <th>count</th>\n",
       "      <td>3.296021e+06</td>\n",
       "      <td>3.296021e+06</td>\n",
       "      <td>3.296021e+06</td>\n",
       "      <td>3.296021e+06</td>\n",
       "    </tr>\n",
       "    <tr>\n",
       "      <th>mean</th>\n",
       "      <td>2.330069e+01</td>\n",
       "      <td>2.694455e+01</td>\n",
       "      <td>5.667220e+01</td>\n",
       "      <td>1.344274e+01</td>\n",
       "    </tr>\n",
       "    <tr>\n",
       "      <th>std</th>\n",
       "      <td>7.417160e+00</td>\n",
       "      <td>7.960401e+00</td>\n",
       "      <td>1.825513e+01</td>\n",
       "      <td>8.042864e+00</td>\n",
       "    </tr>\n",
       "    <tr>\n",
       "      <th>min</th>\n",
       "      <td>8.200000e-01</td>\n",
       "      <td>0.000000e+00</td>\n",
       "      <td>0.000000e+00</td>\n",
       "      <td>0.000000e+00</td>\n",
       "    </tr>\n",
       "    <tr>\n",
       "      <th>25%</th>\n",
       "      <td>1.722000e+01</td>\n",
       "      <td>2.121000e+01</td>\n",
       "      <td>4.200000e+01</td>\n",
       "      <td>7.001500e+00</td>\n",
       "    </tr>\n",
       "    <tr>\n",
       "      <th>50%</th>\n",
       "      <td>2.460000e+01</td>\n",
       "      <td>2.803000e+01</td>\n",
       "      <td>5.500000e+01</td>\n",
       "      <td>1.299800e+01</td>\n",
       "    </tr>\n",
       "    <tr>\n",
       "      <th>75%</th>\n",
       "      <td>2.952000e+01</td>\n",
       "      <td>3.257500e+01</td>\n",
       "      <td>7.000000e+01</td>\n",
       "      <td>1.900120e+01</td>\n",
       "    </tr>\n",
       "    <tr>\n",
       "      <th>max</th>\n",
       "      <td>4.100000e+01</td>\n",
       "      <td>5.000000e+01</td>\n",
       "      <td>1.000000e+02</td>\n",
       "      <td>5.699690e+01</td>\n",
       "    </tr>\n",
       "  </tbody>\n",
       "</table>\n",
       "</div>"
      ],
      "text/plain": [
       "               temp         atemp      humidity     windspeed\n",
       "count  3.296021e+06  3.296021e+06  3.296021e+06  3.296021e+06\n",
       "mean   2.330069e+01  2.694455e+01  5.667220e+01  1.344274e+01\n",
       "std    7.417160e+00  7.960401e+00  1.825513e+01  8.042864e+00\n",
       "min    8.200000e-01  0.000000e+00  0.000000e+00  0.000000e+00\n",
       "25%    1.722000e+01  2.121000e+01  4.200000e+01  7.001500e+00\n",
       "50%    2.460000e+01  2.803000e+01  5.500000e+01  1.299800e+01\n",
       "75%    2.952000e+01  3.257500e+01  7.000000e+01  1.900120e+01\n",
       "max    4.100000e+01  5.000000e+01  1.000000e+02  5.699690e+01"
      ]
     },
     "execution_count": 7,
     "metadata": {},
     "output_type": "execute_result"
    }
   ],
   "source": [
    "df.describe()"
   ]
  },
  {
   "cell_type": "code",
   "execution_count": 8,
   "id": "8e56235b",
   "metadata": {},
   "outputs": [
    {
     "name": "stdout",
     "output_type": "stream",
     "text": [
      "<class 'pandas.core.frame.DataFrame'>\n",
      "RangeIndex: 3296021 entries, 0 to 3296020\n",
      "Data columns (total 9 columns):\n",
      " #   Column               Dtype         \n",
      "---  ------               -----         \n",
      " 0   datetime             datetime64[ns]\n",
      " 1   holiday              boolean       \n",
      " 2   workingday           boolean       \n",
      " 3   weather              category      \n",
      " 4   temp                 float64       \n",
      " 5   atemp                float64       \n",
      " 6   humidity             int64         \n",
      " 7   windspeed            float64       \n",
      " 8   registered_customer  boolean       \n",
      "dtypes: boolean(3), category(1), datetime64[ns](1), float64(3), int64(1)\n",
      "memory usage: 147.7 MB\n"
     ]
    }
   ],
   "source": [
    "df.info()"
   ]
  },
  {
   "cell_type": "code",
   "execution_count": 9,
   "id": "b0c029bd",
   "metadata": {},
   "outputs": [
    {
     "data": {
      "text/plain": [
       "datetime               datetime64[ns]\n",
       "holiday                       boolean\n",
       "workingday                    boolean\n",
       "weather                      category\n",
       "temp                          float64\n",
       "atemp                         float64\n",
       "humidity                        int64\n",
       "windspeed                     float64\n",
       "registered_customer           boolean\n",
       "dtype: object"
      ]
     },
     "execution_count": 9,
     "metadata": {},
     "output_type": "execute_result"
    }
   ],
   "source": [
    "df.dtypes"
   ]
  },
  {
   "cell_type": "code",
   "execution_count": 12,
   "id": "09c3691b",
   "metadata": {},
   "outputs": [
    {
     "data": {
      "text/plain": [
       "<AxesSubplot:>"
      ]
     },
     "execution_count": 12,
     "metadata": {},
     "output_type": "execute_result"
    },
    {
     "data": {
      "image/png": "[encoded data removed]",
      "text/plain": [
       "<Figure size 432x288 with 2 Axes>"
      ]
     },
     "metadata": {
      "needs_background": "light"
     },
     "output_type": "display_data"
    }
   ],
   "source": [
    "sns.heatmap(df.corr())"
   ]
  },
  {
   "cell_type": "code",
   "execution_count": 99,
   "id": "86025d77",
   "metadata": {},
   "outputs": [],
   "source": [
    "df_by_day = df.groupby([df.datetime.dt.date, df.registered_customer]).agg({\"datetime\": \"count\", \n",
    "                                                   \"holiday\": pd.Series.mode, \n",
    "                                                   \"workingday\": pd.Series.mode,\n",
    "                                                   \"temp\": \"mean\",\n",
    "                                                   \"atemp\": \"mean\",\n",
    "                                                   \"humidity\": \"mean\",\n",
    "                                                   \"windspeed\": \"mean\"}).rename(columns={\"datetime\": \"count\"}).reset_index()\n",
    "df_by_hour = df.groupby([df.datetime.dt.hour, df.registered_customer]).agg({\"datetime\": \"count\", \n",
    "                                                   \"holiday\": pd.Series.mode, \n",
    "                                                   \"workingday\": pd.Series.mode,\n",
    "                                                   \"temp\": \"mean\",\n",
    "                                                   \"atemp\": \"mean\",\n",
    "                                                   \"humidity\": \"mean\",\n",
    "                                                   \"windspeed\": \"mean\"}).rename(columns={\"datetime\": \"count\"}).reset_index()\n",
    "df_by_weather = df.groupby([df.datetime.dt.hour, df.weather]).agg({\"datetime\": \"count\", \n",
    "                                                   \"holiday\": pd.Series.mode, \n",
    "                                                   \"workingday\": pd.Series.mode,\n",
    "                                                   \"temp\": \"mean\",\n",
    "                                                   \"atemp\": \"mean\",\n",
    "                                                   \"humidity\": \"mean\",\n",
    "                                                   \"windspeed\": \"mean\"}).rename(columns={\"datetime\": \"count\"}).reset_index()\n",
    "\n",
    "df_by_day.datetime = pd.to_datetime(df_by_day.datetime)\n",
    "df_by_hour.rename(columns={\"datetime\": \"hour\"}, inplace=True)\n",
    "df_by_weather.rename(columns={\"datetime\": \"hour\"}, inplace=True)"
   ]
  },
  {
   "cell_type": "code",
   "execution_count": 55,
   "id": "f4af2bdf",
   "metadata": {},
   "outputs": [
    {
     "data": {
      "application/vnd.plotly.v1+json": {
       "config": {
        "plotlyServerURL": "https://plot.ly"
       },
       "data": [
        {
         "alignmentgroup": "True",
         "bingroup": "x",
         "histfunc": "sum",
         "hovertemplate": "holiday=0.0<br>datetime=%{x}<br>sum of count=%{y}<extra></extra>",
         "legendgroup": "0.0",
         "marker": {
          "color": "#636efa",
          "pattern": {
           "shape": ""
          }
         },
         "name": "0.0",
         "nbinsx": 1462,
         "offsetgroup": "0.0",
         "orientation": "v",
         "showlegend": true,
         "type": "histogram",
         "x": [
          "2019-01-01T00:00:00",
          "2019-01-01T00:00:00",
          "2019-01-02T00:00:00",
          "2019-01-02T00:00:00",
          "2019-01-03T00:00:00",
          "2019-01-03T00:00:00",
          "2019-01-04T00:00:00",
          "2019-01-04T00:00:00",
          "2019-01-05T00:00:00",
          "2019-01-05T00:00:00",
          "2019-01-06T00:00:00",
          "2019-01-06T00:00:00",
          "2019-01-07T00:00:00",
          "2019-01-07T00:00:00",
          "2019-01-08T00:00:00",
          "2019-01-08T00:00:00",
          "2019-01-09T00:00:00",
          "2019-01-09T00:00:00",
          "2019-01-10T00:00:00",
          "2019-01-10T00:00:00",
          "2019-01-11T00:00:00",
          "2019-01-11T00:00:00",
          "2019-01-12T00:00:00",
          "2019-01-12T00:00:00",
          "2019-01-13T00:00:00",
          "2019-01-13T00:00:00",
          "2019-01-14T00:00:00",
          "2019-01-14T00:00:00",
          "2019-01-15T00:00:00",
          "2019-01-15T00:00:00",
          "2019-01-16T00:00:00",
          "2019-01-16T00:00:00",
          "2019-01-18T00:00:00",
          "2019-01-18T00:00:00",
          "2019-01-19T00:00:00",
          "2019-01-19T00:00:00",
          "2019-01-20T00:00:00",
          "2019-01-20T00:00:00",
          "2019-01-21T00:00:00",
          "2019-01-21T00:00:00",
          "2019-01-22T00:00:00",
          "2019-01-22T00:00:00",
          "2019-01-23T00:00:00",
          "2019-01-23T00:00:00",
          "2019-01-24T00:00:00",
          "2019-01-24T00:00:00",
          "2019-01-25T00:00:00",
          "2019-01-25T00:00:00",
          "2019-01-26T00:00:00",
          "2019-01-26T00:00:00",
          "2019-01-27T00:00:00",
          "2019-01-27T00:00:00",
          "2019-01-28T00:00:00",
          "2019-01-28T00:00:00",
          "2019-01-29T00:00:00",
          "2019-01-29T00:00:00",
          "2019-01-30T00:00:00",
          "2019-01-30T00:00:00",
          "2019-01-31T00:00:00",
          "2019-01-31T00:00:00",
          "2019-02-01T00:00:00",
          "2019-02-01T00:00:00",
          "2019-02-02T00:00:00",
          "2019-02-02T00:00:00",
          "2019-02-03T00:00:00",
          "2019-02-03T00:00:00",
          "2019-02-04T00:00:00",
          "2019-02-04T00:00:00",
          "2019-02-05T00:00:00",
          "2019-02-05T00:00:00",
          "2019-02-06T00:00:00",
          "2019-02-06T00:00:00",
          "2019-02-07T00:00:00",
          "2019-02-07T00:00:00",
          "2019-02-08T00:00:00",
          "2019-02-08T00:00:00",
          "2019-02-09T00:00:00",
          "2019-02-09T00:00:00",
          "2019-02-10T00:00:00",
          "2019-02-10T00:00:00",
          "2019-02-11T00:00:00",
          "2019-02-11T00:00:00",
          "2019-02-12T00:00:00",
          "2019-02-12T00:00:00",
          "2019-02-13T00:00:00",
          "2019-02-13T00:00:00",
          "2019-02-14T00:00:00",
          "2019-02-14T00:00:00",
          "2019-02-15T00:00:00",
          "2019-02-15T00:00:00",
          "2019-02-16T00:00:00",
          "2019-02-16T00:00:00",
          "2019-02-17T00:00:00",
          "2019-02-17T00:00:00",
          "2019-02-18T00:00:00",
          "2019-02-18T00:00:00",
          "2019-02-19T00:00:00",
          "2019-02-19T00:00:00",
          "2019-02-20T00:00:00",
          "2019-02-20T00:00:00",
          "2019-02-22T00:00:00",
          "2019-02-22T00:00:00",
          "2019-02-23T00:00:00",
          "2019-02-23T00:00:00",
          "2019-02-24T00:00:00",
          "2019-02-24T00:00:00",
          "2019-02-25T00:00:00",
          "2019-02-25T00:00:00",
          "2019-02-26T00:00:00",
          "2019-02-26T00:00:00",
          "2019-02-27T00:00:00",
          "2019-02-27T00:00:00",
          "2019-02-28T00:00:00",
          "2019-02-28T00:00:00",
          "2019-03-01T00:00:00",
          "2019-03-01T00:00:00",
          "2019-03-02T00:00:00",
          "2019-03-02T00:00:00",
          "2019-03-03T00:00:00",
          "2019-03-03T00:00:00",
          "2019-03-04T00:00:00",
          "2019-03-04T00:00:00",
          "2019-03-05T00:00:00",
          "2019-03-05T00:00:00",
          "2019-03-06T00:00:00",
          "2019-03-06T00:00:00",
          "2019-03-07T00:00:00",
          "2019-03-07T00:00:00",
          "2019-03-08T00:00:00",
          "2019-03-08T00:00:00",
          "2019-03-09T00:00:00",
          "2019-03-09T00:00:00",
          "2019-03-10T00:00:00",
          "2019-03-10T00:00:00",
          "2019-03-11T00:00:00",
          "2019-03-11T00:00:00",
          "2019-03-12T00:00:00",
          "2019-03-12T00:00:00",
          "2019-03-13T00:00:00",
          "2019-03-13T00:00:00",
          "2019-03-14T00:00:00",
          "2019-03-14T00:00:00",
          "2019-03-15T00:00:00",
          "2019-03-15T00:00:00",
          "2019-03-16T00:00:00",
          "2019-03-16T00:00:00",
          "2019-03-17T00:00:00",
          "2019-03-17T00:00:00",
          "2019-03-18T00:00:00",
          "2019-03-18T00:00:00",
          "2019-03-19T00:00:00",
          "2019-03-19T00:00:00",
          "2019-03-20T00:00:00",
          "2019-03-20T00:00:00",
          "2019-03-21T00:00:00",
          "2019-03-21T00:00:00",
          "2019-03-22T00:00:00",
          "2019-03-22T00:00:00",
          "2019-03-23T00:00:00",
          "2019-03-23T00:00:00",
          "2019-03-24T00:00:00",
          "2019-03-24T00:00:00",
          "2019-03-25T00:00:00",
          "2019-03-25T00:00:00",
          "2019-03-26T00:00:00",
          "2019-03-26T00:00:00",
          "2019-03-27T00:00:00",
          "2019-03-27T00:00:00",
          "2019-03-28T00:00:00",
          "2019-03-28T00:00:00",
          "2019-03-29T00:00:00",
          "2019-03-29T00:00:00",
          "2019-03-30T00:00:00",
          "2019-03-30T00:00:00",
          "2019-03-31T00:00:00",
          "2019-03-31T00:00:00",
          "2019-04-01T00:00:00",
          "2019-04-01T00:00:00",
          "2019-04-02T00:00:00",
          "2019-04-02T00:00:00",
          "2019-04-03T00:00:00",
          "2019-04-03T00:00:00",
          "2019-04-04T00:00:00",
          "2019-04-04T00:00:00",
          "2019-04-05T00:00:00",
          "2019-04-05T00:00:00",
          "2019-04-06T00:00:00",
          "2019-04-06T00:00:00",
          "2019-04-07T00:00:00",
          "2019-04-07T00:00:00",
          "2019-04-08T00:00:00",
          "2019-04-08T00:00:00",
          "2019-04-09T00:00:00",
          "2019-04-09T00:00:00",
          "2019-04-10T00:00:00",
          "2019-04-10T00:00:00",
          "2019-04-11T00:00:00",
          "2019-04-11T00:00:00",
          "2019-04-12T00:00:00",
          "2019-04-12T00:00:00",
          "2019-04-13T00:00:00",
          "2019-04-13T00:00:00",
          "2019-04-14T00:00:00",
          "2019-04-14T00:00:00",
          "2019-04-16T00:00:00",
          "2019-04-16T00:00:00",
          "2019-04-17T00:00:00",
          "2019-04-17T00:00:00",
          "2019-04-18T00:00:00",
          "2019-04-18T00:00:00",
          "2019-04-19T00:00:00",
          "2019-04-19T00:00:00",
          "2019-04-20T00:00:00",
          "2019-04-20T00:00:00",
          "2019-04-21T00:00:00",
          "2019-04-21T00:00:00",
          "2019-04-22T00:00:00",
          "2019-04-22T00:00:00",
          "2019-04-23T00:00:00",
          "2019-04-23T00:00:00",
          "2019-04-24T00:00:00",
          "2019-04-24T00:00:00",
          "2019-04-25T00:00:00",
          "2019-04-25T00:00:00",
          "2019-04-26T00:00:00",
          "2019-04-26T00:00:00",
          "2019-04-27T00:00:00",
          "2019-04-27T00:00:00",
          "2019-04-28T00:00:00",
          "2019-04-28T00:00:00",
          "2019-04-29T00:00:00",
          "2019-04-29T00:00:00",
          "2019-04-30T00:00:00",
          "2019-04-30T00:00:00",
          "2019-05-01T00:00:00",
          "2019-05-01T00:00:00",
          "2019-05-02T00:00:00",
          "2019-05-02T00:00:00",
          "2019-05-03T00:00:00",
          "2019-05-03T00:00:00",
          "2019-05-04T00:00:00",
          "2019-05-04T00:00:00",
          "2019-05-05T00:00:00",
          "2019-05-05T00:00:00",
          "2019-05-06T00:00:00",
          "2019-05-06T00:00:00",
          "2019-05-07T00:00:00",
          "2019-05-07T00:00:00",
          "2019-05-08T00:00:00",
          "2019-05-08T00:00:00",
          "2019-05-09T00:00:00",
          "2019-05-09T00:00:00",
          "2019-05-10T00:00:00",
          "2019-05-10T00:00:00",
          "2019-05-11T00:00:00",
          "2019-05-11T00:00:00",
          "2019-05-12T00:00:00",
          "2019-05-12T00:00:00",
          "2019-05-13T00:00:00",
          "2019-05-13T00:00:00",
          "2019-05-14T00:00:00",
          "2019-05-14T00:00:00",
          "2019-05-15T00:00:00",
          "2019-05-15T00:00:00",
          "2019-05-16T00:00:00",
          "2019-05-16T00:00:00",
          "2019-05-17T00:00:00",
          "2019-05-17T00:00:00",
          "2019-05-18T00:00:00",
          "2019-05-18T00:00:00",
          "2019-05-19T00:00:00",
          "2019-05-19T00:00:00",
          "2019-05-20T00:00:00",
          "2019-05-20T00:00:00",
          "2019-05-21T00:00:00",
          "2019-05-21T00:00:00",
          "2019-05-22T00:00:00",
          "2019-05-22T00:00:00",
          "2019-05-23T00:00:00",
          "2019-05-23T00:00:00",
          "2019-05-24T00:00:00",
          "2019-05-24T00:00:00",
          "2019-05-25T00:00:00",
          "2019-05-25T00:00:00",
          "2019-05-26T00:00:00",
          "2019-05-26T00:00:00",
          "2019-05-27T00:00:00",
          "2019-05-27T00:00:00",
          "2019-05-28T00:00:00",
          "2019-05-28T00:00:00",
          "2019-05-29T00:00:00",
          "2019-05-29T00:00:00",
          "2019-05-31T00:00:00",
          "2019-05-31T00:00:00",
          "2019-06-01T00:00:00",
          "2019-06-01T00:00:00",
          "2019-06-02T00:00:00",
          "2019-06-02T00:00:00",
          "2019-06-03T00:00:00",
          "2019-06-03T00:00:00",
          "2019-06-04T00:00:00",
          "2019-06-04T00:00:00",
          "2019-06-05T00:00:00",
          "2019-06-05T00:00:00",
          "2019-06-06T00:00:00",
          "2019-06-06T00:00:00",
          "2019-06-07T00:00:00",
          "2019-06-07T00:00:00",
          "2019-06-08T00:00:00",
          "2019-06-08T00:00:00",
          "2019-06-09T00:00:00",
          "2019-06-09T00:00:00",
          "2019-06-10T00:00:00",
          "2019-06-10T00:00:00",
          "2019-06-11T00:00:00",
          "2019-06-11T00:00:00",
          "2019-06-12T00:00:00",
          "2019-06-12T00:00:00",
          "2019-06-13T00:00:00",
          "2019-06-13T00:00:00",
          "2019-06-14T00:00:00",
          "2019-06-14T00:00:00",
          "2019-06-15T00:00:00",
          "2019-06-15T00:00:00",
          "2019-06-16T00:00:00",
          "2019-06-16T00:00:00",
          "2019-06-17T00:00:00",
          "2019-06-17T00:00:00",
          "2019-06-18T00:00:00",
          "2019-06-18T00:00:00",
          "2019-06-19T00:00:00",
          "2019-06-19T00:00:00",
          "2019-06-20T00:00:00",
          "2019-06-20T00:00:00",
          "2019-06-21T00:00:00",
          "2019-06-21T00:00:00",
          "2019-06-22T00:00:00",
          "2019-06-22T00:00:00",
          "2019-06-23T00:00:00",
          "2019-06-23T00:00:00",
          "2019-06-24T00:00:00",
          "2019-06-24T00:00:00",
          "2019-06-25T00:00:00",
          "2019-06-25T00:00:00",
          "2019-06-26T00:00:00",
          "2019-06-26T00:00:00",
          "2019-06-27T00:00:00",
          "2019-06-27T00:00:00",
          "2019-06-28T00:00:00",
          "2019-06-28T00:00:00",
          "2019-06-29T00:00:00",
          "2019-06-29T00:00:00",
          "2019-06-30T00:00:00",
          "2019-06-30T00:00:00",
          "2019-07-01T00:00:00",
          "2019-07-01T00:00:00",
          "2019-07-02T00:00:00",
          "2019-07-02T00:00:00",
          "2019-07-03T00:00:00",
          "2019-07-03T00:00:00",
          "2019-07-05T00:00:00",
          "2019-07-05T00:00:00",
          "2019-07-06T00:00:00",
          "2019-07-06T00:00:00",
          "2019-07-07T00:00:00",
          "2019-07-07T00:00:00",
          "2019-07-08T00:00:00",
          "2019-07-08T00:00:00",
          "2019-07-09T00:00:00",
          "2019-07-09T00:00:00",
          "2019-07-10T00:00:00",
          "2019-07-10T00:00:00",
          "2019-07-11T00:00:00",
          "2019-07-11T00:00:00",
          "2019-07-12T00:00:00",
          "2019-07-12T00:00:00",
          "2019-07-13T00:00:00",
          "2019-07-13T00:00:00",
          "2019-07-14T00:00:00",
          "2019-07-14T00:00:00",
          "2019-07-15T00:00:00",
          "2019-07-15T00:00:00",
          "2019-07-16T00:00:00",
          "2019-07-16T00:00:00",
          "2019-07-17T00:00:00",
          "2019-07-17T00:00:00",
          "2019-07-18T00:00:00",
          "2019-07-18T00:00:00",
          "2019-07-19T00:00:00",
          "2019-07-19T00:00:00",
          "2019-07-20T00:00:00",
          "2019-07-20T00:00:00",
          "2019-07-21T00:00:00",
          "2019-07-21T00:00:00",
          "2019-07-22T00:00:00",
          "2019-07-22T00:00:00",
          "2019-07-23T00:00:00",
          "2019-07-23T00:00:00",
          "2019-07-24T00:00:00",
          "2019-07-24T00:00:00",
          "2019-07-25T00:00:00",
          "2019-07-25T00:00:00",
          "2019-07-26T00:00:00",
          "2019-07-26T00:00:00",
          "2019-07-27T00:00:00",
          "2019-07-27T00:00:00",
          "2019-07-28T00:00:00",
          "2019-07-28T00:00:00",
          "2019-07-29T00:00:00",
          "2019-07-29T00:00:00",
          "2019-07-30T00:00:00",
          "2019-07-30T00:00:00",
          "2019-07-31T00:00:00",
          "2019-07-31T00:00:00",
          "2019-08-01T00:00:00",
          "2019-08-01T00:00:00",
          "2019-08-02T00:00:00",
          "2019-08-02T00:00:00",
          "2019-08-03T00:00:00",
          "2019-08-03T00:00:00",
          "2019-08-04T00:00:00",
          "2019-08-04T00:00:00",
          "2019-08-05T00:00:00",
          "2019-08-05T00:00:00",
          "2019-08-06T00:00:00",
          "2019-08-06T00:00:00",
          "2019-08-07T00:00:00",
          "2019-08-07T00:00:00",
          "2019-08-08T00:00:00",
          "2019-08-08T00:00:00",
          "2019-08-09T00:00:00",
          "2019-08-09T00:00:00",
          "2019-08-10T00:00:00",
          "2019-08-10T00:00:00",
          "2019-08-11T00:00:00",
          "2019-08-11T00:00:00",
          "2019-08-12T00:00:00",
          "2019-08-12T00:00:00",
          "2019-08-13T00:00:00",
          "2019-08-13T00:00:00",
          "2019-08-14T00:00:00",
          "2019-08-14T00:00:00",
          "2019-08-15T00:00:00",
          "2019-08-15T00:00:00",
          "2019-08-16T00:00:00",
          "2019-08-16T00:00:00",
          "2019-08-17T00:00:00",
          "2019-08-17T00:00:00",
          "2019-08-18T00:00:00",
          "2019-08-18T00:00:00",
          "2019-08-19T00:00:00",
          "2019-08-19T00:00:00",
          "2019-08-20T00:00:00",
          "2019-08-20T00:00:00",
          "2019-08-21T00:00:00",
          "2019-08-21T00:00:00",
          "2019-08-22T00:00:00",
          "2019-08-22T00:00:00",
          "2019-08-23T00:00:00",
          "2019-08-23T00:00:00",
          "2019-08-24T00:00:00",
          "2019-08-24T00:00:00",
          "2019-08-25T00:00:00",
          "2019-08-25T00:00:00",
          "2019-08-26T00:00:00",
          "2019-08-26T00:00:00",
          "2019-08-27T00:00:00",
          "2019-08-27T00:00:00",
          "2019-08-28T00:00:00",
          "2019-08-28T00:00:00",
          "2019-08-29T00:00:00",
          "2019-08-29T00:00:00",
          "2019-08-30T00:00:00",
          "2019-08-30T00:00:00",
          "2019-08-31T00:00:00",
          "2019-08-31T00:00:00",
          "2019-09-01T00:00:00",
          "2019-09-01T00:00:00",
          "2019-09-02T00:00:00",
          "2019-09-02T00:00:00",
          "2019-09-03T00:00:00",
          "2019-09-03T00:00:00",
          "2019-09-04T00:00:00",
          "2019-09-04T00:00:00",
          "2019-09-06T00:00:00",
          "2019-09-06T00:00:00",
          "2019-09-07T00:00:00",
          "2019-09-07T00:00:00",
          "2019-09-08T00:00:00",
          "2019-09-08T00:00:00",
          "2019-09-09T00:00:00",
          "2019-09-09T00:00:00",
          "2019-09-10T00:00:00",
          "2019-09-10T00:00:00",
          "2019-09-11T00:00:00",
          "2019-09-11T00:00:00",
          "2019-09-12T00:00:00",
          "2019-09-12T00:00:00",
          "2019-09-13T00:00:00",
          "2019-09-13T00:00:00",
          "2019-09-14T00:00:00",
          "2019-09-14T00:00:00",
          "2019-09-15T00:00:00",
          "2019-09-15T00:00:00",
          "2019-09-16T00:00:00",
          "2019-09-16T00:00:00",
          "2019-09-17T00:00:00",
          "2019-09-17T00:00:00",
          "2019-09-18T00:00:00",
          "2019-09-18T00:00:00",
          "2019-09-19T00:00:00",
          "2019-09-19T00:00:00",
          "2019-09-20T00:00:00",
          "2019-09-20T00:00:00",
          "2019-09-21T00:00:00",
          "2019-09-21T00:00:00",
          "2019-09-22T00:00:00",
          "2019-09-22T00:00:00",
          "2019-09-23T00:00:00",
          "2019-09-23T00:00:00",
          "2019-09-24T00:00:00",
          "2019-09-24T00:00:00",
          "2019-09-25T00:00:00",
          "2019-09-25T00:00:00",
          "2019-09-26T00:00:00",
          "2019-09-26T00:00:00",
          "2019-09-27T00:00:00",
          "2019-09-27T00:00:00",
          "2019-09-28T00:00:00",
          "2019-09-28T00:00:00",
          "2019-09-29T00:00:00",
          "2019-09-29T00:00:00",
          "2019-09-30T00:00:00",
          "2019-09-30T00:00:00",
          "2019-10-01T00:00:00",
          "2019-10-01T00:00:00",
          "2019-10-02T00:00:00",
          "2019-10-02T00:00:00",
          "2019-10-03T00:00:00",
          "2019-10-03T00:00:00",
          "2019-10-04T00:00:00",
          "2019-10-04T00:00:00",
          "2019-10-05T00:00:00",
          "2019-10-05T00:00:00",
          "2019-10-06T00:00:00",
          "2019-10-06T00:00:00",
          "2019-10-07T00:00:00",
          "2019-10-07T00:00:00",
          "2019-10-08T00:00:00",
          "2019-10-08T00:00:00",
          "2019-10-09T00:00:00",
          "2019-10-09T00:00:00",
          "2019-10-11T00:00:00",
          "2019-10-11T00:00:00",
          "2019-10-12T00:00:00",
          "2019-10-12T00:00:00",
          "2019-10-13T00:00:00",
          "2019-10-13T00:00:00",
          "2019-10-14T00:00:00",
          "2019-10-14T00:00:00",
          "2019-10-15T00:00:00",
          "2019-10-15T00:00:00",
          "2019-10-16T00:00:00",
          "2019-10-16T00:00:00",
          "2019-10-17T00:00:00",
          "2019-10-17T00:00:00",
          "2019-10-18T00:00:00",
          "2019-10-18T00:00:00",
          "2019-10-19T00:00:00",
          "2019-10-19T00:00:00",
          "2019-10-20T00:00:00",
          "2019-10-20T00:00:00",
          "2019-10-21T00:00:00",
          "2019-10-21T00:00:00",
          "2019-10-22T00:00:00",
          "2019-10-22T00:00:00",
          "2019-10-23T00:00:00",
          "2019-10-23T00:00:00",
          "2019-10-24T00:00:00",
          "2019-10-24T00:00:00",
          "2019-10-25T00:00:00",
          "2019-10-25T00:00:00",
          "2019-10-26T00:00:00",
          "2019-10-26T00:00:00",
          "2019-10-27T00:00:00",
          "2019-10-27T00:00:00",
          "2019-10-28T00:00:00",
          "2019-10-28T00:00:00",
          "2019-10-29T00:00:00",
          "2019-10-29T00:00:00",
          "2019-10-30T00:00:00",
          "2019-10-30T00:00:00",
          "2019-10-31T00:00:00",
          "2019-10-31T00:00:00",
          "2019-11-01T00:00:00",
          "2019-11-01T00:00:00",
          "2019-11-02T00:00:00",
          "2019-11-02T00:00:00",
          "2019-11-03T00:00:00",
          "2019-11-03T00:00:00",
          "2019-11-04T00:00:00",
          "2019-11-04T00:00:00",
          "2019-11-05T00:00:00",
          "2019-11-05T00:00:00",
          "2019-11-06T00:00:00",
          "2019-11-06T00:00:00",
          "2019-11-07T00:00:00",
          "2019-11-07T00:00:00",
          "2019-11-08T00:00:00",
          "2019-11-08T00:00:00",
          "2019-11-09T00:00:00",
          "2019-11-09T00:00:00",
          "2019-11-10T00:00:00",
          "2019-11-10T00:00:00",
          "2019-11-12T00:00:00",
          "2019-11-12T00:00:00",
          "2019-11-13T00:00:00",
          "2019-11-13T00:00:00",
          "2019-11-14T00:00:00",
          "2019-11-14T00:00:00",
          "2019-11-15T00:00:00",
          "2019-11-15T00:00:00",
          "2019-11-16T00:00:00",
          "2019-11-16T00:00:00",
          "2019-11-17T00:00:00",
          "2019-11-17T00:00:00",
          "2019-11-18T00:00:00",
          "2019-11-18T00:00:00",
          "2019-11-19T00:00:00",
          "2019-11-19T00:00:00",
          "2019-11-20T00:00:00",
          "2019-11-20T00:00:00",
          "2019-11-21T00:00:00",
          "2019-11-21T00:00:00",
          "2019-11-22T00:00:00",
          "2019-11-22T00:00:00",
          "2019-11-23T00:00:00",
          "2019-11-23T00:00:00",
          "2019-11-25T00:00:00",
          "2019-11-25T00:00:00",
          "2019-11-26T00:00:00",
          "2019-11-26T00:00:00",
          "2019-11-27T00:00:00",
          "2019-11-27T00:00:00",
          "2019-11-28T00:00:00",
          "2019-11-28T00:00:00",
          "2019-11-29T00:00:00",
          "2019-11-29T00:00:00",
          "2019-11-30T00:00:00",
          "2019-11-30T00:00:00",
          "2019-12-01T00:00:00",
          "2019-12-01T00:00:00",
          "2019-12-02T00:00:00",
          "2019-12-02T00:00:00",
          "2019-12-03T00:00:00",
          "2019-12-03T00:00:00",
          "2019-12-04T00:00:00",
          "2019-12-04T00:00:00",
          "2019-12-05T00:00:00",
          "2019-12-05T00:00:00",
          "2019-12-06T00:00:00",
          "2019-12-06T00:00:00",
          "2019-12-07T00:00:00",
          "2019-12-07T00:00:00",
          "2019-12-08T00:00:00",
          "2019-12-08T00:00:00",
          "2019-12-09T00:00:00",
          "2019-12-09T00:00:00",
          "2019-12-10T00:00:00",
          "2019-12-10T00:00:00",
          "2019-12-11T00:00:00",
          "2019-12-11T00:00:00",
          "2019-12-12T00:00:00",
          "2019-12-12T00:00:00",
          "2019-12-13T00:00:00",
          "2019-12-13T00:00:00",
          "2019-12-14T00:00:00",
          "2019-12-14T00:00:00",
          "2019-12-15T00:00:00",
          "2019-12-15T00:00:00",
          "2019-12-16T00:00:00",
          "2019-12-16T00:00:00",
          "2019-12-17T00:00:00",
          "2019-12-17T00:00:00",
          "2019-12-18T00:00:00",
          "2019-12-18T00:00:00",
          "2019-12-19T00:00:00",
          "2019-12-19T00:00:00",
          "2019-12-20T00:00:00",
          "2019-12-20T00:00:00",
          "2019-12-21T00:00:00",
          "2019-12-21T00:00:00",
          "2019-12-22T00:00:00",
          "2019-12-22T00:00:00",
          "2019-12-23T00:00:00",
          "2019-12-23T00:00:00",
          "2019-12-24T00:00:00",
          "2019-12-24T00:00:00",
          "2019-12-25T00:00:00",
          "2019-12-25T00:00:00",
          "2019-12-27T00:00:00",
          "2019-12-27T00:00:00",
          "2019-12-28T00:00:00",
          "2019-12-28T00:00:00",
          "2019-12-29T00:00:00",
          "2019-12-29T00:00:00",
          "2019-12-30T00:00:00",
          "2019-12-30T00:00:00",
          "2019-12-31T00:00:00",
          "2019-12-31T00:00:00",
          "2020-01-01T00:00:00",
          "2020-01-01T00:00:00",
          "2020-01-03T00:00:00",
          "2020-01-03T00:00:00",
          "2020-01-04T00:00:00",
          "2020-01-04T00:00:00",
          "2020-01-05T00:00:00",
          "2020-01-05T00:00:00",
          "2020-01-06T00:00:00",
          "2020-01-06T00:00:00",
          "2020-01-07T00:00:00",
          "2020-01-07T00:00:00",
          "2020-01-08T00:00:00",
          "2020-01-08T00:00:00",
          "2020-01-09T00:00:00",
          "2020-01-09T00:00:00",
          "2020-01-10T00:00:00",
          "2020-01-10T00:00:00",
          "2020-01-11T00:00:00",
          "2020-01-11T00:00:00",
          "2020-01-12T00:00:00",
          "2020-01-12T00:00:00",
          "2020-01-13T00:00:00",
          "2020-01-13T00:00:00",
          "2020-01-14T00:00:00",
          "2020-01-14T00:00:00",
          "2020-01-15T00:00:00",
          "2020-01-15T00:00:00",
          "2020-01-17T00:00:00",
          "2020-01-17T00:00:00",
          "2020-01-18T00:00:00",
          "2020-01-18T00:00:00",
          "2020-01-19T00:00:00",
          "2020-01-19T00:00:00",
          "2020-01-20T00:00:00",
          "2020-01-20T00:00:00",
          "2020-01-21T00:00:00",
          "2020-01-21T00:00:00",
          "2020-01-22T00:00:00",
          "2020-01-22T00:00:00",
          "2020-01-23T00:00:00",
          "2020-01-23T00:00:00",
          "2020-01-24T00:00:00",
          "2020-01-24T00:00:00",
          "2020-01-25T00:00:00",
          "2020-01-25T00:00:00",
          "2020-01-26T00:00:00",
          "2020-01-26T00:00:00",
          "2020-01-27T00:00:00",
          "2020-01-27T00:00:00",
          "2020-01-28T00:00:00",
          "2020-01-28T00:00:00",
          "2020-01-29T00:00:00",
          "2020-01-29T00:00:00",
          "2020-01-30T00:00:00",
          "2020-01-30T00:00:00",
          "2020-01-31T00:00:00",
          "2020-01-31T00:00:00",
          "2020-02-01T00:00:00",
          "2020-02-01T00:00:00",
          "2020-02-02T00:00:00",
          "2020-02-02T00:00:00",
          "2020-02-03T00:00:00",
          "2020-02-03T00:00:00",
          "2020-02-04T00:00:00",
          "2020-02-04T00:00:00",
          "2020-02-05T00:00:00",
          "2020-02-05T00:00:00",
          "2020-02-06T00:00:00",
          "2020-02-06T00:00:00",
          "2020-02-07T00:00:00",
          "2020-02-07T00:00:00",
          "2020-02-08T00:00:00",
          "2020-02-08T00:00:00",
          "2020-02-09T00:00:00",
          "2020-02-09T00:00:00",
          "2020-02-10T00:00:00",
          "2020-02-10T00:00:00",
          "2020-02-11T00:00:00",
          "2020-02-11T00:00:00",
          "2020-02-12T00:00:00",
          "2020-02-12T00:00:00",
          "2020-02-13T00:00:00",
          "2020-02-13T00:00:00",
          "2020-02-14T00:00:00",
          "2020-02-14T00:00:00",
          "2020-02-15T00:00:00",
          "2020-02-15T00:00:00",
          "2020-02-16T00:00:00",
          "2020-02-16T00:00:00",
          "2020-02-17T00:00:00",
          "2020-02-17T00:00:00",
          "2020-02-18T00:00:00",
          "2020-02-18T00:00:00",
          "2020-02-19T00:00:00",
          "2020-02-19T00:00:00",
          "2020-02-21T00:00:00",
          "2020-02-21T00:00:00",
          "2020-02-22T00:00:00",
          "2020-02-22T00:00:00",
          "2020-02-23T00:00:00",
          "2020-02-23T00:00:00",
          "2020-02-24T00:00:00",
          "2020-02-24T00:00:00",
          "2020-02-25T00:00:00",
          "2020-02-25T00:00:00",
          "2020-02-26T00:00:00",
          "2020-02-26T00:00:00",
          "2020-02-27T00:00:00",
          "2020-02-27T00:00:00",
          "2020-02-28T00:00:00",
          "2020-02-28T00:00:00",
          "2020-02-29T00:00:00",
          "2020-02-29T00:00:00",
          "2020-03-01T00:00:00",
          "2020-03-01T00:00:00",
          "2020-03-02T00:00:00",
          "2020-03-02T00:00:00",
          "2020-03-03T00:00:00",
          "2020-03-03T00:00:00",
          "2020-03-04T00:00:00",
          "2020-03-04T00:00:00",
          "2020-03-05T00:00:00",
          "2020-03-05T00:00:00",
          "2020-03-06T00:00:00",
          "2020-03-06T00:00:00",
          "2020-03-07T00:00:00",
          "2020-03-07T00:00:00",
          "2020-03-08T00:00:00",
          "2020-03-08T00:00:00",
          "2020-03-09T00:00:00",
          "2020-03-09T00:00:00",
          "2020-03-10T00:00:00",
          "2020-03-10T00:00:00",
          "2020-03-11T00:00:00",
          "2020-03-11T00:00:00",
          "2020-03-12T00:00:00",
          "2020-03-12T00:00:00",
          "2020-03-13T00:00:00",
          "2020-03-13T00:00:00",
          "2020-03-14T00:00:00",
          "2020-03-14T00:00:00",
          "2020-03-15T00:00:00",
          "2020-03-15T00:00:00",
          "2020-03-16T00:00:00",
          "2020-03-16T00:00:00",
          "2020-03-17T00:00:00",
          "2020-03-17T00:00:00",
          "2020-03-18T00:00:00",
          "2020-03-18T00:00:00",
          "2020-03-19T00:00:00",
          "2020-03-19T00:00:00",
          "2020-03-20T00:00:00",
          "2020-03-20T00:00:00",
          "2020-03-21T00:00:00",
          "2020-03-21T00:00:00",
          "2020-03-22T00:00:00",
          "2020-03-22T00:00:00",
          "2020-03-23T00:00:00",
          "2020-03-23T00:00:00",
          "2020-03-24T00:00:00",
          "2020-03-24T00:00:00",
          "2020-03-25T00:00:00",
          "2020-03-25T00:00:00",
          "2020-03-26T00:00:00",
          "2020-03-26T00:00:00",
          "2020-03-27T00:00:00",
          "2020-03-27T00:00:00",
          "2020-03-28T00:00:00",
          "2020-03-28T00:00:00",
          "2020-03-29T00:00:00",
          "2020-03-29T00:00:00",
          "2020-03-30T00:00:00",
          "2020-03-30T00:00:00",
          "2020-03-31T00:00:00",
          "2020-03-31T00:00:00",
          "2020-04-01T00:00:00",
          "2020-04-01T00:00:00",
          "2020-04-02T00:00:00",
          "2020-04-02T00:00:00",
          "2020-04-03T00:00:00",
          "2020-04-03T00:00:00",
          "2020-04-04T00:00:00",
          "2020-04-04T00:00:00",
          "2020-04-05T00:00:00",
          "2020-04-05T00:00:00",
          "2020-04-06T00:00:00",
          "2020-04-06T00:00:00",
          "2020-04-07T00:00:00",
          "2020-04-07T00:00:00",
          "2020-04-08T00:00:00",
          "2020-04-08T00:00:00",
          "2020-04-09T00:00:00",
          "2020-04-09T00:00:00",
          "2020-04-10T00:00:00",
          "2020-04-10T00:00:00",
          "2020-04-11T00:00:00",
          "2020-04-11T00:00:00",
          "2020-04-12T00:00:00",
          "2020-04-12T00:00:00",
          "2020-04-13T00:00:00",
          "2020-04-13T00:00:00",
          "2020-04-14T00:00:00",
          "2020-04-14T00:00:00",
          "2020-04-15T00:00:00",
          "2020-04-15T00:00:00",
          "2020-04-17T00:00:00",
          "2020-04-17T00:00:00",
          "2020-04-18T00:00:00",
          "2020-04-18T00:00:00",
          "2020-04-19T00:00:00",
          "2020-04-19T00:00:00",
          "2020-04-20T00:00:00",
          "2020-04-20T00:00:00",
          "2020-04-21T00:00:00",
          "2020-04-21T00:00:00",
          "2020-04-22T00:00:00",
          "2020-04-22T00:00:00",
          "2020-04-23T00:00:00",
          "2020-04-23T00:00:00",
          "2020-04-24T00:00:00",
          "2020-04-24T00:00:00",
          "2020-04-25T00:00:00",
          "2020-04-25T00:00:00",
          "2020-04-26T00:00:00",
          "2020-04-26T00:00:00",
          "2020-04-27T00:00:00",
          "2020-04-27T00:00:00",
          "2020-04-28T00:00:00",
          "2020-04-28T00:00:00",
          "2020-04-29T00:00:00",
          "2020-04-29T00:00:00",
          "2020-04-30T00:00:00",
          "2020-04-30T00:00:00",
          "2020-05-01T00:00:00",
          "2020-05-01T00:00:00",
          "2020-05-02T00:00:00",
          "2020-05-02T00:00:00",
          "2020-05-03T00:00:00",
          "2020-05-03T00:00:00",
          "2020-05-04T00:00:00",
          "2020-05-04T00:00:00",
          "2020-05-05T00:00:00",
          "2020-05-05T00:00:00",
          "2020-05-06T00:00:00",
          "2020-05-06T00:00:00",
          "2020-05-07T00:00:00",
          "2020-05-07T00:00:00",
          "2020-05-08T00:00:00",
          "2020-05-08T00:00:00",
          "2020-05-09T00:00:00",
          "2020-05-09T00:00:00",
          "2020-05-10T00:00:00",
          "2020-05-10T00:00:00",
          "2020-05-11T00:00:00",
          "2020-05-11T00:00:00",
          "2020-05-12T00:00:00",
          "2020-05-12T00:00:00",
          "2020-05-13T00:00:00",
          "2020-05-13T00:00:00",
          "2020-05-14T00:00:00",
          "2020-05-14T00:00:00",
          "2020-05-15T00:00:00",
          "2020-05-15T00:00:00",
          "2020-05-16T00:00:00",
          "2020-05-16T00:00:00",
          "2020-05-17T00:00:00",
          "2020-05-17T00:00:00",
          "2020-05-18T00:00:00",
          "2020-05-18T00:00:00",
          "2020-05-19T00:00:00",
          "2020-05-19T00:00:00",
          "2020-05-20T00:00:00",
          "2020-05-20T00:00:00",
          "2020-05-21T00:00:00",
          "2020-05-21T00:00:00",
          "2020-05-22T00:00:00",
          "2020-05-22T00:00:00",
          "2020-05-23T00:00:00",
          "2020-05-23T00:00:00",
          "2020-05-24T00:00:00",
          "2020-05-24T00:00:00",
          "2020-05-25T00:00:00",
          "2020-05-25T00:00:00",
          "2020-05-26T00:00:00",
          "2020-05-26T00:00:00",
          "2020-05-27T00:00:00",
          "2020-05-27T00:00:00",
          "2020-05-29T00:00:00",
          "2020-05-29T00:00:00",
          "2020-05-30T00:00:00",
          "2020-05-30T00:00:00",
          "2020-05-31T00:00:00",
          "2020-05-31T00:00:00",
          "2020-06-01T00:00:00",
          "2020-06-01T00:00:00",
          "2020-06-02T00:00:00",
          "2020-06-02T00:00:00",
          "2020-06-03T00:00:00",
          "2020-06-03T00:00:00",
          "2020-06-04T00:00:00",
          "2020-06-04T00:00:00",
          "2020-06-05T00:00:00",
          "2020-06-05T00:00:00",
          "2020-06-06T00:00:00",
          "2020-06-06T00:00:00",
          "2020-06-07T00:00:00",
          "2020-06-07T00:00:00",
          "2020-06-08T00:00:00",
          "2020-06-08T00:00:00",
          "2020-06-09T00:00:00",
          "2020-06-09T00:00:00",
          "2020-06-10T00:00:00",
          "2020-06-10T00:00:00",
          "2020-06-11T00:00:00",
          "2020-06-11T00:00:00",
          "2020-06-12T00:00:00",
          "2020-06-12T00:00:00",
          "2020-06-13T00:00:00",
          "2020-06-13T00:00:00",
          "2020-06-14T00:00:00",
          "2020-06-14T00:00:00",
          "2020-06-15T00:00:00",
          "2020-06-15T00:00:00",
          "2020-06-16T00:00:00",
          "2020-06-16T00:00:00",
          "2020-06-17T00:00:00",
          "2020-06-17T00:00:00",
          "2020-06-18T00:00:00",
          "2020-06-18T00:00:00",
          "2020-06-19T00:00:00",
          "2020-06-19T00:00:00",
          "2020-06-20T00:00:00",
          "2020-06-20T00:00:00",
          "2020-06-21T00:00:00",
          "2020-06-21T00:00:00",
          "2020-06-22T00:00:00",
          "2020-06-22T00:00:00",
          "2020-06-23T00:00:00",
          "2020-06-23T00:00:00",
          "2020-06-24T00:00:00",
          "2020-06-24T00:00:00",
          "2020-06-25T00:00:00",
          "2020-06-25T00:00:00",
          "2020-06-26T00:00:00",
          "2020-06-26T00:00:00",
          "2020-06-27T00:00:00",
          "2020-06-27T00:00:00",
          "2020-06-28T00:00:00",
          "2020-06-28T00:00:00",
          "2020-06-29T00:00:00",
          "2020-06-29T00:00:00",
          "2020-06-30T00:00:00",
          "2020-06-30T00:00:00",
          "2020-07-01T00:00:00",
          "2020-07-01T00:00:00",
          "2020-07-02T00:00:00",
          "2020-07-02T00:00:00",
          "2020-07-03T00:00:00",
          "2020-07-03T00:00:00",
          "2020-07-05T00:00:00",
          "2020-07-05T00:00:00",
          "2020-07-06T00:00:00",
          "2020-07-06T00:00:00",
          "2020-07-07T00:00:00",
          "2020-07-07T00:00:00",
          "2020-07-08T00:00:00",
          "2020-07-08T00:00:00",
          "2020-07-09T00:00:00",
          "2020-07-09T00:00:00",
          "2020-07-10T00:00:00",
          "2020-07-10T00:00:00",
          "2020-07-11T00:00:00",
          "2020-07-11T00:00:00",
          "2020-07-12T00:00:00",
          "2020-07-12T00:00:00",
          "2020-07-13T00:00:00",
          "2020-07-13T00:00:00",
          "2020-07-14T00:00:00",
          "2020-07-14T00:00:00",
          "2020-07-15T00:00:00",
          "2020-07-15T00:00:00",
          "2020-07-16T00:00:00",
          "2020-07-16T00:00:00",
          "2020-07-17T00:00:00",
          "2020-07-17T00:00:00",
          "2020-07-18T00:00:00",
          "2020-07-18T00:00:00",
          "2020-07-19T00:00:00",
          "2020-07-19T00:00:00",
          "2020-07-20T00:00:00",
          "2020-07-20T00:00:00",
          "2020-07-21T00:00:00",
          "2020-07-21T00:00:00",
          "2020-07-22T00:00:00",
          "2020-07-22T00:00:00",
          "2020-07-23T00:00:00",
          "2020-07-23T00:00:00",
          "2020-07-24T00:00:00",
          "2020-07-24T00:00:00",
          "2020-07-25T00:00:00",
          "2020-07-25T00:00:00",
          "2020-07-26T00:00:00",
          "2020-07-26T00:00:00",
          "2020-07-27T00:00:00",
          "2020-07-27T00:00:00",
          "2020-07-28T00:00:00",
          "2020-07-28T00:00:00",
          "2020-07-29T00:00:00",
          "2020-07-29T00:00:00",
          "2020-07-30T00:00:00",
          "2020-07-30T00:00:00",
          "2020-07-31T00:00:00",
          "2020-07-31T00:00:00",
          "2020-08-01T00:00:00",
          "2020-08-01T00:00:00",
          "2020-08-02T00:00:00",
          "2020-08-02T00:00:00",
          "2020-08-03T00:00:00",
          "2020-08-03T00:00:00",
          "2020-08-04T00:00:00",
          "2020-08-04T00:00:00",
          "2020-08-05T00:00:00",
          "2020-08-05T00:00:00",
          "2020-08-06T00:00:00",
          "2020-08-06T00:00:00",
          "2020-08-07T00:00:00",
          "2020-08-07T00:00:00",
          "2020-08-08T00:00:00",
          "2020-08-08T00:00:00",
          "2020-08-09T00:00:00",
          "2020-08-09T00:00:00",
          "2020-08-10T00:00:00",
          "2020-08-10T00:00:00",
          "2020-08-11T00:00:00",
          "2020-08-11T00:00:00",
          "2020-08-12T00:00:00",
          "2020-08-12T00:00:00",
          "2020-08-13T00:00:00",
          "2020-08-13T00:00:00",
          "2020-08-14T00:00:00",
          "2020-08-14T00:00:00",
          "2020-08-15T00:00:00",
          "2020-08-15T00:00:00",
          "2020-08-16T00:00:00",
          "2020-08-16T00:00:00",
          "2020-08-17T00:00:00",
          "2020-08-17T00:00:00",
          "2020-08-18T00:00:00",
          "2020-08-18T00:00:00",
          "2020-08-19T00:00:00",
          "2020-08-19T00:00:00",
          "2020-08-20T00:00:00",
          "2020-08-20T00:00:00",
          "2020-08-21T00:00:00",
          "2020-08-21T00:00:00",
          "2020-08-22T00:00:00",
          "2020-08-22T00:00:00",
          "2020-08-23T00:00:00",
          "2020-08-23T00:00:00",
          "2020-08-24T00:00:00",
          "2020-08-24T00:00:00",
          "2020-08-25T00:00:00",
          "2020-08-25T00:00:00",
          "2020-08-26T00:00:00",
          "2020-08-26T00:00:00",
          "2020-08-27T00:00:00",
          "2020-08-27T00:00:00",
          "2020-08-28T00:00:00",
          "2020-08-28T00:00:00",
          "2020-08-29T00:00:00",
          "2020-08-29T00:00:00",
          "2020-08-30T00:00:00",
          "2020-08-30T00:00:00",
          "2020-08-31T00:00:00",
          "2020-08-31T00:00:00",
          "2020-09-01T00:00:00",
          "2020-09-01T00:00:00",
          "2020-09-02T00:00:00",
          "2020-09-02T00:00:00",
          "2020-09-04T00:00:00",
          "2020-09-04T00:00:00",
          "2020-09-05T00:00:00",
          "2020-09-05T00:00:00",
          "2020-09-06T00:00:00",
          "2020-09-06T00:00:00",
          "2020-09-07T00:00:00",
          "2020-09-07T00:00:00",
          "2020-09-08T00:00:00",
          "2020-09-08T00:00:00",
          "2020-09-09T00:00:00",
          "2020-09-09T00:00:00",
          "2020-09-10T00:00:00",
          "2020-09-10T00:00:00",
          "2020-09-11T00:00:00",
          "2020-09-11T00:00:00",
          "2020-09-12T00:00:00",
          "2020-09-12T00:00:00",
          "2020-09-13T00:00:00",
          "2020-09-13T00:00:00",
          "2020-09-14T00:00:00",
          "2020-09-14T00:00:00",
          "2020-09-15T00:00:00",
          "2020-09-15T00:00:00",
          "2020-09-16T00:00:00",
          "2020-09-16T00:00:00",
          "2020-09-17T00:00:00",
          "2020-09-17T00:00:00",
          "2020-09-18T00:00:00",
          "2020-09-18T00:00:00",
          "2020-09-19T00:00:00",
          "2020-09-19T00:00:00",
          "2020-09-20T00:00:00",
          "2020-09-20T00:00:00",
          "2020-09-21T00:00:00",
          "2020-09-21T00:00:00",
          "2020-09-22T00:00:00",
          "2020-09-22T00:00:00",
          "2020-09-23T00:00:00",
          "2020-09-23T00:00:00",
          "2020-09-24T00:00:00",
          "2020-09-24T00:00:00",
          "2020-09-25T00:00:00",
          "2020-09-25T00:00:00",
          "2020-09-26T00:00:00",
          "2020-09-26T00:00:00",
          "2020-09-27T00:00:00",
          "2020-09-27T00:00:00",
          "2020-09-28T00:00:00",
          "2020-09-28T00:00:00",
          "2020-09-29T00:00:00",
          "2020-09-29T00:00:00",
          "2020-09-30T00:00:00",
          "2020-09-30T00:00:00",
          "2020-10-01T00:00:00",
          "2020-10-01T00:00:00",
          "2020-10-02T00:00:00",
          "2020-10-02T00:00:00",
          "2020-10-03T00:00:00",
          "2020-10-03T00:00:00",
          "2020-10-04T00:00:00",
          "2020-10-04T00:00:00",
          "2020-10-05T00:00:00",
          "2020-10-05T00:00:00",
          "2020-10-06T00:00:00",
          "2020-10-06T00:00:00",
          "2020-10-07T00:00:00",
          "2020-10-07T00:00:00",
          "2020-10-09T00:00:00",
          "2020-10-09T00:00:00",
          "2020-10-10T00:00:00",
          "2020-10-10T00:00:00",
          "2020-10-11T00:00:00",
          "2020-10-11T00:00:00",
          "2020-10-12T00:00:00",
          "2020-10-12T00:00:00",
          "2020-10-13T00:00:00",
          "2020-10-13T00:00:00",
          "2020-10-14T00:00:00",
          "2020-10-14T00:00:00",
          "2020-10-15T00:00:00",
          "2020-10-15T00:00:00",
          "2020-10-16T00:00:00",
          "2020-10-16T00:00:00",
          "2020-10-17T00:00:00",
          "2020-10-17T00:00:00",
          "2020-10-18T00:00:00",
          "2020-10-18T00:00:00",
          "2020-10-19T00:00:00",
          "2020-10-19T00:00:00",
          "2020-10-20T00:00:00",
          "2020-10-20T00:00:00",
          "2020-10-21T00:00:00",
          "2020-10-21T00:00:00",
          "2020-10-22T00:00:00",
          "2020-10-22T00:00:00",
          "2020-10-23T00:00:00",
          "2020-10-23T00:00:00",
          "2020-10-24T00:00:00",
          "2020-10-24T00:00:00",
          "2020-10-25T00:00:00",
          "2020-10-25T00:00:00",
          "2020-10-26T00:00:00",
          "2020-10-26T00:00:00",
          "2020-10-27T00:00:00",
          "2020-10-27T00:00:00",
          "2020-10-28T00:00:00",
          "2020-10-28T00:00:00",
          "2020-10-29T00:00:00",
          "2020-10-29T00:00:00",
          "2020-10-30T00:00:00",
          "2020-10-30T00:00:00",
          "2020-10-31T00:00:00",
          "2020-10-31T00:00:00",
          "2020-11-01T00:00:00",
          "2020-11-01T00:00:00",
          "2020-11-02T00:00:00",
          "2020-11-02T00:00:00",
          "2020-11-03T00:00:00",
          "2020-11-03T00:00:00",
          "2020-11-04T00:00:00",
          "2020-11-04T00:00:00",
          "2020-11-05T00:00:00",
          "2020-11-05T00:00:00",
          "2020-11-06T00:00:00",
          "2020-11-06T00:00:00",
          "2020-11-07T00:00:00",
          "2020-11-07T00:00:00",
          "2020-11-08T00:00:00",
          "2020-11-08T00:00:00",
          "2020-11-09T00:00:00",
          "2020-11-09T00:00:00",
          "2020-11-10T00:00:00",
          "2020-11-10T00:00:00",
          "2020-11-11T00:00:00",
          "2020-11-11T00:00:00",
          "2020-11-13T00:00:00",
          "2020-11-13T00:00:00",
          "2020-11-14T00:00:00",
          "2020-11-14T00:00:00",
          "2020-11-15T00:00:00",
          "2020-11-15T00:00:00",
          "2020-11-16T00:00:00",
          "2020-11-16T00:00:00",
          "2020-11-17T00:00:00",
          "2020-11-17T00:00:00",
          "2020-11-18T00:00:00",
          "2020-11-18T00:00:00",
          "2020-11-19T00:00:00",
          "2020-11-19T00:00:00",
          "2020-11-20T00:00:00",
          "2020-11-20T00:00:00",
          "2020-11-21T00:00:00",
          "2020-11-21T00:00:00",
          "2020-11-23T00:00:00",
          "2020-11-23T00:00:00",
          "2020-11-24T00:00:00",
          "2020-11-24T00:00:00",
          "2020-11-25T00:00:00",
          "2020-11-25T00:00:00",
          "2020-11-26T00:00:00",
          "2020-11-26T00:00:00",
          "2020-11-27T00:00:00",
          "2020-11-27T00:00:00",
          "2020-11-28T00:00:00",
          "2020-11-28T00:00:00",
          "2020-11-29T00:00:00",
          "2020-11-29T00:00:00",
          "2020-11-30T00:00:00",
          "2020-11-30T00:00:00",
          "2020-12-01T00:00:00",
          "2020-12-01T00:00:00",
          "2020-12-02T00:00:00",
          "2020-12-02T00:00:00",
          "2020-12-03T00:00:00",
          "2020-12-03T00:00:00",
          "2020-12-04T00:00:00",
          "2020-12-04T00:00:00",
          "2020-12-05T00:00:00",
          "2020-12-05T00:00:00",
          "2020-12-06T00:00:00",
          "2020-12-06T00:00:00",
          "2020-12-07T00:00:00",
          "2020-12-07T00:00:00",
          "2020-12-08T00:00:00",
          "2020-12-08T00:00:00",
          "2020-12-09T00:00:00",
          "2020-12-09T00:00:00",
          "2020-12-10T00:00:00",
          "2020-12-10T00:00:00",
          "2020-12-11T00:00:00",
          "2020-12-11T00:00:00",
          "2020-12-12T00:00:00",
          "2020-12-12T00:00:00",
          "2020-12-13T00:00:00",
          "2020-12-13T00:00:00",
          "2020-12-14T00:00:00",
          "2020-12-14T00:00:00",
          "2020-12-15T00:00:00",
          "2020-12-15T00:00:00",
          "2020-12-16T00:00:00",
          "2020-12-16T00:00:00",
          "2020-12-17T00:00:00",
          "2020-12-17T00:00:00",
          "2020-12-18T00:00:00",
          "2020-12-18T00:00:00",
          "2020-12-19T00:00:00",
          "2020-12-19T00:00:00",
          "2020-12-20T00:00:00",
          "2020-12-20T00:00:00",
          "2020-12-21T00:00:00",
          "2020-12-21T00:00:00",
          "2020-12-22T00:00:00",
          "2020-12-22T00:00:00",
          "2020-12-23T00:00:00",
          "2020-12-23T00:00:00",
          "2020-12-24T00:00:00",
          "2020-12-24T00:00:00",
          "2020-12-26T00:00:00",
          "2020-12-26T00:00:00",
          "2020-12-27T00:00:00",
          "2020-12-27T00:00:00",
          "2020-12-28T00:00:00",
          "2020-12-28T00:00:00",
          "2020-12-29T00:00:00",
          "2020-12-29T00:00:00",
          "2020-12-30T00:00:00",
          "2020-12-30T00:00:00",
          "2020-12-31T00:00:00",
          "2020-12-31T00:00:00"
         ],
         "xaxis": "x",
         "y": [
          331,
          654,
          131,
          670,
          120,
          1229,
          108,
          1454,
          82,
          1518,
          88,
          1518,
          148,
          1362,
          68,
          891,
          54,
          768,
          41,
          1280,
          43,
          1220,
          25,
          1137,
          38,
          1368,
          54,
          1367,
          222,
          1026,
          251,
          953,
          9,
          674,
          78,
          1572,
          84,
          1403,
          66,
          1217,
          89,
          774,
          58,
          760,
          64,
          1142,
          79,
          1436,
          16,
          396,
          30,
          644,
          54,
          1130,
          127,
          924,
          182,
          904,
          60,
          1192,
          47,
          1313,
          72,
          1454,
          61,
          1489,
          88,
          1620,
          100,
          905,
          354,
          1269,
          120,
          1592,
          64,
          1466,
          53,
          1552,
          47,
          1491,
          149,
          1597,
          288,
          1184,
          397,
          1192,
          208,
          1705,
          140,
          1675,
          218,
          1897,
          259,
          2216,
          579,
          2348,
          532,
          1103,
          354,
          1230,
          84,
          1552,
          115,
          1673,
          118,
          1447,
          166,
          1426,
          370,
          1355,
          450,
          1376,
          128,
          1102,
          137,
          1714,
          231,
          1903,
          123,
          1562,
          214,
          1730,
          640,
          1437,
          114,
          491,
          244,
          1628,
          316,
          1817,
          191,
          1700,
          46,
          577,
          247,
          1730,
          724,
          1408,
          982,
          1435,
          359,
          1687,
          289,
          1767,
          321,
          1871,
          424,
          2320,
          884,
          2355,
          1424,
          1693,
          553,
          1476,
          438,
          2275,
          410,
          2479,
          183,
          1550,
          234,
          1761,
          298,
          1973,
          656,
          1502,
          551,
          1474,
          289,
          1853,
          366,
          2122,
          188,
          1728,
          167,
          1555,
          307,
          1920,
          898,
          1354,
          1651,
          1598,
          734,
          2381,
          167,
          1628,
          413,
          2395,
          571,
          2570,
          172,
          1299,
          879,
          1576,
          1188,
          1707,
          855,
          2493,
          257,
          1777,
          209,
          1953,
          529,
          2738,
          121,
          674,
          1558,
          2186,
          669,
          2760,
          409,
          2795,
          561,
          2955,
          438,
          2711,
          155,
          1428,
          1108,
          2057,
          1242,
          2318,
          618,
          2875,
          510,
          2919,
          349,
          2377,
          451,
          2888,
          680,
          2879,
          1368,
          2347,
          1138,
          2213,
          847,
          3554,
          603,
          3848,
          255,
          2378,
          614,
          3819,
          894,
          3714,
          1612,
          3102,
          1401,
          2932,
          664,
          3698,
          694,
          4109,
          550,
          3632,
          695,
          4169,
          692,
          3413,
          902,
          2507,
          1582,
          2971,
          773,
          3185,
          678,
          3445,
          536,
          3319,
          735,
          3840,
          890,
          4095,
          1957,
          3515,
          1699,
          3169,
          680,
          3149,
          615,
          3627,
          665,
          3995,
          690,
          3749,
          799,
          3988,
          1833,
          3397,
          1583,
          2863,
          596,
          3590,
          513,
          3461,
          736,
          4232,
          898,
          4414,
          1869,
          3473,
          1685,
          3221,
          673,
          3875,
          763,
          4070,
          676,
          3725,
          563,
          3352,
          815,
          3771,
          1729,
          3237,
          1467,
          2993,
          863,
          4157,
          727,
          4164,
          769,
          4411,
          545,
          3222,
          863,
          3981,
          1807,
          3312,
          1639,
          3105,
          695,
          3577,
          664,
          3534,
          663,
          3809,
          703,
          3858,
          1068,
          4145,
          2103,
          3503,
          1905,
          3497,
          779,
          3838,
          739,
          3710,
          761,
          4062,
          800,
          4182,
          1246,
          4116,
          2204,
          2915,
          2282,
          2367,
          1031,
          3634,
          784,
          3845,
          754,
          3838,
          692,
          3348,
          1988,
          3348,
          1743,
          3138,
          723,
          3363,
          662,
          3596,
          748,
          3594,
          888,
          4196,
          1318,
          4220,
          2418,
          3505,
          2006,
          3296,
          841,
          3617,
          752,
          3789,
          647,
          3632,
          693,
          3274,
          733,
          3240,
          1100,
          2774,
          1199,
          2841,
          647,
          3328,
          787,
          3826,
          802,
          3941,
          777,
          3793,
          850,
          3099,
          1623,
          3066,
          1372,
          2819,
          729,
          3537,
          801,
          4044,
          467,
          3107,
          799,
          3777,
          1023,
          3843,
          1521,
          2773,
          1298,
          2487,
          846,
          3480,
          907,
          3695,
          884,
          3896,
          812,
          3980,
          1051,
          3854,
          1504,
          2646,
          1338,
          2482,
          775,
          3563,
          721,
          4004,
          668,
          4026,
          639,
          3166,
          797,
          3356,
          1844,
          3059,
          1428,
          2626,
          830,
          3717,
          755,
          4093,
          709,
          3933,
          495,
          3209,
          785,
          3572,
          475,
          1262,
          1593,
          2776,
          798,
          3808,
          743,
          3989,
          677,
          3948,
          783,
          4332,
          875,
          3852,
          1935,
          2549,
          2521,
          2419,
          204,
          2506,
          118,
          1878,
          153,
          1689,
          417,
          3127,
          1750,
          3595,
          1633,
          3413,
          690,
          4023,
          701,
          4062,
          647,
          4138,
          428,
          3231,
          742,
          4018,
          1434,
          3077,
          1353,
          2921,
          691,
          3848,
          329,
          2697,
          364,
          2424,
          349,
          2584,
          195,
          2104,
          1532,
          2540,
          1673,
          2450,
          474,
          3361,
          343,
          3062,
          369,
          2754,
          632,
          4245,
          814,
          4212,
          480,
          1949,
          616,
          2302,
          330,
          3240,
          486,
          3970,
          559,
          4267,
          639,
          4126,
          949,
          4036,
          2235,
          3174,
          2397,
          3114,
          667,
          3896,
          217,
          2199,
          290,
          2623,
          529,
          3115,
          1899,
          3318,
          1748,
          3293,
          713,
          3857,
          637,
          4111,
          254,
          2170,
          333,
          3633,
          551,
          3887,
          1360,
          3028,
          1214,
          3072,
          414,
          3706,
          495,
          4098,
          397,
          3590,
          271,
          2946,
          288,
          3279,
          172,
          1193,
          796,
          2872,
          299,
          3389,
          410,
          3658,
          370,
          3816,
          318,
          3656,
          470,
          3576,
          1156,
          2770,
          952,
          2697,
          373,
          3662,
          376,
          3829,
          305,
          3804,
          190,
          2743,
          1275,
          2792,
          1004,
          2713,
          595,
          3891,
          449,
          3746,
          145,
          1672,
          139,
          2914,
          245,
          3147,
          943,
          2720,
          1115,
          2928,
          195,
          2498,
          133,
          2287,
          232,
          2813,
          517,
          3774,
          1072,
          2755,
          1376,
          3012,
          486,
          3937,
          188,
          2658,
          203,
          3282,
          182,
          3545,
          268,
          3672,
          706,
          2908,
          634,
          2851,
          233,
          3578,
          126,
          2468,
          50,
          655,
          150,
          3172,
          261,
          3359,
          502,
          2688,
          377,
          2366,
          143,
          3167,
          155,
          3368,
          178,
          3562,
          181,
          3528,
          178,
          3399,
          275,
          2464,
          220,
          2211,
          260,
          3143,
          279,
          3688,
          153,
          1577,
          284,
          2746,
          318,
          2606,
          544,
          2045,
          480,
          1864,
          121,
          2104,
          159,
          2633,
          147,
          2561,
          259,
          2689,
          1037,
          2189,
          686,
          1608,
          89,
          2147,
          95,
          2273,
          140,
          3132,
          307,
          3791,
          1070,
          3451,
          599,
          2826,
          106,
          2270,
          173,
          3425,
          92,
          2085,
          269,
          3828,
          174,
          3040,
          333,
          2160,
          284,
          2027,
          127,
          2808,
          109,
          3267,
          130,
          3162,
          208,
          2882,
          189,
          1688,
          228,
          2051,
          113,
          2570,
          225,
          3249,
          180,
          3458,
          214,
          3300,
          410,
          2811,
          873,
          2410,
          593,
          1975,
          197,
          2852,
          328,
          3635,
          304,
          4275,
          190,
          3571,
          310,
          3841,
          384,
          2448,
          318,
          2629,
          206,
          3578,
          199,
          4176,
          109,
          2693,
          163,
          3667,
          227,
          3604,
          192,
          1977,
          73,
          1456,
          94,
          3328,
          135,
          3787,
          141,
          4028,
          74,
          2931,
          349,
          3805,
          1435,
          2883,
          618,
          2071,
          203,
          3455,
          325,
          3805,
          430,
          4308,
          350,
          3071,
          491,
          2233,
          680,
          2449,
          445,
          3519,
          284,
          3605,
          141,
          2734,
          325,
          4665,
          246,
          2948,
          956,
          3110,
          710,
          2713,
          203,
          3130,
          221,
          3735,
          432,
          4484,
          486,
          4896,
          447,
          4122,
          968,
          3150,
          1658,
          3253,
          838,
          4460,
          762,
          5085,
          997,
          5315,
          1005,
          5187,
          548,
          3830,
          3155,
          4681,
          2207,
          3685,
          982,
          5171,
          638,
          4935,
          743,
          4837,
          872,
          5526,
          1276,
          5399,
          716,
          2131,
          1579,
          2698,
          996,
          4227,
          777,
          4361,
          816,
          5244,
          865,
          4898,
          634,
          4182,
          2021,
          3241,
          2347,
          3694,
          1208,
          4728,
          1348,
          5424,
          1058,
          5378,
          1192,
          5265,
          1807,
          4653,
          3252,
          3605,
          2230,
          2939,
          905,
          4680,
          819,
          5099,
          482,
          4380,
          663,
          4746,
          1252,
          5146,
          2795,
          4665,
          2846,
          4286,
          989,
          5702,
          347,
          4020,
          846,
          5719,
          1297,
          5606,
          2573,
          4280,
          578,
          1277,
          325,
          2597,
          916,
          4823,
          1019,
          5207,
          679,
          4575,
          1301,
          5021,
          2099,
          3243,
          2451,
          3957,
          814,
          4670,
          653,
          5087,
          667,
          5502,
          764,
          5657,
          1069,
          5227,
          2496,
          4387,
          2135,
          4224,
          1008,
          5265,
          738,
          4990,
          620,
          4097,
          1026,
          5546,
          1319,
          5711,
          2622,
          4807,
          2172,
          3946,
          342,
          2501,
          625,
          4490,
          991,
          6433,
          1242,
          6142,
          1521,
          6118,
          3410,
          4884,
          2524,
          4351,
          671,
          4015,
          834,
          5109,
          644,
          4584,
          913,
          5709,
          1185,
          5608,
          2457,
          4346,
          2179,
          3823,
          807,
          5024,
          914,
          5678,
          1126,
          6053,
          533,
          3594,
          2795,
          5325,
          2494,
          5147,
          1071,
          5927,
          968,
          6033,
          1027,
          6028,
          1038,
          6456,
          1488,
          6248,
          2708,
          4790,
          2224,
          4374,
          1017,
          5647,
          477,
          4495,
          1173,
          6248,
          1180,
          6183,
          1563,
          6102,
          2963,
          4739,
          2634,
          4344,
          653,
          4446,
          968,
          5857,
          866,
          5615,
          1073,
          5427,
          1265,
          5350,
          2783,
          4739,
          2291,
          4303,
          1158,
          5734,
          1145,
          6109,
          1099,
          6134,
          1161,
          6113,
          1054,
          4565,
          2290,
          4014,
          1421,
          4110,
          904,
          5323,
          1052,
          5608,
          1405,
          4836,
          1366,
          4841,
          1448,
          3392,
          1203,
          3469,
          998,
          5571,
          954,
          5336,
          975,
          6289,
          1032,
          6414,
          1511,
          5988,
          2355,
          4614,
          1920,
          4111,
          1088,
          5742,
          921,
          5865,
          799,
          4914,
          888,
          5703,
          657,
          4298,
          850,
          2618,
          2282,
          3857,
          1085,
          5390,
          1038,
          5720,
          1147,
          6142,
          1111,
          5349,
          1319,
          5478,
          2460,
          4437,
          2293,
          4153,
          1098,
          5564,
          1015,
          5693,
          1074,
          6506,
          983,
          6278,
          1328,
          5847,
          2345,
          4479,
          1707,
          3757,
          1233,
          5780,
          1278,
          5995,
          1263,
          6271,
          1196,
          6090,
          1065,
          4721,
          2247,
          4052,
          2182,
          4362,
          1207,
          5676,
          1128,
          5656,
          1198,
          6149,
          1338,
          6267,
          1483,
          5665,
          2827,
          5038,
          1208,
          3341,
          927,
          5021,
          1035,
          5866,
          878,
          5745,
          1114,
          6164,
          1323,
          5926,
          2257,
          4145,
          1338,
          2920,
          1045,
          5538,
          1163,
          6014,
          1112,
          6350,
          1147,
          6293,
          1420,
          5828,
          2352,
          3788,
          2613,
          3197,
          867,
          5997,
          832,
          6280,
          611,
          5592,
          1045,
          6459,
          1557,
          4419,
          2570,
          5657,
          1118,
          6407,
          1070,
          6697,
          1050,
          6820,
          1054,
          6750,
          1379,
          6630,
          3160,
          5554,
          2166,
          5167,
          1022,
          5847,
          371,
          3702,
          788,
          6803,
          1017,
          6707,
          1399,
          6573,
          3028,
          5060,
          2437,
          4741,
          906,
          6405,
          991,
          6959,
          970,
          6733,
          908,
          6104,
          1261,
          6162,
          2828,
          5070,
          2323,
          4571,
          763,
          6015,
          315,
          4324,
          728,
          6844,
          891,
          6437,
          1516,
          6640,
          3031,
          4934,
          781,
          2729,
          601,
          5791,
          780,
          6911,
          834,
          6736,
          1060,
          6222,
          2252,
          4857,
          2080,
          4559,
          760,
          5115,
          922,
          6612,
          979,
          6482,
          1008,
          6501,
          753,
          4671,
          2742,
          4936,
          2239,
          4726,
          926,
          6547,
          1025,
          6917,
          930,
          6855,
          710,
          5460,
          937,
          5384,
          2424,
          4757,
          1301,
          3220,
          5,
          17,
          99,
          1646,
          419,
          5551,
          466,
          5520,
          618,
          5229,
          1029,
          4109,
          1201,
          3906,
          378,
          4881,
          466,
          5220,
          326,
          4709,
          340,
          4975,
          709,
          5283,
          2090,
          4446,
          2290,
          4562,
          327,
          3767,
          373,
          5122,
          320,
          5125,
          484,
          5214,
          1313,
          4316,
          922,
          3747,
          449,
          5050,
          400,
          5512,
          462,
          5550,
          833,
          5320,
          639,
          3483,
          459,
          3303,
          420,
          5087,
          172,
          3308,
          290,
          5175,
          338,
          5209,
          464,
          5155,
          951,
          4240,
          892,
          3757,
          555,
          5679,
          551,
          6055,
          331,
          5398,
          340,
          5035,
          349,
          4659,
          1153,
          4429,
          441,
          2787,
          329,
          4841,
          282,
          5219,
          310,
          5009,
          425,
          5107,
          429,
          5182,
          767,
          4280,
          538,
          3248,
          212,
          4373,
          433,
          5124,
          333,
          4934,
          289,
          4532,
          278,
          4198,
          533,
          2827,
          713,
          3092,
          155,
          3167,
          58,
          1366,
          207,
          4024,
          248,
          4381,
          310,
          2777,
          446,
          2440,
          226,
          4203
         ],
         "yaxis": "y"
        },
        {
         "alignmentgroup": "True",
         "bingroup": "x",
         "histfunc": "sum",
         "hovertemplate": "holiday=1.0<br>datetime=%{x}<br>sum of count=%{y}<extra></extra>",
         "legendgroup": "1.0",
         "marker": {
          "color": "#EF553B",
          "pattern": {
           "shape": ""
          }
         },
         "name": "1.0",
         "nbinsx": 1462,
         "offsetgroup": "1.0",
         "orientation": "v",
         "showlegend": true,
         "type": "histogram",
         "x": [
          "2019-01-17T00:00:00",
          "2019-01-17T00:00:00",
          "2019-02-21T00:00:00",
          "2019-02-21T00:00:00",
          "2019-04-15T00:00:00",
          "2019-04-15T00:00:00",
          "2019-05-30T00:00:00",
          "2019-05-30T00:00:00",
          "2019-07-04T00:00:00",
          "2019-07-04T00:00:00",
          "2019-09-05T00:00:00",
          "2019-09-05T00:00:00",
          "2019-10-10T00:00:00",
          "2019-10-10T00:00:00",
          "2019-11-11T00:00:00",
          "2019-11-11T00:00:00",
          "2019-11-24T00:00:00",
          "2019-11-24T00:00:00",
          "2019-12-26T00:00:00",
          "2019-12-26T00:00:00",
          "2020-01-02T00:00:00",
          "2020-01-02T00:00:00",
          "2020-01-16T00:00:00",
          "2020-01-16T00:00:00",
          "2020-02-20T00:00:00",
          "2020-02-20T00:00:00",
          "2020-04-16T00:00:00",
          "2020-04-16T00:00:00",
          "2020-05-28T00:00:00",
          "2020-05-28T00:00:00",
          "2020-07-04T00:00:00",
          "2020-07-04T00:00:00",
          "2020-09-03T00:00:00",
          "2020-09-03T00:00:00",
          "2020-10-08T00:00:00",
          "2020-10-08T00:00:00",
          "2020-11-12T00:00:00",
          "2020-11-12T00:00:00",
          "2020-11-22T00:00:00",
          "2020-11-22T00:00:00",
          "2020-12-25T00:00:00",
          "2020-12-25T00:00:00"
         ],
         "xaxis": "x",
         "y": [
          117,
          883,
          185,
          1174,
          642,
          2484,
          1681,
          3302,
          3065,
          2978,
          1236,
          2115,
          1514,
          3603,
          440,
          2928,
          746,
          2747,
          496,
          2018,
          244,
          1707,
          217,
          2081,
          441,
          2309,
          1198,
          5172,
          1977,
          4504,
          2562,
          4841,
          1965,
          4069,
          874,
          4604,
          1097,
          5172,
          1324,
          3985,
          734,
          3843
         ],
         "yaxis": "y"
        }
       ],
       "layout": {
        "autosize": true,
        "barmode": "relative",
        "legend": {
         "title": {
          "text": "holiday"
         },
         "tracegroupgap": 0
        },
        "margin": {
         "t": 60
        },
        "template": {
         "data": {
          "bar": [
           {
            "error_x": {
             "color": "#2a3f5f"
            },
            "error_y": {
             "color": "#2a3f5f"
            },
            "marker": {
             "line": {
              "color": "#E5ECF6",
              "width": 0.5
             },
             "pattern": {
              "fillmode": "overlay",
              "size": 10,
              "solidity": 0.2
             }
            },
            "type": "bar"
           }
          ],
          "barpolar": [
           {
            "marker": {
             "line": {
              "color": "#E5ECF6",
              "width": 0.5
             },
             "pattern": {
              "fillmode": "overlay",
              "size": 10,
              "solidity": 0.2
             }
            },
            "type": "barpolar"
           }
          ],
          "carpet": [
           {
            "aaxis": {
             "endlinecolor": "#2a3f5f",
             "gridcolor": "white",
             "linecolor": "white",
             "minorgridcolor": "white",
             "startlinecolor": "#2a3f5f"
            },
            "baxis": {
             "endlinecolor": "#2a3f5f",
             "gridcolor": "white",
             "linecolor": "white",
             "minorgridcolor": "white",
             "startlinecolor": "#2a3f5f"
            },
            "type": "carpet"
           }
          ],
          "choropleth": [
           {
            "colorbar": {
             "outlinewidth": 0,
             "ticks": ""
            },
            "type": "choropleth"
           }
          ],
          "contour": [
           {
            "colorbar": {
             "outlinewidth": 0,
             "ticks": ""
            },
            "colorscale": [
             [
              0,
              "#0d0887"
             ],
             [
              0.1111111111111111,
              "#46039f"
             ],
             [
              0.2222222222222222,
              "#7201a8"
             ],
             [
              0.3333333333333333,
              "#9c179e"
             ],
             [
              0.4444444444444444,
              "#bd3786"
             ],
             [
              0.5555555555555556,
              "#d8576b"
             ],
             [
              0.6666666666666666,
              "#ed7953"
             ],
             [
              0.7777777777777778,
              "#fb9f3a"
             ],
             [
              0.8888888888888888,
              "#fdca26"
             ],
             [
              1,
              "#f0f921"
             ]
            ],
            "type": "contour"
           }
          ],
          "contourcarpet": [
           {
            "colorbar": {
             "outlinewidth": 0,
             "ticks": ""
            },
            "type": "contourcarpet"
           }
          ],
          "heatmap": [
           {
            "colorbar": {
             "outlinewidth": 0,
             "ticks": ""
            },
            "colorscale": [
             [
              0,
              "#0d0887"
             ],
             [
              0.1111111111111111,
              "#46039f"
             ],
             [
              0.2222222222222222,
              "#7201a8"
             ],
             [
              0.3333333333333333,
              "#9c179e"
             ],
             [
              0.4444444444444444,
              "#bd3786"
             ],
             [
              0.5555555555555556,
              "#d8576b"
             ],
             [
              0.6666666666666666,
              "#ed7953"
             ],
             [
              0.7777777777777778,
              "#fb9f3a"
             ],
             [
              0.8888888888888888,
              "#fdca26"
             ],
             [
              1,
              "#f0f921"
             ]
            ],
            "type": "heatmap"
           }
          ],
          "heatmapgl": [
           {
            "colorbar": {
             "outlinewidth": 0,
             "ticks": ""
            },
            "colorscale": [
             [
              0,
              "#0d0887"
             ],
             [
              0.1111111111111111,
              "#46039f"
             ],
             [
              0.2222222222222222,
              "#7201a8"
             ],
             [
              0.3333333333333333,
              "#9c179e"
             ],
             [
              0.4444444444444444,
              "#bd3786"
             ],
             [
              0.5555555555555556,
              "#d8576b"
             ],
             [
              0.6666666666666666,
              "#ed7953"
             ],
             [
              0.7777777777777778,
              "#fb9f3a"
             ],
             [
              0.8888888888888888,
              "#fdca26"
             ],
             [
              1,
              "#f0f921"
             ]
            ],
            "type": "heatmapgl"
           }
          ],
          "histogram": [
           {
            "marker": {
             "pattern": {
              "fillmode": "overlay",
              "size": 10,
              "solidity": 0.2
             }
            },
            "type": "histogram"
           }
          ],
          "histogram2d": [
           {
            "colorbar": {
             "outlinewidth": 0,
             "ticks": ""
            },
            "colorscale": [
             [
              0,
              "#0d0887"
             ],
             [
              0.1111111111111111,
              "#46039f"
             ],
             [
              0.2222222222222222,
              "#7201a8"
             ],
             [
              0.3333333333333333,
              "#9c179e"
             ],
             [
              0.4444444444444444,
              "#bd3786"
             ],
             [
              0.5555555555555556,
              "#d8576b"
             ],
             [
              0.6666666666666666,
              "#ed7953"
             ],
             [
              0.7777777777777778,
              "#fb9f3a"
             ],
             [
              0.8888888888888888,
              "#fdca26"
             ],
             [
              1,
              "#f0f921"
             ]
            ],
            "type": "histogram2d"
           }
          ],
          "histogram2dcontour": [
           {
            "colorbar": {
             "outlinewidth": 0,
             "ticks": ""
            },
            "colorscale": [
             [
              0,
              "#0d0887"
             ],
             [
              0.1111111111111111,
              "#46039f"
             ],
             [
              0.2222222222222222,
              "#7201a8"
             ],
             [
              0.3333333333333333,
              "#9c179e"
             ],
             [
              0.4444444444444444,
              "#bd3786"
             ],
             [
              0.5555555555555556,
              "#d8576b"
             ],
             [
              0.6666666666666666,
              "#ed7953"
             ],
             [
              0.7777777777777778,
              "#fb9f3a"
             ],
             [
              0.8888888888888888,
              "#fdca26"
             ],
             [
              1,
              "#f0f921"
             ]
            ],
            "type": "histogram2dcontour"
           }
          ],
          "mesh3d": [
           {
            "colorbar": {
             "outlinewidth": 0,
             "ticks": ""
            },
            "type": "mesh3d"
           }
          ],
          "parcoords": [
           {
            "line": {
             "colorbar": {
              "outlinewidth": 0,
              "ticks": ""
             }
            },
            "type": "parcoords"
           }
          ],
          "pie": [
           {
            "automargin": true,
            "type": "pie"
           }
          ],
          "scatter": [
           {
            "marker": {
             "colorbar": {
              "outlinewidth": 0,
              "ticks": ""
             }
            },
            "type": "scatter"
           }
          ],
          "scatter3d": [
           {
            "line": {
             "colorbar": {
              "outlinewidth": 0,
              "ticks": ""
             }
            },
            "marker": {
             "colorbar": {
              "outlinewidth": 0,
              "ticks": ""
             }
            },
            "type": "scatter3d"
           }
          ],
          "scattercarpet": [
           {
            "marker": {
             "colorbar": {
              "outlinewidth": 0,
              "ticks": ""
             }
            },
            "type": "scattercarpet"
           }
          ],
          "scattergeo": [
           {
            "marker": {
             "colorbar": {
              "outlinewidth": 0,
              "ticks": ""
             }
            },
            "type": "scattergeo"
           }
          ],
          "scattergl": [
           {
            "marker": {
             "colorbar": {
              "outlinewidth": 0,
              "ticks": ""
             }
            },
            "type": "scattergl"
           }
          ],
          "scattermapbox": [
           {
            "marker": {
             "colorbar": {
              "outlinewidth": 0,
              "ticks": ""
             }
            },
            "type": "scattermapbox"
           }
          ],
          "scatterpolar": [
           {
            "marker": {
             "colorbar": {
              "outlinewidth": 0,
              "ticks": ""
             }
            },
            "type": "scatterpolar"
           }
          ],
          "scatterpolargl": [
           {
            "marker": {
             "colorbar": {
              "outlinewidth": 0,
              "ticks": ""
             }
            },
            "type": "scatterpolargl"
           }
          ],
          "scatterternary": [
           {
            "marker": {
             "colorbar": {
              "outlinewidth": 0,
              "ticks": ""
             }
            },
            "type": "scatterternary"
           }
          ],
          "surface": [
           {
            "colorbar": {
             "outlinewidth": 0,
             "ticks": ""
            },
            "colorscale": [
             [
              0,
              "#0d0887"
             ],
             [
              0.1111111111111111,
              "#46039f"
             ],
             [
              0.2222222222222222,
              "#7201a8"
             ],
             [
              0.3333333333333333,
              "#9c179e"
             ],
             [
              0.4444444444444444,
              "#bd3786"
             ],
             [
              0.5555555555555556,
              "#d8576b"
             ],
             [
              0.6666666666666666,
              "#ed7953"
             ],
             [
              0.7777777777777778,
              "#fb9f3a"
             ],
             [
              0.8888888888888888,
              "#fdca26"
             ],
             [
              1,
              "#f0f921"
             ]
            ],
            "type": "surface"
           }
          ],
          "table": [
           {
            "cells": {
             "fill": {
              "color": "#EBF0F8"
             },
             "line": {
              "color": "white"
             }
            },
            "header": {
             "fill": {
              "color": "#C8D4E3"
             },
             "line": {
              "color": "white"
             }
            },
            "type": "table"
           }
          ]
         },
         "layout": {
          "annotationdefaults": {
           "arrowcolor": "#2a3f5f",
           "arrowhead": 0,
           "arrowwidth": 1
          },
          "autotypenumbers": "strict",
          "coloraxis": {
           "colorbar": {
            "outlinewidth": 0,
            "ticks": ""
           }
          },
          "colorscale": {
           "diverging": [
            [
             0,
             "#8e0152"
            ],
            [
             0.1,
             "#c51b7d"
            ],
            [
             0.2,
             "#de77ae"
            ],
            [
             0.3,
             "#f1b6da"
            ],
            [
             0.4,
             "#fde0ef"
            ],
            [
             0.5,
             "#f7f7f7"
            ],
            [
             0.6,
             "#e6f5d0"
            ],
            [
             0.7,
             "#b8e186"
            ],
            [
             0.8,
             "#7fbc41"
            ],
            [
             0.9,
             "#4d9221"
            ],
            [
             1,
             "#276419"
            ]
           ],
           "sequential": [
            [
             0,
             "#0d0887"
            ],
            [
             0.1111111111111111,
             "#46039f"
            ],
            [
             0.2222222222222222,
             "#7201a8"
            ],
            [
             0.3333333333333333,
             "#9c179e"
            ],
            [
             0.4444444444444444,
             "#bd3786"
            ],
            [
             0.5555555555555556,
             "#d8576b"
            ],
            [
             0.6666666666666666,
             "#ed7953"
            ],
            [
             0.7777777777777778,
             "#fb9f3a"
            ],
            [
             0.8888888888888888,
             "#fdca26"
            ],
            [
             1,
             "#f0f921"
            ]
           ],
           "sequentialminus": [
            [
             0,
             "#0d0887"
            ],
            [
             0.1111111111111111,
             "#46039f"
            ],
            [
             0.2222222222222222,
             "#7201a8"
            ],
            [
             0.3333333333333333,
             "#9c179e"
            ],
            [
             0.4444444444444444,
             "#bd3786"
            ],
            [
             0.5555555555555556,
             "#d8576b"
            ],
            [
             0.6666666666666666,
             "#ed7953"
            ],
            [
             0.7777777777777778,
             "#fb9f3a"
            ],
            [
             0.8888888888888888,
             "#fdca26"
            ],
            [
             1,
             "#f0f921"
            ]
           ]
          },
          "colorway": [
           "#636efa",
           "#EF553B",
           "#00cc96",
           "#ab63fa",
           "#FFA15A",
           "#19d3f3",
           "#FF6692",
           "#B6E880",
           "#FF97FF",
           "#FECB52"
          ],
          "font": {
           "color": "#2a3f5f"
          },
          "geo": {
           "bgcolor": "white",
           "lakecolor": "white",
           "landcolor": "#E5ECF6",
           "showlakes": true,
           "showland": true,
           "subunitcolor": "white"
          },
          "hoverlabel": {
           "align": "left"
          },
          "hovermode": "closest",
          "mapbox": {
           "style": "light"
          },
          "paper_bgcolor": "white",
          "plot_bgcolor": "#E5ECF6",
          "polar": {
           "angularaxis": {
            "gridcolor": "white",
            "linecolor": "white",
            "ticks": ""
           },
           "bgcolor": "#E5ECF6",
           "radialaxis": {
            "gridcolor": "white",
            "linecolor": "white",
            "ticks": ""
           }
          },
          "scene": {
           "xaxis": {
            "backgroundcolor": "#E5ECF6",
            "gridcolor": "white",
            "gridwidth": 2,
            "linecolor": "white",
            "showbackground": true,
            "ticks": "",
            "zerolinecolor": "white"
           },
           "yaxis": {
            "backgroundcolor": "#E5ECF6",
            "gridcolor": "white",
            "gridwidth": 2,
            "linecolor": "white",
            "showbackground": true,
            "ticks": "",
            "zerolinecolor": "white"
           },
           "zaxis": {
            "backgroundcolor": "#E5ECF6",
            "gridcolor": "white",
            "gridwidth": 2,
            "linecolor": "white",
            "showbackground": true,
            "ticks": "",
            "zerolinecolor": "white"
           }
          },
          "shapedefaults": {
           "line": {
            "color": "#2a3f5f"
           }
          },
          "ternary": {
           "aaxis": {
            "gridcolor": "white",
            "linecolor": "white",
            "ticks": ""
           },
           "baxis": {
            "gridcolor": "white",
            "linecolor": "white",
            "ticks": ""
           },
           "bgcolor": "#E5ECF6",
           "caxis": {
            "gridcolor": "white",
            "linecolor": "white",
            "ticks": ""
           }
          },
          "title": {
           "x": 0.05
          },
          "xaxis": {
           "automargin": true,
           "gridcolor": "white",
           "linecolor": "white",
           "ticks": "",
           "title": {
            "standoff": 15
           },
           "zerolinecolor": "white",
           "zerolinewidth": 2
          },
          "yaxis": {
           "automargin": true,
           "gridcolor": "white",
           "linecolor": "white",
           "ticks": "",
           "title": {
            "standoff": 15
           },
           "zerolinecolor": "white",
           "zerolinewidth": 2
          }
         }
        },
        "xaxis": {
         "anchor": "y",
         "autorange": true,
         "domain": [
          0,
          1
         ],
         "range": [
          "2018-12-31 18:00",
          "2020-12-31 06:00"
         ],
         "title": {
          "text": "datetime"
         },
         "type": "date"
        },
        "yaxis": {
         "anchor": "x",
         "autorange": true,
         "domain": [
          0,
          1
         ],
         "range": [
          0,
          9172.631578947368
         ],
         "title": {
          "text": "sum of count"
         },
         "type": "linear"
        }
       }
      },
      "image/png": "[encoded data removed]",
      "text/html": [
       "<div>                            <div id=\"701375f7-0edf-4a33-9b68-a0d25f233ee4\" class=\"plotly-graph-div\" style=\"height:525px; width:100%;\"></div>            <script type=\"text/javascript\">                require([\"plotly\"], function(Plotly) {                    window.PLOTLYENV=window.PLOTLYENV || {};                                    if (document.getElementById(\"701375f7-0edf-4a33-9b68-a0d25f233ee4\")) {                    Plotly.newPlot(                        \"701375f7-0edf-4a33-9b68-a0d25f233ee4\",                        [{\"alignmentgroup\":\"True\",\"bingroup\":\"x\",\"histfunc\":\"sum\",\"hovertemplate\":\"holiday=0.0<br>datetime=%{x}<br>sum of count=%{y}<extra></extra>\",\"legendgroup\":\"0.0\",\"marker\":{\"color\":\"#636efa\",\"pattern\":{\"shape\":\"\"}},\"name\":\"0.0\",\"nbinsx\":1462,\"offsetgroup\":\"0.0\",\"orientation\":\"v\",\"showlegend\":true,\"type\":\"histogram\",\"x\":[\"2019-01-01T00:00:00\",\"2019-01-01T00:00:00\",\"2019-01-02T00:00:00\",\"2019-01-02T00:00:00\",\"2019-01-03T00:00:00\",\"2019-01-03T00:00:00\",\"2019-01-04T00:00:00\",\"2019-01-04T00:00:00\",\"2019-01-05T00:00:00\",\"2019-01-05T00:00:00\",\"2019-01-06T00:00:00\",\"2019-01-06T00:00:00\",\"2019-01-07T00:00:00\",\"2019-01-07T00:00:00\",\"2019-01-08T00:00:00\",\"2019-01-08T00:00:00\",\"2019-01-09T00:00:00\",\"2019-01-09T00:00:00\",\"2019-01-10T00:00:00\",\"2019-01-10T00:00:00\",\"2019-01-11T00:00:00\",\"2019-01-11T00:00:00\",\"2019-01-12T00:00:00\",\"2019-01-12T00:00:00\",\"2019-01-13T00:00:00\",\"2019-01-13T00:00:00\",\"2019-01-14T00:00:00\",\"2019-01-14T00:00:00\",\"2019-01-15T00:00:00\",\"2019-01-15T00:00:00\",\"2019-01-16T00:00:00\",\"2019-01-16T00:00:00\",\"2019-01-18T00:00:00\",\"2019-01-18T00:00:00\",\"2019-01-19T00:00:00\",\"2019-01-19T00:00:00\",\"2019-01-20T00:00:00\",\"2019-01-20T00:00:00\",\"2019-01-21T00:00:00\",\"2019-01-21T00:00:00\",\"2019-01-22T00:00:00\",\"2019-01-22T00:00:00\",\"2019-01-23T00:00:00\",\"2019-01-23T00:00:00\",\"2019-01-24T00:00:00\",\"2019-01-24T00:00:00\",\"2019-01-25T00:00:00\",\"2019-01-25T00:00:00\",\"2019-01-26T00:00:00\",\"2019-01-26T00:00:00\",\"2019-01-27T00:00:00\",\"2019-01-27T00:00:00\",\"2019-01-28T00:00:00\",\"2019-01-28T00:00:00\",\"2019-01-29T00:00:00\",\"2019-01-29T00:00:00\",\"2019-01-30T00:00:00\",\"2019-01-30T00:00:00\",\"2019-01-31T00:00:00\",\"2019-01-31T00:00:00\",\"2019-02-01T00:00:00\",\"2019-02-01T00:00:00\",\"2019-02-02T00:00:00\",\"2019-02-02T00:00:00\",\"2019-02-03T00:00:00\",\"2019-02-03T00:00:00\",\"2019-02-04T00:00:00\",\"2019-02-04T00:00:00\",\"2019-02-05T00:00:00\",\"2019-02-05T00:00:00\",\"2019-02-06T00:00:00\",\"2019-02-06T00:00:00\",\"2019-02-07T00:00:00\",\"2019-02-07T00:00:00\",\"2019-02-08T00:00:00\",\"2019-02-08T00:00:00\",\"2019-02-09T00:00:00\",\"2019-02-09T00:00:00\",\"2019-02-10T00:00:00\",\"2019-02-10T00:00:00\",\"2019-02-11T00:00:00\",\"2019-02-11T00:00:00\",\"2019-02-12T00:00:00\",\"2019-02-12T00:00:00\",\"2019-02-13T00:00:00\",\"2019-02-13T00:00:00\",\"2019-02-14T00:00:00\",\"2019-02-14T00:00:00\",\"2019-02-15T00:00:00\",\"2019-02-15T00:00:00\",\"2019-02-16T00:00:00\",\"2019-02-16T00:00:00\",\"2019-02-17T00:00:00\",\"2019-02-17T00:00:00\",\"2019-02-18T00:00:00\",\"2019-02-18T00:00:00\",\"2019-02-19T00:00:00\",\"2019-02-19T00:00:00\",\"2019-02-20T00:00:00\",\"2019-02-20T00:00:00\",\"2019-02-22T00:00:00\",\"2019-02-22T00:00:00\",\"2019-02-23T00:00:00\",\"2019-02-23T00:00:00\",\"2019-02-24T00:00:00\",\"2019-02-24T00:00:00\",\"2019-02-25T00:00:00\",\"2019-02-25T00:00:00\",\"2019-02-26T00:00:00\",\"2019-02-26T00:00:00\",\"2019-02-27T00:00:00\",\"2019-02-27T00:00:00\",\"2019-02-28T00:00:00\",\"2019-02-28T00:00:00\",\"2019-03-01T00:00:00\",\"2019-03-01T00:00:00\",\"2019-03-02T00:00:00\",\"2019-03-02T00:00:00\",\"2019-03-03T00:00:00\",\"2019-03-03T00:00:00\",\"2019-03-04T00:00:00\",\"2019-03-04T00:00:00\",\"2019-03-05T00:00:00\",\"2019-03-05T00:00:00\",\"2019-03-06T00:00:00\",\"2019-03-06T00:00:00\",\"2019-03-07T00:00:00\",\"2019-03-07T00:00:00\",\"2019-03-08T00:00:00\",\"2019-03-08T00:00:00\",\"2019-03-09T00:00:00\",\"2019-03-09T00:00:00\",\"2019-03-10T00:00:00\",\"2019-03-10T00:00:00\",\"2019-03-11T00:00:00\",\"2019-03-11T00:00:00\",\"2019-03-12T00:00:00\",\"2019-03-12T00:00:00\",\"2019-03-13T00:00:00\",\"2019-03-13T00:00:00\",\"2019-03-14T00:00:00\",\"2019-03-14T00:00:00\",\"2019-03-15T00:00:00\",\"2019-03-15T00:00:00\",\"2019-03-16T00:00:00\",\"2019-03-16T00:00:00\",\"2019-03-17T00:00:00\",\"2019-03-17T00:00:00\",\"2019-03-18T00:00:00\",\"2019-03-18T00:00:00\",\"2019-03-19T00:00:00\",\"2019-03-19T00:00:00\",\"2019-03-20T00:00:00\",\"2019-03-20T00:00:00\",\"2019-03-21T00:00:00\",\"2019-03-21T00:00:00\",\"2019-03-22T00:00:00\",\"2019-03-22T00:00:00\",\"2019-03-23T00:00:00\",\"2019-03-23T00:00:00\",\"2019-03-24T00:00:00\",\"2019-03-24T00:00:00\",\"2019-03-25T00:00:00\",\"2019-03-25T00:00:00\",\"2019-03-26T00:00:00\",\"2019-03-26T00:00:00\",\"2019-03-27T00:00:00\",\"2019-03-27T00:00:00\",\"2019-03-28T00:00:00\",\"2019-03-28T00:00:00\",\"2019-03-29T00:00:00\",\"2019-03-29T00:00:00\",\"2019-03-30T00:00:00\",\"2019-03-30T00:00:00\",\"2019-03-31T00:00:00\",\"2019-03-31T00:00:00\",\"2019-04-01T00:00:00\",\"2019-04-01T00:00:00\",\"2019-04-02T00:00:00\",\"2019-04-02T00:00:00\",\"2019-04-03T00:00:00\",\"2019-04-03T00:00:00\",\"2019-04-04T00:00:00\",\"2019-04-04T00:00:00\",\"2019-04-05T00:00:00\",\"2019-04-05T00:00:00\",\"2019-04-06T00:00:00\",\"2019-04-06T00:00:00\",\"2019-04-07T00:00:00\",\"2019-04-07T00:00:00\",\"2019-04-08T00:00:00\",\"2019-04-08T00:00:00\",\"2019-04-09T00:00:00\",\"2019-04-09T00:00:00\",\"2019-04-10T00:00:00\",\"2019-04-10T00:00:00\",\"2019-04-11T00:00:00\",\"2019-04-11T00:00:00\",\"2019-04-12T00:00:00\",\"2019-04-12T00:00:00\",\"2019-04-13T00:00:00\",\"2019-04-13T00:00:00\",\"2019-04-14T00:00:00\",\"2019-04-14T00:00:00\",\"2019-04-16T00:00:00\",\"2019-04-16T00:00:00\",\"2019-04-17T00:00:00\",\"2019-04-17T00:00:00\",\"2019-04-18T00:00:00\",\"2019-04-18T00:00:00\",\"2019-04-19T00:00:00\",\"2019-04-19T00:00:00\",\"2019-04-20T00:00:00\",\"2019-04-20T00:00:00\",\"2019-04-21T00:00:00\",\"2019-04-21T00:00:00\",\"2019-04-22T00:00:00\",\"2019-04-22T00:00:00\",\"2019-04-23T00:00:00\",\"2019-04-23T00:00:00\",\"2019-04-24T00:00:00\",\"2019-04-24T00:00:00\",\"2019-04-25T00:00:00\",\"2019-04-25T00:00:00\",\"2019-04-26T00:00:00\",\"2019-04-26T00:00:00\",\"2019-04-27T00:00:00\",\"2019-04-27T00:00:00\",\"2019-04-28T00:00:00\",\"2019-04-28T00:00:00\",\"2019-04-29T00:00:00\",\"2019-04-29T00:00:00\",\"2019-04-30T00:00:00\",\"2019-04-30T00:00:00\",\"2019-05-01T00:00:00\",\"2019-05-01T00:00:00\",\"2019-05-02T00:00:00\",\"2019-05-02T00:00:00\",\"2019-05-03T00:00:00\",\"2019-05-03T00:00:00\",\"2019-05-04T00:00:00\",\"2019-05-04T00:00:00\",\"2019-05-05T00:00:00\",\"2019-05-05T00:00:00\",\"2019-05-06T00:00:00\",\"2019-05-06T00:00:00\",\"2019-05-07T00:00:00\",\"2019-05-07T00:00:00\",\"2019-05-08T00:00:00\",\"2019-05-08T00:00:00\",\"2019-05-09T00:00:00\",\"2019-05-09T00:00:00\",\"2019-05-10T00:00:00\",\"2019-05-10T00:00:00\",\"2019-05-11T00:00:00\",\"2019-05-11T00:00:00\",\"2019-05-12T00:00:00\",\"2019-05-12T00:00:00\",\"2019-05-13T00:00:00\",\"2019-05-13T00:00:00\",\"2019-05-14T00:00:00\",\"2019-05-14T00:00:00\",\"2019-05-15T00:00:00\",\"2019-05-15T00:00:00\",\"2019-05-16T00:00:00\",\"2019-05-16T00:00:00\",\"2019-05-17T00:00:00\",\"2019-05-17T00:00:00\",\"2019-05-18T00:00:00\",\"2019-05-18T00:00:00\",\"2019-05-19T00:00:00\",\"2019-05-19T00:00:00\",\"2019-05-20T00:00:00\",\"2019-05-20T00:00:00\",\"2019-05-21T00:00:00\",\"2019-05-21T00:00:00\",\"2019-05-22T00:00:00\",\"2019-05-22T00:00:00\",\"2019-05-23T00:00:00\",\"2019-05-23T00:00:00\",\"2019-05-24T00:00:00\",\"2019-05-24T00:00:00\",\"2019-05-25T00:00:00\",\"2019-05-25T00:00:00\",\"2019-05-26T00:00:00\",\"2019-05-26T00:00:00\",\"2019-05-27T00:00:00\",\"2019-05-27T00:00:00\",\"2019-05-28T00:00:00\",\"2019-05-28T00:00:00\",\"2019-05-29T00:00:00\",\"2019-05-29T00:00:00\",\"2019-05-31T00:00:00\",\"2019-05-31T00:00:00\",\"2019-06-01T00:00:00\",\"2019-06-01T00:00:00\",\"2019-06-02T00:00:00\",\"2019-06-02T00:00:00\",\"2019-06-03T00:00:00\",\"2019-06-03T00:00:00\",\"2019-06-04T00:00:00\",\"2019-06-04T00:00:00\",\"2019-06-05T00:00:00\",\"2019-06-05T00:00:00\",\"2019-06-06T00:00:00\",\"2019-06-06T00:00:00\",\"2019-06-07T00:00:00\",\"2019-06-07T00:00:00\",\"2019-06-08T00:00:00\",\"2019-06-08T00:00:00\",\"2019-06-09T00:00:00\",\"2019-06-09T00:00:00\",\"2019-06-10T00:00:00\",\"2019-06-10T00:00:00\",\"2019-06-11T00:00:00\",\"2019-06-11T00:00:00\",\"2019-06-12T00:00:00\",\"2019-06-12T00:00:00\",\"2019-06-13T00:00:00\",\"2019-06-13T00:00:00\",\"2019-06-14T00:00:00\",\"2019-06-14T00:00:00\",\"2019-06-15T00:00:00\",\"2019-06-15T00:00:00\",\"2019-06-16T00:00:00\",\"2019-06-16T00:00:00\",\"2019-06-17T00:00:00\",\"2019-06-17T00:00:00\",\"2019-06-18T00:00:00\",\"2019-06-18T00:00:00\",\"2019-06-19T00:00:00\",\"2019-06-19T00:00:00\",\"2019-06-20T00:00:00\",\"2019-06-20T00:00:00\",\"2019-06-21T00:00:00\",\"2019-06-21T00:00:00\",\"2019-06-22T00:00:00\",\"2019-06-22T00:00:00\",\"2019-06-23T00:00:00\",\"2019-06-23T00:00:00\",\"2019-06-24T00:00:00\",\"2019-06-24T00:00:00\",\"2019-06-25T00:00:00\",\"2019-06-25T00:00:00\",\"2019-06-26T00:00:00\",\"2019-06-26T00:00:00\",\"2019-06-27T00:00:00\",\"2019-06-27T00:00:00\",\"2019-06-28T00:00:00\",\"2019-06-28T00:00:00\",\"2019-06-29T00:00:00\",\"2019-06-29T00:00:00\",\"2019-06-30T00:00:00\",\"2019-06-30T00:00:00\",\"2019-07-01T00:00:00\",\"2019-07-01T00:00:00\",\"2019-07-02T00:00:00\",\"2019-07-02T00:00:00\",\"2019-07-03T00:00:00\",\"2019-07-03T00:00:00\",\"2019-07-05T00:00:00\",\"2019-07-05T00:00:00\",\"2019-07-06T00:00:00\",\"2019-07-06T00:00:00\",\"2019-07-07T00:00:00\",\"2019-07-07T00:00:00\",\"2019-07-08T00:00:00\",\"2019-07-08T00:00:00\",\"2019-07-09T00:00:00\",\"2019-07-09T00:00:00\",\"2019-07-10T00:00:00\",\"2019-07-10T00:00:00\",\"2019-07-11T00:00:00\",\"2019-07-11T00:00:00\",\"2019-07-12T00:00:00\",\"2019-07-12T00:00:00\",\"2019-07-13T00:00:00\",\"2019-07-13T00:00:00\",\"2019-07-14T00:00:00\",\"2019-07-14T00:00:00\",\"2019-07-15T00:00:00\",\"2019-07-15T00:00:00\",\"2019-07-16T00:00:00\",\"2019-07-16T00:00:00\",\"2019-07-17T00:00:00\",\"2019-07-17T00:00:00\",\"2019-07-18T00:00:00\",\"2019-07-18T00:00:00\",\"2019-07-19T00:00:00\",\"2019-07-19T00:00:00\",\"2019-07-20T00:00:00\",\"2019-07-20T00:00:00\",\"2019-07-21T00:00:00\",\"2019-07-21T00:00:00\",\"2019-07-22T00:00:00\",\"2019-07-22T00:00:00\",\"2019-07-23T00:00:00\",\"2019-07-23T00:00:00\",\"2019-07-24T00:00:00\",\"2019-07-24T00:00:00\",\"2019-07-25T00:00:00\",\"2019-07-25T00:00:00\",\"2019-07-26T00:00:00\",\"2019-07-26T00:00:00\",\"2019-07-27T00:00:00\",\"2019-07-27T00:00:00\",\"2019-07-28T00:00:00\",\"2019-07-28T00:00:00\",\"2019-07-29T00:00:00\",\"2019-07-29T00:00:00\",\"2019-07-30T00:00:00\",\"2019-07-30T00:00:00\",\"2019-07-31T00:00:00\",\"2019-07-31T00:00:00\",\"2019-08-01T00:00:00\",\"2019-08-01T00:00:00\",\"2019-08-02T00:00:00\",\"2019-08-02T00:00:00\",\"2019-08-03T00:00:00\",\"2019-08-03T00:00:00\",\"2019-08-04T00:00:00\",\"2019-08-04T00:00:00\",\"2019-08-05T00:00:00\",\"2019-08-05T00:00:00\",\"2019-08-06T00:00:00\",\"2019-08-06T00:00:00\",\"2019-08-07T00:00:00\",\"2019-08-07T00:00:00\",\"2019-08-08T00:00:00\",\"2019-08-08T00:00:00\",\"2019-08-09T00:00:00\",\"2019-08-09T00:00:00\",\"2019-08-10T00:00:00\",\"2019-08-10T00:00:00\",\"2019-08-11T00:00:00\",\"2019-08-11T00:00:00\",\"2019-08-12T00:00:00\",\"2019-08-12T00:00:00\",\"2019-08-13T00:00:00\",\"2019-08-13T00:00:00\",\"2019-08-14T00:00:00\",\"2019-08-14T00:00:00\",\"2019-08-15T00:00:00\",\"2019-08-15T00:00:00\",\"2019-08-16T00:00:00\",\"2019-08-16T00:00:00\",\"2019-08-17T00:00:00\",\"2019-08-17T00:00:00\",\"2019-08-18T00:00:00\",\"2019-08-18T00:00:00\",\"2019-08-19T00:00:00\",\"2019-08-19T00:00:00\",\"2019-08-20T00:00:00\",\"2019-08-20T00:00:00\",\"2019-08-21T00:00:00\",\"2019-08-21T00:00:00\",\"2019-08-22T00:00:00\",\"2019-08-22T00:00:00\",\"2019-08-23T00:00:00\",\"2019-08-23T00:00:00\",\"2019-08-24T00:00:00\",\"2019-08-24T00:00:00\",\"2019-08-25T00:00:00\",\"2019-08-25T00:00:00\",\"2019-08-26T00:00:00\",\"2019-08-26T00:00:00\",\"2019-08-27T00:00:00\",\"2019-08-27T00:00:00\",\"2019-08-28T00:00:00\",\"2019-08-28T00:00:00\",\"2019-08-29T00:00:00\",\"2019-08-29T00:00:00\",\"2019-08-30T00:00:00\",\"2019-08-30T00:00:00\",\"2019-08-31T00:00:00\",\"2019-08-31T00:00:00\",\"2019-09-01T00:00:00\",\"2019-09-01T00:00:00\",\"2019-09-02T00:00:00\",\"2019-09-02T00:00:00\",\"2019-09-03T00:00:00\",\"2019-09-03T00:00:00\",\"2019-09-04T00:00:00\",\"2019-09-04T00:00:00\",\"2019-09-06T00:00:00\",\"2019-09-06T00:00:00\",\"2019-09-07T00:00:00\",\"2019-09-07T00:00:00\",\"2019-09-08T00:00:00\",\"2019-09-08T00:00:00\",\"2019-09-09T00:00:00\",\"2019-09-09T00:00:00\",\"2019-09-10T00:00:00\",\"2019-09-10T00:00:00\",\"2019-09-11T00:00:00\",\"2019-09-11T00:00:00\",\"2019-09-12T00:00:00\",\"2019-09-12T00:00:00\",\"2019-09-13T00:00:00\",\"2019-09-13T00:00:00\",\"2019-09-14T00:00:00\",\"2019-09-14T00:00:00\",\"2019-09-15T00:00:00\",\"2019-09-15T00:00:00\",\"2019-09-16T00:00:00\",\"2019-09-16T00:00:00\",\"2019-09-17T00:00:00\",\"2019-09-17T00:00:00\",\"2019-09-18T00:00:00\",\"2019-09-18T00:00:00\",\"2019-09-19T00:00:00\",\"2019-09-19T00:00:00\",\"2019-09-20T00:00:00\",\"2019-09-20T00:00:00\",\"2019-09-21T00:00:00\",\"2019-09-21T00:00:00\",\"2019-09-22T00:00:00\",\"2019-09-22T00:00:00\",\"2019-09-23T00:00:00\",\"2019-09-23T00:00:00\",\"2019-09-24T00:00:00\",\"2019-09-24T00:00:00\",\"2019-09-25T00:00:00\",\"2019-09-25T00:00:00\",\"2019-09-26T00:00:00\",\"2019-09-26T00:00:00\",\"2019-09-27T00:00:00\",\"2019-09-27T00:00:00\",\"2019-09-28T00:00:00\",\"2019-09-28T00:00:00\",\"2019-09-29T00:00:00\",\"2019-09-29T00:00:00\",\"2019-09-30T00:00:00\",\"2019-09-30T00:00:00\",\"2019-10-01T00:00:00\",\"2019-10-01T00:00:00\",\"2019-10-02T00:00:00\",\"2019-10-02T00:00:00\",\"2019-10-03T00:00:00\",\"2019-10-03T00:00:00\",\"2019-10-04T00:00:00\",\"2019-10-04T00:00:00\",\"2019-10-05T00:00:00\",\"2019-10-05T00:00:00\",\"2019-10-06T00:00:00\",\"2019-10-06T00:00:00\",\"2019-10-07T00:00:00\",\"2019-10-07T00:00:00\",\"2019-10-08T00:00:00\",\"2019-10-08T00:00:00\",\"2019-10-09T00:00:00\",\"2019-10-09T00:00:00\",\"2019-10-11T00:00:00\",\"2019-10-11T00:00:00\",\"2019-10-12T00:00:00\",\"2019-10-12T00:00:00\",\"2019-10-13T00:00:00\",\"2019-10-13T00:00:00\",\"2019-10-14T00:00:00\",\"2019-10-14T00:00:00\",\"2019-10-15T00:00:00\",\"2019-10-15T00:00:00\",\"2019-10-16T00:00:00\",\"2019-10-16T00:00:00\",\"2019-10-17T00:00:00\",\"2019-10-17T00:00:00\",\"2019-10-18T00:00:00\",\"2019-10-18T00:00:00\",\"2019-10-19T00:00:00\",\"2019-10-19T00:00:00\",\"2019-10-20T00:00:00\",\"2019-10-20T00:00:00\",\"2019-10-21T00:00:00\",\"2019-10-21T00:00:00\",\"2019-10-22T00:00:00\",\"2019-10-22T00:00:00\",\"2019-10-23T00:00:00\",\"2019-10-23T00:00:00\",\"2019-10-24T00:00:00\",\"2019-10-24T00:00:00\",\"2019-10-25T00:00:00\",\"2019-10-25T00:00:00\",\"2019-10-26T00:00:00\",\"2019-10-26T00:00:00\",\"2019-10-27T00:00:00\",\"2019-10-27T00:00:00\",\"2019-10-28T00:00:00\",\"2019-10-28T00:00:00\",\"2019-10-29T00:00:00\",\"2019-10-29T00:00:00\",\"2019-10-30T00:00:00\",\"2019-10-30T00:00:00\",\"2019-10-31T00:00:00\",\"2019-10-31T00:00:00\",\"2019-11-01T00:00:00\",\"2019-11-01T00:00:00\",\"2019-11-02T00:00:00\",\"2019-11-02T00:00:00\",\"2019-11-03T00:00:00\",\"2019-11-03T00:00:00\",\"2019-11-04T00:00:00\",\"2019-11-04T00:00:00\",\"2019-11-05T00:00:00\",\"2019-11-05T00:00:00\",\"2019-11-06T00:00:00\",\"2019-11-06T00:00:00\",\"2019-11-07T00:00:00\",\"2019-11-07T00:00:00\",\"2019-11-08T00:00:00\",\"2019-11-08T00:00:00\",\"2019-11-09T00:00:00\",\"2019-11-09T00:00:00\",\"2019-11-10T00:00:00\",\"2019-11-10T00:00:00\",\"2019-11-12T00:00:00\",\"2019-11-12T00:00:00\",\"2019-11-13T00:00:00\",\"2019-11-13T00:00:00\",\"2019-11-14T00:00:00\",\"2019-11-14T00:00:00\",\"2019-11-15T00:00:00\",\"2019-11-15T00:00:00\",\"2019-11-16T00:00:00\",\"2019-11-16T00:00:00\",\"2019-11-17T00:00:00\",\"2019-11-17T00:00:00\",\"2019-11-18T00:00:00\",\"2019-11-18T00:00:00\",\"2019-11-19T00:00:00\",\"2019-11-19T00:00:00\",\"2019-11-20T00:00:00\",\"2019-11-20T00:00:00\",\"2019-11-21T00:00:00\",\"2019-11-21T00:00:00\",\"2019-11-22T00:00:00\",\"2019-11-22T00:00:00\",\"2019-11-23T00:00:00\",\"2019-11-23T00:00:00\",\"2019-11-25T00:00:00\",\"2019-11-25T00:00:00\",\"2019-11-26T00:00:00\",\"2019-11-26T00:00:00\",\"2019-11-27T00:00:00\",\"2019-11-27T00:00:00\",\"2019-11-28T00:00:00\",\"2019-11-28T00:00:00\",\"2019-11-29T00:00:00\",\"2019-11-29T00:00:00\",\"2019-11-30T00:00:00\",\"2019-11-30T00:00:00\",\"2019-12-01T00:00:00\",\"2019-12-01T00:00:00\",\"2019-12-02T00:00:00\",\"2019-12-02T00:00:00\",\"2019-12-03T00:00:00\",\"2019-12-03T00:00:00\",\"2019-12-04T00:00:00\",\"2019-12-04T00:00:00\",\"2019-12-05T00:00:00\",\"2019-12-05T00:00:00\",\"2019-12-06T00:00:00\",\"2019-12-06T00:00:00\",\"2019-12-07T00:00:00\",\"2019-12-07T00:00:00\",\"2019-12-08T00:00:00\",\"2019-12-08T00:00:00\",\"2019-12-09T00:00:00\",\"2019-12-09T00:00:00\",\"2019-12-10T00:00:00\",\"2019-12-10T00:00:00\",\"2019-12-11T00:00:00\",\"2019-12-11T00:00:00\",\"2019-12-12T00:00:00\",\"2019-12-12T00:00:00\",\"2019-12-13T00:00:00\",\"2019-12-13T00:00:00\",\"2019-12-14T00:00:00\",\"2019-12-14T00:00:00\",\"2019-12-15T00:00:00\",\"2019-12-15T00:00:00\",\"2019-12-16T00:00:00\",\"2019-12-16T00:00:00\",\"2019-12-17T00:00:00\",\"2019-12-17T00:00:00\",\"2019-12-18T00:00:00\",\"2019-12-18T00:00:00\",\"2019-12-19T00:00:00\",\"2019-12-19T00:00:00\",\"2019-12-20T00:00:00\",\"2019-12-20T00:00:00\",\"2019-12-21T00:00:00\",\"2019-12-21T00:00:00\",\"2019-12-22T00:00:00\",\"2019-12-22T00:00:00\",\"2019-12-23T00:00:00\",\"2019-12-23T00:00:00\",\"2019-12-24T00:00:00\",\"2019-12-24T00:00:00\",\"2019-12-25T00:00:00\",\"2019-12-25T00:00:00\",\"2019-12-27T00:00:00\",\"2019-12-27T00:00:00\",\"2019-12-28T00:00:00\",\"2019-12-28T00:00:00\",\"2019-12-29T00:00:00\",\"2019-12-29T00:00:00\",\"2019-12-30T00:00:00\",\"2019-12-30T00:00:00\",\"2019-12-31T00:00:00\",\"2019-12-31T00:00:00\",\"2020-01-01T00:00:00\",\"2020-01-01T00:00:00\",\"2020-01-03T00:00:00\",\"2020-01-03T00:00:00\",\"2020-01-04T00:00:00\",\"2020-01-04T00:00:00\",\"2020-01-05T00:00:00\",\"2020-01-05T00:00:00\",\"2020-01-06T00:00:00\",\"2020-01-06T00:00:00\",\"2020-01-07T00:00:00\",\"2020-01-07T00:00:00\",\"2020-01-08T00:00:00\",\"2020-01-08T00:00:00\",\"2020-01-09T00:00:00\",\"2020-01-09T00:00:00\",\"2020-01-10T00:00:00\",\"2020-01-10T00:00:00\",\"2020-01-11T00:00:00\",\"2020-01-11T00:00:00\",\"2020-01-12T00:00:00\",\"2020-01-12T00:00:00\",\"2020-01-13T00:00:00\",\"2020-01-13T00:00:00\",\"2020-01-14T00:00:00\",\"2020-01-14T00:00:00\",\"2020-01-15T00:00:00\",\"2020-01-15T00:00:00\",\"2020-01-17T00:00:00\",\"2020-01-17T00:00:00\",\"2020-01-18T00:00:00\",\"2020-01-18T00:00:00\",\"2020-01-19T00:00:00\",\"2020-01-19T00:00:00\",\"2020-01-20T00:00:00\",\"2020-01-20T00:00:00\",\"2020-01-21T00:00:00\",\"2020-01-21T00:00:00\",\"2020-01-22T00:00:00\",\"2020-01-22T00:00:00\",\"2020-01-23T00:00:00\",\"2020-01-23T00:00:00\",\"2020-01-24T00:00:00\",\"2020-01-24T00:00:00\",\"2020-01-25T00:00:00\",\"2020-01-25T00:00:00\",\"2020-01-26T00:00:00\",\"2020-01-26T00:00:00\",\"2020-01-27T00:00:00\",\"2020-01-27T00:00:00\",\"2020-01-28T00:00:00\",\"2020-01-28T00:00:00\",\"2020-01-29T00:00:00\",\"2020-01-29T00:00:00\",\"2020-01-30T00:00:00\",\"2020-01-30T00:00:00\",\"2020-01-31T00:00:00\",\"2020-01-31T00:00:00\",\"2020-02-01T00:00:00\",\"2020-02-01T00:00:00\",\"2020-02-02T00:00:00\",\"2020-02-02T00:00:00\",\"2020-02-03T00:00:00\",\"2020-02-03T00:00:00\",\"2020-02-04T00:00:00\",\"2020-02-04T00:00:00\",\"2020-02-05T00:00:00\",\"2020-02-05T00:00:00\",\"2020-02-06T00:00:00\",\"2020-02-06T00:00:00\",\"2020-02-07T00:00:00\",\"2020-02-07T00:00:00\",\"2020-02-08T00:00:00\",\"2020-02-08T00:00:00\",\"2020-02-09T00:00:00\",\"2020-02-09T00:00:00\",\"2020-02-10T00:00:00\",\"2020-02-10T00:00:00\",\"2020-02-11T00:00:00\",\"2020-02-11T00:00:00\",\"2020-02-12T00:00:00\",\"2020-02-12T00:00:00\",\"2020-02-13T00:00:00\",\"2020-02-13T00:00:00\",\"2020-02-14T00:00:00\",\"2020-02-14T00:00:00\",\"2020-02-15T00:00:00\",\"2020-02-15T00:00:00\",\"2020-02-16T00:00:00\",\"2020-02-16T00:00:00\",\"2020-02-17T00:00:00\",\"2020-02-17T00:00:00\",\"2020-02-18T00:00:00\",\"2020-02-18T00:00:00\",\"2020-02-19T00:00:00\",\"2020-02-19T00:00:00\",\"2020-02-21T00:00:00\",\"2020-02-21T00:00:00\",\"2020-02-22T00:00:00\",\"2020-02-22T00:00:00\",\"2020-02-23T00:00:00\",\"2020-02-23T00:00:00\",\"2020-02-24T00:00:00\",\"2020-02-24T00:00:00\",\"2020-02-25T00:00:00\",\"2020-02-25T00:00:00\",\"2020-02-26T00:00:00\",\"2020-02-26T00:00:00\",\"2020-02-27T00:00:00\",\"2020-02-27T00:00:00\",\"2020-02-28T00:00:00\",\"2020-02-28T00:00:00\",\"2020-02-29T00:00:00\",\"2020-02-29T00:00:00\",\"2020-03-01T00:00:00\",\"2020-03-01T00:00:00\",\"2020-03-02T00:00:00\",\"2020-03-02T00:00:00\",\"2020-03-03T00:00:00\",\"2020-03-03T00:00:00\",\"2020-03-04T00:00:00\",\"2020-03-04T00:00:00\",\"2020-03-05T00:00:00\",\"2020-03-05T00:00:00\",\"2020-03-06T00:00:00\",\"2020-03-06T00:00:00\",\"2020-03-07T00:00:00\",\"2020-03-07T00:00:00\",\"2020-03-08T00:00:00\",\"2020-03-08T00:00:00\",\"2020-03-09T00:00:00\",\"2020-03-09T00:00:00\",\"2020-03-10T00:00:00\",\"2020-03-10T00:00:00\",\"2020-03-11T00:00:00\",\"2020-03-11T00:00:00\",\"2020-03-12T00:00:00\",\"2020-03-12T00:00:00\",\"2020-03-13T00:00:00\",\"2020-03-13T00:00:00\",\"2020-03-14T00:00:00\",\"2020-03-14T00:00:00\",\"2020-03-15T00:00:00\",\"2020-03-15T00:00:00\",\"2020-03-16T00:00:00\",\"2020-03-16T00:00:00\",\"2020-03-17T00:00:00\",\"2020-03-17T00:00:00\",\"2020-03-18T00:00:00\",\"2020-03-18T00:00:00\",\"2020-03-19T00:00:00\",\"2020-03-19T00:00:00\",\"2020-03-20T00:00:00\",\"2020-03-20T00:00:00\",\"2020-03-21T00:00:00\",\"2020-03-21T00:00:00\",\"2020-03-22T00:00:00\",\"2020-03-22T00:00:00\",\"2020-03-23T00:00:00\",\"2020-03-23T00:00:00\",\"2020-03-24T00:00:00\",\"2020-03-24T00:00:00\",\"2020-03-25T00:00:00\",\"2020-03-25T00:00:00\",\"2020-03-26T00:00:00\",\"2020-03-26T00:00:00\",\"2020-03-27T00:00:00\",\"2020-03-27T00:00:00\",\"2020-03-28T00:00:00\",\"2020-03-28T00:00:00\",\"2020-03-29T00:00:00\",\"2020-03-29T00:00:00\",\"2020-03-30T00:00:00\",\"2020-03-30T00:00:00\",\"2020-03-31T00:00:00\",\"2020-03-31T00:00:00\",\"2020-04-01T00:00:00\",\"2020-04-01T00:00:00\",\"2020-04-02T00:00:00\",\"2020-04-02T00:00:00\",\"2020-04-03T00:00:00\",\"2020-04-03T00:00:00\",\"2020-04-04T00:00:00\",\"2020-04-04T00:00:00\",\"2020-04-05T00:00:00\",\"2020-04-05T00:00:00\",\"2020-04-06T00:00:00\",\"2020-04-06T00:00:00\",\"2020-04-07T00:00:00\",\"2020-04-07T00:00:00\",\"2020-04-08T00:00:00\",\"2020-04-08T00:00:00\",\"2020-04-09T00:00:00\",\"2020-04-09T00:00:00\",\"2020-04-10T00:00:00\",\"2020-04-10T00:00:00\",\"2020-04-11T00:00:00\",\"2020-04-11T00:00:00\",\"2020-04-12T00:00:00\",\"2020-04-12T00:00:00\",\"2020-04-13T00:00:00\",\"2020-04-13T00:00:00\",\"2020-04-14T00:00:00\",\"2020-04-14T00:00:00\",\"2020-04-15T00:00:00\",\"2020-04-15T00:00:00\",\"2020-04-17T00:00:00\",\"2020-04-17T00:00:00\",\"2020-04-18T00:00:00\",\"2020-04-18T00:00:00\",\"2020-04-19T00:00:00\",\"2020-04-19T00:00:00\",\"2020-04-20T00:00:00\",\"2020-04-20T00:00:00\",\"2020-04-21T00:00:00\",\"2020-04-21T00:00:00\",\"2020-04-22T00:00:00\",\"2020-04-22T00:00:00\",\"2020-04-23T00:00:00\",\"2020-04-23T00:00:00\",\"2020-04-24T00:00:00\",\"2020-04-24T00:00:00\",\"2020-04-25T00:00:00\",\"2020-04-25T00:00:00\",\"2020-04-26T00:00:00\",\"2020-04-26T00:00:00\",\"2020-04-27T00:00:00\",\"2020-04-27T00:00:00\",\"2020-04-28T00:00:00\",\"2020-04-28T00:00:00\",\"2020-04-29T00:00:00\",\"2020-04-29T00:00:00\",\"2020-04-30T00:00:00\",\"2020-04-30T00:00:00\",\"2020-05-01T00:00:00\",\"2020-05-01T00:00:00\",\"2020-05-02T00:00:00\",\"2020-05-02T00:00:00\",\"2020-05-03T00:00:00\",\"2020-05-03T00:00:00\",\"2020-05-04T00:00:00\",\"2020-05-04T00:00:00\",\"2020-05-05T00:00:00\",\"2020-05-05T00:00:00\",\"2020-05-06T00:00:00\",\"2020-05-06T00:00:00\",\"2020-05-07T00:00:00\",\"2020-05-07T00:00:00\",\"2020-05-08T00:00:00\",\"2020-05-08T00:00:00\",\"2020-05-09T00:00:00\",\"2020-05-09T00:00:00\",\"2020-05-10T00:00:00\",\"2020-05-10T00:00:00\",\"2020-05-11T00:00:00\",\"2020-05-11T00:00:00\",\"2020-05-12T00:00:00\",\"2020-05-12T00:00:00\",\"2020-05-13T00:00:00\",\"2020-05-13T00:00:00\",\"2020-05-14T00:00:00\",\"2020-05-14T00:00:00\",\"2020-05-15T00:00:00\",\"2020-05-15T00:00:00\",\"2020-05-16T00:00:00\",\"2020-05-16T00:00:00\",\"2020-05-17T00:00:00\",\"2020-05-17T00:00:00\",\"2020-05-18T00:00:00\",\"2020-05-18T00:00:00\",\"2020-05-19T00:00:00\",\"2020-05-19T00:00:00\",\"2020-05-20T00:00:00\",\"2020-05-20T00:00:00\",\"2020-05-21T00:00:00\",\"2020-05-21T00:00:00\",\"2020-05-22T00:00:00\",\"2020-05-22T00:00:00\",\"2020-05-23T00:00:00\",\"2020-05-23T00:00:00\",\"2020-05-24T00:00:00\",\"2020-05-24T00:00:00\",\"2020-05-25T00:00:00\",\"2020-05-25T00:00:00\",\"2020-05-26T00:00:00\",\"2020-05-26T00:00:00\",\"2020-05-27T00:00:00\",\"2020-05-27T00:00:00\",\"2020-05-29T00:00:00\",\"2020-05-29T00:00:00\",\"2020-05-30T00:00:00\",\"2020-05-30T00:00:00\",\"2020-05-31T00:00:00\",\"2020-05-31T00:00:00\",\"2020-06-01T00:00:00\",\"2020-06-01T00:00:00\",\"2020-06-02T00:00:00\",\"2020-06-02T00:00:00\",\"2020-06-03T00:00:00\",\"2020-06-03T00:00:00\",\"2020-06-04T00:00:00\",\"2020-06-04T00:00:00\",\"2020-06-05T00:00:00\",\"2020-06-05T00:00:00\",\"2020-06-06T00:00:00\",\"2020-06-06T00:00:00\",\"2020-06-07T00:00:00\",\"2020-06-07T00:00:00\",\"2020-06-08T00:00:00\",\"2020-06-08T00:00:00\",\"2020-06-09T00:00:00\",\"2020-06-09T00:00:00\",\"2020-06-10T00:00:00\",\"2020-06-10T00:00:00\",\"2020-06-11T00:00:00\",\"2020-06-11T00:00:00\",\"2020-06-12T00:00:00\",\"2020-06-12T00:00:00\",\"2020-06-13T00:00:00\",\"2020-06-13T00:00:00\",\"2020-06-14T00:00:00\",\"2020-06-14T00:00:00\",\"2020-06-15T00:00:00\",\"2020-06-15T00:00:00\",\"2020-06-16T00:00:00\",\"2020-06-16T00:00:00\",\"2020-06-17T00:00:00\",\"2020-06-17T00:00:00\",\"2020-06-18T00:00:00\",\"2020-06-18T00:00:00\",\"2020-06-19T00:00:00\",\"2020-06-19T00:00:00\",\"2020-06-20T00:00:00\",\"2020-06-20T00:00:00\",\"2020-06-21T00:00:00\",\"2020-06-21T00:00:00\",\"2020-06-22T00:00:00\",\"2020-06-22T00:00:00\",\"2020-06-23T00:00:00\",\"2020-06-23T00:00:00\",\"2020-06-24T00:00:00\",\"2020-06-24T00:00:00\",\"2020-06-25T00:00:00\",\"2020-06-25T00:00:00\",\"2020-06-26T00:00:00\",\"2020-06-26T00:00:00\",\"2020-06-27T00:00:00\",\"2020-06-27T00:00:00\",\"2020-06-28T00:00:00\",\"2020-06-28T00:00:00\",\"2020-06-29T00:00:00\",\"2020-06-29T00:00:00\",\"2020-06-30T00:00:00\",\"2020-06-30T00:00:00\",\"2020-07-01T00:00:00\",\"2020-07-01T00:00:00\",\"2020-07-02T00:00:00\",\"2020-07-02T00:00:00\",\"2020-07-03T00:00:00\",\"2020-07-03T00:00:00\",\"2020-07-05T00:00:00\",\"2020-07-05T00:00:00\",\"2020-07-06T00:00:00\",\"2020-07-06T00:00:00\",\"2020-07-07T00:00:00\",\"2020-07-07T00:00:00\",\"2020-07-08T00:00:00\",\"2020-07-08T00:00:00\",\"2020-07-09T00:00:00\",\"2020-07-09T00:00:00\",\"2020-07-10T00:00:00\",\"2020-07-10T00:00:00\",\"2020-07-11T00:00:00\",\"2020-07-11T00:00:00\",\"2020-07-12T00:00:00\",\"2020-07-12T00:00:00\",\"2020-07-13T00:00:00\",\"2020-07-13T00:00:00\",\"2020-07-14T00:00:00\",\"2020-07-14T00:00:00\",\"2020-07-15T00:00:00\",\"2020-07-15T00:00:00\",\"2020-07-16T00:00:00\",\"2020-07-16T00:00:00\",\"2020-07-17T00:00:00\",\"2020-07-17T00:00:00\",\"2020-07-18T00:00:00\",\"2020-07-18T00:00:00\",\"2020-07-19T00:00:00\",\"2020-07-19T00:00:00\",\"2020-07-20T00:00:00\",\"2020-07-20T00:00:00\",\"2020-07-21T00:00:00\",\"2020-07-21T00:00:00\",\"2020-07-22T00:00:00\",\"2020-07-22T00:00:00\",\"2020-07-23T00:00:00\",\"2020-07-23T00:00:00\",\"2020-07-24T00:00:00\",\"2020-07-24T00:00:00\",\"2020-07-25T00:00:00\",\"2020-07-25T00:00:00\",\"2020-07-26T00:00:00\",\"2020-07-26T00:00:00\",\"2020-07-27T00:00:00\",\"2020-07-27T00:00:00\",\"2020-07-28T00:00:00\",\"2020-07-28T00:00:00\",\"2020-07-29T00:00:00\",\"2020-07-29T00:00:00\",\"2020-07-30T00:00:00\",\"2020-07-30T00:00:00\",\"2020-07-31T00:00:00\",\"2020-07-31T00:00:00\",\"2020-08-01T00:00:00\",\"2020-08-01T00:00:00\",\"2020-08-02T00:00:00\",\"2020-08-02T00:00:00\",\"2020-08-03T00:00:00\",\"2020-08-03T00:00:00\",\"2020-08-04T00:00:00\",\"2020-08-04T00:00:00\",\"2020-08-05T00:00:00\",\"2020-08-05T00:00:00\",\"2020-08-06T00:00:00\",\"2020-08-06T00:00:00\",\"2020-08-07T00:00:00\",\"2020-08-07T00:00:00\",\"2020-08-08T00:00:00\",\"2020-08-08T00:00:00\",\"2020-08-09T00:00:00\",\"2020-08-09T00:00:00\",\"2020-08-10T00:00:00\",\"2020-08-10T00:00:00\",\"2020-08-11T00:00:00\",\"2020-08-11T00:00:00\",\"2020-08-12T00:00:00\",\"2020-08-12T00:00:00\",\"2020-08-13T00:00:00\",\"2020-08-13T00:00:00\",\"2020-08-14T00:00:00\",\"2020-08-14T00:00:00\",\"2020-08-15T00:00:00\",\"2020-08-15T00:00:00\",\"2020-08-16T00:00:00\",\"2020-08-16T00:00:00\",\"2020-08-17T00:00:00\",\"2020-08-17T00:00:00\",\"2020-08-18T00:00:00\",\"2020-08-18T00:00:00\",\"2020-08-19T00:00:00\",\"2020-08-19T00:00:00\",\"2020-08-20T00:00:00\",\"2020-08-20T00:00:00\",\"2020-08-21T00:00:00\",\"2020-08-21T00:00:00\",\"2020-08-22T00:00:00\",\"2020-08-22T00:00:00\",\"2020-08-23T00:00:00\",\"2020-08-23T00:00:00\",\"2020-08-24T00:00:00\",\"2020-08-24T00:00:00\",\"2020-08-25T00:00:00\",\"2020-08-25T00:00:00\",\"2020-08-26T00:00:00\",\"2020-08-26T00:00:00\",\"2020-08-27T00:00:00\",\"2020-08-27T00:00:00\",\"2020-08-28T00:00:00\",\"2020-08-28T00:00:00\",\"2020-08-29T00:00:00\",\"2020-08-29T00:00:00\",\"2020-08-30T00:00:00\",\"2020-08-30T00:00:00\",\"2020-08-31T00:00:00\",\"2020-08-31T00:00:00\",\"2020-09-01T00:00:00\",\"2020-09-01T00:00:00\",\"2020-09-02T00:00:00\",\"2020-09-02T00:00:00\",\"2020-09-04T00:00:00\",\"2020-09-04T00:00:00\",\"2020-09-05T00:00:00\",\"2020-09-05T00:00:00\",\"2020-09-06T00:00:00\",\"2020-09-06T00:00:00\",\"2020-09-07T00:00:00\",\"2020-09-07T00:00:00\",\"2020-09-08T00:00:00\",\"2020-09-08T00:00:00\",\"2020-09-09T00:00:00\",\"2020-09-09T00:00:00\",\"2020-09-10T00:00:00\",\"2020-09-10T00:00:00\",\"2020-09-11T00:00:00\",\"2020-09-11T00:00:00\",\"2020-09-12T00:00:00\",\"2020-09-12T00:00:00\",\"2020-09-13T00:00:00\",\"2020-09-13T00:00:00\",\"2020-09-14T00:00:00\",\"2020-09-14T00:00:00\",\"2020-09-15T00:00:00\",\"2020-09-15T00:00:00\",\"2020-09-16T00:00:00\",\"2020-09-16T00:00:00\",\"2020-09-17T00:00:00\",\"2020-09-17T00:00:00\",\"2020-09-18T00:00:00\",\"2020-09-18T00:00:00\",\"2020-09-19T00:00:00\",\"2020-09-19T00:00:00\",\"2020-09-20T00:00:00\",\"2020-09-20T00:00:00\",\"2020-09-21T00:00:00\",\"2020-09-21T00:00:00\",\"2020-09-22T00:00:00\",\"2020-09-22T00:00:00\",\"2020-09-23T00:00:00\",\"2020-09-23T00:00:00\",\"2020-09-24T00:00:00\",\"2020-09-24T00:00:00\",\"2020-09-25T00:00:00\",\"2020-09-25T00:00:00\",\"2020-09-26T00:00:00\",\"2020-09-26T00:00:00\",\"2020-09-27T00:00:00\",\"2020-09-27T00:00:00\",\"2020-09-28T00:00:00\",\"2020-09-28T00:00:00\",\"2020-09-29T00:00:00\",\"2020-09-29T00:00:00\",\"2020-09-30T00:00:00\",\"2020-09-30T00:00:00\",\"2020-10-01T00:00:00\",\"2020-10-01T00:00:00\",\"2020-10-02T00:00:00\",\"2020-10-02T00:00:00\",\"2020-10-03T00:00:00\",\"2020-10-03T00:00:00\",\"2020-10-04T00:00:00\",\"2020-10-04T00:00:00\",\"2020-10-05T00:00:00\",\"2020-10-05T00:00:00\",\"2020-10-06T00:00:00\",\"2020-10-06T00:00:00\",\"2020-10-07T00:00:00\",\"2020-10-07T00:00:00\",\"2020-10-09T00:00:00\",\"2020-10-09T00:00:00\",\"2020-10-10T00:00:00\",\"2020-10-10T00:00:00\",\"2020-10-11T00:00:00\",\"2020-10-11T00:00:00\",\"2020-10-12T00:00:00\",\"2020-10-12T00:00:00\",\"2020-10-13T00:00:00\",\"2020-10-13T00:00:00\",\"2020-10-14T00:00:00\",\"2020-10-14T00:00:00\",\"2020-10-15T00:00:00\",\"2020-10-15T00:00:00\",\"2020-10-16T00:00:00\",\"2020-10-16T00:00:00\",\"2020-10-17T00:00:00\",\"2020-10-17T00:00:00\",\"2020-10-18T00:00:00\",\"2020-10-18T00:00:00\",\"2020-10-19T00:00:00\",\"2020-10-19T00:00:00\",\"2020-10-20T00:00:00\",\"2020-10-20T00:00:00\",\"2020-10-21T00:00:00\",\"2020-10-21T00:00:00\",\"2020-10-22T00:00:00\",\"2020-10-22T00:00:00\",\"2020-10-23T00:00:00\",\"2020-10-23T00:00:00\",\"2020-10-24T00:00:00\",\"2020-10-24T00:00:00\",\"2020-10-25T00:00:00\",\"2020-10-25T00:00:00\",\"2020-10-26T00:00:00\",\"2020-10-26T00:00:00\",\"2020-10-27T00:00:00\",\"2020-10-27T00:00:00\",\"2020-10-28T00:00:00\",\"2020-10-28T00:00:00\",\"2020-10-29T00:00:00\",\"2020-10-29T00:00:00\",\"2020-10-30T00:00:00\",\"2020-10-30T00:00:00\",\"2020-10-31T00:00:00\",\"2020-10-31T00:00:00\",\"2020-11-01T00:00:00\",\"2020-11-01T00:00:00\",\"2020-11-02T00:00:00\",\"2020-11-02T00:00:00\",\"2020-11-03T00:00:00\",\"2020-11-03T00:00:00\",\"2020-11-04T00:00:00\",\"2020-11-04T00:00:00\",\"2020-11-05T00:00:00\",\"2020-11-05T00:00:00\",\"2020-11-06T00:00:00\",\"2020-11-06T00:00:00\",\"2020-11-07T00:00:00\",\"2020-11-07T00:00:00\",\"2020-11-08T00:00:00\",\"2020-11-08T00:00:00\",\"2020-11-09T00:00:00\",\"2020-11-09T00:00:00\",\"2020-11-10T00:00:00\",\"2020-11-10T00:00:00\",\"2020-11-11T00:00:00\",\"2020-11-11T00:00:00\",\"2020-11-13T00:00:00\",\"2020-11-13T00:00:00\",\"2020-11-14T00:00:00\",\"2020-11-14T00:00:00\",\"2020-11-15T00:00:00\",\"2020-11-15T00:00:00\",\"2020-11-16T00:00:00\",\"2020-11-16T00:00:00\",\"2020-11-17T00:00:00\",\"2020-11-17T00:00:00\",\"2020-11-18T00:00:00\",\"2020-11-18T00:00:00\",\"2020-11-19T00:00:00\",\"2020-11-19T00:00:00\",\"2020-11-20T00:00:00\",\"2020-11-20T00:00:00\",\"2020-11-21T00:00:00\",\"2020-11-21T00:00:00\",\"2020-11-23T00:00:00\",\"2020-11-23T00:00:00\",\"2020-11-24T00:00:00\",\"2020-11-24T00:00:00\",\"2020-11-25T00:00:00\",\"2020-11-25T00:00:00\",\"2020-11-26T00:00:00\",\"2020-11-26T00:00:00\",\"2020-11-27T00:00:00\",\"2020-11-27T00:00:00\",\"2020-11-28T00:00:00\",\"2020-11-28T00:00:00\",\"2020-11-29T00:00:00\",\"2020-11-29T00:00:00\",\"2020-11-30T00:00:00\",\"2020-11-30T00:00:00\",\"2020-12-01T00:00:00\",\"2020-12-01T00:00:00\",\"2020-12-02T00:00:00\",\"2020-12-02T00:00:00\",\"2020-12-03T00:00:00\",\"2020-12-03T00:00:00\",\"2020-12-04T00:00:00\",\"2020-12-04T00:00:00\",\"2020-12-05T00:00:00\",\"2020-12-05T00:00:00\",\"2020-12-06T00:00:00\",\"2020-12-06T00:00:00\",\"2020-12-07T00:00:00\",\"2020-12-07T00:00:00\",\"2020-12-08T00:00:00\",\"2020-12-08T00:00:00\",\"2020-12-09T00:00:00\",\"2020-12-09T00:00:00\",\"2020-12-10T00:00:00\",\"2020-12-10T00:00:00\",\"2020-12-11T00:00:00\",\"2020-12-11T00:00:00\",\"2020-12-12T00:00:00\",\"2020-12-12T00:00:00\",\"2020-12-13T00:00:00\",\"2020-12-13T00:00:00\",\"2020-12-14T00:00:00\",\"2020-12-14T00:00:00\",\"2020-12-15T00:00:00\",\"2020-12-15T00:00:00\",\"2020-12-16T00:00:00\",\"2020-12-16T00:00:00\",\"2020-12-17T00:00:00\",\"2020-12-17T00:00:00\",\"2020-12-18T00:00:00\",\"2020-12-18T00:00:00\",\"2020-12-19T00:00:00\",\"2020-12-19T00:00:00\",\"2020-12-20T00:00:00\",\"2020-12-20T00:00:00\",\"2020-12-21T00:00:00\",\"2020-12-21T00:00:00\",\"2020-12-22T00:00:00\",\"2020-12-22T00:00:00\",\"2020-12-23T00:00:00\",\"2020-12-23T00:00:00\",\"2020-12-24T00:00:00\",\"2020-12-24T00:00:00\",\"2020-12-26T00:00:00\",\"2020-12-26T00:00:00\",\"2020-12-27T00:00:00\",\"2020-12-27T00:00:00\",\"2020-12-28T00:00:00\",\"2020-12-28T00:00:00\",\"2020-12-29T00:00:00\",\"2020-12-29T00:00:00\",\"2020-12-30T00:00:00\",\"2020-12-30T00:00:00\",\"2020-12-31T00:00:00\",\"2020-12-31T00:00:00\"],\"xaxis\":\"x\",\"y\":[331,654,131,670,120,1229,108,1454,82,1518,88,1518,148,1362,68,891,54,768,41,1280,43,1220,25,1137,38,1368,54,1367,222,1026,251,953,9,674,78,1572,84,1403,66,1217,89,774,58,760,64,1142,79,1436,16,396,30,644,54,1130,127,924,182,904,60,1192,47,1313,72,1454,61,1489,88,1620,100,905,354,1269,120,1592,64,1466,53,1552,47,1491,149,1597,288,1184,397,1192,208,1705,140,1675,218,1897,259,2216,579,2348,532,1103,354,1230,84,1552,115,1673,118,1447,166,1426,370,1355,450,1376,128,1102,137,1714,231,1903,123,1562,214,1730,640,1437,114,491,244,1628,316,1817,191,1700,46,577,247,1730,724,1408,982,1435,359,1687,289,1767,321,1871,424,2320,884,2355,1424,1693,553,1476,438,2275,410,2479,183,1550,234,1761,298,1973,656,1502,551,1474,289,1853,366,2122,188,1728,167,1555,307,1920,898,1354,1651,1598,734,2381,167,1628,413,2395,571,2570,172,1299,879,1576,1188,1707,855,2493,257,1777,209,1953,529,2738,121,674,1558,2186,669,2760,409,2795,561,2955,438,2711,155,1428,1108,2057,1242,2318,618,2875,510,2919,349,2377,451,2888,680,2879,1368,2347,1138,2213,847,3554,603,3848,255,2378,614,3819,894,3714,1612,3102,1401,2932,664,3698,694,4109,550,3632,695,4169,692,3413,902,2507,1582,2971,773,3185,678,3445,536,3319,735,3840,890,4095,1957,3515,1699,3169,680,3149,615,3627,665,3995,690,3749,799,3988,1833,3397,1583,2863,596,3590,513,3461,736,4232,898,4414,1869,3473,1685,3221,673,3875,763,4070,676,3725,563,3352,815,3771,1729,3237,1467,2993,863,4157,727,4164,769,4411,545,3222,863,3981,1807,3312,1639,3105,695,3577,664,3534,663,3809,703,3858,1068,4145,2103,3503,1905,3497,779,3838,739,3710,761,4062,800,4182,1246,4116,2204,2915,2282,2367,1031,3634,784,3845,754,3838,692,3348,1988,3348,1743,3138,723,3363,662,3596,748,3594,888,4196,1318,4220,2418,3505,2006,3296,841,3617,752,3789,647,3632,693,3274,733,3240,1100,2774,1199,2841,647,3328,787,3826,802,3941,777,3793,850,3099,1623,3066,1372,2819,729,3537,801,4044,467,3107,799,3777,1023,3843,1521,2773,1298,2487,846,3480,907,3695,884,3896,812,3980,1051,3854,1504,2646,1338,2482,775,3563,721,4004,668,4026,639,3166,797,3356,1844,3059,1428,2626,830,3717,755,4093,709,3933,495,3209,785,3572,475,1262,1593,2776,798,3808,743,3989,677,3948,783,4332,875,3852,1935,2549,2521,2419,204,2506,118,1878,153,1689,417,3127,1750,3595,1633,3413,690,4023,701,4062,647,4138,428,3231,742,4018,1434,3077,1353,2921,691,3848,329,2697,364,2424,349,2584,195,2104,1532,2540,1673,2450,474,3361,343,3062,369,2754,632,4245,814,4212,480,1949,616,2302,330,3240,486,3970,559,4267,639,4126,949,4036,2235,3174,2397,3114,667,3896,217,2199,290,2623,529,3115,1899,3318,1748,3293,713,3857,637,4111,254,2170,333,3633,551,3887,1360,3028,1214,3072,414,3706,495,4098,397,3590,271,2946,288,3279,172,1193,796,2872,299,3389,410,3658,370,3816,318,3656,470,3576,1156,2770,952,2697,373,3662,376,3829,305,3804,190,2743,1275,2792,1004,2713,595,3891,449,3746,145,1672,139,2914,245,3147,943,2720,1115,2928,195,2498,133,2287,232,2813,517,3774,1072,2755,1376,3012,486,3937,188,2658,203,3282,182,3545,268,3672,706,2908,634,2851,233,3578,126,2468,50,655,150,3172,261,3359,502,2688,377,2366,143,3167,155,3368,178,3562,181,3528,178,3399,275,2464,220,2211,260,3143,279,3688,153,1577,284,2746,318,2606,544,2045,480,1864,121,2104,159,2633,147,2561,259,2689,1037,2189,686,1608,89,2147,95,2273,140,3132,307,3791,1070,3451,599,2826,106,2270,173,3425,92,2085,269,3828,174,3040,333,2160,284,2027,127,2808,109,3267,130,3162,208,2882,189,1688,228,2051,113,2570,225,3249,180,3458,214,3300,410,2811,873,2410,593,1975,197,2852,328,3635,304,4275,190,3571,310,3841,384,2448,318,2629,206,3578,199,4176,109,2693,163,3667,227,3604,192,1977,73,1456,94,3328,135,3787,141,4028,74,2931,349,3805,1435,2883,618,2071,203,3455,325,3805,430,4308,350,3071,491,2233,680,2449,445,3519,284,3605,141,2734,325,4665,246,2948,956,3110,710,2713,203,3130,221,3735,432,4484,486,4896,447,4122,968,3150,1658,3253,838,4460,762,5085,997,5315,1005,5187,548,3830,3155,4681,2207,3685,982,5171,638,4935,743,4837,872,5526,1276,5399,716,2131,1579,2698,996,4227,777,4361,816,5244,865,4898,634,4182,2021,3241,2347,3694,1208,4728,1348,5424,1058,5378,1192,5265,1807,4653,3252,3605,2230,2939,905,4680,819,5099,482,4380,663,4746,1252,5146,2795,4665,2846,4286,989,5702,347,4020,846,5719,1297,5606,2573,4280,578,1277,325,2597,916,4823,1019,5207,679,4575,1301,5021,2099,3243,2451,3957,814,4670,653,5087,667,5502,764,5657,1069,5227,2496,4387,2135,4224,1008,5265,738,4990,620,4097,1026,5546,1319,5711,2622,4807,2172,3946,342,2501,625,4490,991,6433,1242,6142,1521,6118,3410,4884,2524,4351,671,4015,834,5109,644,4584,913,5709,1185,5608,2457,4346,2179,3823,807,5024,914,5678,1126,6053,533,3594,2795,5325,2494,5147,1071,5927,968,6033,1027,6028,1038,6456,1488,6248,2708,4790,2224,4374,1017,5647,477,4495,1173,6248,1180,6183,1563,6102,2963,4739,2634,4344,653,4446,968,5857,866,5615,1073,5427,1265,5350,2783,4739,2291,4303,1158,5734,1145,6109,1099,6134,1161,6113,1054,4565,2290,4014,1421,4110,904,5323,1052,5608,1405,4836,1366,4841,1448,3392,1203,3469,998,5571,954,5336,975,6289,1032,6414,1511,5988,2355,4614,1920,4111,1088,5742,921,5865,799,4914,888,5703,657,4298,850,2618,2282,3857,1085,5390,1038,5720,1147,6142,1111,5349,1319,5478,2460,4437,2293,4153,1098,5564,1015,5693,1074,6506,983,6278,1328,5847,2345,4479,1707,3757,1233,5780,1278,5995,1263,6271,1196,6090,1065,4721,2247,4052,2182,4362,1207,5676,1128,5656,1198,6149,1338,6267,1483,5665,2827,5038,1208,3341,927,5021,1035,5866,878,5745,1114,6164,1323,5926,2257,4145,1338,2920,1045,5538,1163,6014,1112,6350,1147,6293,1420,5828,2352,3788,2613,3197,867,5997,832,6280,611,5592,1045,6459,1557,4419,2570,5657,1118,6407,1070,6697,1050,6820,1054,6750,1379,6630,3160,5554,2166,5167,1022,5847,371,3702,788,6803,1017,6707,1399,6573,3028,5060,2437,4741,906,6405,991,6959,970,6733,908,6104,1261,6162,2828,5070,2323,4571,763,6015,315,4324,728,6844,891,6437,1516,6640,3031,4934,781,2729,601,5791,780,6911,834,6736,1060,6222,2252,4857,2080,4559,760,5115,922,6612,979,6482,1008,6501,753,4671,2742,4936,2239,4726,926,6547,1025,6917,930,6855,710,5460,937,5384,2424,4757,1301,3220,5,17,99,1646,419,5551,466,5520,618,5229,1029,4109,1201,3906,378,4881,466,5220,326,4709,340,4975,709,5283,2090,4446,2290,4562,327,3767,373,5122,320,5125,484,5214,1313,4316,922,3747,449,5050,400,5512,462,5550,833,5320,639,3483,459,3303,420,5087,172,3308,290,5175,338,5209,464,5155,951,4240,892,3757,555,5679,551,6055,331,5398,340,5035,349,4659,1153,4429,441,2787,329,4841,282,5219,310,5009,425,5107,429,5182,767,4280,538,3248,212,4373,433,5124,333,4934,289,4532,278,4198,533,2827,713,3092,155,3167,58,1366,207,4024,248,4381,310,2777,446,2440,226,4203],\"yaxis\":\"y\"},{\"alignmentgroup\":\"True\",\"bingroup\":\"x\",\"histfunc\":\"sum\",\"hovertemplate\":\"holiday=1.0<br>datetime=%{x}<br>sum of count=%{y}<extra></extra>\",\"legendgroup\":\"1.0\",\"marker\":{\"color\":\"#EF553B\",\"pattern\":{\"shape\":\"\"}},\"name\":\"1.0\",\"nbinsx\":1462,\"offsetgroup\":\"1.0\",\"orientation\":\"v\",\"showlegend\":true,\"type\":\"histogram\",\"x\":[\"2019-01-17T00:00:00\",\"2019-01-17T00:00:00\",\"2019-02-21T00:00:00\",\"2019-02-21T00:00:00\",\"2019-04-15T00:00:00\",\"2019-04-15T00:00:00\",\"2019-05-30T00:00:00\",\"2019-05-30T00:00:00\",\"2019-07-04T00:00:00\",\"2019-07-04T00:00:00\",\"2019-09-05T00:00:00\",\"2019-09-05T00:00:00\",\"2019-10-10T00:00:00\",\"2019-10-10T00:00:00\",\"2019-11-11T00:00:00\",\"2019-11-11T00:00:00\",\"2019-11-24T00:00:00\",\"2019-11-24T00:00:00\",\"2019-12-26T00:00:00\",\"2019-12-26T00:00:00\",\"2020-01-02T00:00:00\",\"2020-01-02T00:00:00\",\"2020-01-16T00:00:00\",\"2020-01-16T00:00:00\",\"2020-02-20T00:00:00\",\"2020-02-20T00:00:00\",\"2020-04-16T00:00:00\",\"2020-04-16T00:00:00\",\"2020-05-28T00:00:00\",\"2020-05-28T00:00:00\",\"2020-07-04T00:00:00\",\"2020-07-04T00:00:00\",\"2020-09-03T00:00:00\",\"2020-09-03T00:00:00\",\"2020-10-08T00:00:00\",\"2020-10-08T00:00:00\",\"2020-11-12T00:00:00\",\"2020-11-12T00:00:00\",\"2020-11-22T00:00:00\",\"2020-11-22T00:00:00\",\"2020-12-25T00:00:00\",\"2020-12-25T00:00:00\"],\"xaxis\":\"x\",\"y\":[117,883,185,1174,642,2484,1681,3302,3065,2978,1236,2115,1514,3603,440,2928,746,2747,496,2018,244,1707,217,2081,441,2309,1198,5172,1977,4504,2562,4841,1965,4069,874,4604,1097,5172,1324,3985,734,3843],\"yaxis\":\"y\"}],                        {\"barmode\":\"relative\",\"legend\":{\"title\":{\"text\":\"holiday\"},\"tracegroupgap\":0},\"margin\":{\"t\":60},\"template\":{\"data\":{\"bar\":[{\"error_x\":{\"color\":\"#2a3f5f\"},\"error_y\":{\"color\":\"#2a3f5f\"},\"marker\":{\"line\":{\"color\":\"#E5ECF6\",\"width\":0.5},\"pattern\":{\"fillmode\":\"overlay\",\"size\":10,\"solidity\":0.2}},\"type\":\"bar\"}],\"barpolar\":[{\"marker\":{\"line\":{\"color\":\"#E5ECF6\",\"width\":0.5},\"pattern\":{\"fillmode\":\"overlay\",\"size\":10,\"solidity\":0.2}},\"type\":\"barpolar\"}],\"carpet\":[{\"aaxis\":{\"endlinecolor\":\"#2a3f5f\",\"gridcolor\":\"white\",\"linecolor\":\"white\",\"minorgridcolor\":\"white\",\"startlinecolor\":\"#2a3f5f\"},\"baxis\":{\"endlinecolor\":\"#2a3f5f\",\"gridcolor\":\"white\",\"linecolor\":\"white\",\"minorgridcolor\":\"white\",\"startlinecolor\":\"#2a3f5f\"},\"type\":\"carpet\"}],\"choropleth\":[{\"colorbar\":{\"outlinewidth\":0,\"ticks\":\"\"},\"type\":\"choropleth\"}],\"contour\":[{\"colorbar\":{\"outlinewidth\":0,\"ticks\":\"\"},\"colorscale\":[[0.0,\"#0d0887\"],[0.1111111111111111,\"#46039f\"],[0.2222222222222222,\"#7201a8\"],[0.3333333333333333,\"#9c179e\"],[0.4444444444444444,\"#bd3786\"],[0.5555555555555556,\"#d8576b\"],[0.6666666666666666,\"#ed7953\"],[0.7777777777777778,\"#fb9f3a\"],[0.8888888888888888,\"#fdca26\"],[1.0,\"#f0f921\"]],\"type\":\"contour\"}],\"contourcarpet\":[{\"colorbar\":{\"outlinewidth\":0,\"ticks\":\"\"},\"type\":\"contourcarpet\"}],\"heatmap\":[{\"colorbar\":{\"outlinewidth\":0,\"ticks\":\"\"},\"colorscale\":[[0.0,\"#0d0887\"],[0.1111111111111111,\"#46039f\"],[0.2222222222222222,\"#7201a8\"],[0.3333333333333333,\"#9c179e\"],[0.4444444444444444,\"#bd3786\"],[0.5555555555555556,\"#d8576b\"],[0.6666666666666666,\"#ed7953\"],[0.7777777777777778,\"#fb9f3a\"],[0.8888888888888888,\"#fdca26\"],[1.0,\"#f0f921\"]],\"type\":\"heatmap\"}],\"heatmapgl\":[{\"colorbar\":{\"outlinewidth\":0,\"ticks\":\"\"},\"colorscale\":[[0.0,\"#0d0887\"],[0.1111111111111111,\"#46039f\"],[0.2222222222222222,\"#7201a8\"],[0.3333333333333333,\"#9c179e\"],[0.4444444444444444,\"#bd3786\"],[0.5555555555555556,\"#d8576b\"],[0.6666666666666666,\"#ed7953\"],[0.7777777777777778,\"#fb9f3a\"],[0.8888888888888888,\"#fdca26\"],[1.0,\"#f0f921\"]],\"type\":\"heatmapgl\"}],\"histogram\":[{\"marker\":{\"pattern\":{\"fillmode\":\"overlay\",\"size\":10,\"solidity\":0.2}},\"type\":\"histogram\"}],\"histogram2d\":[{\"colorbar\":{\"outlinewidth\":0,\"ticks\":\"\"},\"colorscale\":[[0.0,\"#0d0887\"],[0.1111111111111111,\"#46039f\"],[0.2222222222222222,\"#7201a8\"],[0.3333333333333333,\"#9c179e\"],[0.4444444444444444,\"#bd3786\"],[0.5555555555555556,\"#d8576b\"],[0.6666666666666666,\"#ed7953\"],[0.7777777777777778,\"#fb9f3a\"],[0.8888888888888888,\"#fdca26\"],[1.0,\"#f0f921\"]],\"type\":\"histogram2d\"}],\"histogram2dcontour\":[{\"colorbar\":{\"outlinewidth\":0,\"ticks\":\"\"},\"colorscale\":[[0.0,\"#0d0887\"],[0.1111111111111111,\"#46039f\"],[0.2222222222222222,\"#7201a8\"],[0.3333333333333333,\"#9c179e\"],[0.4444444444444444,\"#bd3786\"],[0.5555555555555556,\"#d8576b\"],[0.6666666666666666,\"#ed7953\"],[0.7777777777777778,\"#fb9f3a\"],[0.8888888888888888,\"#fdca26\"],[1.0,\"#f0f921\"]],\"type\":\"histogram2dcontour\"}],\"mesh3d\":[{\"colorbar\":{\"outlinewidth\":0,\"ticks\":\"\"},\"type\":\"mesh3d\"}],\"parcoords\":[{\"line\":{\"colorbar\":{\"outlinewidth\":0,\"ticks\":\"\"}},\"type\":\"parcoords\"}],\"pie\":[{\"automargin\":true,\"type\":\"pie\"}],\"scatter\":[{\"marker\":{\"colorbar\":{\"outlinewidth\":0,\"ticks\":\"\"}},\"type\":\"scatter\"}],\"scatter3d\":[{\"line\":{\"colorbar\":{\"outlinewidth\":0,\"ticks\":\"\"}},\"marker\":{\"colorbar\":{\"outlinewidth\":0,\"ticks\":\"\"}},\"type\":\"scatter3d\"}],\"scattercarpet\":[{\"marker\":{\"colorbar\":{\"outlinewidth\":0,\"ticks\":\"\"}},\"type\":\"scattercarpet\"}],\"scattergeo\":[{\"marker\":{\"colorbar\":{\"outlinewidth\":0,\"ticks\":\"\"}},\"type\":\"scattergeo\"}],\"scattergl\":[{\"marker\":{\"colorbar\":{\"outlinewidth\":0,\"ticks\":\"\"}},\"type\":\"scattergl\"}],\"scattermapbox\":[{\"marker\":{\"colorbar\":{\"outlinewidth\":0,\"ticks\":\"\"}},\"type\":\"scattermapbox\"}],\"scatterpolar\":[{\"marker\":{\"colorbar\":{\"outlinewidth\":0,\"ticks\":\"\"}},\"type\":\"scatterpolar\"}],\"scatterpolargl\":[{\"marker\":{\"colorbar\":{\"outlinewidth\":0,\"ticks\":\"\"}},\"type\":\"scatterpolargl\"}],\"scatterternary\":[{\"marker\":{\"colorbar\":{\"outlinewidth\":0,\"ticks\":\"\"}},\"type\":\"scatterternary\"}],\"surface\":[{\"colorbar\":{\"outlinewidth\":0,\"ticks\":\"\"},\"colorscale\":[[0.0,\"#0d0887\"],[0.1111111111111111,\"#46039f\"],[0.2222222222222222,\"#7201a8\"],[0.3333333333333333,\"#9c179e\"],[0.4444444444444444,\"#bd3786\"],[0.5555555555555556,\"#d8576b\"],[0.6666666666666666,\"#ed7953\"],[0.7777777777777778,\"#fb9f3a\"],[0.8888888888888888,\"#fdca26\"],[1.0,\"#f0f921\"]],\"type\":\"surface\"}],\"table\":[{\"cells\":{\"fill\":{\"color\":\"#EBF0F8\"},\"line\":{\"color\":\"white\"}},\"header\":{\"fill\":{\"color\":\"#C8D4E3\"},\"line\":{\"color\":\"white\"}},\"type\":\"table\"}]},\"layout\":{\"annotationdefaults\":{\"arrowcolor\":\"#2a3f5f\",\"arrowhead\":0,\"arrowwidth\":1},\"autotypenumbers\":\"strict\",\"coloraxis\":{\"colorbar\":{\"outlinewidth\":0,\"ticks\":\"\"}},\"colorscale\":{\"diverging\":[[0,\"#8e0152\"],[0.1,\"#c51b7d\"],[0.2,\"#de77ae\"],[0.3,\"#f1b6da\"],[0.4,\"#fde0ef\"],[0.5,\"#f7f7f7\"],[0.6,\"#e6f5d0\"],[0.7,\"#b8e186\"],[0.8,\"#7fbc41\"],[0.9,\"#4d9221\"],[1,\"#276419\"]],\"sequential\":[[0.0,\"#0d0887\"],[0.1111111111111111,\"#46039f\"],[0.2222222222222222,\"#7201a8\"],[0.3333333333333333,\"#9c179e\"],[0.4444444444444444,\"#bd3786\"],[0.5555555555555556,\"#d8576b\"],[0.6666666666666666,\"#ed7953\"],[0.7777777777777778,\"#fb9f3a\"],[0.8888888888888888,\"#fdca26\"],[1.0,\"#f0f921\"]],\"sequentialminus\":[[0.0,\"#0d0887\"],[0.1111111111111111,\"#46039f\"],[0.2222222222222222,\"#7201a8\"],[0.3333333333333333,\"#9c179e\"],[0.4444444444444444,\"#bd3786\"],[0.5555555555555556,\"#d8576b\"],[0.6666666666666666,\"#ed7953\"],[0.7777777777777778,\"#fb9f3a\"],[0.8888888888888888,\"#fdca26\"],[1.0,\"#f0f921\"]]},\"colorway\":[\"#636efa\",\"#EF553B\",\"#00cc96\",\"#ab63fa\",\"#FFA15A\",\"#19d3f3\",\"#FF6692\",\"#B6E880\",\"#FF97FF\",\"#FECB52\"],\"font\":{\"color\":\"#2a3f5f\"},\"geo\":{\"bgcolor\":\"white\",\"lakecolor\":\"white\",\"landcolor\":\"#E5ECF6\",\"showlakes\":true,\"showland\":true,\"subunitcolor\":\"white\"},\"hoverlabel\":{\"align\":\"left\"},\"hovermode\":\"closest\",\"mapbox\":{\"style\":\"light\"},\"paper_bgcolor\":\"white\",\"plot_bgcolor\":\"#E5ECF6\",\"polar\":{\"angularaxis\":{\"gridcolor\":\"white\",\"linecolor\":\"white\",\"ticks\":\"\"},\"bgcolor\":\"#E5ECF6\",\"radialaxis\":{\"gridcolor\":\"white\",\"linecolor\":\"white\",\"ticks\":\"\"}},\"scene\":{\"xaxis\":{\"backgroundcolor\":\"#E5ECF6\",\"gridcolor\":\"white\",\"gridwidth\":2,\"linecolor\":\"white\",\"showbackground\":true,\"ticks\":\"\",\"zerolinecolor\":\"white\"},\"yaxis\":{\"backgroundcolor\":\"#E5ECF6\",\"gridcolor\":\"white\",\"gridwidth\":2,\"linecolor\":\"white\",\"showbackground\":true,\"ticks\":\"\",\"zerolinecolor\":\"white\"},\"zaxis\":{\"backgroundcolor\":\"#E5ECF6\",\"gridcolor\":\"white\",\"gridwidth\":2,\"linecolor\":\"white\",\"showbackground\":true,\"ticks\":\"\",\"zerolinecolor\":\"white\"}},\"shapedefaults\":{\"line\":{\"color\":\"#2a3f5f\"}},\"ternary\":{\"aaxis\":{\"gridcolor\":\"white\",\"linecolor\":\"white\",\"ticks\":\"\"},\"baxis\":{\"gridcolor\":\"white\",\"linecolor\":\"white\",\"ticks\":\"\"},\"bgcolor\":\"#E5ECF6\",\"caxis\":{\"gridcolor\":\"white\",\"linecolor\":\"white\",\"ticks\":\"\"}},\"title\":{\"x\":0.05},\"xaxis\":{\"automargin\":true,\"gridcolor\":\"white\",\"linecolor\":\"white\",\"ticks\":\"\",\"title\":{\"standoff\":15},\"zerolinecolor\":\"white\",\"zerolinewidth\":2},\"yaxis\":{\"automargin\":true,\"gridcolor\":\"white\",\"linecolor\":\"white\",\"ticks\":\"\",\"title\":{\"standoff\":15},\"zerolinecolor\":\"white\",\"zerolinewidth\":2}}},\"xaxis\":{\"anchor\":\"y\",\"domain\":[0.0,1.0],\"title\":{\"text\":\"datetime\"}},\"yaxis\":{\"anchor\":\"x\",\"domain\":[0.0,1.0],\"title\":{\"text\":\"sum of count\"}}},                        {\"responsive\": true}                    ).then(function(){\n",
       "                            \n",
       "var gd = document.getElementById('701375f7-0edf-4a33-9b68-a0d25f233ee4');\n",
       "var x = new MutationObserver(function (mutations, observer) {{\n",
       "        var display = window.getComputedStyle(gd).display;\n",
       "        if (!display || display === 'none') {{\n",
       "            console.log([gd, 'removed!']);\n",
       "            Plotly.purge(gd);\n",
       "            observer.disconnect();\n",
       "        }}\n",
       "}});\n",
       "\n",
       "// Listen for the removal of the full notebook cells\n",
       "var notebookContainer = gd.closest('#notebook-container');\n",
       "if (notebookContainer) {{\n",
       "    x.observe(notebookContainer, {childList: true});\n",
       "}}\n",
       "\n",
       "// Listen for the clearing of the current output cell\n",
       "var outputEl = gd.closest('.output');\n",
       "if (outputEl) {{\n",
       "    x.observe(outputEl, {childList: true});\n",
       "}}\n",
       "\n",
       "                        })                };                });            </script>        </div>"
      ]
     },
     "metadata": {},
     "output_type": "display_data"
    }
   ],
   "source": [
    "fig = px.histogram(df_by_day, x=\"datetime\", y=\"count\", color=\"holiday\", nbins=len(df_by_day))\n",
    "fig.show()"
   ]
  },
  {
   "cell_type": "code",
   "execution_count": 14,
   "id": "9fe5f542",
   "metadata": {
    "tags": []
   },
   "outputs": [
    {
     "data": {
      "application/vnd.plotly.v1+json": {
       "config": {
        "plotlyServerURL": "https://plot.ly"
       },
       "data": [
        {
         "alignmentgroup": "True",
         "bingroup": "x",
         "histfunc": "sum",
         "hovertemplate": "registered_customer=False<br>hour=%{x}<br>sum of count=%{y}<extra></extra>",
         "legendgroup": "False",
         "marker": {
          "color": "#636efa",
          "pattern": {
           "shape": ""
          }
         },
         "name": "False",
         "nbinsx": 24,
         "offsetgroup": "False",
         "orientation": "v",
         "showlegend": true,
         "type": "histogram",
         "x": [
          0,
          1,
          2,
          3,
          4,
          5,
          6,
          7,
          8,
          9,
          10,
          11,
          12,
          13,
          14,
          15,
          16,
          17,
          18,
          19,
          20,
          21,
          22,
          23
         ],
         "xaxis": "x",
         "y": [
          7412,
          4648,
          3307,
          1783,
          866,
          1035,
          3077,
          8023,
          15475,
          22401,
          32886,
          42659,
          49457,
          53111,
          54428,
          53791,
          53303,
          54424,
          44724,
          35323,
          26560,
          20654,
          16324,
          11176
         ],
         "yaxis": "y"
        },
        {
         "alignmentgroup": "True",
         "bingroup": "x",
         "histfunc": "sum",
         "hovertemplate": "registered_customer=True<br>hour=%{x}<br>sum of count=%{y}<extra></extra>",
         "legendgroup": "True",
         "marker": {
          "color": "#EF553B",
          "pattern": {
           "shape": ""
          }
         },
         "name": "True",
         "nbinsx": 24,
         "offsetgroup": "True",
         "orientation": "v",
         "showlegend": true,
         "type": "histogram",
         "x": [
          0,
          1,
          2,
          3,
          4,
          5,
          6,
          7,
          8,
          9,
          10,
          11,
          12,
          13,
          14,
          15,
          16,
          17,
          18,
          19,
          20,
          21,
          22,
          23
         ],
         "xaxis": "x",
         "y": [
          32029,
          19508,
          12722,
          6249,
          3743,
          13234,
          52628,
          144219,
          246876,
          137581,
          92727,
          107857,
          134498,
          131772,
          119758,
          127662,
          173025,
          285634,
          266801,
          193636,
          138218,
          104910,
          80296,
          53591
         ],
         "yaxis": "y"
        }
       ],
       "layout": {
        "autosize": true,
        "barmode": "relative",
        "legend": {
         "title": {
          "text": "registered_customer"
         },
         "tracegroupgap": 0
        },
        "margin": {
         "t": 60
        },
        "template": {
         "data": {
          "bar": [
           {
            "error_x": {
             "color": "#2a3f5f"
            },
            "error_y": {
             "color": "#2a3f5f"
            },
            "marker": {
             "line": {
              "color": "#E5ECF6",
              "width": 0.5
             },
             "pattern": {
              "fillmode": "overlay",
              "size": 10,
              "solidity": 0.2
             }
            },
            "type": "bar"
           }
          ],
          "barpolar": [
           {
            "marker": {
             "line": {
              "color": "#E5ECF6",
              "width": 0.5
             },
             "pattern": {
              "fillmode": "overlay",
              "size": 10,
              "solidity": 0.2
             }
            },
            "type": "barpolar"
           }
          ],
          "carpet": [
           {
            "aaxis": {
             "endlinecolor": "#2a3f5f",
             "gridcolor": "white",
             "linecolor": "white",
             "minorgridcolor": "white",
             "startlinecolor": "#2a3f5f"
            },
            "baxis": {
             "endlinecolor": "#2a3f5f",
             "gridcolor": "white",
             "linecolor": "white",
             "minorgridcolor": "white",
             "startlinecolor": "#2a3f5f"
            },
            "type": "carpet"
           }
          ],
          "choropleth": [
           {
            "colorbar": {
             "outlinewidth": 0,
             "ticks": ""
            },
            "type": "choropleth"
           }
          ],
          "contour": [
           {
            "colorbar": {
             "outlinewidth": 0,
             "ticks": ""
            },
            "colorscale": [
             [
              0,
              "#0d0887"
             ],
             [
              0.1111111111111111,
              "#46039f"
             ],
             [
              0.2222222222222222,
              "#7201a8"
             ],
             [
              0.3333333333333333,
              "#9c179e"
             ],
             [
              0.4444444444444444,
              "#bd3786"
             ],
             [
              0.5555555555555556,
              "#d8576b"
             ],
             [
              0.6666666666666666,
              "#ed7953"
             ],
             [
              0.7777777777777778,
              "#fb9f3a"
             ],
             [
              0.8888888888888888,
              "#fdca26"
             ],
             [
              1,
              "#f0f921"
             ]
            ],
            "type": "contour"
           }
          ],
          "contourcarpet": [
           {
            "colorbar": {
             "outlinewidth": 0,
             "ticks": ""
            },
            "type": "contourcarpet"
           }
          ],
          "heatmap": [
           {
            "colorbar": {
             "outlinewidth": 0,
             "ticks": ""
            },
            "colorscale": [
             [
              0,
              "#0d0887"
             ],
             [
              0.1111111111111111,
              "#46039f"
             ],
             [
              0.2222222222222222,
              "#7201a8"
             ],
             [
              0.3333333333333333,
              "#9c179e"
             ],
             [
              0.4444444444444444,
              "#bd3786"
             ],
             [
              0.5555555555555556,
              "#d8576b"
             ],
             [
              0.6666666666666666,
              "#ed7953"
             ],
             [
              0.7777777777777778,
              "#fb9f3a"
             ],
             [
              0.8888888888888888,
              "#fdca26"
             ],
             [
              1,
              "#f0f921"
             ]
            ],
            "type": "heatmap"
           }
          ],
          "heatmapgl": [
           {
            "colorbar": {
             "outlinewidth": 0,
             "ticks": ""
            },
            "colorscale": [
             [
              0,
              "#0d0887"
             ],
             [
              0.1111111111111111,
              "#46039f"
             ],
             [
              0.2222222222222222,
              "#7201a8"
             ],
             [
              0.3333333333333333,
              "#9c179e"
             ],
             [
              0.4444444444444444,
              "#bd3786"
             ],
             [
              0.5555555555555556,
              "#d8576b"
             ],
             [
              0.6666666666666666,
              "#ed7953"
             ],
             [
              0.7777777777777778,
              "#fb9f3a"
             ],
             [
              0.8888888888888888,
              "#fdca26"
             ],
             [
              1,
              "#f0f921"
             ]
            ],
            "type": "heatmapgl"
           }
          ],
          "histogram": [
           {
            "marker": {
             "pattern": {
              "fillmode": "overlay",
              "size": 10,
              "solidity": 0.2
             }
            },
            "type": "histogram"
           }
          ],
          "histogram2d": [
           {
            "colorbar": {
             "outlinewidth": 0,
             "ticks": ""
            },
            "colorscale": [
             [
              0,
              "#0d0887"
             ],
             [
              0.1111111111111111,
              "#46039f"
             ],
             [
              0.2222222222222222,
              "#7201a8"
             ],
             [
              0.3333333333333333,
              "#9c179e"
             ],
             [
              0.4444444444444444,
              "#bd3786"
             ],
             [
              0.5555555555555556,
              "#d8576b"
             ],
             [
              0.6666666666666666,
              "#ed7953"
             ],
             [
              0.7777777777777778,
              "#fb9f3a"
             ],
             [
              0.8888888888888888,
              "#fdca26"
             ],
             [
              1,
              "#f0f921"
             ]
            ],
            "type": "histogram2d"
           }
          ],
          "histogram2dcontour": [
           {
            "colorbar": {
             "outlinewidth": 0,
             "ticks": ""
            },
            "colorscale": [
             [
              0,
              "#0d0887"
             ],
             [
              0.1111111111111111,
              "#46039f"
             ],
             [
              0.2222222222222222,
              "#7201a8"
             ],
             [
              0.3333333333333333,
              "#9c179e"
             ],
             [
              0.4444444444444444,
              "#bd3786"
             ],
             [
              0.5555555555555556,
              "#d8576b"
             ],
             [
              0.6666666666666666,
              "#ed7953"
             ],
             [
              0.7777777777777778,
              "#fb9f3a"
             ],
             [
              0.8888888888888888,
              "#fdca26"
             ],
             [
              1,
              "#f0f921"
             ]
            ],
            "type": "histogram2dcontour"
           }
          ],
          "mesh3d": [
           {
            "colorbar": {
             "outlinewidth": 0,
             "ticks": ""
            },
            "type": "mesh3d"
           }
          ],
          "parcoords": [
           {
            "line": {
             "colorbar": {
              "outlinewidth": 0,
              "ticks": ""
             }
            },
            "type": "parcoords"
           }
          ],
          "pie": [
           {
            "automargin": true,
            "type": "pie"
           }
          ],
          "scatter": [
           {
            "marker": {
             "colorbar": {
              "outlinewidth": 0,
              "ticks": ""
             }
            },
            "type": "scatter"
           }
          ],
          "scatter3d": [
           {
            "line": {
             "colorbar": {
              "outlinewidth": 0,
              "ticks": ""
             }
            },
            "marker": {
             "colorbar": {
              "outlinewidth": 0,
              "ticks": ""
             }
            },
            "type": "scatter3d"
           }
          ],
          "scattercarpet": [
           {
            "marker": {
             "colorbar": {
              "outlinewidth": 0,
              "ticks": ""
             }
            },
            "type": "scattercarpet"
           }
          ],
          "scattergeo": [
           {
            "marker": {
             "colorbar": {
              "outlinewidth": 0,
              "ticks": ""
             }
            },
            "type": "scattergeo"
           }
          ],
          "scattergl": [
           {
            "marker": {
             "colorbar": {
              "outlinewidth": 0,
              "ticks": ""
             }
            },
            "type": "scattergl"
           }
          ],
          "scattermapbox": [
           {
            "marker": {
             "colorbar": {
              "outlinewidth": 0,
              "ticks": ""
             }
            },
            "type": "scattermapbox"
           }
          ],
          "scatterpolar": [
           {
            "marker": {
             "colorbar": {
              "outlinewidth": 0,
              "ticks": ""
             }
            },
            "type": "scatterpolar"
           }
          ],
          "scatterpolargl": [
           {
            "marker": {
             "colorbar": {
              "outlinewidth": 0,
              "ticks": ""
             }
            },
            "type": "scatterpolargl"
           }
          ],
          "scatterternary": [
           {
            "marker": {
             "colorbar": {
              "outlinewidth": 0,
              "ticks": ""
             }
            },
            "type": "scatterternary"
           }
          ],
          "surface": [
           {
            "colorbar": {
             "outlinewidth": 0,
             "ticks": ""
            },
            "colorscale": [
             [
              0,
              "#0d0887"
             ],
             [
              0.1111111111111111,
              "#46039f"
             ],
             [
              0.2222222222222222,
              "#7201a8"
             ],
             [
              0.3333333333333333,
              "#9c179e"
             ],
             [
              0.4444444444444444,
              "#bd3786"
             ],
             [
              0.5555555555555556,
              "#d8576b"
             ],
             [
              0.6666666666666666,
              "#ed7953"
             ],
             [
              0.7777777777777778,
              "#fb9f3a"
             ],
             [
              0.8888888888888888,
              "#fdca26"
             ],
             [
              1,
              "#f0f921"
             ]
            ],
            "type": "surface"
           }
          ],
          "table": [
           {
            "cells": {
             "fill": {
              "color": "#EBF0F8"
             },
             "line": {
              "color": "white"
             }
            },
            "header": {
             "fill": {
              "color": "#C8D4E3"
             },
             "line": {
              "color": "white"
             }
            },
            "type": "table"
           }
          ]
         },
         "layout": {
          "annotationdefaults": {
           "arrowcolor": "#2a3f5f",
           "arrowhead": 0,
           "arrowwidth": 1
          },
          "autotypenumbers": "strict",
          "coloraxis": {
           "colorbar": {
            "outlinewidth": 0,
            "ticks": ""
           }
          },
          "colorscale": {
           "diverging": [
            [
             0,
             "#8e0152"
            ],
            [
             0.1,
             "#c51b7d"
            ],
            [
             0.2,
             "#de77ae"
            ],
            [
             0.3,
             "#f1b6da"
            ],
            [
             0.4,
             "#fde0ef"
            ],
            [
             0.5,
             "#f7f7f7"
            ],
            [
             0.6,
             "#e6f5d0"
            ],
            [
             0.7,
             "#b8e186"
            ],
            [
             0.8,
             "#7fbc41"
            ],
            [
             0.9,
             "#4d9221"
            ],
            [
             1,
             "#276419"
            ]
           ],
           "sequential": [
            [
             0,
             "#0d0887"
            ],
            [
             0.1111111111111111,
             "#46039f"
            ],
            [
             0.2222222222222222,
             "#7201a8"
            ],
            [
             0.3333333333333333,
             "#9c179e"
            ],
            [
             0.4444444444444444,
             "#bd3786"
            ],
            [
             0.5555555555555556,
             "#d8576b"
            ],
            [
             0.6666666666666666,
             "#ed7953"
            ],
            [
             0.7777777777777778,
             "#fb9f3a"
            ],
            [
             0.8888888888888888,
             "#fdca26"
            ],
            [
             1,
             "#f0f921"
            ]
           ],
           "sequentialminus": [
            [
             0,
             "#0d0887"
            ],
            [
             0.1111111111111111,
             "#46039f"
            ],
            [
             0.2222222222222222,
             "#7201a8"
            ],
            [
             0.3333333333333333,
             "#9c179e"
            ],
            [
             0.4444444444444444,
             "#bd3786"
            ],
            [
             0.5555555555555556,
             "#d8576b"
            ],
            [
             0.6666666666666666,
             "#ed7953"
            ],
            [
             0.7777777777777778,
             "#fb9f3a"
            ],
            [
             0.8888888888888888,
             "#fdca26"
            ],
            [
             1,
             "#f0f921"
            ]
           ]
          },
          "colorway": [
           "#636efa",
           "#EF553B",
           "#00cc96",
           "#ab63fa",
           "#FFA15A",
           "#19d3f3",
           "#FF6692",
           "#B6E880",
           "#FF97FF",
           "#FECB52"
          ],
          "font": {
           "color": "#2a3f5f"
          },
          "geo": {
           "bgcolor": "white",
           "lakecolor": "white",
           "landcolor": "#E5ECF6",
           "showlakes": true,
           "showland": true,
           "subunitcolor": "white"
          },
          "hoverlabel": {
           "align": "left"
          },
          "hovermode": "closest",
          "mapbox": {
           "style": "light"
          },
          "paper_bgcolor": "white",
          "plot_bgcolor": "#E5ECF6",
          "polar": {
           "angularaxis": {
            "gridcolor": "white",
            "linecolor": "white",
            "ticks": ""
           },
           "bgcolor": "#E5ECF6",
           "radialaxis": {
            "gridcolor": "white",
            "linecolor": "white",
            "ticks": ""
           }
          },
          "scene": {
           "xaxis": {
            "backgroundcolor": "#E5ECF6",
            "gridcolor": "white",
            "gridwidth": 2,
            "linecolor": "white",
            "showbackground": true,
            "ticks": "",
            "zerolinecolor": "white"
           },
           "yaxis": {
            "backgroundcolor": "#E5ECF6",
            "gridcolor": "white",
            "gridwidth": 2,
            "linecolor": "white",
            "showbackground": true,
            "ticks": "",
            "zerolinecolor": "white"
           },
           "zaxis": {
            "backgroundcolor": "#E5ECF6",
            "gridcolor": "white",
            "gridwidth": 2,
            "linecolor": "white",
            "showbackground": true,
            "ticks": "",
            "zerolinecolor": "white"
           }
          },
          "shapedefaults": {
           "line": {
            "color": "#2a3f5f"
           }
          },
          "ternary": {
           "aaxis": {
            "gridcolor": "white",
            "linecolor": "white",
            "ticks": ""
           },
           "baxis": {
            "gridcolor": "white",
            "linecolor": "white",
            "ticks": ""
           },
           "bgcolor": "#E5ECF6",
           "caxis": {
            "gridcolor": "white",
            "linecolor": "white",
            "ticks": ""
           }
          },
          "title": {
           "x": 0.05
          },
          "xaxis": {
           "automargin": true,
           "gridcolor": "white",
           "linecolor": "white",
           "ticks": "",
           "title": {
            "standoff": 15
           },
           "zerolinecolor": "white",
           "zerolinewidth": 2
          },
          "yaxis": {
           "automargin": true,
           "gridcolor": "white",
           "linecolor": "white",
           "ticks": "",
           "title": {
            "standoff": 15
           },
           "zerolinecolor": "white",
           "zerolinewidth": 2
          }
         }
        },
        "xaxis": {
         "anchor": "y",
         "autorange": true,
         "domain": [
          0,
          1
         ],
         "range": [
          -0.5,
          23.5
         ],
         "title": {
          "text": "hour"
         },
         "type": "linear"
        },
        "yaxis": {
         "anchor": "x",
         "autorange": true,
         "domain": [
          0,
          1
         ],
         "range": [
          0,
          357955.7894736842
         ],
         "title": {
          "text": "sum of count"
         },
         "type": "linear"
        }
       }
      },
      "image/png": "[encoded data removed]",
      "text/html": [
       "<div>                            <div id=\"145e95be-b4ef-40f7-be5a-bfac2d631e24\" class=\"plotly-graph-div\" style=\"height:525px; width:100%;\"></div>            <script type=\"text/javascript\">                require([\"plotly\"], function(Plotly) {                    window.PLOTLYENV=window.PLOTLYENV || {};                                    if (document.getElementById(\"145e95be-b4ef-40f7-be5a-bfac2d631e24\")) {                    Plotly.newPlot(                        \"145e95be-b4ef-40f7-be5a-bfac2d631e24\",                        [{\"alignmentgroup\":\"True\",\"bingroup\":\"x\",\"histfunc\":\"sum\",\"hovertemplate\":\"registered_customer=False<br>hour=%{x}<br>sum of count=%{y}<extra></extra>\",\"legendgroup\":\"False\",\"marker\":{\"color\":\"#636efa\",\"pattern\":{\"shape\":\"\"}},\"name\":\"False\",\"nbinsx\":24,\"offsetgroup\":\"False\",\"orientation\":\"v\",\"showlegend\":true,\"type\":\"histogram\",\"x\":[0,1,2,3,4,5,6,7,8,9,10,11,12,13,14,15,16,17,18,19,20,21,22,23],\"xaxis\":\"x\",\"y\":[7412,4648,3307,1783,866,1035,3077,8023,15475,22401,32886,42659,49457,53111,54428,53791,53303,54424,44724,35323,26560,20654,16324,11176],\"yaxis\":\"y\"},{\"alignmentgroup\":\"True\",\"bingroup\":\"x\",\"histfunc\":\"sum\",\"hovertemplate\":\"registered_customer=True<br>hour=%{x}<br>sum of count=%{y}<extra></extra>\",\"legendgroup\":\"True\",\"marker\":{\"color\":\"#EF553B\",\"pattern\":{\"shape\":\"\"}},\"name\":\"True\",\"nbinsx\":24,\"offsetgroup\":\"True\",\"orientation\":\"v\",\"showlegend\":true,\"type\":\"histogram\",\"x\":[0,1,2,3,4,5,6,7,8,9,10,11,12,13,14,15,16,17,18,19,20,21,22,23],\"xaxis\":\"x\",\"y\":[32029,19508,12722,6249,3743,13234,52628,144219,246876,137581,92727,107857,134498,131772,119758,127662,173025,285634,266801,193636,138218,104910,80296,53591],\"yaxis\":\"y\"}],                        {\"barmode\":\"relative\",\"legend\":{\"title\":{\"text\":\"registered_customer\"},\"tracegroupgap\":0},\"margin\":{\"t\":60},\"template\":{\"data\":{\"bar\":[{\"error_x\":{\"color\":\"#2a3f5f\"},\"error_y\":{\"color\":\"#2a3f5f\"},\"marker\":{\"line\":{\"color\":\"#E5ECF6\",\"width\":0.5},\"pattern\":{\"fillmode\":\"overlay\",\"size\":10,\"solidity\":0.2}},\"type\":\"bar\"}],\"barpolar\":[{\"marker\":{\"line\":{\"color\":\"#E5ECF6\",\"width\":0.5},\"pattern\":{\"fillmode\":\"overlay\",\"size\":10,\"solidity\":0.2}},\"type\":\"barpolar\"}],\"carpet\":[{\"aaxis\":{\"endlinecolor\":\"#2a3f5f\",\"gridcolor\":\"white\",\"linecolor\":\"white\",\"minorgridcolor\":\"white\",\"startlinecolor\":\"#2a3f5f\"},\"baxis\":{\"endlinecolor\":\"#2a3f5f\",\"gridcolor\":\"white\",\"linecolor\":\"white\",\"minorgridcolor\":\"white\",\"startlinecolor\":\"#2a3f5f\"},\"type\":\"carpet\"}],\"choropleth\":[{\"colorbar\":{\"outlinewidth\":0,\"ticks\":\"\"},\"type\":\"choropleth\"}],\"contour\":[{\"colorbar\":{\"outlinewidth\":0,\"ticks\":\"\"},\"colorscale\":[[0.0,\"#0d0887\"],[0.1111111111111111,\"#46039f\"],[0.2222222222222222,\"#7201a8\"],[0.3333333333333333,\"#9c179e\"],[0.4444444444444444,\"#bd3786\"],[0.5555555555555556,\"#d8576b\"],[0.6666666666666666,\"#ed7953\"],[0.7777777777777778,\"#fb9f3a\"],[0.8888888888888888,\"#fdca26\"],[1.0,\"#f0f921\"]],\"type\":\"contour\"}],\"contourcarpet\":[{\"colorbar\":{\"outlinewidth\":0,\"ticks\":\"\"},\"type\":\"contourcarpet\"}],\"heatmap\":[{\"colorbar\":{\"outlinewidth\":0,\"ticks\":\"\"},\"colorscale\":[[0.0,\"#0d0887\"],[0.1111111111111111,\"#46039f\"],[0.2222222222222222,\"#7201a8\"],[0.3333333333333333,\"#9c179e\"],[0.4444444444444444,\"#bd3786\"],[0.5555555555555556,\"#d8576b\"],[0.6666666666666666,\"#ed7953\"],[0.7777777777777778,\"#fb9f3a\"],[0.8888888888888888,\"#fdca26\"],[1.0,\"#f0f921\"]],\"type\":\"heatmap\"}],\"heatmapgl\":[{\"colorbar\":{\"outlinewidth\":0,\"ticks\":\"\"},\"colorscale\":[[0.0,\"#0d0887\"],[0.1111111111111111,\"#46039f\"],[0.2222222222222222,\"#7201a8\"],[0.3333333333333333,\"#9c179e\"],[0.4444444444444444,\"#bd3786\"],[0.5555555555555556,\"#d8576b\"],[0.6666666666666666,\"#ed7953\"],[0.7777777777777778,\"#fb9f3a\"],[0.8888888888888888,\"#fdca26\"],[1.0,\"#f0f921\"]],\"type\":\"heatmapgl\"}],\"histogram\":[{\"marker\":{\"pattern\":{\"fillmode\":\"overlay\",\"size\":10,\"solidity\":0.2}},\"type\":\"histogram\"}],\"histogram2d\":[{\"colorbar\":{\"outlinewidth\":0,\"ticks\":\"\"},\"colorscale\":[[0.0,\"#0d0887\"],[0.1111111111111111,\"#46039f\"],[0.2222222222222222,\"#7201a8\"],[0.3333333333333333,\"#9c179e\"],[0.4444444444444444,\"#bd3786\"],[0.5555555555555556,\"#d8576b\"],[0.6666666666666666,\"#ed7953\"],[0.7777777777777778,\"#fb9f3a\"],[0.8888888888888888,\"#fdca26\"],[1.0,\"#f0f921\"]],\"type\":\"histogram2d\"}],\"histogram2dcontour\":[{\"colorbar\":{\"outlinewidth\":0,\"ticks\":\"\"},\"colorscale\":[[0.0,\"#0d0887\"],[0.1111111111111111,\"#46039f\"],[0.2222222222222222,\"#7201a8\"],[0.3333333333333333,\"#9c179e\"],[0.4444444444444444,\"#bd3786\"],[0.5555555555555556,\"#d8576b\"],[0.6666666666666666,\"#ed7953\"],[0.7777777777777778,\"#fb9f3a\"],[0.8888888888888888,\"#fdca26\"],[1.0,\"#f0f921\"]],\"type\":\"histogram2dcontour\"}],\"mesh3d\":[{\"colorbar\":{\"outlinewidth\":0,\"ticks\":\"\"},\"type\":\"mesh3d\"}],\"parcoords\":[{\"line\":{\"colorbar\":{\"outlinewidth\":0,\"ticks\":\"\"}},\"type\":\"parcoords\"}],\"pie\":[{\"automargin\":true,\"type\":\"pie\"}],\"scatter\":[{\"marker\":{\"colorbar\":{\"outlinewidth\":0,\"ticks\":\"\"}},\"type\":\"scatter\"}],\"scatter3d\":[{\"line\":{\"colorbar\":{\"outlinewidth\":0,\"ticks\":\"\"}},\"marker\":{\"colorbar\":{\"outlinewidth\":0,\"ticks\":\"\"}},\"type\":\"scatter3d\"}],\"scattercarpet\":[{\"marker\":{\"colorbar\":{\"outlinewidth\":0,\"ticks\":\"\"}},\"type\":\"scattercarpet\"}],\"scattergeo\":[{\"marker\":{\"colorbar\":{\"outlinewidth\":0,\"ticks\":\"\"}},\"type\":\"scattergeo\"}],\"scattergl\":[{\"marker\":{\"colorbar\":{\"outlinewidth\":0,\"ticks\":\"\"}},\"type\":\"scattergl\"}],\"scattermapbox\":[{\"marker\":{\"colorbar\":{\"outlinewidth\":0,\"ticks\":\"\"}},\"type\":\"scattermapbox\"}],\"scatterpolar\":[{\"marker\":{\"colorbar\":{\"outlinewidth\":0,\"ticks\":\"\"}},\"type\":\"scatterpolar\"}],\"scatterpolargl\":[{\"marker\":{\"colorbar\":{\"outlinewidth\":0,\"ticks\":\"\"}},\"type\":\"scatterpolargl\"}],\"scatterternary\":[{\"marker\":{\"colorbar\":{\"outlinewidth\":0,\"ticks\":\"\"}},\"type\":\"scatterternary\"}],\"surface\":[{\"colorbar\":{\"outlinewidth\":0,\"ticks\":\"\"},\"colorscale\":[[0.0,\"#0d0887\"],[0.1111111111111111,\"#46039f\"],[0.2222222222222222,\"#7201a8\"],[0.3333333333333333,\"#9c179e\"],[0.4444444444444444,\"#bd3786\"],[0.5555555555555556,\"#d8576b\"],[0.6666666666666666,\"#ed7953\"],[0.7777777777777778,\"#fb9f3a\"],[0.8888888888888888,\"#fdca26\"],[1.0,\"#f0f921\"]],\"type\":\"surface\"}],\"table\":[{\"cells\":{\"fill\":{\"color\":\"#EBF0F8\"},\"line\":{\"color\":\"white\"}},\"header\":{\"fill\":{\"color\":\"#C8D4E3\"},\"line\":{\"color\":\"white\"}},\"type\":\"table\"}]},\"layout\":{\"annotationdefaults\":{\"arrowcolor\":\"#2a3f5f\",\"arrowhead\":0,\"arrowwidth\":1},\"autotypenumbers\":\"strict\",\"coloraxis\":{\"colorbar\":{\"outlinewidth\":0,\"ticks\":\"\"}},\"colorscale\":{\"diverging\":[[0,\"#8e0152\"],[0.1,\"#c51b7d\"],[0.2,\"#de77ae\"],[0.3,\"#f1b6da\"],[0.4,\"#fde0ef\"],[0.5,\"#f7f7f7\"],[0.6,\"#e6f5d0\"],[0.7,\"#b8e186\"],[0.8,\"#7fbc41\"],[0.9,\"#4d9221\"],[1,\"#276419\"]],\"sequential\":[[0.0,\"#0d0887\"],[0.1111111111111111,\"#46039f\"],[0.2222222222222222,\"#7201a8\"],[0.3333333333333333,\"#9c179e\"],[0.4444444444444444,\"#bd3786\"],[0.5555555555555556,\"#d8576b\"],[0.6666666666666666,\"#ed7953\"],[0.7777777777777778,\"#fb9f3a\"],[0.8888888888888888,\"#fdca26\"],[1.0,\"#f0f921\"]],\"sequentialminus\":[[0.0,\"#0d0887\"],[0.1111111111111111,\"#46039f\"],[0.2222222222222222,\"#7201a8\"],[0.3333333333333333,\"#9c179e\"],[0.4444444444444444,\"#bd3786\"],[0.5555555555555556,\"#d8576b\"],[0.6666666666666666,\"#ed7953\"],[0.7777777777777778,\"#fb9f3a\"],[0.8888888888888888,\"#fdca26\"],[1.0,\"#f0f921\"]]},\"colorway\":[\"#636efa\",\"#EF553B\",\"#00cc96\",\"#ab63fa\",\"#FFA15A\",\"#19d3f3\",\"#FF6692\",\"#B6E880\",\"#FF97FF\",\"#FECB52\"],\"font\":{\"color\":\"#2a3f5f\"},\"geo\":{\"bgcolor\":\"white\",\"lakecolor\":\"white\",\"landcolor\":\"#E5ECF6\",\"showlakes\":true,\"showland\":true,\"subunitcolor\":\"white\"},\"hoverlabel\":{\"align\":\"left\"},\"hovermode\":\"closest\",\"mapbox\":{\"style\":\"light\"},\"paper_bgcolor\":\"white\",\"plot_bgcolor\":\"#E5ECF6\",\"polar\":{\"angularaxis\":{\"gridcolor\":\"white\",\"linecolor\":\"white\",\"ticks\":\"\"},\"bgcolor\":\"#E5ECF6\",\"radialaxis\":{\"gridcolor\":\"white\",\"linecolor\":\"white\",\"ticks\":\"\"}},\"scene\":{\"xaxis\":{\"backgroundcolor\":\"#E5ECF6\",\"gridcolor\":\"white\",\"gridwidth\":2,\"linecolor\":\"white\",\"showbackground\":true,\"ticks\":\"\",\"zerolinecolor\":\"white\"},\"yaxis\":{\"backgroundcolor\":\"#E5ECF6\",\"gridcolor\":\"white\",\"gridwidth\":2,\"linecolor\":\"white\",\"showbackground\":true,\"ticks\":\"\",\"zerolinecolor\":\"white\"},\"zaxis\":{\"backgroundcolor\":\"#E5ECF6\",\"gridcolor\":\"white\",\"gridwidth\":2,\"linecolor\":\"white\",\"showbackground\":true,\"ticks\":\"\",\"zerolinecolor\":\"white\"}},\"shapedefaults\":{\"line\":{\"color\":\"#2a3f5f\"}},\"ternary\":{\"aaxis\":{\"gridcolor\":\"white\",\"linecolor\":\"white\",\"ticks\":\"\"},\"baxis\":{\"gridcolor\":\"white\",\"linecolor\":\"white\",\"ticks\":\"\"},\"bgcolor\":\"#E5ECF6\",\"caxis\":{\"gridcolor\":\"white\",\"linecolor\":\"white\",\"ticks\":\"\"}},\"title\":{\"x\":0.05},\"xaxis\":{\"automargin\":true,\"gridcolor\":\"white\",\"linecolor\":\"white\",\"ticks\":\"\",\"title\":{\"standoff\":15},\"zerolinecolor\":\"white\",\"zerolinewidth\":2},\"yaxis\":{\"automargin\":true,\"gridcolor\":\"white\",\"linecolor\":\"white\",\"ticks\":\"\",\"title\":{\"standoff\":15},\"zerolinecolor\":\"white\",\"zerolinewidth\":2}}},\"xaxis\":{\"anchor\":\"y\",\"domain\":[0.0,1.0],\"title\":{\"text\":\"hour\"}},\"yaxis\":{\"anchor\":\"x\",\"domain\":[0.0,1.0],\"title\":{\"text\":\"sum of count\"}}},                        {\"responsive\": true}                    ).then(function(){\n",
       "                            \n",
       "var gd = document.getElementById('145e95be-b4ef-40f7-be5a-bfac2d631e24');\n",
       "var x = new MutationObserver(function (mutations, observer) {{\n",
       "        var display = window.getComputedStyle(gd).display;\n",
       "        if (!display || display === 'none') {{\n",
       "            console.log([gd, 'removed!']);\n",
       "            Plotly.purge(gd);\n",
       "            observer.disconnect();\n",
       "        }}\n",
       "}});\n",
       "\n",
       "// Listen for the removal of the full notebook cells\n",
       "var notebookContainer = gd.closest('#notebook-container');\n",
       "if (notebookContainer) {{\n",
       "    x.observe(notebookContainer, {childList: true});\n",
       "}}\n",
       "\n",
       "// Listen for the clearing of the current output cell\n",
       "var outputEl = gd.closest('.output');\n",
       "if (outputEl) {{\n",
       "    x.observe(outputEl, {childList: true});\n",
       "}}\n",
       "\n",
       "                        })                };                });            </script>        </div>"
      ]
     },
     "metadata": {},
     "output_type": "display_data"
    }
   ],
   "source": [
    "fig = px.histogram(df_by_hour, x=\"hour\", y=\"count\", color=\"registered_customer\",nbins=24)\n",
    "fig.show()"
   ]
  },
  {
   "cell_type": "code",
   "execution_count": 15,
   "id": "05566d36",
   "metadata": {
    "tags": []
   },
   "outputs": [
    {
     "data": {
      "application/vnd.plotly.v1+json": {
       "config": {
        "plotlyServerURL": "https://plot.ly"
       },
       "data": [
        {
         "hovertemplate": "registered_customer=False<br>windspeed=%{x}<br>count=%{y}<extra></extra>",
         "legendgroup": "False",
         "marker": {
          "color": "#636efa",
          "symbol": "circle"
         },
         "mode": "markers",
         "name": "False",
         "showlegend": true,
         "type": "scattergl",
         "x": [
          17.235598187311155,
          16.198554198473314,
          15.966825833333344,
          14.749615740740753,
          15.500531707317101,
          6.989394318181818,
          13.567816891891903,
          24.264936764705876,
          27.46454074074074,
          14.70797073170732,
          8.931879069767444,
          25.281779999999994,
          22.053226315789484,
          10.760075925925921,
          15.810521171171173,
          15.011336653386405,
          11.70037606837608,
          9.77827777777778,
          17.808857692307694,
          12.571513095238107,
          27.06140151515151,
          6.685244943820227,
          20.052406896551734,
          8.327785937500002,
          6.266111392405062,
          20.125125,
          7.868479999999994,
          7.4255851851851835,
          10.188800787401588,
          4.561043406593408,
          10.999725000000005,
          4.0214255319148915,
          22.194494444444445,
          19.000760655737718,
          11.102356818181816,
          12.090552,
          5.721270056497213,
          4.900882499999999,
          28.60941875,
          12.565786792452831,
          14.596306382978728,
          8.958979194630885,
          23.590560416666744,
          23.85216876574317,
          31.68748894230771,
          15.792569999999964,
          21.147382110091666,
          16.085173745173734,
          18.40065319516406,
          40.935790977443666,
          8.260986440677998,
          18.740551891891887,
          12.237948809523822,
          4.90632260869565,
          19.96662457627118,
          34.55492710843372,
          15.230114054054082,
          8.129288666666698,
          20.39799296874994,
          11.00027518248178,
          18.463488744588773,
          9.139017886178861,
          15.845374766355102,
          19.14561640625004,
          20.10587719298243,
          24.30817663934418,
          8.51608164556962,
          18.15717539267016,
          19.60915217391305,
          18.10494615384618,
          20.632483425414293,
          23.209632382892163,
          10.342541782729775,
          14.699730449827,
          13.383427414330201,
          13.651170990566012,
          16.784280656108624,
          26.773143539326007,
          7.715140867992814,
          18.230715296803634,
          14.413121707317119,
          14.705072131147498,
          17.184354700854662,
          17.43263557046981,
          13.597333384146221,
          12.285441016333937,
          14.76877058823527,
          13.229937158469898,
          14.654753191489318,
          14.627022754491012,
          21.948457980456094,
          17.246650556792993,
          13.723511387038348,
          30.830752861035556,
          27.017850299401154,
          23.68574915254239,
          10.143976007005241,
          16.843449418604628,
          5.196867576791795,
          10.68046548821533,
          26.549365146198763,
          19.965817509727568,
          17.655237320574127,
          6.62063856332702,
          21.3319859813082,
          27.281680165289274,
          25.976381643132097,
          12.590922421524656,
          10.641025183374051,
          20.474602852050054,
          19.324956849315033,
          14.15394451612903,
          20.76701886281555,
          17.134753703703833,
          17.16214757281552,
          24.694833725490117,
          22.674662177650404,
          20.215281596452233,
          19.746515882352863,
          16.07646388888892,
          8.070479701230221,
          12.369006847697717,
          27.890711111110875,
          22.031649411764654,
          21.985722638436332,
          20.47379105145421,
          13.035186662530938,
          6.318300856531022,
          13.465446084337298,
          6.88193299711812,
          6.6325492727272435,
          14.458291510791284,
          13.493160982658889,
          10.067455654101936,
          15.010795195954277,
          7.256455368693395,
          23.183037610619433,
          13.701099999999927,
          10.047885170068012,
          9.868979550561795,
          7.932002299437796,
          12.098902589758644,
          21.545180147058772,
          14.88157154471527,
          11.706995639097729,
          16.75349565217381,
          18.468604505631944,
          16.031111565739213,
          16.720787492103405,
          8.638930577037451,
          8.67148624161079,
          15.483177582845965,
          24.62788002717367,
          16.897235857461087,
          11.576861530229934,
          7.471680949554872,
          9.876486924219837,
          15.144950458715785,
          11.628642899408199,
          12.541864476021273,
          9.586631288343538,
          11.21251006362045,
          10.915464621676948,
          20.43357925840095,
          17.788748830811453,
          9.097659037711264,
          16.513840366972477,
          11.917040787949002,
          9.709731211953375,
          5.697677547284974,
          10.728184604316535,
          13.622260391566256,
          15.585321719457067,
          18.23145291607393,
          16.618264700374546,
          14.397372895863024,
          7.561029133858207,
          6.123258151476234,
          12.415925033829492,
          19.746687253613533,
          13.35789887499991,
          8.71625369181372,
          10.685609301270347,
          17.904792857142986,
          4.4311898205547005,
          8.60395024248307,
          12.913241581632581,
          13.120350530503883,
          16.167835838150026,
          10.327345623742486,
          16.016171256454133,
          21.899417980636095,
          15.361106193353464,
          9.87269184491982,
          14.995188513513492,
          13.069575113808758,
          16.937763482216774,
          18.811004835494156,
          16.190928418549337,
          8.904103989361657,
          9.493630757341585,
          17.426119913419928,
          9.871531377899105,
          9.606417363636304,
          14.399205254378769,
          6.374288871715616,
          15.927977255400222,
          11.494393017456417,
          14.319831531531444,
          15.629192470588208,
          10.075850523721467,
          14.186571209912692,
          11.921505761316798,
          16.04148963795244,
          7.606293361884342,
          16.14951564455574,
          15.352791300097813,
          16.947476002629816,
          14.421956471494468,
          15.129384042553212,
          12.952643880926098,
          16.88268880090503,
          12.125168226600929,
          7.849040437678386,
          16.39676210106385,
          14.211826681614296,
          15.525663612903246,
          16.173995145631093,
          13.11863008982038,
          17.534938028169073,
          14.44468720200747,
          10.419066811279668,
          17.709920448178924,
          21.430022650602346,
          9.243976688741661,
          21.80103455571239,
          10.640682828282777,
          7.131659235668789,
          27.65029347368421,
          22.500198242310223,
          11.136684586466227,
          8.899637954239548,
          8.786748153618895,
          11.413479948914414,
          10.065130514285602,
          12.507217209302267,
          15.043623482744845,
          12.678356877022642,
          24.770950980392154,
          3.9324457627118643,
          16.36021764705882,
          7.3288681055156255,
          13.284660457142751,
          9.325874831598345,
          7.810656086956538,
          12.798462339514964,
          14.098001236476039,
          21.992734345794446,
          8.771266172506735,
          13.81558688981864,
          10.541407612712403,
          9.460254558610702,
          6.97024012158056,
          8.459835989011026,
          9.387698280802287,
          5.446687692307694,
          5.538315339425597,
          1.7973901374775927,
          9.453827215189836,
          8.606804373177848,
          12.386665853658512,
          13.544696677215105,
          15.322101597051631,
          19.4626624999999,
          14.585791233766143,
          6.670377878787907,
          18.01518333333333,
          14.610698389982177,
          7.268346635367785,
          2.707315384615398,
          3.8312398657718445,
          6.944959491030504,
          4.292199669749064,
          10.913405997001483,
          18.066164055299527,
          12.585626551724129,
          17.915470699432863,
          24.83172417061537,
          22.28650743707102,
          9.952347265077211,
          9.215245211930936,
          17.77502086614173,
          29.490563063063053,
          16.823979673321205,
          7.521158897058793,
          10.724851153212375,
          9.780705314009657,
          12.672704848484816,
          8.562667506297228,
          16.133426937269395,
          13.722484027777762,
          23.692875000000047,
          11.742271859296414,
          10.318605016722417,
          9.017415609756114,
          8.53283027027028,
          9.399699685534618,
          24.753919787234075,
          10.195765570934105,
          8.394783298319325,
          5.746157104557666,
          6.917785638297885,
          7.479462622950811,
          14.764225789473674,
          26.902144545454505,
          17.828994274509494,
          24.436715139442107,
          21.983668403361488,
          11.777510690423146,
          9.338460000000007,
          22.74953669064748,
          9.91777755102042,
          15.032483775185499,
          11.38749426008963,
          8.353525641025644,
          7.369244360902252,
          23.870944827586158,
          12.718010053619208,
          8.726445454545448,
          5.283593749999949,
          18.641596002906432,
          9.827259465020592,
          20.617218617021255,
          19.828633497537,
          14.198662087912016,
          8.273025000000024,
          3.32080849858359,
          10.088414037854808,
          4.598011587982832,
          15.872938095238078,
          13.739957999999994,
          14.106850000000007,
          10.10724521072795,
          21.727806374501956,
          1.6312456233421744,
          6.267358041958042,
          14.86423096774197,
          5.810330337078647,
          20.442514364640914,
          18.708169101123556,
          17.913314909090943,
          14.209238181818142,
          13.923295769230764,
          5.878205376344103,
          18.601520915032673,
          2.15565422535211,
          21.77335660377351,
          16.378741176470502,
          12.761699374999905,
          20.786993145161286,
          11.836186776859522,
          22.50331949685532,
          7.252544897959186,
          9.451578764478775,
          19.838803375120545,
          16.989764285714188,
          22.266186885245876,
          30.258931460674134,
          12.010067368421067,
          10.93607500000003,
          14.58891172638435,
          14.88048710280383,
          15.941749582637572,
          5.529775471698108,
          14.497560693641576,
          7.913136956521741,
          11.293510037174743,
          28.224096551724124,
          16.047606606606546,
          17.478931690140886,
          20.945465898617506,
          27.56717637795273,
          28.395091743119238,
          16.254869999999993,
          14.385383173076933,
          16.788250264550246,
          13.438671929824562,
          9.956852212389384,
          7.570166222222258,
          10.12775722222225,
          5.038306074766353,
          26.39028682926829,
          20.08312336769756,
          18.659364418212483,
          13.705411167512713,
          20.793449999999975,
          12.326567434210537,
          15.484475789473663,
          8.42633064516128,
          9.789572395833316,
          13.012664150943388,
          12.485677669902913,
          11.813278391959788,
          10.900162385321103,
          12.638460736196317,
          8.163167841409715,
          16.494946354166675,
          30.740242465753436,
          11.96755425531916,
          14.99306148148148,
          16.482712765957455,
          5.919359459459461,
          19.974235816618872,
          17.38820885017421,
          16.480330420711958,
          15.59228253968257,
          18.4046689655172,
          19.604344307692273,
          11.671431162790668,
          14.089047142857128,
          32.35958085539722,
          8.282411911764662,
          22.29925617977528,
          9.296910563380315,
          12.716885106383,
          17.719541538461495,
          11.532878861788625,
          17.976064958158947,
          26.85744070422526,
          15.580998522167478,
          13.13178778280543,
          25.7434162037037,
          35.107834567901236,
          27.613338031319852,
          11.234342665289237,
          19.456747466827803,
          17.140998568018894,
          16.79401601049864,
          7.240710832497527,
          13.602446666666783,
          4.666757846715351,
          8.527477559429638,
          8.048867557770311,
          14.124152647657779,
          10.546703134796207,
          4.091084925975798,
          9.035357224770658,
          9.55136982758626,
          13.80638868715087,
          11.123574224192312,
          33.06213885542165,
          5.679996138996144,
          18.779804411764605,
          24.252388901734303,
          8.400965141955826,
          15.357202276100853,
          14.662697358329558,
          23.572480215231238,
          8.60023034124619,
          16.732179773156947,
          11.32916040268449,
          22.60241848367409,
          21.312388899139737,
          20.185276278026834,
          31.487423646408995,
          18.289380219780153,
          21.06930373443986,
          22.382648567119034,
          10.084345527156541,
          17.934864436494195,
          19.2698215038656,
          21.28100642737911,
          21.386054499494346,
          10.512898559077799,
          5.078956382978723,
          12.762125905936804,
          20.160560396423495,
          22.368065916954922,
          20.921296307692284,
          19.328468668122024,
          13.594175073601575,
          13.075370692194289,
          23.64688524212147,
          7.014402048594616,
          8.356562015503815,
          10.952055405405323,
          11.846718376722732,
          11.798760269865133,
          9.132354319371636,
          12.185626566884928,
          14.184165745192368,
          7.465626416861845,
          18.721893749999875,
          20.12937831978347,
          13.458797903225749,
          27.0458038011695,
          17.557992570128526,
          10.768330968726085,
          17.70571551565393,
          14.371480409356725,
          9.57357104000004,
          9.91109838546915,
          13.673135587761506,
          10.397148980933583,
          5.805994046920781,
          22.196478843106796,
          12.755362146050771,
          7.055638249400477,
          5.665536645962733,
          14.654345673603524,
          11.624974936708767,
          14.789272405372028,
          16.35426337769625,
          15.925300151745487,
          24.904506071871108,
          8.84832494529544,
          14.272743428063604,
          19.377217073170698,
          14.469224114489949,
          15.967977826784056,
          25.949869467787018,
          12.473718078512285,
          6.797857838364136,
          12.597652408477892,
          15.322755913978522,
          11.314672008862763,
          10.580770143884976,
          17.785640806292975,
          14.722933962264058,
          28.43576530264293,
          16.511962627118617,
          12.981680806141933,
          12.71462595342519,
          9.701053113135877,
          11.174009647779432,
          10.388073140495788,
          7.306264896073927,
          9.097557222739832,
          16.34885802371538,
          14.843586381602062,
          13.475077433434793,
          23.771374352331236,
          25.11963999999974,
          21.164854959053315,
          14.528762446167011,
          11.440491555977136,
          13.169054803493536,
          14.333817804363386,
          13.54141891592924,
          11.052586216729939,
          11.343808704137402,
          16.833404270462392,
          8.90943535871161,
          11.608698549723714,
          10.603699584372357,
          11.771631462925756,
          12.211396121593223,
          12.23984174358969,
          12.064135562015343,
          6.818724354731945,
          9.916176390658197,
          12.560287604166719,
          13.026832169117755,
          8.495861889250804,
          8.717580475594563,
          10.494689864864835,
          15.787708675799193,
          13.871096705882245,
          7.045478659070906,
          10.022909769585148,
          16.641541329479594,
          7.962357105492583,
          21.745582718271518,
          13.576084533737466,
          13.84911243902408,
          12.506384212821898,
          14.087158834243942,
          12.274030344827569,
          11.196560893854768,
          11.960331536113815,
          15.632986897590374,
          20.543951428571734,
          24.09089209138855,
          8.331610300080953,
          7.993577073552434,
          10.147492161520098,
          12.354609531772589,
          19.35140553990603,
          17.132177303070968,
          7.7276117323557365,
          10.329301739850802,
          11.59988581560276,
          13.801306510851475,
          8.82408527653201,
          20.345577815239082,
          12.091769897417633,
          4.35710761589399,
          11.19948727076594,
          5.262497198067653,
          6.84930011389517,
          8.268906642728952,
          8.094283673469226,
          21.116621843154487,
          18.294149701046198,
          11.552018181818168,
          15.837359759243213,
          7.591877248201419,
          7.907723190932877,
          13.62786133802814,
          9.128342644557684,
          4.227966666666631,
          14.160315318066209,
          21.151335870818784,
          11.758218149038344,
          12.155587397708711,
          14.948283444976099,
          26.005135581246336,
          14.2409777431903,
          20.04855143112718,
          5.664374112149525,
          11.261091999999987,
          8.10857647058826,
          9.482987599709812,
          17.494984873417884,
          8.57636809787613,
          13.584446673189902,
          27.800485175201977,
          12.786856472081073,
          10.302893706981367,
          14.391537741243628,
          20.085841050198464,
          14.526699712761504,
          9.815122847682167,
          18.68040454086792,
          16.31552226804112,
          9.941279955947099,
          14.28283790642342,
          17.10333734087676,
          15.343447051226423,
          7.903154914809986,
          6.711336825396863,
          5.22447225274727,
          11.99836902356904,
          9.17430204485493,
          22.336942329264808,
          7.6341052496798865,
          11.972455377574434,
          11.890393011647278,
          14.560895256410253,
          10.681655755395617,
          23.534925660377567,
          9.839226687388965,
          21.430816490384665,
          20.297173947368538,
          14.714057483730981,
          8.782762410623079,
          17.93555436507932,
          16.002545152722494,
          9.200008971553602,
          16.316911880303397,
          7.457801835853251,
          5.3809236097561275,
          4.772690967741915,
          8.952030422535204,
          9.736987726787584,
          17.605363902639954,
          29.496459031514213,
          23.9994,
          13.796518181818213,
          12.558710262529777,
          11.258300429184589,
          22.296288187702366,
          22.167513216715196,
          14.126182930890847,
          16.823540476190434,
          12.197119957081508,
          20.567643558282157,
          25.735330588235335,
          13.990611142454135,
          2.822020765550244,
          9.972581353711904,
          13.771932452142284,
          21.29378837920478,
          13.045672386058964,
          10.43464281250001,
          12.824132231404933,
          13.875710205635814,
          18.590567028199587,
          16.401779064587934,
          4.676181250000022,
          8.712523376623368,
          1.0230353474320284,
          11.68833901560636,
          25.922656494522418,
          13.043469498910673,
          4.58892571428574,
          17.848799999999997,
          14.875917586206896,
          11.222381065088761,
          5.724760129310367,
          3.0447026288117907,
          10.778009080717515,
          5.665520000000012,
          14.46833992740469,
          22.81345951661625,
          6.476752058823561,
          8.722056160458447,
          10.594077189939133,
          14.179570068027168,
          14.599544376899688,
          18.096723758865156,
          10.439161935483858,
          11.20924188235295,
          11.295809557109582,
          8.816553585397605,
          8.750287174721183,
          7.476725943396232,
          20.857904618937617,
          16.225709909909924,
          11.52550692041525,
          24.93226654676261,
          27.832302814258856,
          12.38209803646548,
          5.7429374193548375,
          13.373473841961934,
          20.03427068965517,
          24.55608260869566,
          10.656404032258035,
          7.971335806451612,
          24.839318609865426,
          10.663138938053114
         ],
         "xaxis": "x",
         "y": [
          331,
          131,
          120,
          108,
          82,
          88,
          148,
          68,
          54,
          41,
          43,
          25,
          38,
          54,
          222,
          251,
          117,
          9,
          78,
          84,
          66,
          89,
          58,
          64,
          79,
          16,
          30,
          54,
          127,
          182,
          60,
          47,
          72,
          61,
          88,
          100,
          354,
          120,
          64,
          53,
          47,
          149,
          288,
          397,
          208,
          140,
          218,
          259,
          579,
          532,
          354,
          185,
          84,
          115,
          118,
          166,
          370,
          450,
          128,
          137,
          231,
          123,
          214,
          640,
          114,
          244,
          316,
          191,
          46,
          247,
          724,
          982,
          359,
          289,
          321,
          424,
          884,
          1424,
          553,
          438,
          410,
          183,
          234,
          298,
          656,
          551,
          289,
          366,
          188,
          167,
          307,
          898,
          1651,
          734,
          167,
          413,
          571,
          172,
          879,
          1188,
          855,
          257,
          209,
          529,
          642,
          121,
          1558,
          669,
          409,
          561,
          438,
          155,
          1108,
          1242,
          618,
          510,
          349,
          451,
          680,
          1368,
          1138,
          847,
          603,
          255,
          614,
          894,
          1612,
          1401,
          664,
          694,
          550,
          695,
          692,
          902,
          1582,
          773,
          678,
          536,
          735,
          890,
          1957,
          1699,
          680,
          615,
          665,
          690,
          799,
          1833,
          1583,
          1681,
          596,
          513,
          736,
          898,
          1869,
          1685,
          673,
          763,
          676,
          563,
          815,
          1729,
          1467,
          863,
          727,
          769,
          545,
          863,
          1807,
          1639,
          695,
          664,
          663,
          703,
          1068,
          2103,
          1905,
          779,
          739,
          761,
          800,
          1246,
          2204,
          2282,
          3065,
          1031,
          784,
          754,
          692,
          1988,
          1743,
          723,
          662,
          748,
          888,
          1318,
          2418,
          2006,
          841,
          752,
          647,
          693,
          733,
          1100,
          1199,
          647,
          787,
          802,
          777,
          850,
          1623,
          1372,
          729,
          801,
          467,
          799,
          1023,
          1521,
          1298,
          846,
          907,
          884,
          812,
          1051,
          1504,
          1338,
          775,
          721,
          668,
          639,
          797,
          1844,
          1428,
          830,
          755,
          709,
          495,
          785,
          475,
          1593,
          798,
          743,
          677,
          783,
          875,
          1935,
          2521,
          1236,
          204,
          118,
          153,
          417,
          1750,
          1633,
          690,
          701,
          647,
          428,
          742,
          1434,
          1353,
          691,
          329,
          364,
          349,
          195,
          1532,
          1673,
          474,
          343,
          369,
          632,
          814,
          480,
          616,
          330,
          486,
          559,
          639,
          949,
          2235,
          2397,
          1514,
          667,
          217,
          290,
          529,
          1899,
          1748,
          713,
          637,
          254,
          333,
          551,
          1360,
          1214,
          414,
          495,
          397,
          271,
          288,
          172,
          796,
          299,
          410,
          370,
          318,
          470,
          1156,
          952,
          373,
          376,
          305,
          190,
          440,
          1275,
          1004,
          595,
          449,
          145,
          139,
          245,
          943,
          1115,
          195,
          133,
          232,
          746,
          517,
          1072,
          1376,
          486,
          188,
          203,
          182,
          268,
          706,
          634,
          233,
          126,
          50,
          150,
          261,
          502,
          377,
          143,
          155,
          178,
          181,
          178,
          275,
          220,
          260,
          279,
          153,
          284,
          318,
          544,
          480,
          496,
          121,
          159,
          147,
          259,
          1037,
          686,
          244,
          89,
          95,
          140,
          307,
          1070,
          599,
          106,
          173,
          92,
          269,
          174,
          333,
          284,
          217,
          127,
          109,
          130,
          208,
          189,
          228,
          113,
          225,
          180,
          214,
          410,
          873,
          593,
          197,
          328,
          304,
          190,
          310,
          384,
          318,
          206,
          199,
          109,
          163,
          227,
          192,
          73,
          94,
          135,
          141,
          74,
          349,
          1435,
          618,
          441,
          203,
          325,
          430,
          350,
          491,
          680,
          445,
          284,
          141,
          325,
          246,
          956,
          710,
          203,
          221,
          432,
          486,
          447,
          968,
          1658,
          838,
          762,
          997,
          1005,
          548,
          3155,
          2207,
          982,
          638,
          743,
          872,
          1276,
          716,
          1579,
          996,
          777,
          816,
          865,
          634,
          2021,
          2347,
          1208,
          1348,
          1058,
          1192,
          1807,
          3252,
          2230,
          905,
          819,
          482,
          663,
          1252,
          2795,
          2846,
          1198,
          989,
          347,
          846,
          1297,
          2573,
          578,
          325,
          916,
          1019,
          679,
          1301,
          2099,
          2451,
          814,
          653,
          667,
          764,
          1069,
          2496,
          2135,
          1008,
          738,
          620,
          1026,
          1319,
          2622,
          2172,
          342,
          625,
          991,
          1242,
          1521,
          3410,
          2524,
          671,
          834,
          644,
          913,
          1185,
          2457,
          2179,
          1977,
          807,
          914,
          1126,
          533,
          2795,
          2494,
          1071,
          968,
          1027,
          1038,
          1488,
          2708,
          2224,
          1017,
          477,
          1173,
          1180,
          1563,
          2963,
          2634,
          653,
          968,
          866,
          1073,
          1265,
          2783,
          2291,
          1158,
          1145,
          1099,
          1161,
          1054,
          2290,
          1421,
          904,
          1052,
          2562,
          1405,
          1366,
          1448,
          1203,
          998,
          954,
          975,
          1032,
          1511,
          2355,
          1920,
          1088,
          921,
          799,
          888,
          657,
          850,
          2282,
          1085,
          1038,
          1147,
          1111,
          1319,
          2460,
          2293,
          1098,
          1015,
          1074,
          983,
          1328,
          2345,
          1707,
          1233,
          1278,
          1263,
          1196,
          1065,
          2247,
          2182,
          1207,
          1128,
          1198,
          1338,
          1483,
          2827,
          1208,
          927,
          1035,
          878,
          1114,
          1323,
          2257,
          1338,
          1045,
          1163,
          1112,
          1147,
          1420,
          2352,
          2613,
          1965,
          867,
          832,
          611,
          1045,
          1557,
          2570,
          1118,
          1070,
          1050,
          1054,
          1379,
          3160,
          2166,
          1022,
          371,
          788,
          1017,
          1399,
          3028,
          2437,
          906,
          991,
          970,
          908,
          1261,
          2828,
          2323,
          763,
          315,
          728,
          891,
          1516,
          3031,
          781,
          874,
          601,
          780,
          834,
          1060,
          2252,
          2080,
          760,
          922,
          979,
          1008,
          753,
          2742,
          2239,
          926,
          1025,
          930,
          710,
          937,
          2424,
          1301,
          5,
          99,
          419,
          466,
          618,
          1029,
          1201,
          378,
          466,
          326,
          340,
          709,
          2090,
          2290,
          1097,
          327,
          373,
          320,
          484,
          1313,
          922,
          449,
          400,
          462,
          1324,
          833,
          639,
          459,
          420,
          172,
          290,
          338,
          464,
          951,
          892,
          555,
          551,
          331,
          340,
          349,
          1153,
          441,
          329,
          282,
          310,
          425,
          429,
          767,
          538,
          212,
          433,
          333,
          289,
          278,
          533,
          713,
          155,
          734,
          58,
          207,
          248,
          310,
          446,
          226
         ],
         "yaxis": "y"
        },
        {
         "hovertemplate": "registered_customer=True<br>windspeed=%{x}<br>count=%{y}<extra></extra>",
         "legendgroup": "True",
         "marker": {
          "color": "#EF553B",
          "symbol": "circle"
         },
         "mode": "markers",
         "name": "True",
         "showlegend": true,
         "type": "scattergl",
         "x": [
          15.715433944954095,
          15.811899999999918,
          14.603443205858408,
          12.173591265474322,
          14.03823899868239,
          5.931472924901194,
          11.237434801761944,
          23.321647250280623,
          27.1017617187497,
          14.218713828125141,
          8.01712663934428,
          23.289406244503095,
          19.61664985380075,
          8.088306656912824,
          14.334094931773862,
          14.917785519412355,
          12.349139524348764,
          9.284738724035634,
          15.97895445292619,
          14.02253171774755,
          25.11072465078048,
          7.848764341085199,
          21.236364078947418,
          9.26750218914176,
          7.130684958217198,
          20.55329898989893,
          7.252125776397604,
          8.30095017699104,
          9.79768409090902,
          4.964010730088505,
          12.728319379194474,
          3.504896039603931,
          22.340799793672645,
          16.75074694425763,
          9.55149518518528,
          13.780478563535898,
          6.90526603624907,
          4.358472047738704,
          30.839016848567265,
          12.124241430412512,
          15.554820657276952,
          7.2978732623668705,
          20.807823310810868,
          22.115929949664228,
          32.2184491495603,
          15.534284000000014,
          17.59272366895083,
          16.191221209386008,
          18.811165971038626,
          37.96150145058924,
          9.645499756097568,
          21.76702163543449,
          13.91255863402044,
          5.906632695756103,
          18.31900387007573,
          29.23177580645188,
          13.816413653136571,
          8.471317369185972,
          19.68388865698727,
          13.009457234538898,
          22.591217025748914,
          12.601653393085591,
          14.011214277456716,
          18.92951419624205,
          21.633904276985685,
          22.045160626535996,
          9.878292680242064,
          16.65904552941166,
          20.602441941074524,
          17.533419768785997,
          17.495536789772455,
          22.27447916376307,
          10.355507291049243,
          13.39686423316348,
          13.324029663281557,
          13.21137189655175,
          16.106341953290503,
          25.422942232723123,
          10.015646612466236,
          18.98674861538465,
          14.531970270269706,
          15.234524838709438,
          17.42895235661578,
          17.8882936644702,
          13.510358189080886,
          12.600836363636393,
          15.059398003238066,
          14.612033788878422,
          13.027293113425886,
          14.439499614148115,
          19.601966666666275,
          14.840806794682418,
          13.667023091364294,
          29.52444342713157,
          28.17798175675622,
          20.796313235907977,
          11.59454552529178,
          15.68443179368736,
          6.391485406091368,
          10.673088224955837,
          25.229708664260155,
          19.883956105796045,
          17.48304106502819,
          6.009009276844385,
          20.50728663446001,
          25.643146587536954,
          24.588978545288075,
          13.170617246376821,
          9.57747860465119,
          20.459911302877053,
          20.293667318332375,
          14.955957703081289,
          19.531431550801972,
          16.605556902502236,
          16.19036006956564,
          23.74891089414223,
          22.42730997055088,
          21.614445914127494,
          19.651269885376937,
          15.204115594375702,
          7.795236556710318,
          12.943336747326414,
          25.198588565488972,
          21.329354205214713,
          20.656854385965193,
          18.623653015616796,
          12.758305448097884,
          6.115642087312475,
          14.946819469983238,
          6.977850255536741,
          8.670397687224686,
          13.641481242504222,
          12.35675719308552,
          9.650942441164736,
          14.083947997307119,
          10.691559183673098,
          22.249764528302112,
          12.970493461886056,
          9.062289140624914,
          8.17235731379729,
          8.073273172119656,
          11.806323919217196,
          18.647795744681346,
          13.259133746897819,
          12.029870963704372,
          16.083445612163256,
          17.946321288865953,
          15.794905828672421,
          16.43893091163098,
          9.109354088431358,
          9.185716796657012,
          15.289789107194524,
          23.15842334593669,
          17.20364039419926,
          10.354114022458965,
          7.756041477801966,
          9.71350438709647,
          14.343422555282022,
          11.082041020133724,
          11.888344480906637,
          10.130062423760142,
          11.130730491195433,
          11.493790678249164,
          21.64630584556262,
          19.418254082613274,
          9.658916549535263,
          15.124732216015012,
          10.412520321527076,
          9.528243568840526,
          5.9777335265700815,
          11.12143245736674,
          12.614022127900544,
          13.876516172224076,
          17.917239683774877,
          15.946596453558747,
          14.338923808164777,
          7.474092364883998,
          6.980754090672146,
          13.743834609164143,
          20.27066526341801,
          14.334366427546835,
          9.14685432458679,
          9.304493413379014,
          18.05610937896082,
          5.018567730020242,
          8.577932195927383,
          11.671825175552954,
          13.452451328816887,
          15.705168219832654,
          10.667312544802792,
          15.640174251115395,
          22.107350282485694,
          16.317920800889222,
          10.082623817473584,
          15.140778479503876,
          13.35179969194404,
          16.440765848788057,
          18.640587135922328,
          16.847725158971947,
          8.645555159672861,
          9.020153551762103,
          15.982424343311228,
          9.260872345678777,
          9.464730605623627,
          13.257953396690924,
          5.132850270432531,
          17.284409932043527,
          12.18295120527799,
          13.475819694173591,
          13.172943723782097,
          10.48970006523139,
          13.8645507626815,
          11.766705937235333,
          15.430355143422576,
          7.375237946572098,
          17.599010802223777,
          15.072545251106344,
          16.868466534439094,
          14.442875070365812,
          13.762450747125962,
          11.193701786197515,
          15.039381314167866,
          11.447562763818674,
          8.83996157239237,
          16.115224376416908,
          14.48920080580187,
          15.31536508560156,
          16.917886538462586,
          12.639713089916059,
          16.9163826279212,
          13.668017967818868,
          9.650501274926178,
          17.345537128713207,
          20.642606268496635,
          9.514859394087395,
          19.08289298245587,
          13.18960872545978,
          7.0038183650615276,
          27.44259477020621,
          21.369814121037148,
          13.056153466386926,
          8.824289671596869,
          7.818592831813517,
          11.083153301016,
          10.130860929387104,
          12.80873617104777,
          14.68483786688704,
          12.921543971630896,
          24.887200798084304,
          3.869763738019178,
          14.810117939608986,
          9.168254716981131,
          12.623079554937211,
          8.831707178435423,
          7.151994357444527,
          11.557099187592502,
          13.137127815369615,
          21.523363262148266,
          10.13158892483853,
          13.689828891777509,
          10.494360698390896,
          9.951977676715149,
          7.276393770856236,
          8.048916749174825,
          8.74834349845159,
          5.588051568441057,
          5.248732519684981,
          2.149165836734701,
          7.719444570068377,
          8.518936218157995,
          12.920169063180616,
          11.498560518257076,
          15.247855864197392,
          19.048031246793432,
          14.612158644656805,
          6.494543672839519,
          17.831116725440623,
          12.30966489336754,
          8.260330295685469,
          2.693663949454848,
          3.3433168872086445,
          6.264616184970964,
          3.6652458784345963,
          11.335013911704394,
          19.01323501591612,
          12.260867174990167,
          17.9014385553774,
          21.82890693188564,
          21.86864536896397,
          9.545691677469243,
          8.423598224276178,
          17.765494608294834,
          28.381391797413517,
          15.718584383844213,
          6.60921145970936,
          9.1857785156249,
          8.971048704802866,
          10.51390878477234,
          8.82498431754848,
          19.320427936184263,
          13.896323086306577,
          22.861410896898406,
          10.966138683844116,
          7.998684980820072,
          9.45567813012566,
          7.347940566037949,
          8.79164433807422,
          23.858269071588165,
          9.973312815884523,
          8.124409566184438,
          5.05209456581087,
          6.264571741969377,
          5.313170452155439,
          13.469239846883116,
          23.973437500000838,
          16.800050823782424,
          23.571138370807315,
          20.126304086353535,
          11.878080512546394,
          10.657964892344316,
          20.85461451612917,
          10.577230600572225,
          14.364477316176469,
          11.191748189890498,
          9.117568134507573,
          7.934024573677182,
          22.73402175613168,
          10.742229268292395,
          7.050707896131105,
          5.152185698729573,
          17.07593097609594,
          9.295774345948614,
          19.72191380737388,
          18.252002407068783,
          13.838025021155827,
          6.302667374727502,
          4.526234766162248,
          8.640466643283075,
          2.9971920067076856,
          15.606292625607528,
          15.534579083969426,
          14.674624306430955,
          6.486954361417013,
          20.319420014880997,
          2.7745730769230543,
          5.429071139879856,
          12.537717161520327,
          5.086120101066832,
          19.11338511904761,
          19.563239129156244,
          17.970264691558558,
          13.878818181817879,
          13.088561915367356,
          5.23412247830787,
          15.578821306277469,
          2.648337254187943,
          19.23793933231083,
          14.615730562347455,
          12.186002414163136,
          16.79176709613434,
          12.402508840304002,
          20.58388097227576,
          7.020514291292604,
          9.311627110449736,
          16.69065495660125,
          15.866858333333338,
          22.357958875220046,
          26.27180470423913,
          10.900593444786493,
          8.703907535121415,
          13.368725085729436,
          13.798744161112499,
          15.081963163482586,
          5.303111982378733,
          12.933386569342854,
          9.133835251798569,
          11.848015360501584,
          25.454446052631845,
          14.626447407407317,
          16.61104854464728,
          20.856423882748697,
          26.89595220797738,
          27.188720997856976,
          15.933273814041414,
          14.470500520471878,
          16.87855823459725,
          12.976766455387466,
          9.143505642023266,
          6.8860451215755205,
          10.518007981492394,
          4.308008636363698,
          26.92825101387276,
          18.325286763485323,
          17.357881670885785,
          13.255776157082824,
          18.617346217331725,
          11.968626105263176,
          17.283076841221376,
          9.871336240561961,
          8.9702325980392,
          12.631599961962213,
          12.314856539966419,
          10.204467409003701,
          10.484785963608932,
          11.794550640850552,
          8.814201359600306,
          19.513328072837485,
          28.80801668956053,
          11.981740054085915,
          12.576163612357918,
          15.826931951341182,
          6.898759808938946,
          14.619324283837784,
          15.730070828997128,
          16.42268995654228,
          16.24087254222589,
          17.85577924746733,
          16.753419553219295,
          11.481336490250248,
          14.932764083360041,
          31.548112673533318,
          10.60936108615776,
          20.303661722080182,
          11.216257198335365,
          9.849786649597768,
          17.331265573418804,
          8.792054545454508,
          15.0076596141484,
          27.004017840029896,
          17.93079472843475,
          13.160098741632984,
          25.039373282783593,
          32.76820290032812,
          29.083432168849573,
          12.616336095237664,
          18.306758284660447,
          15.56816656950762,
          16.193105486725315,
          5.779530931326317,
          13.064829496818943,
          5.9506671018274515,
          8.858463469344287,
          8.300641818181665,
          13.272772558500078,
          10.416918338399036,
          4.361517159396083,
          8.740496760767424,
          9.514017373587748,
          13.415038057250042,
          11.591884062268152,
          27.288900283890715,
          7.665007406558066,
          18.36792734553966,
          23.6061135565544,
          9.94695906264944,
          15.687232397408435,
          13.885902355170389,
          20.7580737732657,
          7.396590007374423,
          14.53849918185216,
          12.0776134282999,
          22.383107436062506,
          20.440322829404803,
          19.497975706022896,
          25.060027179487886,
          19.521702882918504,
          20.80005668949767,
          21.678461272650825,
          10.454265448891704,
          16.010011211146836,
          18.653128278114984,
          20.205949903325074,
          20.006698211155236,
          10.557278333332786,
          6.199552526665282,
          10.966452675704168,
          19.82712841121488,
          22.911135317149704,
          19.358510974201536,
          17.316045117146817,
          11.161826848472867,
          13.423626469945898,
          20.61903716391134,
          7.337367715078714,
          8.663772201162526,
          12.320716081371076,
          11.6607566542158,
          11.36262644492992,
          9.496770920982287,
          11.73974461450095,
          13.176781718714876,
          7.954839891098554,
          18.016655042735493,
          19.58865707414844,
          13.69125948254739,
          25.27732050126146,
          17.31326809665619,
          9.687897545246171,
          17.430498251394496,
          11.941682447021016,
          8.933054788418339,
          9.416694295041276,
          15.668624145229865,
          10.155780712651381,
          5.698484438984295,
          21.459887497126722,
          12.492094097134926,
          7.598100313172714,
          4.694636212914495,
          14.434917043265127,
          11.642965620542109,
          14.385357869305484,
          15.987575752026533,
          16.414732238009414,
          23.217531070859227,
          9.2243140894679,
          14.415183380140858,
          17.03931360600967,
          13.854672694835788,
          15.390777365455826,
          23.285577003542727,
          12.590428327532003,
          7.2365157266092694,
          12.318558147459445,
          13.295217061459287,
          11.261610375783375,
          10.608265935070913,
          16.60499785727066,
          14.696483537263056,
          28.387906434060053,
          16.76715473071448,
          12.892255948869296,
          12.247448723359478,
          9.812973618784593,
          11.123139271254736,
          10.851220249274672,
          6.212376028494777,
          7.871196296296206,
          14.70182502803751,
          13.904673011183327,
          12.686312200790526,
          23.50498346703972,
          23.794799394335,
          21.073948875123087,
          13.154387403893962,
          10.04514194961655,
          12.652970029895215,
          14.114575377127874,
          11.519792203643604,
          8.996599429386343,
          10.42582280520593,
          14.428614867659899,
          9.26167669902873,
          11.489905454009516,
          10.013104612279946,
          11.140829994614347,
          11.595743740630388,
          12.441055175704642,
          11.546635219832197,
          6.360758233132815,
          9.688795361941668,
          12.866366431525263,
          12.889631992336506,
          8.07164593350378,
          8.668139316238836,
          11.994759880764487,
          15.97092936249465,
          13.727468258212383,
          6.906546564687775,
          9.8434908348796,
          15.727645594405306,
          9.99668362096958,
          21.017169751355965,
          12.483535889010595,
          12.747955758395234,
          12.189300481579087,
          14.161970866284308,
          13.662523959249024,
          11.317807654472851,
          10.42647639375671,
          14.364774790491962,
          19.47913034159459,
          23.053294729837685,
          7.9068577854670625,
          8.842324720599946,
          10.415550119598132,
          12.559410738916247,
          18.01190760432101,
          16.021022803553652,
          7.805387872535164,
          10.688680214940357,
          11.97515663012743,
          13.954407838672815,
          9.329762294558389,
          17.62207152692057,
          11.488620861453393,
          5.033962077222439,
          11.285766361282446,
          7.004124718718084,
          6.484002262837264,
          8.296201086956513,
          7.0263304758692975,
          19.84959457177392,
          16.860153047945147,
          11.294773618635281,
          14.160719604256396,
          8.744779858267872,
          7.046858350547922,
          10.873352745367045,
          9.15564904963038,
          3.8724239599624455,
          13.622674145981996,
          17.7886921627492,
          12.518463503184272,
          11.722856527182234,
          14.349223718842032,
          22.776012446255507,
          14.299750662895951,
          18.515328172312994,
          6.399606495445449,
          10.79521192082134,
          7.253938133332653,
          9.301174449472542,
          16.769560767015108,
          8.277018173020984,
          10.857877680862199,
          26.095958860076927,
          13.660455975305375,
          10.241250186372964,
          12.844167062225225,
          19.54123588932895,
          14.59286285593739,
          9.447156908665,
          17.345916812761455,
          15.751442269420362,
          10.216068676278125,
          12.781646105161187,
          16.206577140040338,
          14.339602078319887,
          8.543627248544887,
          6.630359666974756,
          4.4238864552893045,
          9.38731514680725,
          7.839609457831338,
          20.47386651803768,
          7.738524551117472,
          13.331835794961297,
          12.512683284407341,
          15.850290146145111,
          13.457746719119458,
          18.663111668274475,
          9.026811920938624,
          20.50663665277638,
          19.859398611926103,
          10.254378372655815,
          7.999786562789066,
          17.671356668206357,
          12.770512695354306,
          9.573024068071614,
          15.361106728734942,
          6.494203467236226,
          5.222978849211715,
          4.731900656454937,
          9.814420146519678,
          9.550644669390488,
          17.33328309859167,
          29.180541211179584,
          23.999399999999998,
          13.021287181044856,
          11.613522428391597,
          11.108858532609418,
          18.781277529165344,
          20.56407405694819,
          14.048402534562475,
          16.10163327187095,
          13.002624540230693,
          21.042722297727902,
          24.367967336683567,
          12.16874849517252,
          3.638555105712975,
          9.558911442349608,
          13.189781670533192,
          21.413562835147598,
          13.35964695431514,
          11.725464097560913,
          12.231970521672755,
          12.719802525486362,
          17.547684440886307,
          16.748051029703458,
          5.098751052249621,
          7.85399954954934,
          2.3491023839397402,
          9.702874511277972,
          25.490695348837697,
          12.471209203754338,
          3.158266994299105,
          17.78142732769075,
          14.550635342993822,
          9.029772259550688,
          4.899493598448099,
          3.1161605188679093,
          10.20140715996771,
          4.94758485648862,
          13.26704123864703,
          21.977131974805346,
          10.574733088381214,
          7.841431787937131,
          8.606731655000859,
          12.46744269824173,
          15.779871555463892,
          18.54869517149121,
          11.569078199242103,
          10.458967632660288,
          9.743726476263657,
          8.863511401869136,
          8.306145535713805,
          8.377498902355091,
          16.84600456674501,
          15.680179468990648,
          8.722187731685683,
          23.04913475464634,
          26.966869579058375,
          11.2212540426909,
          5.353572908114973,
          12.189184647410839,
          20.0777811127383,
          22.123151913518747,
          10.194641086509574,
          7.87175689593094,
          24.5343345901645,
          9.752512348322716
         ],
         "xaxis": "x",
         "y": [
          654,
          670,
          1229,
          1454,
          1518,
          1518,
          1362,
          891,
          768,
          1280,
          1220,
          1137,
          1368,
          1367,
          1026,
          953,
          883,
          674,
          1572,
          1403,
          1217,
          774,
          760,
          1142,
          1436,
          396,
          644,
          1130,
          924,
          904,
          1192,
          1313,
          1454,
          1489,
          1620,
          905,
          1269,
          1592,
          1466,
          1552,
          1491,
          1597,
          1184,
          1192,
          1705,
          1675,
          1897,
          2216,
          2348,
          1103,
          1230,
          1174,
          1552,
          1673,
          1447,
          1426,
          1355,
          1376,
          1102,
          1714,
          1903,
          1562,
          1730,
          1437,
          491,
          1628,
          1817,
          1700,
          577,
          1730,
          1408,
          1435,
          1687,
          1767,
          1871,
          2320,
          2355,
          1693,
          1476,
          2275,
          2479,
          1550,
          1761,
          1973,
          1502,
          1474,
          1853,
          2122,
          1728,
          1555,
          1920,
          1354,
          1598,
          2381,
          1628,
          2395,
          2570,
          1299,
          1576,
          1707,
          2493,
          1777,
          1953,
          2738,
          2484,
          674,
          2186,
          2760,
          2795,
          2955,
          2711,
          1428,
          2057,
          2318,
          2875,
          2919,
          2377,
          2888,
          2879,
          2347,
          2213,
          3554,
          3848,
          2378,
          3819,
          3714,
          3102,
          2932,
          3698,
          4109,
          3632,
          4169,
          3413,
          2507,
          2971,
          3185,
          3445,
          3319,
          3840,
          4095,
          3515,
          3169,
          3149,
          3627,
          3995,
          3749,
          3988,
          3397,
          2863,
          3302,
          3590,
          3461,
          4232,
          4414,
          3473,
          3221,
          3875,
          4070,
          3725,
          3352,
          3771,
          3237,
          2993,
          4157,
          4164,
          4411,
          3222,
          3981,
          3312,
          3105,
          3577,
          3534,
          3809,
          3858,
          4145,
          3503,
          3497,
          3838,
          3710,
          4062,
          4182,
          4116,
          2915,
          2367,
          2978,
          3634,
          3845,
          3838,
          3348,
          3348,
          3138,
          3363,
          3596,
          3594,
          4196,
          4220,
          3505,
          3296,
          3617,
          3789,
          3632,
          3274,
          3240,
          2774,
          2841,
          3328,
          3826,
          3941,
          3793,
          3099,
          3066,
          2819,
          3537,
          4044,
          3107,
          3777,
          3843,
          2773,
          2487,
          3480,
          3695,
          3896,
          3980,
          3854,
          2646,
          2482,
          3563,
          4004,
          4026,
          3166,
          3356,
          3059,
          2626,
          3717,
          4093,
          3933,
          3209,
          3572,
          1262,
          2776,
          3808,
          3989,
          3948,
          4332,
          3852,
          2549,
          2419,
          2115,
          2506,
          1878,
          1689,
          3127,
          3595,
          3413,
          4023,
          4062,
          4138,
          3231,
          4018,
          3077,
          2921,
          3848,
          2697,
          2424,
          2584,
          2104,
          2540,
          2450,
          3361,
          3062,
          2754,
          4245,
          4212,
          1949,
          2302,
          3240,
          3970,
          4267,
          4126,
          4036,
          3174,
          3114,
          3603,
          3896,
          2199,
          2623,
          3115,
          3318,
          3293,
          3857,
          4111,
          2170,
          3633,
          3887,
          3028,
          3072,
          3706,
          4098,
          3590,
          2946,
          3279,
          1193,
          2872,
          3389,
          3658,
          3816,
          3656,
          3576,
          2770,
          2697,
          3662,
          3829,
          3804,
          2743,
          2928,
          2792,
          2713,
          3891,
          3746,
          1672,
          2914,
          3147,
          2720,
          2928,
          2498,
          2287,
          2813,
          2747,
          3774,
          2755,
          3012,
          3937,
          2658,
          3282,
          3545,
          3672,
          2908,
          2851,
          3578,
          2468,
          655,
          3172,
          3359,
          2688,
          2366,
          3167,
          3368,
          3562,
          3528,
          3399,
          2464,
          2211,
          3143,
          3688,
          1577,
          2746,
          2606,
          2045,
          1864,
          2018,
          2104,
          2633,
          2561,
          2689,
          2189,
          1608,
          1707,
          2147,
          2273,
          3132,
          3791,
          3451,
          2826,
          2270,
          3425,
          2085,
          3828,
          3040,
          2160,
          2027,
          2081,
          2808,
          3267,
          3162,
          2882,
          1688,
          2051,
          2570,
          3249,
          3458,
          3300,
          2811,
          2410,
          1975,
          2852,
          3635,
          4275,
          3571,
          3841,
          2448,
          2629,
          3578,
          4176,
          2693,
          3667,
          3604,
          1977,
          1456,
          3328,
          3787,
          4028,
          2931,
          3805,
          2883,
          2071,
          2309,
          3455,
          3805,
          4308,
          3071,
          2233,
          2449,
          3519,
          3605,
          2734,
          4665,
          2948,
          3110,
          2713,
          3130,
          3735,
          4484,
          4896,
          4122,
          3150,
          3253,
          4460,
          5085,
          5315,
          5187,
          3830,
          4681,
          3685,
          5171,
          4935,
          4837,
          5526,
          5399,
          2131,
          2698,
          4227,
          4361,
          5244,
          4898,
          4182,
          3241,
          3694,
          4728,
          5424,
          5378,
          5265,
          4653,
          3605,
          2939,
          4680,
          5099,
          4380,
          4746,
          5146,
          4665,
          4286,
          5172,
          5702,
          4020,
          5719,
          5606,
          4280,
          1277,
          2597,
          4823,
          5207,
          4575,
          5021,
          3243,
          3957,
          4670,
          5087,
          5502,
          5657,
          5227,
          4387,
          4224,
          5265,
          4990,
          4097,
          5546,
          5711,
          4807,
          3946,
          2501,
          4490,
          6433,
          6142,
          6118,
          4884,
          4351,
          4015,
          5109,
          4584,
          5709,
          5608,
          4346,
          3823,
          4504,
          5024,
          5678,
          6053,
          3594,
          5325,
          5147,
          5927,
          6033,
          6028,
          6456,
          6248,
          4790,
          4374,
          5647,
          4495,
          6248,
          6183,
          6102,
          4739,
          4344,
          4446,
          5857,
          5615,
          5427,
          5350,
          4739,
          4303,
          5734,
          6109,
          6134,
          6113,
          4565,
          4014,
          4110,
          5323,
          5608,
          4841,
          4836,
          4841,
          3392,
          3469,
          5571,
          5336,
          6289,
          6414,
          5988,
          4614,
          4111,
          5742,
          5865,
          4914,
          5703,
          4298,
          2618,
          3857,
          5390,
          5720,
          6142,
          5349,
          5478,
          4437,
          4153,
          5564,
          5693,
          6506,
          6278,
          5847,
          4479,
          3757,
          5780,
          5995,
          6271,
          6090,
          4721,
          4052,
          4362,
          5676,
          5656,
          6149,
          6267,
          5665,
          5038,
          3341,
          5021,
          5866,
          5745,
          6164,
          5926,
          4145,
          2920,
          5538,
          6014,
          6350,
          6293,
          5828,
          3788,
          3197,
          4069,
          5997,
          6280,
          5592,
          6459,
          4419,
          5657,
          6407,
          6697,
          6820,
          6750,
          6630,
          5554,
          5167,
          5847,
          3702,
          6803,
          6707,
          6573,
          5060,
          4741,
          6405,
          6959,
          6733,
          6104,
          6162,
          5070,
          4571,
          6015,
          4324,
          6844,
          6437,
          6640,
          4934,
          2729,
          4604,
          5791,
          6911,
          6736,
          6222,
          4857,
          4559,
          5115,
          6612,
          6482,
          6501,
          4671,
          4936,
          4726,
          6547,
          6917,
          6855,
          5460,
          5384,
          4757,
          3220,
          17,
          1646,
          5551,
          5520,
          5229,
          4109,
          3906,
          4881,
          5220,
          4709,
          4975,
          5283,
          4446,
          4562,
          5172,
          3767,
          5122,
          5125,
          5214,
          4316,
          3747,
          5050,
          5512,
          5550,
          3985,
          5320,
          3483,
          3303,
          5087,
          3308,
          5175,
          5209,
          5155,
          4240,
          3757,
          5679,
          6055,
          5398,
          5035,
          4659,
          4429,
          2787,
          4841,
          5219,
          5009,
          5107,
          5182,
          4280,
          3248,
          4373,
          5124,
          4934,
          4532,
          4198,
          2827,
          3092,
          3167,
          3843,
          1366,
          4024,
          4381,
          2777,
          2440,
          4203
         ],
         "yaxis": "y"
        }
       ],
       "layout": {
        "autosize": true,
        "legend": {
         "title": {
          "text": "registered_customer"
         },
         "tracegroupgap": 0
        },
        "margin": {
         "t": 60
        },
        "template": {
         "data": {
          "bar": [
           {
            "error_x": {
             "color": "#2a3f5f"
            },
            "error_y": {
             "color": "#2a3f5f"
            },
            "marker": {
             "line": {
              "color": "#E5ECF6",
              "width": 0.5
             },
             "pattern": {
              "fillmode": "overlay",
              "size": 10,
              "solidity": 0.2
             }
            },
            "type": "bar"
           }
          ],
          "barpolar": [
           {
            "marker": {
             "line": {
              "color": "#E5ECF6",
              "width": 0.5
             },
             "pattern": {
              "fillmode": "overlay",
              "size": 10,
              "solidity": 0.2
             }
            },
            "type": "barpolar"
           }
          ],
          "carpet": [
           {
            "aaxis": {
             "endlinecolor": "#2a3f5f",
             "gridcolor": "white",
             "linecolor": "white",
             "minorgridcolor": "white",
             "startlinecolor": "#2a3f5f"
            },
            "baxis": {
             "endlinecolor": "#2a3f5f",
             "gridcolor": "white",
             "linecolor": "white",
             "minorgridcolor": "white",
             "startlinecolor": "#2a3f5f"
            },
            "type": "carpet"
           }
          ],
          "choropleth": [
           {
            "colorbar": {
             "outlinewidth": 0,
             "ticks": ""
            },
            "type": "choropleth"
           }
          ],
          "contour": [
           {
            "colorbar": {
             "outlinewidth": 0,
             "ticks": ""
            },
            "colorscale": [
             [
              0,
              "#0d0887"
             ],
             [
              0.1111111111111111,
              "#46039f"
             ],
             [
              0.2222222222222222,
              "#7201a8"
             ],
             [
              0.3333333333333333,
              "#9c179e"
             ],
             [
              0.4444444444444444,
              "#bd3786"
             ],
             [
              0.5555555555555556,
              "#d8576b"
             ],
             [
              0.6666666666666666,
              "#ed7953"
             ],
             [
              0.7777777777777778,
              "#fb9f3a"
             ],
             [
              0.8888888888888888,
              "#fdca26"
             ],
             [
              1,
              "#f0f921"
             ]
            ],
            "type": "contour"
           }
          ],
          "contourcarpet": [
           {
            "colorbar": {
             "outlinewidth": 0,
             "ticks": ""
            },
            "type": "contourcarpet"
           }
          ],
          "heatmap": [
           {
            "colorbar": {
             "outlinewidth": 0,
             "ticks": ""
            },
            "colorscale": [
             [
              0,
              "#0d0887"
             ],
             [
              0.1111111111111111,
              "#46039f"
             ],
             [
              0.2222222222222222,
              "#7201a8"
             ],
             [
              0.3333333333333333,
              "#9c179e"
             ],
             [
              0.4444444444444444,
              "#bd3786"
             ],
             [
              0.5555555555555556,
              "#d8576b"
             ],
             [
              0.6666666666666666,
              "#ed7953"
             ],
             [
              0.7777777777777778,
              "#fb9f3a"
             ],
             [
              0.8888888888888888,
              "#fdca26"
             ],
             [
              1,
              "#f0f921"
             ]
            ],
            "type": "heatmap"
           }
          ],
          "heatmapgl": [
           {
            "colorbar": {
             "outlinewidth": 0,
             "ticks": ""
            },
            "colorscale": [
             [
              0,
              "#0d0887"
             ],
             [
              0.1111111111111111,
              "#46039f"
             ],
             [
              0.2222222222222222,
              "#7201a8"
             ],
             [
              0.3333333333333333,
              "#9c179e"
             ],
             [
              0.4444444444444444,
              "#bd3786"
             ],
             [
              0.5555555555555556,
              "#d8576b"
             ],
             [
              0.6666666666666666,
              "#ed7953"
             ],
             [
              0.7777777777777778,
              "#fb9f3a"
             ],
             [
              0.8888888888888888,
              "#fdca26"
             ],
             [
              1,
              "#f0f921"
             ]
            ],
            "type": "heatmapgl"
           }
          ],
          "histogram": [
           {
            "marker": {
             "pattern": {
              "fillmode": "overlay",
              "size": 10,
              "solidity": 0.2
             }
            },
            "type": "histogram"
           }
          ],
          "histogram2d": [
           {
            "colorbar": {
             "outlinewidth": 0,
             "ticks": ""
            },
            "colorscale": [
             [
              0,
              "#0d0887"
             ],
             [
              0.1111111111111111,
              "#46039f"
             ],
             [
              0.2222222222222222,
              "#7201a8"
             ],
             [
              0.3333333333333333,
              "#9c179e"
             ],
             [
              0.4444444444444444,
              "#bd3786"
             ],
             [
              0.5555555555555556,
              "#d8576b"
             ],
             [
              0.6666666666666666,
              "#ed7953"
             ],
             [
              0.7777777777777778,
              "#fb9f3a"
             ],
             [
              0.8888888888888888,
              "#fdca26"
             ],
             [
              1,
              "#f0f921"
             ]
            ],
            "type": "histogram2d"
           }
          ],
          "histogram2dcontour": [
           {
            "colorbar": {
             "outlinewidth": 0,
             "ticks": ""
            },
            "colorscale": [
             [
              0,
              "#0d0887"
             ],
             [
              0.1111111111111111,
              "#46039f"
             ],
             [
              0.2222222222222222,
              "#7201a8"
             ],
             [
              0.3333333333333333,
              "#9c179e"
             ],
             [
              0.4444444444444444,
              "#bd3786"
             ],
             [
              0.5555555555555556,
              "#d8576b"
             ],
             [
              0.6666666666666666,
              "#ed7953"
             ],
             [
              0.7777777777777778,
              "#fb9f3a"
             ],
             [
              0.8888888888888888,
              "#fdca26"
             ],
             [
              1,
              "#f0f921"
             ]
            ],
            "type": "histogram2dcontour"
           }
          ],
          "mesh3d": [
           {
            "colorbar": {
             "outlinewidth": 0,
             "ticks": ""
            },
            "type": "mesh3d"
           }
          ],
          "parcoords": [
           {
            "line": {
             "colorbar": {
              "outlinewidth": 0,
              "ticks": ""
             }
            },
            "type": "parcoords"
           }
          ],
          "pie": [
           {
            "automargin": true,
            "type": "pie"
           }
          ],
          "scatter": [
           {
            "marker": {
             "colorbar": {
              "outlinewidth": 0,
              "ticks": ""
             }
            },
            "type": "scatter"
           }
          ],
          "scatter3d": [
           {
            "line": {
             "colorbar": {
              "outlinewidth": 0,
              "ticks": ""
             }
            },
            "marker": {
             "colorbar": {
              "outlinewidth": 0,
              "ticks": ""
             }
            },
            "type": "scatter3d"
           }
          ],
          "scattercarpet": [
           {
            "marker": {
             "colorbar": {
              "outlinewidth": 0,
              "ticks": ""
             }
            },
            "type": "scattercarpet"
           }
          ],
          "scattergeo": [
           {
            "marker": {
             "colorbar": {
              "outlinewidth": 0,
              "ticks": ""
             }
            },
            "type": "scattergeo"
           }
          ],
          "scattergl": [
           {
            "marker": {
             "colorbar": {
              "outlinewidth": 0,
              "ticks": ""
             }
            },
            "type": "scattergl"
           }
          ],
          "scattermapbox": [
           {
            "marker": {
             "colorbar": {
              "outlinewidth": 0,
              "ticks": ""
             }
            },
            "type": "scattermapbox"
           }
          ],
          "scatterpolar": [
           {
            "marker": {
             "colorbar": {
              "outlinewidth": 0,
              "ticks": ""
             }
            },
            "type": "scatterpolar"
           }
          ],
          "scatterpolargl": [
           {
            "marker": {
             "colorbar": {
              "outlinewidth": 0,
              "ticks": ""
             }
            },
            "type": "scatterpolargl"
           }
          ],
          "scatterternary": [
           {
            "marker": {
             "colorbar": {
              "outlinewidth": 0,
              "ticks": ""
             }
            },
            "type": "scatterternary"
           }
          ],
          "surface": [
           {
            "colorbar": {
             "outlinewidth": 0,
             "ticks": ""
            },
            "colorscale": [
             [
              0,
              "#0d0887"
             ],
             [
              0.1111111111111111,
              "#46039f"
             ],
             [
              0.2222222222222222,
              "#7201a8"
             ],
             [
              0.3333333333333333,
              "#9c179e"
             ],
             [
              0.4444444444444444,
              "#bd3786"
             ],
             [
              0.5555555555555556,
              "#d8576b"
             ],
             [
              0.6666666666666666,
              "#ed7953"
             ],
             [
              0.7777777777777778,
              "#fb9f3a"
             ],
             [
              0.8888888888888888,
              "#fdca26"
             ],
             [
              1,
              "#f0f921"
             ]
            ],
            "type": "surface"
           }
          ],
          "table": [
           {
            "cells": {
             "fill": {
              "color": "#EBF0F8"
             },
             "line": {
              "color": "white"
             }
            },
            "header": {
             "fill": {
              "color": "#C8D4E3"
             },
             "line": {
              "color": "white"
             }
            },
            "type": "table"
           }
          ]
         },
         "layout": {
          "annotationdefaults": {
           "arrowcolor": "#2a3f5f",
           "arrowhead": 0,
           "arrowwidth": 1
          },
          "autotypenumbers": "strict",
          "coloraxis": {
           "colorbar": {
            "outlinewidth": 0,
            "ticks": ""
           }
          },
          "colorscale": {
           "diverging": [
            [
             0,
             "#8e0152"
            ],
            [
             0.1,
             "#c51b7d"
            ],
            [
             0.2,
             "#de77ae"
            ],
            [
             0.3,
             "#f1b6da"
            ],
            [
             0.4,
             "#fde0ef"
            ],
            [
             0.5,
             "#f7f7f7"
            ],
            [
             0.6,
             "#e6f5d0"
            ],
            [
             0.7,
             "#b8e186"
            ],
            [
             0.8,
             "#7fbc41"
            ],
            [
             0.9,
             "#4d9221"
            ],
            [
             1,
             "#276419"
            ]
           ],
           "sequential": [
            [
             0,
             "#0d0887"
            ],
            [
             0.1111111111111111,
             "#46039f"
            ],
            [
             0.2222222222222222,
             "#7201a8"
            ],
            [
             0.3333333333333333,
             "#9c179e"
            ],
            [
             0.4444444444444444,
             "#bd3786"
            ],
            [
             0.5555555555555556,
             "#d8576b"
            ],
            [
             0.6666666666666666,
             "#ed7953"
            ],
            [
             0.7777777777777778,
             "#fb9f3a"
            ],
            [
             0.8888888888888888,
             "#fdca26"
            ],
            [
             1,
             "#f0f921"
            ]
           ],
           "sequentialminus": [
            [
             0,
             "#0d0887"
            ],
            [
             0.1111111111111111,
             "#46039f"
            ],
            [
             0.2222222222222222,
             "#7201a8"
            ],
            [
             0.3333333333333333,
             "#9c179e"
            ],
            [
             0.4444444444444444,
             "#bd3786"
            ],
            [
             0.5555555555555556,
             "#d8576b"
            ],
            [
             0.6666666666666666,
             "#ed7953"
            ],
            [
             0.7777777777777778,
             "#fb9f3a"
            ],
            [
             0.8888888888888888,
             "#fdca26"
            ],
            [
             1,
             "#f0f921"
            ]
           ]
          },
          "colorway": [
           "#636efa",
           "#EF553B",
           "#00cc96",
           "#ab63fa",
           "#FFA15A",
           "#19d3f3",
           "#FF6692",
           "#B6E880",
           "#FF97FF",
           "#FECB52"
          ],
          "font": {
           "color": "#2a3f5f"
          },
          "geo": {
           "bgcolor": "white",
           "lakecolor": "white",
           "landcolor": "#E5ECF6",
           "showlakes": true,
           "showland": true,
           "subunitcolor": "white"
          },
          "hoverlabel": {
           "align": "left"
          },
          "hovermode": "closest",
          "mapbox": {
           "style": "light"
          },
          "paper_bgcolor": "white",
          "plot_bgcolor": "#E5ECF6",
          "polar": {
           "angularaxis": {
            "gridcolor": "white",
            "linecolor": "white",
            "ticks": ""
           },
           "bgcolor": "#E5ECF6",
           "radialaxis": {
            "gridcolor": "white",
            "linecolor": "white",
            "ticks": ""
           }
          },
          "scene": {
           "xaxis": {
            "backgroundcolor": "#E5ECF6",
            "gridcolor": "white",
            "gridwidth": 2,
            "linecolor": "white",
            "showbackground": true,
            "ticks": "",
            "zerolinecolor": "white"
           },
           "yaxis": {
            "backgroundcolor": "#E5ECF6",
            "gridcolor": "white",
            "gridwidth": 2,
            "linecolor": "white",
            "showbackground": true,
            "ticks": "",
            "zerolinecolor": "white"
           },
           "zaxis": {
            "backgroundcolor": "#E5ECF6",
            "gridcolor": "white",
            "gridwidth": 2,
            "linecolor": "white",
            "showbackground": true,
            "ticks": "",
            "zerolinecolor": "white"
           }
          },
          "shapedefaults": {
           "line": {
            "color": "#2a3f5f"
           }
          },
          "ternary": {
           "aaxis": {
            "gridcolor": "white",
            "linecolor": "white",
            "ticks": ""
           },
           "baxis": {
            "gridcolor": "white",
            "linecolor": "white",
            "ticks": ""
           },
           "bgcolor": "#E5ECF6",
           "caxis": {
            "gridcolor": "white",
            "linecolor": "white",
            "ticks": ""
           }
          },
          "title": {
           "x": 0.05
          },
          "xaxis": {
           "automargin": true,
           "gridcolor": "white",
           "linecolor": "white",
           "ticks": "",
           "title": {
            "standoff": 15
           },
           "zerolinecolor": "white",
           "zerolinewidth": 2
          },
          "yaxis": {
           "automargin": true,
           "gridcolor": "white",
           "linecolor": "white",
           "ticks": "",
           "title": {
            "standoff": 15
           },
           "zerolinecolor": "white",
           "zerolinewidth": 2
          }
         }
        },
        "xaxis": {
         "anchor": "y",
         "autorange": true,
         "domain": [
          0,
          1
         ],
         "range": [
          -1.4424795482446078,
          43.4013058731203
         ],
         "title": {
          "text": "windspeed"
         },
         "type": "linear"
        },
        "yaxis": {
         "anchor": "x",
         "autorange": true,
         "domain": [
          0,
          1
         ],
         "range": [
          -533.4330708661417,
          7497.433070866142
         ],
         "title": {
          "text": "count"
         },
         "type": "linear"
        }
       }
      },
      "image/png": "[encoded data removed]",
      "text/html": [
       "<div>                            <div id=\"b3db4b3c-3e9f-4146-96f1-56cbf8a3ba29\" class=\"plotly-graph-div\" style=\"height:525px; width:100%;\"></div>            <script type=\"text/javascript\">                require([\"plotly\"], function(Plotly) {                    window.PLOTLYENV=window.PLOTLYENV || {};                                    if (document.getElementById(\"b3db4b3c-3e9f-4146-96f1-56cbf8a3ba29\")) {                    Plotly.newPlot(                        \"b3db4b3c-3e9f-4146-96f1-56cbf8a3ba29\",                        [{\"hovertemplate\":\"registered_customer=False<br>windspeed=%{x}<br>count=%{y}<extra></extra>\",\"legendgroup\":\"False\",\"marker\":{\"color\":\"#636efa\",\"symbol\":\"circle\"},\"mode\":\"markers\",\"name\":\"False\",\"showlegend\":true,\"type\":\"scattergl\",\"x\":[17.235598187311155,16.198554198473314,15.966825833333344,14.749615740740753,15.500531707317101,6.989394318181818,13.567816891891903,24.264936764705876,27.46454074074074,14.70797073170732,8.931879069767444,25.281779999999994,22.053226315789484,10.760075925925921,15.810521171171173,15.011336653386405,11.70037606837608,9.77827777777778,17.808857692307694,12.571513095238107,27.06140151515151,6.685244943820227,20.052406896551734,8.327785937500002,6.266111392405062,20.125125,7.868479999999994,7.4255851851851835,10.188800787401588,4.561043406593408,10.999725000000005,4.0214255319148915,22.194494444444445,19.000760655737718,11.102356818181816,12.090552,5.721270056497213,4.900882499999999,28.60941875,12.565786792452831,14.596306382978728,8.958979194630885,23.590560416666744,23.85216876574317,31.68748894230771,15.792569999999964,21.147382110091666,16.085173745173734,18.40065319516406,40.935790977443666,8.260986440677998,18.740551891891887,12.237948809523822,4.90632260869565,19.96662457627118,34.55492710843372,15.230114054054082,8.129288666666698,20.39799296874994,11.00027518248178,18.463488744588773,9.139017886178861,15.845374766355102,19.14561640625004,20.10587719298243,24.30817663934418,8.51608164556962,18.15717539267016,19.60915217391305,18.10494615384618,20.632483425414293,23.209632382892163,10.342541782729775,14.699730449827,13.383427414330201,13.651170990566012,16.784280656108624,26.773143539326007,7.715140867992814,18.230715296803634,14.413121707317119,14.705072131147498,17.184354700854662,17.43263557046981,13.597333384146221,12.285441016333937,14.76877058823527,13.229937158469898,14.654753191489318,14.627022754491012,21.948457980456094,17.246650556792993,13.723511387038348,30.830752861035556,27.017850299401154,23.68574915254239,10.143976007005241,16.843449418604628,5.196867576791795,10.68046548821533,26.549365146198763,19.965817509727568,17.655237320574127,6.62063856332702,21.3319859813082,27.281680165289274,25.976381643132097,12.590922421524656,10.641025183374051,20.474602852050054,19.324956849315033,14.15394451612903,20.76701886281555,17.134753703703833,17.16214757281552,24.694833725490117,22.674662177650404,20.215281596452233,19.746515882352863,16.07646388888892,8.070479701230221,12.369006847697717,27.890711111110875,22.031649411764654,21.985722638436332,20.47379105145421,13.035186662530938,6.318300856531022,13.465446084337298,6.88193299711812,6.6325492727272435,14.458291510791284,13.493160982658889,10.067455654101936,15.010795195954277,7.256455368693395,23.183037610619433,13.701099999999927,10.047885170068012,9.868979550561795,7.932002299437796,12.098902589758644,21.545180147058772,14.88157154471527,11.706995639097729,16.75349565217381,18.468604505631944,16.031111565739213,16.720787492103405,8.638930577037451,8.67148624161079,15.483177582845965,24.62788002717367,16.897235857461087,11.576861530229934,7.471680949554872,9.876486924219837,15.144950458715785,11.628642899408199,12.541864476021273,9.586631288343538,11.21251006362045,10.915464621676948,20.43357925840095,17.788748830811453,9.097659037711264,16.513840366972477,11.917040787949002,9.709731211953375,5.697677547284974,10.728184604316535,13.622260391566256,15.585321719457067,18.23145291607393,16.618264700374546,14.397372895863024,7.561029133858207,6.123258151476234,12.415925033829492,19.746687253613533,13.35789887499991,8.71625369181372,10.685609301270347,17.904792857142986,4.4311898205547005,8.60395024248307,12.913241581632581,13.120350530503883,16.167835838150026,10.327345623742486,16.016171256454133,21.899417980636095,15.361106193353464,9.87269184491982,14.995188513513492,13.069575113808758,16.937763482216774,18.811004835494156,16.190928418549337,8.904103989361657,9.493630757341585,17.426119913419928,9.871531377899105,9.606417363636304,14.399205254378769,6.374288871715616,15.927977255400222,11.494393017456417,14.319831531531444,15.629192470588208,10.075850523721467,14.186571209912692,11.921505761316798,16.04148963795244,7.606293361884342,16.14951564455574,15.352791300097813,16.947476002629816,14.421956471494468,15.129384042553212,12.952643880926098,16.88268880090503,12.125168226600929,7.849040437678386,16.39676210106385,14.211826681614296,15.525663612903246,16.173995145631093,13.11863008982038,17.534938028169073,14.44468720200747,10.419066811279668,17.709920448178924,21.430022650602346,9.243976688741661,21.80103455571239,10.640682828282777,7.131659235668789,27.65029347368421,22.500198242310223,11.136684586466227,8.899637954239548,8.786748153618895,11.413479948914414,10.065130514285602,12.507217209302267,15.043623482744845,12.678356877022642,24.770950980392154,3.9324457627118643,16.36021764705882,7.3288681055156255,13.284660457142751,9.325874831598345,7.810656086956538,12.798462339514964,14.098001236476039,21.992734345794446,8.771266172506735,13.81558688981864,10.541407612712403,9.460254558610702,6.97024012158056,8.459835989011026,9.387698280802287,5.446687692307694,5.538315339425597,1.7973901374775927,9.453827215189836,8.606804373177848,12.386665853658512,13.544696677215105,15.322101597051631,19.4626624999999,14.585791233766143,6.670377878787907,18.01518333333333,14.610698389982177,7.268346635367785,2.707315384615398,3.8312398657718445,6.944959491030504,4.292199669749064,10.913405997001483,18.066164055299527,12.585626551724129,17.915470699432863,24.83172417061537,22.28650743707102,9.952347265077211,9.215245211930936,17.77502086614173,29.490563063063053,16.823979673321205,7.521158897058793,10.724851153212375,9.780705314009657,12.672704848484816,8.562667506297228,16.133426937269395,13.722484027777762,23.692875000000047,11.742271859296414,10.318605016722417,9.017415609756114,8.53283027027028,9.399699685534618,24.753919787234075,10.195765570934105,8.394783298319325,5.746157104557666,6.917785638297885,7.479462622950811,14.764225789473674,26.902144545454505,17.828994274509494,24.436715139442107,21.983668403361488,11.777510690423146,9.338460000000007,22.74953669064748,9.91777755102042,15.032483775185499,11.38749426008963,8.353525641025644,7.369244360902252,23.870944827586158,12.718010053619208,8.726445454545448,5.283593749999949,18.641596002906432,9.827259465020592,20.617218617021255,19.828633497537,14.198662087912016,8.273025000000024,3.32080849858359,10.088414037854808,4.598011587982832,15.872938095238078,13.739957999999994,14.106850000000007,10.10724521072795,21.727806374501956,1.6312456233421744,6.267358041958042,14.86423096774197,5.810330337078647,20.442514364640914,18.708169101123556,17.913314909090943,14.209238181818142,13.923295769230764,5.878205376344103,18.601520915032673,2.15565422535211,21.77335660377351,16.378741176470502,12.761699374999905,20.786993145161286,11.836186776859522,22.50331949685532,7.252544897959186,9.451578764478775,19.838803375120545,16.989764285714188,22.266186885245876,30.258931460674134,12.010067368421067,10.93607500000003,14.58891172638435,14.88048710280383,15.941749582637572,5.529775471698108,14.497560693641576,7.913136956521741,11.293510037174743,28.224096551724124,16.047606606606546,17.478931690140886,20.945465898617506,27.56717637795273,28.395091743119238,16.254869999999993,14.385383173076933,16.788250264550246,13.438671929824562,9.956852212389384,7.570166222222258,10.12775722222225,5.038306074766353,26.39028682926829,20.08312336769756,18.659364418212483,13.705411167512713,20.793449999999975,12.326567434210537,15.484475789473663,8.42633064516128,9.789572395833316,13.012664150943388,12.485677669902913,11.813278391959788,10.900162385321103,12.638460736196317,8.163167841409715,16.494946354166675,30.740242465753436,11.96755425531916,14.99306148148148,16.482712765957455,5.919359459459461,19.974235816618872,17.38820885017421,16.480330420711958,15.59228253968257,18.4046689655172,19.604344307692273,11.671431162790668,14.089047142857128,32.35958085539722,8.282411911764662,22.29925617977528,9.296910563380315,12.716885106383,17.719541538461495,11.532878861788625,17.976064958158947,26.85744070422526,15.580998522167478,13.13178778280543,25.7434162037037,35.107834567901236,27.613338031319852,11.234342665289237,19.456747466827803,17.140998568018894,16.79401601049864,7.240710832497527,13.602446666666783,4.666757846715351,8.527477559429638,8.048867557770311,14.124152647657779,10.546703134796207,4.091084925975798,9.035357224770658,9.55136982758626,13.80638868715087,11.123574224192312,33.06213885542165,5.679996138996144,18.779804411764605,24.252388901734303,8.400965141955826,15.357202276100853,14.662697358329558,23.572480215231238,8.60023034124619,16.732179773156947,11.32916040268449,22.60241848367409,21.312388899139737,20.185276278026834,31.487423646408995,18.289380219780153,21.06930373443986,22.382648567119034,10.084345527156541,17.934864436494195,19.2698215038656,21.28100642737911,21.386054499494346,10.512898559077799,5.078956382978723,12.762125905936804,20.160560396423495,22.368065916954922,20.921296307692284,19.328468668122024,13.594175073601575,13.075370692194289,23.64688524212147,7.014402048594616,8.356562015503815,10.952055405405323,11.846718376722732,11.798760269865133,9.132354319371636,12.185626566884928,14.184165745192368,7.465626416861845,18.721893749999875,20.12937831978347,13.458797903225749,27.0458038011695,17.557992570128526,10.768330968726085,17.70571551565393,14.371480409356725,9.57357104000004,9.91109838546915,13.673135587761506,10.397148980933583,5.805994046920781,22.196478843106796,12.755362146050771,7.055638249400477,5.665536645962733,14.654345673603524,11.624974936708767,14.789272405372028,16.35426337769625,15.925300151745487,24.904506071871108,8.84832494529544,14.272743428063604,19.377217073170698,14.469224114489949,15.967977826784056,25.949869467787018,12.473718078512285,6.797857838364136,12.597652408477892,15.322755913978522,11.314672008862763,10.580770143884976,17.785640806292975,14.722933962264058,28.43576530264293,16.511962627118617,12.981680806141933,12.71462595342519,9.701053113135877,11.174009647779432,10.388073140495788,7.306264896073927,9.097557222739832,16.34885802371538,14.843586381602062,13.475077433434793,23.771374352331236,25.11963999999974,21.164854959053315,14.528762446167011,11.440491555977136,13.169054803493536,14.333817804363386,13.54141891592924,11.052586216729939,11.343808704137402,16.833404270462392,8.90943535871161,11.608698549723714,10.603699584372357,11.771631462925756,12.211396121593223,12.23984174358969,12.064135562015343,6.818724354731945,9.916176390658197,12.560287604166719,13.026832169117755,8.495861889250804,8.717580475594563,10.494689864864835,15.787708675799193,13.871096705882245,7.045478659070906,10.022909769585148,16.641541329479594,7.962357105492583,21.745582718271518,13.576084533737466,13.84911243902408,12.506384212821898,14.087158834243942,12.274030344827569,11.196560893854768,11.960331536113815,15.632986897590374,20.543951428571734,24.09089209138855,8.331610300080953,7.993577073552434,10.147492161520098,12.354609531772589,19.35140553990603,17.132177303070968,7.7276117323557365,10.329301739850802,11.59988581560276,13.801306510851475,8.82408527653201,20.345577815239082,12.091769897417633,4.35710761589399,11.19948727076594,5.262497198067653,6.84930011389517,8.268906642728952,8.094283673469226,21.116621843154487,18.294149701046198,11.552018181818168,15.837359759243213,7.591877248201419,7.907723190932877,13.62786133802814,9.128342644557684,4.227966666666631,14.160315318066209,21.151335870818784,11.758218149038344,12.155587397708711,14.948283444976099,26.005135581246336,14.2409777431903,20.04855143112718,5.664374112149525,11.261091999999987,8.10857647058826,9.482987599709812,17.494984873417884,8.57636809787613,13.584446673189902,27.800485175201977,12.786856472081073,10.302893706981367,14.391537741243628,20.085841050198464,14.526699712761504,9.815122847682167,18.68040454086792,16.31552226804112,9.941279955947099,14.28283790642342,17.10333734087676,15.343447051226423,7.903154914809986,6.711336825396863,5.22447225274727,11.99836902356904,9.17430204485493,22.336942329264808,7.6341052496798865,11.972455377574434,11.890393011647278,14.560895256410253,10.681655755395617,23.534925660377567,9.839226687388965,21.430816490384665,20.297173947368538,14.714057483730981,8.782762410623079,17.93555436507932,16.002545152722494,9.200008971553602,16.316911880303397,7.457801835853251,5.3809236097561275,4.772690967741915,8.952030422535204,9.736987726787584,17.605363902639954,29.496459031514213,23.9994,13.796518181818213,12.558710262529777,11.258300429184589,22.296288187702366,22.167513216715196,14.126182930890847,16.823540476190434,12.197119957081508,20.567643558282157,25.735330588235335,13.990611142454135,2.822020765550244,9.972581353711904,13.771932452142284,21.29378837920478,13.045672386058964,10.43464281250001,12.824132231404933,13.875710205635814,18.590567028199587,16.401779064587934,4.676181250000022,8.712523376623368,1.0230353474320284,11.68833901560636,25.922656494522418,13.043469498910673,4.58892571428574,17.848799999999997,14.875917586206896,11.222381065088761,5.724760129310367,3.0447026288117907,10.778009080717515,5.665520000000012,14.46833992740469,22.81345951661625,6.476752058823561,8.722056160458447,10.594077189939133,14.179570068027168,14.599544376899688,18.096723758865156,10.439161935483858,11.20924188235295,11.295809557109582,8.816553585397605,8.750287174721183,7.476725943396232,20.857904618937617,16.225709909909924,11.52550692041525,24.93226654676261,27.832302814258856,12.38209803646548,5.7429374193548375,13.373473841961934,20.03427068965517,24.55608260869566,10.656404032258035,7.971335806451612,24.839318609865426,10.663138938053114],\"xaxis\":\"x\",\"y\":[331,131,120,108,82,88,148,68,54,41,43,25,38,54,222,251,117,9,78,84,66,89,58,64,79,16,30,54,127,182,60,47,72,61,88,100,354,120,64,53,47,149,288,397,208,140,218,259,579,532,354,185,84,115,118,166,370,450,128,137,231,123,214,640,114,244,316,191,46,247,724,982,359,289,321,424,884,1424,553,438,410,183,234,298,656,551,289,366,188,167,307,898,1651,734,167,413,571,172,879,1188,855,257,209,529,642,121,1558,669,409,561,438,155,1108,1242,618,510,349,451,680,1368,1138,847,603,255,614,894,1612,1401,664,694,550,695,692,902,1582,773,678,536,735,890,1957,1699,680,615,665,690,799,1833,1583,1681,596,513,736,898,1869,1685,673,763,676,563,815,1729,1467,863,727,769,545,863,1807,1639,695,664,663,703,1068,2103,1905,779,739,761,800,1246,2204,2282,3065,1031,784,754,692,1988,1743,723,662,748,888,1318,2418,2006,841,752,647,693,733,1100,1199,647,787,802,777,850,1623,1372,729,801,467,799,1023,1521,1298,846,907,884,812,1051,1504,1338,775,721,668,639,797,1844,1428,830,755,709,495,785,475,1593,798,743,677,783,875,1935,2521,1236,204,118,153,417,1750,1633,690,701,647,428,742,1434,1353,691,329,364,349,195,1532,1673,474,343,369,632,814,480,616,330,486,559,639,949,2235,2397,1514,667,217,290,529,1899,1748,713,637,254,333,551,1360,1214,414,495,397,271,288,172,796,299,410,370,318,470,1156,952,373,376,305,190,440,1275,1004,595,449,145,139,245,943,1115,195,133,232,746,517,1072,1376,486,188,203,182,268,706,634,233,126,50,150,261,502,377,143,155,178,181,178,275,220,260,279,153,284,318,544,480,496,121,159,147,259,1037,686,244,89,95,140,307,1070,599,106,173,92,269,174,333,284,217,127,109,130,208,189,228,113,225,180,214,410,873,593,197,328,304,190,310,384,318,206,199,109,163,227,192,73,94,135,141,74,349,1435,618,441,203,325,430,350,491,680,445,284,141,325,246,956,710,203,221,432,486,447,968,1658,838,762,997,1005,548,3155,2207,982,638,743,872,1276,716,1579,996,777,816,865,634,2021,2347,1208,1348,1058,1192,1807,3252,2230,905,819,482,663,1252,2795,2846,1198,989,347,846,1297,2573,578,325,916,1019,679,1301,2099,2451,814,653,667,764,1069,2496,2135,1008,738,620,1026,1319,2622,2172,342,625,991,1242,1521,3410,2524,671,834,644,913,1185,2457,2179,1977,807,914,1126,533,2795,2494,1071,968,1027,1038,1488,2708,2224,1017,477,1173,1180,1563,2963,2634,653,968,866,1073,1265,2783,2291,1158,1145,1099,1161,1054,2290,1421,904,1052,2562,1405,1366,1448,1203,998,954,975,1032,1511,2355,1920,1088,921,799,888,657,850,2282,1085,1038,1147,1111,1319,2460,2293,1098,1015,1074,983,1328,2345,1707,1233,1278,1263,1196,1065,2247,2182,1207,1128,1198,1338,1483,2827,1208,927,1035,878,1114,1323,2257,1338,1045,1163,1112,1147,1420,2352,2613,1965,867,832,611,1045,1557,2570,1118,1070,1050,1054,1379,3160,2166,1022,371,788,1017,1399,3028,2437,906,991,970,908,1261,2828,2323,763,315,728,891,1516,3031,781,874,601,780,834,1060,2252,2080,760,922,979,1008,753,2742,2239,926,1025,930,710,937,2424,1301,5,99,419,466,618,1029,1201,378,466,326,340,709,2090,2290,1097,327,373,320,484,1313,922,449,400,462,1324,833,639,459,420,172,290,338,464,951,892,555,551,331,340,349,1153,441,329,282,310,425,429,767,538,212,433,333,289,278,533,713,155,734,58,207,248,310,446,226],\"yaxis\":\"y\"},{\"hovertemplate\":\"registered_customer=True<br>windspeed=%{x}<br>count=%{y}<extra></extra>\",\"legendgroup\":\"True\",\"marker\":{\"color\":\"#EF553B\",\"symbol\":\"circle\"},\"mode\":\"markers\",\"name\":\"True\",\"showlegend\":true,\"type\":\"scattergl\",\"x\":[15.715433944954095,15.811899999999918,14.603443205858408,12.173591265474322,14.03823899868239,5.931472924901194,11.237434801761944,23.321647250280623,27.1017617187497,14.218713828125141,8.01712663934428,23.289406244503095,19.61664985380075,8.088306656912824,14.334094931773862,14.917785519412355,12.349139524348764,9.284738724035634,15.97895445292619,14.02253171774755,25.11072465078048,7.848764341085199,21.236364078947418,9.26750218914176,7.130684958217198,20.55329898989893,7.252125776397604,8.30095017699104,9.79768409090902,4.964010730088505,12.728319379194474,3.504896039603931,22.340799793672645,16.75074694425763,9.55149518518528,13.780478563535898,6.90526603624907,4.358472047738704,30.839016848567265,12.124241430412512,15.554820657276952,7.2978732623668705,20.807823310810868,22.115929949664228,32.2184491495603,15.534284000000014,17.59272366895083,16.191221209386008,18.811165971038626,37.96150145058924,9.645499756097568,21.76702163543449,13.91255863402044,5.906632695756103,18.31900387007573,29.23177580645188,13.816413653136571,8.471317369185972,19.68388865698727,13.009457234538898,22.591217025748914,12.601653393085591,14.011214277456716,18.92951419624205,21.633904276985685,22.045160626535996,9.878292680242064,16.65904552941166,20.602441941074524,17.533419768785997,17.495536789772455,22.27447916376307,10.355507291049243,13.39686423316348,13.324029663281557,13.21137189655175,16.106341953290503,25.422942232723123,10.015646612466236,18.98674861538465,14.531970270269706,15.234524838709438,17.42895235661578,17.8882936644702,13.510358189080886,12.600836363636393,15.059398003238066,14.612033788878422,13.027293113425886,14.439499614148115,19.601966666666275,14.840806794682418,13.667023091364294,29.52444342713157,28.17798175675622,20.796313235907977,11.59454552529178,15.68443179368736,6.391485406091368,10.673088224955837,25.229708664260155,19.883956105796045,17.48304106502819,6.009009276844385,20.50728663446001,25.643146587536954,24.588978545288075,13.170617246376821,9.57747860465119,20.459911302877053,20.293667318332375,14.955957703081289,19.531431550801972,16.605556902502236,16.19036006956564,23.74891089414223,22.42730997055088,21.614445914127494,19.651269885376937,15.204115594375702,7.795236556710318,12.943336747326414,25.198588565488972,21.329354205214713,20.656854385965193,18.623653015616796,12.758305448097884,6.115642087312475,14.946819469983238,6.977850255536741,8.670397687224686,13.641481242504222,12.35675719308552,9.650942441164736,14.083947997307119,10.691559183673098,22.249764528302112,12.970493461886056,9.062289140624914,8.17235731379729,8.073273172119656,11.806323919217196,18.647795744681346,13.259133746897819,12.029870963704372,16.083445612163256,17.946321288865953,15.794905828672421,16.43893091163098,9.109354088431358,9.185716796657012,15.289789107194524,23.15842334593669,17.20364039419926,10.354114022458965,7.756041477801966,9.71350438709647,14.343422555282022,11.082041020133724,11.888344480906637,10.130062423760142,11.130730491195433,11.493790678249164,21.64630584556262,19.418254082613274,9.658916549535263,15.124732216015012,10.412520321527076,9.528243568840526,5.9777335265700815,11.12143245736674,12.614022127900544,13.876516172224076,17.917239683774877,15.946596453558747,14.338923808164777,7.474092364883998,6.980754090672146,13.743834609164143,20.27066526341801,14.334366427546835,9.14685432458679,9.304493413379014,18.05610937896082,5.018567730020242,8.577932195927383,11.671825175552954,13.452451328816887,15.705168219832654,10.667312544802792,15.640174251115395,22.107350282485694,16.317920800889222,10.082623817473584,15.140778479503876,13.35179969194404,16.440765848788057,18.640587135922328,16.847725158971947,8.645555159672861,9.020153551762103,15.982424343311228,9.260872345678777,9.464730605623627,13.257953396690924,5.132850270432531,17.284409932043527,12.18295120527799,13.475819694173591,13.172943723782097,10.48970006523139,13.8645507626815,11.766705937235333,15.430355143422576,7.375237946572098,17.599010802223777,15.072545251106344,16.868466534439094,14.442875070365812,13.762450747125962,11.193701786197515,15.039381314167866,11.447562763818674,8.83996157239237,16.115224376416908,14.48920080580187,15.31536508560156,16.917886538462586,12.639713089916059,16.9163826279212,13.668017967818868,9.650501274926178,17.345537128713207,20.642606268496635,9.514859394087395,19.08289298245587,13.18960872545978,7.0038183650615276,27.44259477020621,21.369814121037148,13.056153466386926,8.824289671596869,7.818592831813517,11.083153301016,10.130860929387104,12.80873617104777,14.68483786688704,12.921543971630896,24.887200798084304,3.869763738019178,14.810117939608986,9.168254716981131,12.623079554937211,8.831707178435423,7.151994357444527,11.557099187592502,13.137127815369615,21.523363262148266,10.13158892483853,13.689828891777509,10.494360698390896,9.951977676715149,7.276393770856236,8.048916749174825,8.74834349845159,5.588051568441057,5.248732519684981,2.149165836734701,7.719444570068377,8.518936218157995,12.920169063180616,11.498560518257076,15.247855864197392,19.048031246793432,14.612158644656805,6.494543672839519,17.831116725440623,12.30966489336754,8.260330295685469,2.693663949454848,3.3433168872086445,6.264616184970964,3.6652458784345963,11.335013911704394,19.01323501591612,12.260867174990167,17.9014385553774,21.82890693188564,21.86864536896397,9.545691677469243,8.423598224276178,17.765494608294834,28.381391797413517,15.718584383844213,6.60921145970936,9.1857785156249,8.971048704802866,10.51390878477234,8.82498431754848,19.320427936184263,13.896323086306577,22.861410896898406,10.966138683844116,7.998684980820072,9.45567813012566,7.347940566037949,8.79164433807422,23.858269071588165,9.973312815884523,8.124409566184438,5.05209456581087,6.264571741969377,5.313170452155439,13.469239846883116,23.973437500000838,16.800050823782424,23.571138370807315,20.126304086353535,11.878080512546394,10.657964892344316,20.85461451612917,10.577230600572225,14.364477316176469,11.191748189890498,9.117568134507573,7.934024573677182,22.73402175613168,10.742229268292395,7.050707896131105,5.152185698729573,17.07593097609594,9.295774345948614,19.72191380737388,18.252002407068783,13.838025021155827,6.302667374727502,4.526234766162248,8.640466643283075,2.9971920067076856,15.606292625607528,15.534579083969426,14.674624306430955,6.486954361417013,20.319420014880997,2.7745730769230543,5.429071139879856,12.537717161520327,5.086120101066832,19.11338511904761,19.563239129156244,17.970264691558558,13.878818181817879,13.088561915367356,5.23412247830787,15.578821306277469,2.648337254187943,19.23793933231083,14.615730562347455,12.186002414163136,16.79176709613434,12.402508840304002,20.58388097227576,7.020514291292604,9.311627110449736,16.69065495660125,15.866858333333338,22.357958875220046,26.27180470423913,10.900593444786493,8.703907535121415,13.368725085729436,13.798744161112499,15.081963163482586,5.303111982378733,12.933386569342854,9.133835251798569,11.848015360501584,25.454446052631845,14.626447407407317,16.61104854464728,20.856423882748697,26.89595220797738,27.188720997856976,15.933273814041414,14.470500520471878,16.87855823459725,12.976766455387466,9.143505642023266,6.8860451215755205,10.518007981492394,4.308008636363698,26.92825101387276,18.325286763485323,17.357881670885785,13.255776157082824,18.617346217331725,11.968626105263176,17.283076841221376,9.871336240561961,8.9702325980392,12.631599961962213,12.314856539966419,10.204467409003701,10.484785963608932,11.794550640850552,8.814201359600306,19.513328072837485,28.80801668956053,11.981740054085915,12.576163612357918,15.826931951341182,6.898759808938946,14.619324283837784,15.730070828997128,16.42268995654228,16.24087254222589,17.85577924746733,16.753419553219295,11.481336490250248,14.932764083360041,31.548112673533318,10.60936108615776,20.303661722080182,11.216257198335365,9.849786649597768,17.331265573418804,8.792054545454508,15.0076596141484,27.004017840029896,17.93079472843475,13.160098741632984,25.039373282783593,32.76820290032812,29.083432168849573,12.616336095237664,18.306758284660447,15.56816656950762,16.193105486725315,5.779530931326317,13.064829496818943,5.9506671018274515,8.858463469344287,8.300641818181665,13.272772558500078,10.416918338399036,4.361517159396083,8.740496760767424,9.514017373587748,13.415038057250042,11.591884062268152,27.288900283890715,7.665007406558066,18.36792734553966,23.6061135565544,9.94695906264944,15.687232397408435,13.885902355170389,20.7580737732657,7.396590007374423,14.53849918185216,12.0776134282999,22.383107436062506,20.440322829404803,19.497975706022896,25.060027179487886,19.521702882918504,20.80005668949767,21.678461272650825,10.454265448891704,16.010011211146836,18.653128278114984,20.205949903325074,20.006698211155236,10.557278333332786,6.199552526665282,10.966452675704168,19.82712841121488,22.911135317149704,19.358510974201536,17.316045117146817,11.161826848472867,13.423626469945898,20.61903716391134,7.337367715078714,8.663772201162526,12.320716081371076,11.6607566542158,11.36262644492992,9.496770920982287,11.73974461450095,13.176781718714876,7.954839891098554,18.016655042735493,19.58865707414844,13.69125948254739,25.27732050126146,17.31326809665619,9.687897545246171,17.430498251394496,11.941682447021016,8.933054788418339,9.416694295041276,15.668624145229865,10.155780712651381,5.698484438984295,21.459887497126722,12.492094097134926,7.598100313172714,4.694636212914495,14.434917043265127,11.642965620542109,14.385357869305484,15.987575752026533,16.414732238009414,23.217531070859227,9.2243140894679,14.415183380140858,17.03931360600967,13.854672694835788,15.390777365455826,23.285577003542727,12.590428327532003,7.2365157266092694,12.318558147459445,13.295217061459287,11.261610375783375,10.608265935070913,16.60499785727066,14.696483537263056,28.387906434060053,16.76715473071448,12.892255948869296,12.247448723359478,9.812973618784593,11.123139271254736,10.851220249274672,6.212376028494777,7.871196296296206,14.70182502803751,13.904673011183327,12.686312200790526,23.50498346703972,23.794799394335,21.073948875123087,13.154387403893962,10.04514194961655,12.652970029895215,14.114575377127874,11.519792203643604,8.996599429386343,10.42582280520593,14.428614867659899,9.26167669902873,11.489905454009516,10.013104612279946,11.140829994614347,11.595743740630388,12.441055175704642,11.546635219832197,6.360758233132815,9.688795361941668,12.866366431525263,12.889631992336506,8.07164593350378,8.668139316238836,11.994759880764487,15.97092936249465,13.727468258212383,6.906546564687775,9.8434908348796,15.727645594405306,9.99668362096958,21.017169751355965,12.483535889010595,12.747955758395234,12.189300481579087,14.161970866284308,13.662523959249024,11.317807654472851,10.42647639375671,14.364774790491962,19.47913034159459,23.053294729837685,7.9068577854670625,8.842324720599946,10.415550119598132,12.559410738916247,18.01190760432101,16.021022803553652,7.805387872535164,10.688680214940357,11.97515663012743,13.954407838672815,9.329762294558389,17.62207152692057,11.488620861453393,5.033962077222439,11.285766361282446,7.004124718718084,6.484002262837264,8.296201086956513,7.0263304758692975,19.84959457177392,16.860153047945147,11.294773618635281,14.160719604256396,8.744779858267872,7.046858350547922,10.873352745367045,9.15564904963038,3.8724239599624455,13.622674145981996,17.7886921627492,12.518463503184272,11.722856527182234,14.349223718842032,22.776012446255507,14.299750662895951,18.515328172312994,6.399606495445449,10.79521192082134,7.253938133332653,9.301174449472542,16.769560767015108,8.277018173020984,10.857877680862199,26.095958860076927,13.660455975305375,10.241250186372964,12.844167062225225,19.54123588932895,14.59286285593739,9.447156908665,17.345916812761455,15.751442269420362,10.216068676278125,12.781646105161187,16.206577140040338,14.339602078319887,8.543627248544887,6.630359666974756,4.4238864552893045,9.38731514680725,7.839609457831338,20.47386651803768,7.738524551117472,13.331835794961297,12.512683284407341,15.850290146145111,13.457746719119458,18.663111668274475,9.026811920938624,20.50663665277638,19.859398611926103,10.254378372655815,7.999786562789066,17.671356668206357,12.770512695354306,9.573024068071614,15.361106728734942,6.494203467236226,5.222978849211715,4.731900656454937,9.814420146519678,9.550644669390488,17.33328309859167,29.180541211179584,23.999399999999998,13.021287181044856,11.613522428391597,11.108858532609418,18.781277529165344,20.56407405694819,14.048402534562475,16.10163327187095,13.002624540230693,21.042722297727902,24.367967336683567,12.16874849517252,3.638555105712975,9.558911442349608,13.189781670533192,21.413562835147598,13.35964695431514,11.725464097560913,12.231970521672755,12.719802525486362,17.547684440886307,16.748051029703458,5.098751052249621,7.85399954954934,2.3491023839397402,9.702874511277972,25.490695348837697,12.471209203754338,3.158266994299105,17.78142732769075,14.550635342993822,9.029772259550688,4.899493598448099,3.1161605188679093,10.20140715996771,4.94758485648862,13.26704123864703,21.977131974805346,10.574733088381214,7.841431787937131,8.606731655000859,12.46744269824173,15.779871555463892,18.54869517149121,11.569078199242103,10.458967632660288,9.743726476263657,8.863511401869136,8.306145535713805,8.377498902355091,16.84600456674501,15.680179468990648,8.722187731685683,23.04913475464634,26.966869579058375,11.2212540426909,5.353572908114973,12.189184647410839,20.0777811127383,22.123151913518747,10.194641086509574,7.87175689593094,24.5343345901645,9.752512348322716],\"xaxis\":\"x\",\"y\":[654,670,1229,1454,1518,1518,1362,891,768,1280,1220,1137,1368,1367,1026,953,883,674,1572,1403,1217,774,760,1142,1436,396,644,1130,924,904,1192,1313,1454,1489,1620,905,1269,1592,1466,1552,1491,1597,1184,1192,1705,1675,1897,2216,2348,1103,1230,1174,1552,1673,1447,1426,1355,1376,1102,1714,1903,1562,1730,1437,491,1628,1817,1700,577,1730,1408,1435,1687,1767,1871,2320,2355,1693,1476,2275,2479,1550,1761,1973,1502,1474,1853,2122,1728,1555,1920,1354,1598,2381,1628,2395,2570,1299,1576,1707,2493,1777,1953,2738,2484,674,2186,2760,2795,2955,2711,1428,2057,2318,2875,2919,2377,2888,2879,2347,2213,3554,3848,2378,3819,3714,3102,2932,3698,4109,3632,4169,3413,2507,2971,3185,3445,3319,3840,4095,3515,3169,3149,3627,3995,3749,3988,3397,2863,3302,3590,3461,4232,4414,3473,3221,3875,4070,3725,3352,3771,3237,2993,4157,4164,4411,3222,3981,3312,3105,3577,3534,3809,3858,4145,3503,3497,3838,3710,4062,4182,4116,2915,2367,2978,3634,3845,3838,3348,3348,3138,3363,3596,3594,4196,4220,3505,3296,3617,3789,3632,3274,3240,2774,2841,3328,3826,3941,3793,3099,3066,2819,3537,4044,3107,3777,3843,2773,2487,3480,3695,3896,3980,3854,2646,2482,3563,4004,4026,3166,3356,3059,2626,3717,4093,3933,3209,3572,1262,2776,3808,3989,3948,4332,3852,2549,2419,2115,2506,1878,1689,3127,3595,3413,4023,4062,4138,3231,4018,3077,2921,3848,2697,2424,2584,2104,2540,2450,3361,3062,2754,4245,4212,1949,2302,3240,3970,4267,4126,4036,3174,3114,3603,3896,2199,2623,3115,3318,3293,3857,4111,2170,3633,3887,3028,3072,3706,4098,3590,2946,3279,1193,2872,3389,3658,3816,3656,3576,2770,2697,3662,3829,3804,2743,2928,2792,2713,3891,3746,1672,2914,3147,2720,2928,2498,2287,2813,2747,3774,2755,3012,3937,2658,3282,3545,3672,2908,2851,3578,2468,655,3172,3359,2688,2366,3167,3368,3562,3528,3399,2464,2211,3143,3688,1577,2746,2606,2045,1864,2018,2104,2633,2561,2689,2189,1608,1707,2147,2273,3132,3791,3451,2826,2270,3425,2085,3828,3040,2160,2027,2081,2808,3267,3162,2882,1688,2051,2570,3249,3458,3300,2811,2410,1975,2852,3635,4275,3571,3841,2448,2629,3578,4176,2693,3667,3604,1977,1456,3328,3787,4028,2931,3805,2883,2071,2309,3455,3805,4308,3071,2233,2449,3519,3605,2734,4665,2948,3110,2713,3130,3735,4484,4896,4122,3150,3253,4460,5085,5315,5187,3830,4681,3685,5171,4935,4837,5526,5399,2131,2698,4227,4361,5244,4898,4182,3241,3694,4728,5424,5378,5265,4653,3605,2939,4680,5099,4380,4746,5146,4665,4286,5172,5702,4020,5719,5606,4280,1277,2597,4823,5207,4575,5021,3243,3957,4670,5087,5502,5657,5227,4387,4224,5265,4990,4097,5546,5711,4807,3946,2501,4490,6433,6142,6118,4884,4351,4015,5109,4584,5709,5608,4346,3823,4504,5024,5678,6053,3594,5325,5147,5927,6033,6028,6456,6248,4790,4374,5647,4495,6248,6183,6102,4739,4344,4446,5857,5615,5427,5350,4739,4303,5734,6109,6134,6113,4565,4014,4110,5323,5608,4841,4836,4841,3392,3469,5571,5336,6289,6414,5988,4614,4111,5742,5865,4914,5703,4298,2618,3857,5390,5720,6142,5349,5478,4437,4153,5564,5693,6506,6278,5847,4479,3757,5780,5995,6271,6090,4721,4052,4362,5676,5656,6149,6267,5665,5038,3341,5021,5866,5745,6164,5926,4145,2920,5538,6014,6350,6293,5828,3788,3197,4069,5997,6280,5592,6459,4419,5657,6407,6697,6820,6750,6630,5554,5167,5847,3702,6803,6707,6573,5060,4741,6405,6959,6733,6104,6162,5070,4571,6015,4324,6844,6437,6640,4934,2729,4604,5791,6911,6736,6222,4857,4559,5115,6612,6482,6501,4671,4936,4726,6547,6917,6855,5460,5384,4757,3220,17,1646,5551,5520,5229,4109,3906,4881,5220,4709,4975,5283,4446,4562,5172,3767,5122,5125,5214,4316,3747,5050,5512,5550,3985,5320,3483,3303,5087,3308,5175,5209,5155,4240,3757,5679,6055,5398,5035,4659,4429,2787,4841,5219,5009,5107,5182,4280,3248,4373,5124,4934,4532,4198,2827,3092,3167,3843,1366,4024,4381,2777,2440,4203],\"yaxis\":\"y\"}],                        {\"legend\":{\"title\":{\"text\":\"registered_customer\"},\"tracegroupgap\":0},\"margin\":{\"t\":60},\"template\":{\"data\":{\"bar\":[{\"error_x\":{\"color\":\"#2a3f5f\"},\"error_y\":{\"color\":\"#2a3f5f\"},\"marker\":{\"line\":{\"color\":\"#E5ECF6\",\"width\":0.5},\"pattern\":{\"fillmode\":\"overlay\",\"size\":10,\"solidity\":0.2}},\"type\":\"bar\"}],\"barpolar\":[{\"marker\":{\"line\":{\"color\":\"#E5ECF6\",\"width\":0.5},\"pattern\":{\"fillmode\":\"overlay\",\"size\":10,\"solidity\":0.2}},\"type\":\"barpolar\"}],\"carpet\":[{\"aaxis\":{\"endlinecolor\":\"#2a3f5f\",\"gridcolor\":\"white\",\"linecolor\":\"white\",\"minorgridcolor\":\"white\",\"startlinecolor\":\"#2a3f5f\"},\"baxis\":{\"endlinecolor\":\"#2a3f5f\",\"gridcolor\":\"white\",\"linecolor\":\"white\",\"minorgridcolor\":\"white\",\"startlinecolor\":\"#2a3f5f\"},\"type\":\"carpet\"}],\"choropleth\":[{\"colorbar\":{\"outlinewidth\":0,\"ticks\":\"\"},\"type\":\"choropleth\"}],\"contour\":[{\"colorbar\":{\"outlinewidth\":0,\"ticks\":\"\"},\"colorscale\":[[0.0,\"#0d0887\"],[0.1111111111111111,\"#46039f\"],[0.2222222222222222,\"#7201a8\"],[0.3333333333333333,\"#9c179e\"],[0.4444444444444444,\"#bd3786\"],[0.5555555555555556,\"#d8576b\"],[0.6666666666666666,\"#ed7953\"],[0.7777777777777778,\"#fb9f3a\"],[0.8888888888888888,\"#fdca26\"],[1.0,\"#f0f921\"]],\"type\":\"contour\"}],\"contourcarpet\":[{\"colorbar\":{\"outlinewidth\":0,\"ticks\":\"\"},\"type\":\"contourcarpet\"}],\"heatmap\":[{\"colorbar\":{\"outlinewidth\":0,\"ticks\":\"\"},\"colorscale\":[[0.0,\"#0d0887\"],[0.1111111111111111,\"#46039f\"],[0.2222222222222222,\"#7201a8\"],[0.3333333333333333,\"#9c179e\"],[0.4444444444444444,\"#bd3786\"],[0.5555555555555556,\"#d8576b\"],[0.6666666666666666,\"#ed7953\"],[0.7777777777777778,\"#fb9f3a\"],[0.8888888888888888,\"#fdca26\"],[1.0,\"#f0f921\"]],\"type\":\"heatmap\"}],\"heatmapgl\":[{\"colorbar\":{\"outlinewidth\":0,\"ticks\":\"\"},\"colorscale\":[[0.0,\"#0d0887\"],[0.1111111111111111,\"#46039f\"],[0.2222222222222222,\"#7201a8\"],[0.3333333333333333,\"#9c179e\"],[0.4444444444444444,\"#bd3786\"],[0.5555555555555556,\"#d8576b\"],[0.6666666666666666,\"#ed7953\"],[0.7777777777777778,\"#fb9f3a\"],[0.8888888888888888,\"#fdca26\"],[1.0,\"#f0f921\"]],\"type\":\"heatmapgl\"}],\"histogram\":[{\"marker\":{\"pattern\":{\"fillmode\":\"overlay\",\"size\":10,\"solidity\":0.2}},\"type\":\"histogram\"}],\"histogram2d\":[{\"colorbar\":{\"outlinewidth\":0,\"ticks\":\"\"},\"colorscale\":[[0.0,\"#0d0887\"],[0.1111111111111111,\"#46039f\"],[0.2222222222222222,\"#7201a8\"],[0.3333333333333333,\"#9c179e\"],[0.4444444444444444,\"#bd3786\"],[0.5555555555555556,\"#d8576b\"],[0.6666666666666666,\"#ed7953\"],[0.7777777777777778,\"#fb9f3a\"],[0.8888888888888888,\"#fdca26\"],[1.0,\"#f0f921\"]],\"type\":\"histogram2d\"}],\"histogram2dcontour\":[{\"colorbar\":{\"outlinewidth\":0,\"ticks\":\"\"},\"colorscale\":[[0.0,\"#0d0887\"],[0.1111111111111111,\"#46039f\"],[0.2222222222222222,\"#7201a8\"],[0.3333333333333333,\"#9c179e\"],[0.4444444444444444,\"#bd3786\"],[0.5555555555555556,\"#d8576b\"],[0.6666666666666666,\"#ed7953\"],[0.7777777777777778,\"#fb9f3a\"],[0.8888888888888888,\"#fdca26\"],[1.0,\"#f0f921\"]],\"type\":\"histogram2dcontour\"}],\"mesh3d\":[{\"colorbar\":{\"outlinewidth\":0,\"ticks\":\"\"},\"type\":\"mesh3d\"}],\"parcoords\":[{\"line\":{\"colorbar\":{\"outlinewidth\":0,\"ticks\":\"\"}},\"type\":\"parcoords\"}],\"pie\":[{\"automargin\":true,\"type\":\"pie\"}],\"scatter\":[{\"marker\":{\"colorbar\":{\"outlinewidth\":0,\"ticks\":\"\"}},\"type\":\"scatter\"}],\"scatter3d\":[{\"line\":{\"colorbar\":{\"outlinewidth\":0,\"ticks\":\"\"}},\"marker\":{\"colorbar\":{\"outlinewidth\":0,\"ticks\":\"\"}},\"type\":\"scatter3d\"}],\"scattercarpet\":[{\"marker\":{\"colorbar\":{\"outlinewidth\":0,\"ticks\":\"\"}},\"type\":\"scattercarpet\"}],\"scattergeo\":[{\"marker\":{\"colorbar\":{\"outlinewidth\":0,\"ticks\":\"\"}},\"type\":\"scattergeo\"}],\"scattergl\":[{\"marker\":{\"colorbar\":{\"outlinewidth\":0,\"ticks\":\"\"}},\"type\":\"scattergl\"}],\"scattermapbox\":[{\"marker\":{\"colorbar\":{\"outlinewidth\":0,\"ticks\":\"\"}},\"type\":\"scattermapbox\"}],\"scatterpolar\":[{\"marker\":{\"colorbar\":{\"outlinewidth\":0,\"ticks\":\"\"}},\"type\":\"scatterpolar\"}],\"scatterpolargl\":[{\"marker\":{\"colorbar\":{\"outlinewidth\":0,\"ticks\":\"\"}},\"type\":\"scatterpolargl\"}],\"scatterternary\":[{\"marker\":{\"colorbar\":{\"outlinewidth\":0,\"ticks\":\"\"}},\"type\":\"scatterternary\"}],\"surface\":[{\"colorbar\":{\"outlinewidth\":0,\"ticks\":\"\"},\"colorscale\":[[0.0,\"#0d0887\"],[0.1111111111111111,\"#46039f\"],[0.2222222222222222,\"#7201a8\"],[0.3333333333333333,\"#9c179e\"],[0.4444444444444444,\"#bd3786\"],[0.5555555555555556,\"#d8576b\"],[0.6666666666666666,\"#ed7953\"],[0.7777777777777778,\"#fb9f3a\"],[0.8888888888888888,\"#fdca26\"],[1.0,\"#f0f921\"]],\"type\":\"surface\"}],\"table\":[{\"cells\":{\"fill\":{\"color\":\"#EBF0F8\"},\"line\":{\"color\":\"white\"}},\"header\":{\"fill\":{\"color\":\"#C8D4E3\"},\"line\":{\"color\":\"white\"}},\"type\":\"table\"}]},\"layout\":{\"annotationdefaults\":{\"arrowcolor\":\"#2a3f5f\",\"arrowhead\":0,\"arrowwidth\":1},\"autotypenumbers\":\"strict\",\"coloraxis\":{\"colorbar\":{\"outlinewidth\":0,\"ticks\":\"\"}},\"colorscale\":{\"diverging\":[[0,\"#8e0152\"],[0.1,\"#c51b7d\"],[0.2,\"#de77ae\"],[0.3,\"#f1b6da\"],[0.4,\"#fde0ef\"],[0.5,\"#f7f7f7\"],[0.6,\"#e6f5d0\"],[0.7,\"#b8e186\"],[0.8,\"#7fbc41\"],[0.9,\"#4d9221\"],[1,\"#276419\"]],\"sequential\":[[0.0,\"#0d0887\"],[0.1111111111111111,\"#46039f\"],[0.2222222222222222,\"#7201a8\"],[0.3333333333333333,\"#9c179e\"],[0.4444444444444444,\"#bd3786\"],[0.5555555555555556,\"#d8576b\"],[0.6666666666666666,\"#ed7953\"],[0.7777777777777778,\"#fb9f3a\"],[0.8888888888888888,\"#fdca26\"],[1.0,\"#f0f921\"]],\"sequentialminus\":[[0.0,\"#0d0887\"],[0.1111111111111111,\"#46039f\"],[0.2222222222222222,\"#7201a8\"],[0.3333333333333333,\"#9c179e\"],[0.4444444444444444,\"#bd3786\"],[0.5555555555555556,\"#d8576b\"],[0.6666666666666666,\"#ed7953\"],[0.7777777777777778,\"#fb9f3a\"],[0.8888888888888888,\"#fdca26\"],[1.0,\"#f0f921\"]]},\"colorway\":[\"#636efa\",\"#EF553B\",\"#00cc96\",\"#ab63fa\",\"#FFA15A\",\"#19d3f3\",\"#FF6692\",\"#B6E880\",\"#FF97FF\",\"#FECB52\"],\"font\":{\"color\":\"#2a3f5f\"},\"geo\":{\"bgcolor\":\"white\",\"lakecolor\":\"white\",\"landcolor\":\"#E5ECF6\",\"showlakes\":true,\"showland\":true,\"subunitcolor\":\"white\"},\"hoverlabel\":{\"align\":\"left\"},\"hovermode\":\"closest\",\"mapbox\":{\"style\":\"light\"},\"paper_bgcolor\":\"white\",\"plot_bgcolor\":\"#E5ECF6\",\"polar\":{\"angularaxis\":{\"gridcolor\":\"white\",\"linecolor\":\"white\",\"ticks\":\"\"},\"bgcolor\":\"#E5ECF6\",\"radialaxis\":{\"gridcolor\":\"white\",\"linecolor\":\"white\",\"ticks\":\"\"}},\"scene\":{\"xaxis\":{\"backgroundcolor\":\"#E5ECF6\",\"gridcolor\":\"white\",\"gridwidth\":2,\"linecolor\":\"white\",\"showbackground\":true,\"ticks\":\"\",\"zerolinecolor\":\"white\"},\"yaxis\":{\"backgroundcolor\":\"#E5ECF6\",\"gridcolor\":\"white\",\"gridwidth\":2,\"linecolor\":\"white\",\"showbackground\":true,\"ticks\":\"\",\"zerolinecolor\":\"white\"},\"zaxis\":{\"backgroundcolor\":\"#E5ECF6\",\"gridcolor\":\"white\",\"gridwidth\":2,\"linecolor\":\"white\",\"showbackground\":true,\"ticks\":\"\",\"zerolinecolor\":\"white\"}},\"shapedefaults\":{\"line\":{\"color\":\"#2a3f5f\"}},\"ternary\":{\"aaxis\":{\"gridcolor\":\"white\",\"linecolor\":\"white\",\"ticks\":\"\"},\"baxis\":{\"gridcolor\":\"white\",\"linecolor\":\"white\",\"ticks\":\"\"},\"bgcolor\":\"#E5ECF6\",\"caxis\":{\"gridcolor\":\"white\",\"linecolor\":\"white\",\"ticks\":\"\"}},\"title\":{\"x\":0.05},\"xaxis\":{\"automargin\":true,\"gridcolor\":\"white\",\"linecolor\":\"white\",\"ticks\":\"\",\"title\":{\"standoff\":15},\"zerolinecolor\":\"white\",\"zerolinewidth\":2},\"yaxis\":{\"automargin\":true,\"gridcolor\":\"white\",\"linecolor\":\"white\",\"ticks\":\"\",\"title\":{\"standoff\":15},\"zerolinecolor\":\"white\",\"zerolinewidth\":2}}},\"xaxis\":{\"anchor\":\"y\",\"domain\":[0.0,1.0],\"title\":{\"text\":\"windspeed\"}},\"yaxis\":{\"anchor\":\"x\",\"domain\":[0.0,1.0],\"title\":{\"text\":\"count\"}}},                        {\"responsive\": true}                    ).then(function(){\n",
       "                            \n",
       "var gd = document.getElementById('b3db4b3c-3e9f-4146-96f1-56cbf8a3ba29');\n",
       "var x = new MutationObserver(function (mutations, observer) {{\n",
       "        var display = window.getComputedStyle(gd).display;\n",
       "        if (!display || display === 'none') {{\n",
       "            console.log([gd, 'removed!']);\n",
       "            Plotly.purge(gd);\n",
       "            observer.disconnect();\n",
       "        }}\n",
       "}});\n",
       "\n",
       "// Listen for the removal of the full notebook cells\n",
       "var notebookContainer = gd.closest('#notebook-container');\n",
       "if (notebookContainer) {{\n",
       "    x.observe(notebookContainer, {childList: true});\n",
       "}}\n",
       "\n",
       "// Listen for the clearing of the current output cell\n",
       "var outputEl = gd.closest('.output');\n",
       "if (outputEl) {{\n",
       "    x.observe(outputEl, {childList: true});\n",
       "}}\n",
       "\n",
       "                        })                };                });            </script>        </div>"
      ]
     },
     "metadata": {},
     "output_type": "display_data"
    }
   ],
   "source": [
    "fig = px.scatter(df_by_day, x=\"windspeed\", y=\"count\", color=\"registered_customer\")\n",
    "fig.show()"
   ]
  },
  {
   "cell_type": "code",
   "execution_count": 16,
   "id": "8b179691",
   "metadata": {
    "tags": []
   },
   "outputs": [
    {
     "data": {
      "text/html": [
       "<div>\n",
       "<style scoped>\n",
       "    .dataframe tbody tr th:only-of-type {\n",
       "        vertical-align: middle;\n",
       "    }\n",
       "\n",
       "    .dataframe tbody tr th {\n",
       "        vertical-align: top;\n",
       "    }\n",
       "\n",
       "    .dataframe thead th {\n",
       "        text-align: right;\n",
       "    }\n",
       "</style>\n",
       "<table border=\"1\" class=\"dataframe\">\n",
       "  <thead>\n",
       "    <tr style=\"text-align: right;\">\n",
       "      <th></th>\n",
       "      <th>datetime</th>\n",
       "      <th>registered_customer</th>\n",
       "      <th>count</th>\n",
       "      <th>holiday</th>\n",
       "      <th>workingday</th>\n",
       "      <th>temp</th>\n",
       "      <th>atemp</th>\n",
       "      <th>humidity</th>\n",
       "      <th>windspeed</th>\n",
       "    </tr>\n",
       "  </thead>\n",
       "  <tbody>\n",
       "    <tr>\n",
       "      <th>1332</th>\n",
       "      <td>2020-10-28</td>\n",
       "      <td>False</td>\n",
       "      <td>1301</td>\n",
       "      <td>0.0</td>\n",
       "      <td>0.0</td>\n",
       "      <td>19.951653</td>\n",
       "      <td>23.734554</td>\n",
       "      <td>60.874712</td>\n",
       "      <td>29.496459</td>\n",
       "    </tr>\n",
       "    <tr>\n",
       "      <th>1333</th>\n",
       "      <td>2020-10-28</td>\n",
       "      <td>True</td>\n",
       "      <td>3220</td>\n",
       "      <td>0.0</td>\n",
       "      <td>0.0</td>\n",
       "      <td>19.732460</td>\n",
       "      <td>23.532003</td>\n",
       "      <td>64.385714</td>\n",
       "      <td>29.180541</td>\n",
       "    </tr>\n",
       "    <tr>\n",
       "      <th>1334</th>\n",
       "      <td>2020-10-29</td>\n",
       "      <td>False</td>\n",
       "      <td>5</td>\n",
       "      <td>0.0</td>\n",
       "      <td>1.0</td>\n",
       "      <td>18.040000</td>\n",
       "      <td>21.970000</td>\n",
       "      <td>88.000000</td>\n",
       "      <td>23.999400</td>\n",
       "    </tr>\n",
       "    <tr>\n",
       "      <th>1335</th>\n",
       "      <td>2020-10-29</td>\n",
       "      <td>True</td>\n",
       "      <td>17</td>\n",
       "      <td>0.0</td>\n",
       "      <td>1.0</td>\n",
       "      <td>18.040000</td>\n",
       "      <td>21.970000</td>\n",
       "      <td>88.000000</td>\n",
       "      <td>23.999400</td>\n",
       "    </tr>\n",
       "    <tr>\n",
       "      <th>1336</th>\n",
       "      <td>2020-10-30</td>\n",
       "      <td>False</td>\n",
       "      <td>99</td>\n",
       "      <td>0.0</td>\n",
       "      <td>1.0</td>\n",
       "      <td>15.116162</td>\n",
       "      <td>17.920707</td>\n",
       "      <td>78.292929</td>\n",
       "      <td>13.796518</td>\n",
       "    </tr>\n",
       "    <tr>\n",
       "      <th>1337</th>\n",
       "      <td>2020-10-30</td>\n",
       "      <td>True</td>\n",
       "      <td>1646</td>\n",
       "      <td>0.0</td>\n",
       "      <td>1.0</td>\n",
       "      <td>14.442163</td>\n",
       "      <td>17.219207</td>\n",
       "      <td>80.221142</td>\n",
       "      <td>13.021287</td>\n",
       "    </tr>\n",
       "    <tr>\n",
       "      <th>1338</th>\n",
       "      <td>2020-10-31</td>\n",
       "      <td>False</td>\n",
       "      <td>419</td>\n",
       "      <td>0.0</td>\n",
       "      <td>1.0</td>\n",
       "      <td>15.947924</td>\n",
       "      <td>19.605859</td>\n",
       "      <td>59.057279</td>\n",
       "      <td>12.558710</td>\n",
       "    </tr>\n",
       "    <tr>\n",
       "      <th>1339</th>\n",
       "      <td>2020-10-31</td>\n",
       "      <td>True</td>\n",
       "      <td>5551</td>\n",
       "      <td>0.0</td>\n",
       "      <td>1.0</td>\n",
       "      <td>15.373486</td>\n",
       "      <td>18.996870</td>\n",
       "      <td>63.028283</td>\n",
       "      <td>11.613522</td>\n",
       "    </tr>\n",
       "  </tbody>\n",
       "</table>\n",
       "</div>"
      ],
      "text/plain": [
       "       datetime  registered_customer  count  holiday  workingday       temp  \\\n",
       "1332 2020-10-28                False   1301      0.0         0.0  19.951653   \n",
       "1333 2020-10-28                 True   3220      0.0         0.0  19.732460   \n",
       "1334 2020-10-29                False      5      0.0         1.0  18.040000   \n",
       "1335 2020-10-29                 True     17      0.0         1.0  18.040000   \n",
       "1336 2020-10-30                False     99      0.0         1.0  15.116162   \n",
       "1337 2020-10-30                 True   1646      0.0         1.0  14.442163   \n",
       "1338 2020-10-31                False    419      0.0         1.0  15.947924   \n",
       "1339 2020-10-31                 True   5551      0.0         1.0  15.373486   \n",
       "\n",
       "          atemp   humidity  windspeed  \n",
       "1332  23.734554  60.874712  29.496459  \n",
       "1333  23.532003  64.385714  29.180541  \n",
       "1334  21.970000  88.000000  23.999400  \n",
       "1335  21.970000  88.000000  23.999400  \n",
       "1336  17.920707  78.292929  13.796518  \n",
       "1337  17.219207  80.221142  13.021287  \n",
       "1338  19.605859  59.057279  12.558710  \n",
       "1339  18.996870  63.028283  11.613522  "
      ]
     },
     "execution_count": 16,
     "metadata": {},
     "output_type": "execute_result"
    }
   ],
   "source": [
    "df_by_day[df_by_day.datetime.isin([\"2020-10-28\", \"2020-10-29\", \"2020-10-30\", \"2020-10-31\"])]"
   ]
  },
  {
   "cell_type": "code",
   "execution_count": 17,
   "id": "bfc7ac53",
   "metadata": {
    "tags": []
   },
   "outputs": [
    {
     "data": {
      "text/html": [
       "<div>\n",
       "<style scoped>\n",
       "    .dataframe tbody tr th:only-of-type {\n",
       "        vertical-align: middle;\n",
       "    }\n",
       "\n",
       "    .dataframe tbody tr th {\n",
       "        vertical-align: top;\n",
       "    }\n",
       "\n",
       "    .dataframe thead th {\n",
       "        text-align: right;\n",
       "    }\n",
       "</style>\n",
       "<table border=\"1\" class=\"dataframe\">\n",
       "  <thead>\n",
       "    <tr style=\"text-align: right;\">\n",
       "      <th></th>\n",
       "      <th>count</th>\n",
       "      <th>holiday</th>\n",
       "      <th>workingday</th>\n",
       "      <th>temp</th>\n",
       "      <th>atemp</th>\n",
       "      <th>humidity</th>\n",
       "      <th>windspeed</th>\n",
       "    </tr>\n",
       "  </thead>\n",
       "  <tbody>\n",
       "    <tr>\n",
       "      <th>count</th>\n",
       "      <td>1462.000000</td>\n",
       "      <td>1462.000000</td>\n",
       "      <td>1462.000000</td>\n",
       "      <td>1462.000000</td>\n",
       "      <td>1462.000000</td>\n",
       "      <td>1462.000000</td>\n",
       "      <td>1462.000000</td>\n",
       "    </tr>\n",
       "    <tr>\n",
       "      <th>mean</th>\n",
       "      <td>2254.460328</td>\n",
       "      <td>0.028728</td>\n",
       "      <td>0.683995</td>\n",
       "      <td>21.501690</td>\n",
       "      <td>24.980055</td>\n",
       "      <td>56.999506</td>\n",
       "      <td>14.035697</td>\n",
       "    </tr>\n",
       "    <tr>\n",
       "      <th>std</th>\n",
       "      <td>1825.807442</td>\n",
       "      <td>0.167098</td>\n",
       "      <td>0.465074</td>\n",
       "      <td>7.731829</td>\n",
       "      <td>8.392916</td>\n",
       "      <td>15.628639</td>\n",
       "      <td>5.907217</td>\n",
       "    </tr>\n",
       "    <tr>\n",
       "      <th>min</th>\n",
       "      <td>5.000000</td>\n",
       "      <td>0.000000</td>\n",
       "      <td>0.000000</td>\n",
       "      <td>3.169438</td>\n",
       "      <td>5.574141</td>\n",
       "      <td>0.000000</td>\n",
       "      <td>1.023035</td>\n",
       "    </tr>\n",
       "    <tr>\n",
       "      <th>25%</th>\n",
       "      <td>690.250000</td>\n",
       "      <td>0.000000</td>\n",
       "      <td>0.000000</td>\n",
       "      <td>14.926311</td>\n",
       "      <td>18.298906</td>\n",
       "      <td>44.979105</td>\n",
       "      <td>9.701508</td>\n",
       "    </tr>\n",
       "    <tr>\n",
       "      <th>50%</th>\n",
       "      <td>1678.000000</td>\n",
       "      <td>0.000000</td>\n",
       "      <td>1.000000</td>\n",
       "      <td>21.870582</td>\n",
       "      <td>25.637586</td>\n",
       "      <td>55.846155</td>\n",
       "      <td>13.289939</td>\n",
       "    </tr>\n",
       "    <tr>\n",
       "      <th>75%</th>\n",
       "      <td>3632.750000</td>\n",
       "      <td>0.000000</td>\n",
       "      <td>1.000000</td>\n",
       "      <td>28.180760</td>\n",
       "      <td>31.770591</td>\n",
       "      <td>67.595349</td>\n",
       "      <td>17.523949</td>\n",
       "    </tr>\n",
       "    <tr>\n",
       "      <th>max</th>\n",
       "      <td>6959.000000</td>\n",
       "      <td>1.000000</td>\n",
       "      <td>1.000000</td>\n",
       "      <td>37.749448</td>\n",
       "      <td>43.880231</td>\n",
       "      <td>97.900000</td>\n",
       "      <td>40.935791</td>\n",
       "    </tr>\n",
       "  </tbody>\n",
       "</table>\n",
       "</div>"
      ],
      "text/plain": [
       "             count      holiday   workingday         temp        atemp  \\\n",
       "count  1462.000000  1462.000000  1462.000000  1462.000000  1462.000000   \n",
       "mean   2254.460328     0.028728     0.683995    21.501690    24.980055   \n",
       "std    1825.807442     0.167098     0.465074     7.731829     8.392916   \n",
       "min       5.000000     0.000000     0.000000     3.169438     5.574141   \n",
       "25%     690.250000     0.000000     0.000000    14.926311    18.298906   \n",
       "50%    1678.000000     0.000000     1.000000    21.870582    25.637586   \n",
       "75%    3632.750000     0.000000     1.000000    28.180760    31.770591   \n",
       "max    6959.000000     1.000000     1.000000    37.749448    43.880231   \n",
       "\n",
       "          humidity    windspeed  \n",
       "count  1462.000000  1462.000000  \n",
       "mean     56.999506    14.035697  \n",
       "std      15.628639     5.907217  \n",
       "min       0.000000     1.023035  \n",
       "25%      44.979105     9.701508  \n",
       "50%      55.846155    13.289939  \n",
       "75%      67.595349    17.523949  \n",
       "max      97.900000    40.935791  "
      ]
     },
     "execution_count": 17,
     "metadata": {},
     "output_type": "execute_result"
    }
   ],
   "source": [
    "df_by_day.describe()"
   ]
  },
  {
   "cell_type": "code",
   "execution_count": 18,
   "id": "ea5051ab",
   "metadata": {
    "tags": []
   },
   "outputs": [
    {
     "data": {
      "text/html": [
       "<div>\n",
       "<style scoped>\n",
       "    .dataframe tbody tr th:only-of-type {\n",
       "        vertical-align: middle;\n",
       "    }\n",
       "\n",
       "    .dataframe tbody tr th {\n",
       "        vertical-align: top;\n",
       "    }\n",
       "\n",
       "    .dataframe thead th {\n",
       "        text-align: right;\n",
       "    }\n",
       "</style>\n",
       "<table border=\"1\" class=\"dataframe\">\n",
       "  <thead>\n",
       "    <tr style=\"text-align: right;\">\n",
       "      <th></th>\n",
       "      <th>datetime</th>\n",
       "      <th>holiday</th>\n",
       "      <th>workingday</th>\n",
       "      <th>weather</th>\n",
       "      <th>temp</th>\n",
       "      <th>atemp</th>\n",
       "      <th>humidity</th>\n",
       "      <th>windspeed</th>\n",
       "      <th>registered_customer</th>\n",
       "    </tr>\n",
       "  </thead>\n",
       "  <tbody>\n",
       "    <tr>\n",
       "      <th>2981821</th>\n",
       "      <td>2020-10-29 00:01:59</td>\n",
       "      <td>False</td>\n",
       "      <td>True</td>\n",
       "      <td>light snow or rain or thunderstorm</td>\n",
       "      <td>18.04</td>\n",
       "      <td>21.97</td>\n",
       "      <td>88</td>\n",
       "      <td>23.9994</td>\n",
       "      <td>False</td>\n",
       "    </tr>\n",
       "    <tr>\n",
       "      <th>2981822</th>\n",
       "      <td>2020-10-29 00:04:39</td>\n",
       "      <td>False</td>\n",
       "      <td>True</td>\n",
       "      <td>light snow or rain or thunderstorm</td>\n",
       "      <td>18.04</td>\n",
       "      <td>21.97</td>\n",
       "      <td>88</td>\n",
       "      <td>23.9994</td>\n",
       "      <td>True</td>\n",
       "    </tr>\n",
       "    <tr>\n",
       "      <th>2981823</th>\n",
       "      <td>2020-10-29 00:07:12</td>\n",
       "      <td>False</td>\n",
       "      <td>True</td>\n",
       "      <td>light snow or rain or thunderstorm</td>\n",
       "      <td>18.04</td>\n",
       "      <td>21.97</td>\n",
       "      <td>88</td>\n",
       "      <td>23.9994</td>\n",
       "      <td>False</td>\n",
       "    </tr>\n",
       "    <tr>\n",
       "      <th>2981824</th>\n",
       "      <td>2020-10-29 00:07:57</td>\n",
       "      <td>False</td>\n",
       "      <td>True</td>\n",
       "      <td>light snow or rain or thunderstorm</td>\n",
       "      <td>18.04</td>\n",
       "      <td>21.97</td>\n",
       "      <td>88</td>\n",
       "      <td>23.9994</td>\n",
       "      <td>True</td>\n",
       "    </tr>\n",
       "    <tr>\n",
       "      <th>2981825</th>\n",
       "      <td>2020-10-29 00:13:37</td>\n",
       "      <td>False</td>\n",
       "      <td>True</td>\n",
       "      <td>light snow or rain or thunderstorm</td>\n",
       "      <td>18.04</td>\n",
       "      <td>21.97</td>\n",
       "      <td>88</td>\n",
       "      <td>23.9994</td>\n",
       "      <td>True</td>\n",
       "    </tr>\n",
       "    <tr>\n",
       "      <th>2981826</th>\n",
       "      <td>2020-10-29 00:13:47</td>\n",
       "      <td>False</td>\n",
       "      <td>True</td>\n",
       "      <td>light snow or rain or thunderstorm</td>\n",
       "      <td>18.04</td>\n",
       "      <td>21.97</td>\n",
       "      <td>88</td>\n",
       "      <td>23.9994</td>\n",
       "      <td>True</td>\n",
       "    </tr>\n",
       "    <tr>\n",
       "      <th>2981827</th>\n",
       "      <td>2020-10-29 00:15:51</td>\n",
       "      <td>False</td>\n",
       "      <td>True</td>\n",
       "      <td>light snow or rain or thunderstorm</td>\n",
       "      <td>18.04</td>\n",
       "      <td>21.97</td>\n",
       "      <td>88</td>\n",
       "      <td>23.9994</td>\n",
       "      <td>True</td>\n",
       "    </tr>\n",
       "    <tr>\n",
       "      <th>2981828</th>\n",
       "      <td>2020-10-29 00:20:54</td>\n",
       "      <td>False</td>\n",
       "      <td>True</td>\n",
       "      <td>light snow or rain or thunderstorm</td>\n",
       "      <td>18.04</td>\n",
       "      <td>21.97</td>\n",
       "      <td>88</td>\n",
       "      <td>23.9994</td>\n",
       "      <td>True</td>\n",
       "    </tr>\n",
       "    <tr>\n",
       "      <th>2981829</th>\n",
       "      <td>2020-10-29 00:22:29</td>\n",
       "      <td>False</td>\n",
       "      <td>True</td>\n",
       "      <td>light snow or rain or thunderstorm</td>\n",
       "      <td>18.04</td>\n",
       "      <td>21.97</td>\n",
       "      <td>88</td>\n",
       "      <td>23.9994</td>\n",
       "      <td>True</td>\n",
       "    </tr>\n",
       "    <tr>\n",
       "      <th>2981830</th>\n",
       "      <td>2020-10-29 00:23:59</td>\n",
       "      <td>False</td>\n",
       "      <td>True</td>\n",
       "      <td>light snow or rain or thunderstorm</td>\n",
       "      <td>18.04</td>\n",
       "      <td>21.97</td>\n",
       "      <td>88</td>\n",
       "      <td>23.9994</td>\n",
       "      <td>True</td>\n",
       "    </tr>\n",
       "    <tr>\n",
       "      <th>2981831</th>\n",
       "      <td>2020-10-29 00:27:42</td>\n",
       "      <td>False</td>\n",
       "      <td>True</td>\n",
       "      <td>light snow or rain or thunderstorm</td>\n",
       "      <td>18.04</td>\n",
       "      <td>21.97</td>\n",
       "      <td>88</td>\n",
       "      <td>23.9994</td>\n",
       "      <td>True</td>\n",
       "    </tr>\n",
       "    <tr>\n",
       "      <th>2981832</th>\n",
       "      <td>2020-10-29 00:30:11</td>\n",
       "      <td>False</td>\n",
       "      <td>True</td>\n",
       "      <td>light snow or rain or thunderstorm</td>\n",
       "      <td>18.04</td>\n",
       "      <td>21.97</td>\n",
       "      <td>88</td>\n",
       "      <td>23.9994</td>\n",
       "      <td>True</td>\n",
       "    </tr>\n",
       "    <tr>\n",
       "      <th>2981833</th>\n",
       "      <td>2020-10-29 00:31:22</td>\n",
       "      <td>False</td>\n",
       "      <td>True</td>\n",
       "      <td>light snow or rain or thunderstorm</td>\n",
       "      <td>18.04</td>\n",
       "      <td>21.97</td>\n",
       "      <td>88</td>\n",
       "      <td>23.9994</td>\n",
       "      <td>True</td>\n",
       "    </tr>\n",
       "    <tr>\n",
       "      <th>2981834</th>\n",
       "      <td>2020-10-29 00:34:21</td>\n",
       "      <td>False</td>\n",
       "      <td>True</td>\n",
       "      <td>light snow or rain or thunderstorm</td>\n",
       "      <td>18.04</td>\n",
       "      <td>21.97</td>\n",
       "      <td>88</td>\n",
       "      <td>23.9994</td>\n",
       "      <td>False</td>\n",
       "    </tr>\n",
       "    <tr>\n",
       "      <th>2981835</th>\n",
       "      <td>2020-10-29 00:34:25</td>\n",
       "      <td>False</td>\n",
       "      <td>True</td>\n",
       "      <td>light snow or rain or thunderstorm</td>\n",
       "      <td>18.04</td>\n",
       "      <td>21.97</td>\n",
       "      <td>88</td>\n",
       "      <td>23.9994</td>\n",
       "      <td>True</td>\n",
       "    </tr>\n",
       "    <tr>\n",
       "      <th>2981836</th>\n",
       "      <td>2020-10-29 00:39:19</td>\n",
       "      <td>False</td>\n",
       "      <td>True</td>\n",
       "      <td>light snow or rain or thunderstorm</td>\n",
       "      <td>18.04</td>\n",
       "      <td>21.97</td>\n",
       "      <td>88</td>\n",
       "      <td>23.9994</td>\n",
       "      <td>True</td>\n",
       "    </tr>\n",
       "    <tr>\n",
       "      <th>2981837</th>\n",
       "      <td>2020-10-29 00:39:57</td>\n",
       "      <td>False</td>\n",
       "      <td>True</td>\n",
       "      <td>light snow or rain or thunderstorm</td>\n",
       "      <td>18.04</td>\n",
       "      <td>21.97</td>\n",
       "      <td>88</td>\n",
       "      <td>23.9994</td>\n",
       "      <td>True</td>\n",
       "    </tr>\n",
       "    <tr>\n",
       "      <th>2981838</th>\n",
       "      <td>2020-10-29 00:41:46</td>\n",
       "      <td>False</td>\n",
       "      <td>True</td>\n",
       "      <td>light snow or rain or thunderstorm</td>\n",
       "      <td>18.04</td>\n",
       "      <td>21.97</td>\n",
       "      <td>88</td>\n",
       "      <td>23.9994</td>\n",
       "      <td>False</td>\n",
       "    </tr>\n",
       "    <tr>\n",
       "      <th>2981839</th>\n",
       "      <td>2020-10-29 00:48:03</td>\n",
       "      <td>False</td>\n",
       "      <td>True</td>\n",
       "      <td>light snow or rain or thunderstorm</td>\n",
       "      <td>18.04</td>\n",
       "      <td>21.97</td>\n",
       "      <td>88</td>\n",
       "      <td>23.9994</td>\n",
       "      <td>True</td>\n",
       "    </tr>\n",
       "    <tr>\n",
       "      <th>2981840</th>\n",
       "      <td>2020-10-29 00:49:34</td>\n",
       "      <td>False</td>\n",
       "      <td>True</td>\n",
       "      <td>light snow or rain or thunderstorm</td>\n",
       "      <td>18.04</td>\n",
       "      <td>21.97</td>\n",
       "      <td>88</td>\n",
       "      <td>23.9994</td>\n",
       "      <td>False</td>\n",
       "    </tr>\n",
       "    <tr>\n",
       "      <th>2981841</th>\n",
       "      <td>2020-10-29 00:50:05</td>\n",
       "      <td>False</td>\n",
       "      <td>True</td>\n",
       "      <td>light snow or rain or thunderstorm</td>\n",
       "      <td>18.04</td>\n",
       "      <td>21.97</td>\n",
       "      <td>88</td>\n",
       "      <td>23.9994</td>\n",
       "      <td>True</td>\n",
       "    </tr>\n",
       "    <tr>\n",
       "      <th>2981842</th>\n",
       "      <td>2020-10-29 00:55:13</td>\n",
       "      <td>False</td>\n",
       "      <td>True</td>\n",
       "      <td>light snow or rain or thunderstorm</td>\n",
       "      <td>18.04</td>\n",
       "      <td>21.97</td>\n",
       "      <td>88</td>\n",
       "      <td>23.9994</td>\n",
       "      <td>True</td>\n",
       "    </tr>\n",
       "  </tbody>\n",
       "</table>\n",
       "</div>"
      ],
      "text/plain": [
       "                   datetime  holiday  workingday  \\\n",
       "2981821 2020-10-29 00:01:59    False        True   \n",
       "2981822 2020-10-29 00:04:39    False        True   \n",
       "2981823 2020-10-29 00:07:12    False        True   \n",
       "2981824 2020-10-29 00:07:57    False        True   \n",
       "2981825 2020-10-29 00:13:37    False        True   \n",
       "2981826 2020-10-29 00:13:47    False        True   \n",
       "2981827 2020-10-29 00:15:51    False        True   \n",
       "2981828 2020-10-29 00:20:54    False        True   \n",
       "2981829 2020-10-29 00:22:29    False        True   \n",
       "2981830 2020-10-29 00:23:59    False        True   \n",
       "2981831 2020-10-29 00:27:42    False        True   \n",
       "2981832 2020-10-29 00:30:11    False        True   \n",
       "2981833 2020-10-29 00:31:22    False        True   \n",
       "2981834 2020-10-29 00:34:21    False        True   \n",
       "2981835 2020-10-29 00:34:25    False        True   \n",
       "2981836 2020-10-29 00:39:19    False        True   \n",
       "2981837 2020-10-29 00:39:57    False        True   \n",
       "2981838 2020-10-29 00:41:46    False        True   \n",
       "2981839 2020-10-29 00:48:03    False        True   \n",
       "2981840 2020-10-29 00:49:34    False        True   \n",
       "2981841 2020-10-29 00:50:05    False        True   \n",
       "2981842 2020-10-29 00:55:13    False        True   \n",
       "\n",
       "                                    weather   temp  atemp  humidity  \\\n",
       "2981821  light snow or rain or thunderstorm  18.04  21.97        88   \n",
       "2981822  light snow or rain or thunderstorm  18.04  21.97        88   \n",
       "2981823  light snow or rain or thunderstorm  18.04  21.97        88   \n",
       "2981824  light snow or rain or thunderstorm  18.04  21.97        88   \n",
       "2981825  light snow or rain or thunderstorm  18.04  21.97        88   \n",
       "2981826  light snow or rain or thunderstorm  18.04  21.97        88   \n",
       "2981827  light snow or rain or thunderstorm  18.04  21.97        88   \n",
       "2981828  light snow or rain or thunderstorm  18.04  21.97        88   \n",
       "2981829  light snow or rain or thunderstorm  18.04  21.97        88   \n",
       "2981830  light snow or rain or thunderstorm  18.04  21.97        88   \n",
       "2981831  light snow or rain or thunderstorm  18.04  21.97        88   \n",
       "2981832  light snow or rain or thunderstorm  18.04  21.97        88   \n",
       "2981833  light snow or rain or thunderstorm  18.04  21.97        88   \n",
       "2981834  light snow or rain or thunderstorm  18.04  21.97        88   \n",
       "2981835  light snow or rain or thunderstorm  18.04  21.97        88   \n",
       "2981836  light snow or rain or thunderstorm  18.04  21.97        88   \n",
       "2981837  light snow or rain or thunderstorm  18.04  21.97        88   \n",
       "2981838  light snow or rain or thunderstorm  18.04  21.97        88   \n",
       "2981839  light snow or rain or thunderstorm  18.04  21.97        88   \n",
       "2981840  light snow or rain or thunderstorm  18.04  21.97        88   \n",
       "2981841  light snow or rain or thunderstorm  18.04  21.97        88   \n",
       "2981842  light snow or rain or thunderstorm  18.04  21.97        88   \n",
       "\n",
       "         windspeed  registered_customer  \n",
       "2981821    23.9994                False  \n",
       "2981822    23.9994                 True  \n",
       "2981823    23.9994                False  \n",
       "2981824    23.9994                 True  \n",
       "2981825    23.9994                 True  \n",
       "2981826    23.9994                 True  \n",
       "2981827    23.9994                 True  \n",
       "2981828    23.9994                 True  \n",
       "2981829    23.9994                 True  \n",
       "2981830    23.9994                 True  \n",
       "2981831    23.9994                 True  \n",
       "2981832    23.9994                 True  \n",
       "2981833    23.9994                 True  \n",
       "2981834    23.9994                False  \n",
       "2981835    23.9994                 True  \n",
       "2981836    23.9994                 True  \n",
       "2981837    23.9994                 True  \n",
       "2981838    23.9994                False  \n",
       "2981839    23.9994                 True  \n",
       "2981840    23.9994                False  \n",
       "2981841    23.9994                 True  \n",
       "2981842    23.9994                 True  "
      ]
     },
     "execution_count": 18,
     "metadata": {},
     "output_type": "execute_result"
    }
   ],
   "source": [
    "df[df.datetime.dt.date.apply(str) == \"2020-10-29\"]"
   ]
  },
  {
   "cell_type": "code",
   "execution_count": 19,
   "id": "0a26da33",
   "metadata": {
    "tags": []
   },
   "outputs": [
    {
     "data": {
      "application/vnd.plotly.v1+json": {
       "config": {
        "plotlyServerURL": "https://plot.ly"
       },
       "data": [
        {
         "hovertemplate": "registered_customer=False<br>hour=%{x}<br>count=%{y}<extra></extra>",
         "legendgroup": "False",
         "line": {
          "color": "#636efa",
          "dash": "solid"
         },
         "mode": "lines",
         "name": "False",
         "orientation": "v",
         "showlegend": true,
         "type": "scatter",
         "x": [
          0,
          1,
          2,
          3,
          4,
          5,
          6,
          7,
          8,
          9,
          10,
          11,
          12,
          13,
          14,
          15,
          16,
          17,
          18,
          19,
          20,
          21,
          22,
          23
         ],
         "xaxis": "x",
         "y": [
          7412,
          4648,
          3307,
          1783,
          866,
          1035,
          3077,
          8023,
          15475,
          22401,
          32886,
          42659,
          49457,
          53111,
          54428,
          53791,
          53303,
          54424,
          44724,
          35323,
          26560,
          20654,
          16324,
          11176
         ],
         "yaxis": "y"
        },
        {
         "hovertemplate": "registered_customer=True<br>hour=%{x}<br>count=%{y}<extra></extra>",
         "legendgroup": "True",
         "line": {
          "color": "#EF553B",
          "dash": "solid"
         },
         "mode": "lines",
         "name": "True",
         "orientation": "v",
         "showlegend": true,
         "type": "scatter",
         "x": [
          0,
          1,
          2,
          3,
          4,
          5,
          6,
          7,
          8,
          9,
          10,
          11,
          12,
          13,
          14,
          15,
          16,
          17,
          18,
          19,
          20,
          21,
          22,
          23
         ],
         "xaxis": "x",
         "y": [
          32029,
          19508,
          12722,
          6249,
          3743,
          13234,
          52628,
          144219,
          246876,
          137581,
          92727,
          107857,
          134498,
          131772,
          119758,
          127662,
          173025,
          285634,
          266801,
          193636,
          138218,
          104910,
          80296,
          53591
         ],
         "yaxis": "y"
        }
       ],
       "layout": {
        "autosize": true,
        "legend": {
         "title": {
          "text": "registered_customer"
         },
         "tracegroupgap": 0
        },
        "margin": {
         "t": 60
        },
        "template": {
         "data": {
          "bar": [
           {
            "error_x": {
             "color": "#2a3f5f"
            },
            "error_y": {
             "color": "#2a3f5f"
            },
            "marker": {
             "line": {
              "color": "#E5ECF6",
              "width": 0.5
             },
             "pattern": {
              "fillmode": "overlay",
              "size": 10,
              "solidity": 0.2
             }
            },
            "type": "bar"
           }
          ],
          "barpolar": [
           {
            "marker": {
             "line": {
              "color": "#E5ECF6",
              "width": 0.5
             },
             "pattern": {
              "fillmode": "overlay",
              "size": 10,
              "solidity": 0.2
             }
            },
            "type": "barpolar"
           }
          ],
          "carpet": [
           {
            "aaxis": {
             "endlinecolor": "#2a3f5f",
             "gridcolor": "white",
             "linecolor": "white",
             "minorgridcolor": "white",
             "startlinecolor": "#2a3f5f"
            },
            "baxis": {
             "endlinecolor": "#2a3f5f",
             "gridcolor": "white",
             "linecolor": "white",
             "minorgridcolor": "white",
             "startlinecolor": "#2a3f5f"
            },
            "type": "carpet"
           }
          ],
          "choropleth": [
           {
            "colorbar": {
             "outlinewidth": 0,
             "ticks": ""
            },
            "type": "choropleth"
           }
          ],
          "contour": [
           {
            "colorbar": {
             "outlinewidth": 0,
             "ticks": ""
            },
            "colorscale": [
             [
              0,
              "#0d0887"
             ],
             [
              0.1111111111111111,
              "#46039f"
             ],
             [
              0.2222222222222222,
              "#7201a8"
             ],
             [
              0.3333333333333333,
              "#9c179e"
             ],
             [
              0.4444444444444444,
              "#bd3786"
             ],
             [
              0.5555555555555556,
              "#d8576b"
             ],
             [
              0.6666666666666666,
              "#ed7953"
             ],
             [
              0.7777777777777778,
              "#fb9f3a"
             ],
             [
              0.8888888888888888,
              "#fdca26"
             ],
             [
              1,
              "#f0f921"
             ]
            ],
            "type": "contour"
           }
          ],
          "contourcarpet": [
           {
            "colorbar": {
             "outlinewidth": 0,
             "ticks": ""
            },
            "type": "contourcarpet"
           }
          ],
          "heatmap": [
           {
            "colorbar": {
             "outlinewidth": 0,
             "ticks": ""
            },
            "colorscale": [
             [
              0,
              "#0d0887"
             ],
             [
              0.1111111111111111,
              "#46039f"
             ],
             [
              0.2222222222222222,
              "#7201a8"
             ],
             [
              0.3333333333333333,
              "#9c179e"
             ],
             [
              0.4444444444444444,
              "#bd3786"
             ],
             [
              0.5555555555555556,
              "#d8576b"
             ],
             [
              0.6666666666666666,
              "#ed7953"
             ],
             [
              0.7777777777777778,
              "#fb9f3a"
             ],
             [
              0.8888888888888888,
              "#fdca26"
             ],
             [
              1,
              "#f0f921"
             ]
            ],
            "type": "heatmap"
           }
          ],
          "heatmapgl": [
           {
            "colorbar": {
             "outlinewidth": 0,
             "ticks": ""
            },
            "colorscale": [
             [
              0,
              "#0d0887"
             ],
             [
              0.1111111111111111,
              "#46039f"
             ],
             [
              0.2222222222222222,
              "#7201a8"
             ],
             [
              0.3333333333333333,
              "#9c179e"
             ],
             [
              0.4444444444444444,
              "#bd3786"
             ],
             [
              0.5555555555555556,
              "#d8576b"
             ],
             [
              0.6666666666666666,
              "#ed7953"
             ],
             [
              0.7777777777777778,
              "#fb9f3a"
             ],
             [
              0.8888888888888888,
              "#fdca26"
             ],
             [
              1,
              "#f0f921"
             ]
            ],
            "type": "heatmapgl"
           }
          ],
          "histogram": [
           {
            "marker": {
             "pattern": {
              "fillmode": "overlay",
              "size": 10,
              "solidity": 0.2
             }
            },
            "type": "histogram"
           }
          ],
          "histogram2d": [
           {
            "colorbar": {
             "outlinewidth": 0,
             "ticks": ""
            },
            "colorscale": [
             [
              0,
              "#0d0887"
             ],
             [
              0.1111111111111111,
              "#46039f"
             ],
             [
              0.2222222222222222,
              "#7201a8"
             ],
             [
              0.3333333333333333,
              "#9c179e"
             ],
             [
              0.4444444444444444,
              "#bd3786"
             ],
             [
              0.5555555555555556,
              "#d8576b"
             ],
             [
              0.6666666666666666,
              "#ed7953"
             ],
             [
              0.7777777777777778,
              "#fb9f3a"
             ],
             [
              0.8888888888888888,
              "#fdca26"
             ],
             [
              1,
              "#f0f921"
             ]
            ],
            "type": "histogram2d"
           }
          ],
          "histogram2dcontour": [
           {
            "colorbar": {
             "outlinewidth": 0,
             "ticks": ""
            },
            "colorscale": [
             [
              0,
              "#0d0887"
             ],
             [
              0.1111111111111111,
              "#46039f"
             ],
             [
              0.2222222222222222,
              "#7201a8"
             ],
             [
              0.3333333333333333,
              "#9c179e"
             ],
             [
              0.4444444444444444,
              "#bd3786"
             ],
             [
              0.5555555555555556,
              "#d8576b"
             ],
             [
              0.6666666666666666,
              "#ed7953"
             ],
             [
              0.7777777777777778,
              "#fb9f3a"
             ],
             [
              0.8888888888888888,
              "#fdca26"
             ],
             [
              1,
              "#f0f921"
             ]
            ],
            "type": "histogram2dcontour"
           }
          ],
          "mesh3d": [
           {
            "colorbar": {
             "outlinewidth": 0,
             "ticks": ""
            },
            "type": "mesh3d"
           }
          ],
          "parcoords": [
           {
            "line": {
             "colorbar": {
              "outlinewidth": 0,
              "ticks": ""
             }
            },
            "type": "parcoords"
           }
          ],
          "pie": [
           {
            "automargin": true,
            "type": "pie"
           }
          ],
          "scatter": [
           {
            "marker": {
             "colorbar": {
              "outlinewidth": 0,
              "ticks": ""
             }
            },
            "type": "scatter"
           }
          ],
          "scatter3d": [
           {
            "line": {
             "colorbar": {
              "outlinewidth": 0,
              "ticks": ""
             }
            },
            "marker": {
             "colorbar": {
              "outlinewidth": 0,
              "ticks": ""
             }
            },
            "type": "scatter3d"
           }
          ],
          "scattercarpet": [
           {
            "marker": {
             "colorbar": {
              "outlinewidth": 0,
              "ticks": ""
             }
            },
            "type": "scattercarpet"
           }
          ],
          "scattergeo": [
           {
            "marker": {
             "colorbar": {
              "outlinewidth": 0,
              "ticks": ""
             }
            },
            "type": "scattergeo"
           }
          ],
          "scattergl": [
           {
            "marker": {
             "colorbar": {
              "outlinewidth": 0,
              "ticks": ""
             }
            },
            "type": "scattergl"
           }
          ],
          "scattermapbox": [
           {
            "marker": {
             "colorbar": {
              "outlinewidth": 0,
              "ticks": ""
             }
            },
            "type": "scattermapbox"
           }
          ],
          "scatterpolar": [
           {
            "marker": {
             "colorbar": {
              "outlinewidth": 0,
              "ticks": ""
             }
            },
            "type": "scatterpolar"
           }
          ],
          "scatterpolargl": [
           {
            "marker": {
             "colorbar": {
              "outlinewidth": 0,
              "ticks": ""
             }
            },
            "type": "scatterpolargl"
           }
          ],
          "scatterternary": [
           {
            "marker": {
             "colorbar": {
              "outlinewidth": 0,
              "ticks": ""
             }
            },
            "type": "scatterternary"
           }
          ],
          "surface": [
           {
            "colorbar": {
             "outlinewidth": 0,
             "ticks": ""
            },
            "colorscale": [
             [
              0,
              "#0d0887"
             ],
             [
              0.1111111111111111,
              "#46039f"
             ],
             [
              0.2222222222222222,
              "#7201a8"
             ],
             [
              0.3333333333333333,
              "#9c179e"
             ],
             [
              0.4444444444444444,
              "#bd3786"
             ],
             [
              0.5555555555555556,
              "#d8576b"
             ],
             [
              0.6666666666666666,
              "#ed7953"
             ],
             [
              0.7777777777777778,
              "#fb9f3a"
             ],
             [
              0.8888888888888888,
              "#fdca26"
             ],
             [
              1,
              "#f0f921"
             ]
            ],
            "type": "surface"
           }
          ],
          "table": [
           {
            "cells": {
             "fill": {
              "color": "#EBF0F8"
             },
             "line": {
              "color": "white"
             }
            },
            "header": {
             "fill": {
              "color": "#C8D4E3"
             },
             "line": {
              "color": "white"
             }
            },
            "type": "table"
           }
          ]
         },
         "layout": {
          "annotationdefaults": {
           "arrowcolor": "#2a3f5f",
           "arrowhead": 0,
           "arrowwidth": 1
          },
          "autotypenumbers": "strict",
          "coloraxis": {
           "colorbar": {
            "outlinewidth": 0,
            "ticks": ""
           }
          },
          "colorscale": {
           "diverging": [
            [
             0,
             "#8e0152"
            ],
            [
             0.1,
             "#c51b7d"
            ],
            [
             0.2,
             "#de77ae"
            ],
            [
             0.3,
             "#f1b6da"
            ],
            [
             0.4,
             "#fde0ef"
            ],
            [
             0.5,
             "#f7f7f7"
            ],
            [
             0.6,
             "#e6f5d0"
            ],
            [
             0.7,
             "#b8e186"
            ],
            [
             0.8,
             "#7fbc41"
            ],
            [
             0.9,
             "#4d9221"
            ],
            [
             1,
             "#276419"
            ]
           ],
           "sequential": [
            [
             0,
             "#0d0887"
            ],
            [
             0.1111111111111111,
             "#46039f"
            ],
            [
             0.2222222222222222,
             "#7201a8"
            ],
            [
             0.3333333333333333,
             "#9c179e"
            ],
            [
             0.4444444444444444,
             "#bd3786"
            ],
            [
             0.5555555555555556,
             "#d8576b"
            ],
            [
             0.6666666666666666,
             "#ed7953"
            ],
            [
             0.7777777777777778,
             "#fb9f3a"
            ],
            [
             0.8888888888888888,
             "#fdca26"
            ],
            [
             1,
             "#f0f921"
            ]
           ],
           "sequentialminus": [
            [
             0,
             "#0d0887"
            ],
            [
             0.1111111111111111,
             "#46039f"
            ],
            [
             0.2222222222222222,
             "#7201a8"
            ],
            [
             0.3333333333333333,
             "#9c179e"
            ],
            [
             0.4444444444444444,
             "#bd3786"
            ],
            [
             0.5555555555555556,
             "#d8576b"
            ],
            [
             0.6666666666666666,
             "#ed7953"
            ],
            [
             0.7777777777777778,
             "#fb9f3a"
            ],
            [
             0.8888888888888888,
             "#fdca26"
            ],
            [
             1,
             "#f0f921"
            ]
           ]
          },
          "colorway": [
           "#636efa",
           "#EF553B",
           "#00cc96",
           "#ab63fa",
           "#FFA15A",
           "#19d3f3",
           "#FF6692",
           "#B6E880",
           "#FF97FF",
           "#FECB52"
          ],
          "font": {
           "color": "#2a3f5f"
          },
          "geo": {
           "bgcolor": "white",
           "lakecolor": "white",
           "landcolor": "#E5ECF6",
           "showlakes": true,
           "showland": true,
           "subunitcolor": "white"
          },
          "hoverlabel": {
           "align": "left"
          },
          "hovermode": "closest",
          "mapbox": {
           "style": "light"
          },
          "paper_bgcolor": "white",
          "plot_bgcolor": "#E5ECF6",
          "polar": {
           "angularaxis": {
            "gridcolor": "white",
            "linecolor": "white",
            "ticks": ""
           },
           "bgcolor": "#E5ECF6",
           "radialaxis": {
            "gridcolor": "white",
            "linecolor": "white",
            "ticks": ""
           }
          },
          "scene": {
           "xaxis": {
            "backgroundcolor": "#E5ECF6",
            "gridcolor": "white",
            "gridwidth": 2,
            "linecolor": "white",
            "showbackground": true,
            "ticks": "",
            "zerolinecolor": "white"
           },
           "yaxis": {
            "backgroundcolor": "#E5ECF6",
            "gridcolor": "white",
            "gridwidth": 2,
            "linecolor": "white",
            "showbackground": true,
            "ticks": "",
            "zerolinecolor": "white"
           },
           "zaxis": {
            "backgroundcolor": "#E5ECF6",
            "gridcolor": "white",
            "gridwidth": 2,
            "linecolor": "white",
            "showbackground": true,
            "ticks": "",
            "zerolinecolor": "white"
           }
          },
          "shapedefaults": {
           "line": {
            "color": "#2a3f5f"
           }
          },
          "ternary": {
           "aaxis": {
            "gridcolor": "white",
            "linecolor": "white",
            "ticks": ""
           },
           "baxis": {
            "gridcolor": "white",
            "linecolor": "white",
            "ticks": ""
           },
           "bgcolor": "#E5ECF6",
           "caxis": {
            "gridcolor": "white",
            "linecolor": "white",
            "ticks": ""
           }
          },
          "title": {
           "x": 0.05
          },
          "xaxis": {
           "automargin": true,
           "gridcolor": "white",
           "linecolor": "white",
           "ticks": "",
           "title": {
            "standoff": 15
           },
           "zerolinecolor": "white",
           "zerolinewidth": 2
          },
          "yaxis": {
           "automargin": true,
           "gridcolor": "white",
           "linecolor": "white",
           "ticks": "",
           "title": {
            "standoff": 15
           },
           "zerolinecolor": "white",
           "zerolinewidth": 2
          }
         }
        },
        "xaxis": {
         "anchor": "y",
         "autorange": true,
         "domain": [
          0,
          1
         ],
         "range": [
          0,
          23
         ],
         "title": {
          "text": "hour"
         },
         "type": "linear"
        },
        "yaxis": {
         "anchor": "x",
         "autorange": true,
         "domain": [
          0,
          1
         ],
         "range": [
          -14954.444444444443,
          301454.44444444444
         ],
         "title": {
          "text": "count"
         },
         "type": "linear"
        }
       }
      },
      "image/png": "[encoded data removed]",
      "text/html": [
       "<div>                            <div id=\"6f19ac91-d5fc-4b9f-9274-a112edf179c4\" class=\"plotly-graph-div\" style=\"height:525px; width:100%;\"></div>            <script type=\"text/javascript\">                require([\"plotly\"], function(Plotly) {                    window.PLOTLYENV=window.PLOTLYENV || {};                                    if (document.getElementById(\"6f19ac91-d5fc-4b9f-9274-a112edf179c4\")) {                    Plotly.newPlot(                        \"6f19ac91-d5fc-4b9f-9274-a112edf179c4\",                        [{\"hovertemplate\":\"registered_customer=False<br>hour=%{x}<br>count=%{y}<extra></extra>\",\"legendgroup\":\"False\",\"line\":{\"color\":\"#636efa\",\"dash\":\"solid\"},\"mode\":\"lines\",\"name\":\"False\",\"orientation\":\"v\",\"showlegend\":true,\"type\":\"scatter\",\"x\":[0,1,2,3,4,5,6,7,8,9,10,11,12,13,14,15,16,17,18,19,20,21,22,23],\"xaxis\":\"x\",\"y\":[7412,4648,3307,1783,866,1035,3077,8023,15475,22401,32886,42659,49457,53111,54428,53791,53303,54424,44724,35323,26560,20654,16324,11176],\"yaxis\":\"y\"},{\"hovertemplate\":\"registered_customer=True<br>hour=%{x}<br>count=%{y}<extra></extra>\",\"legendgroup\":\"True\",\"line\":{\"color\":\"#EF553B\",\"dash\":\"solid\"},\"mode\":\"lines\",\"name\":\"True\",\"orientation\":\"v\",\"showlegend\":true,\"type\":\"scatter\",\"x\":[0,1,2,3,4,5,6,7,8,9,10,11,12,13,14,15,16,17,18,19,20,21,22,23],\"xaxis\":\"x\",\"y\":[32029,19508,12722,6249,3743,13234,52628,144219,246876,137581,92727,107857,134498,131772,119758,127662,173025,285634,266801,193636,138218,104910,80296,53591],\"yaxis\":\"y\"}],                        {\"legend\":{\"title\":{\"text\":\"registered_customer\"},\"tracegroupgap\":0},\"margin\":{\"t\":60},\"template\":{\"data\":{\"bar\":[{\"error_x\":{\"color\":\"#2a3f5f\"},\"error_y\":{\"color\":\"#2a3f5f\"},\"marker\":{\"line\":{\"color\":\"#E5ECF6\",\"width\":0.5},\"pattern\":{\"fillmode\":\"overlay\",\"size\":10,\"solidity\":0.2}},\"type\":\"bar\"}],\"barpolar\":[{\"marker\":{\"line\":{\"color\":\"#E5ECF6\",\"width\":0.5},\"pattern\":{\"fillmode\":\"overlay\",\"size\":10,\"solidity\":0.2}},\"type\":\"barpolar\"}],\"carpet\":[{\"aaxis\":{\"endlinecolor\":\"#2a3f5f\",\"gridcolor\":\"white\",\"linecolor\":\"white\",\"minorgridcolor\":\"white\",\"startlinecolor\":\"#2a3f5f\"},\"baxis\":{\"endlinecolor\":\"#2a3f5f\",\"gridcolor\":\"white\",\"linecolor\":\"white\",\"minorgridcolor\":\"white\",\"startlinecolor\":\"#2a3f5f\"},\"type\":\"carpet\"}],\"choropleth\":[{\"colorbar\":{\"outlinewidth\":0,\"ticks\":\"\"},\"type\":\"choropleth\"}],\"contour\":[{\"colorbar\":{\"outlinewidth\":0,\"ticks\":\"\"},\"colorscale\":[[0.0,\"#0d0887\"],[0.1111111111111111,\"#46039f\"],[0.2222222222222222,\"#7201a8\"],[0.3333333333333333,\"#9c179e\"],[0.4444444444444444,\"#bd3786\"],[0.5555555555555556,\"#d8576b\"],[0.6666666666666666,\"#ed7953\"],[0.7777777777777778,\"#fb9f3a\"],[0.8888888888888888,\"#fdca26\"],[1.0,\"#f0f921\"]],\"type\":\"contour\"}],\"contourcarpet\":[{\"colorbar\":{\"outlinewidth\":0,\"ticks\":\"\"},\"type\":\"contourcarpet\"}],\"heatmap\":[{\"colorbar\":{\"outlinewidth\":0,\"ticks\":\"\"},\"colorscale\":[[0.0,\"#0d0887\"],[0.1111111111111111,\"#46039f\"],[0.2222222222222222,\"#7201a8\"],[0.3333333333333333,\"#9c179e\"],[0.4444444444444444,\"#bd3786\"],[0.5555555555555556,\"#d8576b\"],[0.6666666666666666,\"#ed7953\"],[0.7777777777777778,\"#fb9f3a\"],[0.8888888888888888,\"#fdca26\"],[1.0,\"#f0f921\"]],\"type\":\"heatmap\"}],\"heatmapgl\":[{\"colorbar\":{\"outlinewidth\":0,\"ticks\":\"\"},\"colorscale\":[[0.0,\"#0d0887\"],[0.1111111111111111,\"#46039f\"],[0.2222222222222222,\"#7201a8\"],[0.3333333333333333,\"#9c179e\"],[0.4444444444444444,\"#bd3786\"],[0.5555555555555556,\"#d8576b\"],[0.6666666666666666,\"#ed7953\"],[0.7777777777777778,\"#fb9f3a\"],[0.8888888888888888,\"#fdca26\"],[1.0,\"#f0f921\"]],\"type\":\"heatmapgl\"}],\"histogram\":[{\"marker\":{\"pattern\":{\"fillmode\":\"overlay\",\"size\":10,\"solidity\":0.2}},\"type\":\"histogram\"}],\"histogram2d\":[{\"colorbar\":{\"outlinewidth\":0,\"ticks\":\"\"},\"colorscale\":[[0.0,\"#0d0887\"],[0.1111111111111111,\"#46039f\"],[0.2222222222222222,\"#7201a8\"],[0.3333333333333333,\"#9c179e\"],[0.4444444444444444,\"#bd3786\"],[0.5555555555555556,\"#d8576b\"],[0.6666666666666666,\"#ed7953\"],[0.7777777777777778,\"#fb9f3a\"],[0.8888888888888888,\"#fdca26\"],[1.0,\"#f0f921\"]],\"type\":\"histogram2d\"}],\"histogram2dcontour\":[{\"colorbar\":{\"outlinewidth\":0,\"ticks\":\"\"},\"colorscale\":[[0.0,\"#0d0887\"],[0.1111111111111111,\"#46039f\"],[0.2222222222222222,\"#7201a8\"],[0.3333333333333333,\"#9c179e\"],[0.4444444444444444,\"#bd3786\"],[0.5555555555555556,\"#d8576b\"],[0.6666666666666666,\"#ed7953\"],[0.7777777777777778,\"#fb9f3a\"],[0.8888888888888888,\"#fdca26\"],[1.0,\"#f0f921\"]],\"type\":\"histogram2dcontour\"}],\"mesh3d\":[{\"colorbar\":{\"outlinewidth\":0,\"ticks\":\"\"},\"type\":\"mesh3d\"}],\"parcoords\":[{\"line\":{\"colorbar\":{\"outlinewidth\":0,\"ticks\":\"\"}},\"type\":\"parcoords\"}],\"pie\":[{\"automargin\":true,\"type\":\"pie\"}],\"scatter\":[{\"marker\":{\"colorbar\":{\"outlinewidth\":0,\"ticks\":\"\"}},\"type\":\"scatter\"}],\"scatter3d\":[{\"line\":{\"colorbar\":{\"outlinewidth\":0,\"ticks\":\"\"}},\"marker\":{\"colorbar\":{\"outlinewidth\":0,\"ticks\":\"\"}},\"type\":\"scatter3d\"}],\"scattercarpet\":[{\"marker\":{\"colorbar\":{\"outlinewidth\":0,\"ticks\":\"\"}},\"type\":\"scattercarpet\"}],\"scattergeo\":[{\"marker\":{\"colorbar\":{\"outlinewidth\":0,\"ticks\":\"\"}},\"type\":\"scattergeo\"}],\"scattergl\":[{\"marker\":{\"colorbar\":{\"outlinewidth\":0,\"ticks\":\"\"}},\"type\":\"scattergl\"}],\"scattermapbox\":[{\"marker\":{\"colorbar\":{\"outlinewidth\":0,\"ticks\":\"\"}},\"type\":\"scattermapbox\"}],\"scatterpolar\":[{\"marker\":{\"colorbar\":{\"outlinewidth\":0,\"ticks\":\"\"}},\"type\":\"scatterpolar\"}],\"scatterpolargl\":[{\"marker\":{\"colorbar\":{\"outlinewidth\":0,\"ticks\":\"\"}},\"type\":\"scatterpolargl\"}],\"scatterternary\":[{\"marker\":{\"colorbar\":{\"outlinewidth\":0,\"ticks\":\"\"}},\"type\":\"scatterternary\"}],\"surface\":[{\"colorbar\":{\"outlinewidth\":0,\"ticks\":\"\"},\"colorscale\":[[0.0,\"#0d0887\"],[0.1111111111111111,\"#46039f\"],[0.2222222222222222,\"#7201a8\"],[0.3333333333333333,\"#9c179e\"],[0.4444444444444444,\"#bd3786\"],[0.5555555555555556,\"#d8576b\"],[0.6666666666666666,\"#ed7953\"],[0.7777777777777778,\"#fb9f3a\"],[0.8888888888888888,\"#fdca26\"],[1.0,\"#f0f921\"]],\"type\":\"surface\"}],\"table\":[{\"cells\":{\"fill\":{\"color\":\"#EBF0F8\"},\"line\":{\"color\":\"white\"}},\"header\":{\"fill\":{\"color\":\"#C8D4E3\"},\"line\":{\"color\":\"white\"}},\"type\":\"table\"}]},\"layout\":{\"annotationdefaults\":{\"arrowcolor\":\"#2a3f5f\",\"arrowhead\":0,\"arrowwidth\":1},\"autotypenumbers\":\"strict\",\"coloraxis\":{\"colorbar\":{\"outlinewidth\":0,\"ticks\":\"\"}},\"colorscale\":{\"diverging\":[[0,\"#8e0152\"],[0.1,\"#c51b7d\"],[0.2,\"#de77ae\"],[0.3,\"#f1b6da\"],[0.4,\"#fde0ef\"],[0.5,\"#f7f7f7\"],[0.6,\"#e6f5d0\"],[0.7,\"#b8e186\"],[0.8,\"#7fbc41\"],[0.9,\"#4d9221\"],[1,\"#276419\"]],\"sequential\":[[0.0,\"#0d0887\"],[0.1111111111111111,\"#46039f\"],[0.2222222222222222,\"#7201a8\"],[0.3333333333333333,\"#9c179e\"],[0.4444444444444444,\"#bd3786\"],[0.5555555555555556,\"#d8576b\"],[0.6666666666666666,\"#ed7953\"],[0.7777777777777778,\"#fb9f3a\"],[0.8888888888888888,\"#fdca26\"],[1.0,\"#f0f921\"]],\"sequentialminus\":[[0.0,\"#0d0887\"],[0.1111111111111111,\"#46039f\"],[0.2222222222222222,\"#7201a8\"],[0.3333333333333333,\"#9c179e\"],[0.4444444444444444,\"#bd3786\"],[0.5555555555555556,\"#d8576b\"],[0.6666666666666666,\"#ed7953\"],[0.7777777777777778,\"#fb9f3a\"],[0.8888888888888888,\"#fdca26\"],[1.0,\"#f0f921\"]]},\"colorway\":[\"#636efa\",\"#EF553B\",\"#00cc96\",\"#ab63fa\",\"#FFA15A\",\"#19d3f3\",\"#FF6692\",\"#B6E880\",\"#FF97FF\",\"#FECB52\"],\"font\":{\"color\":\"#2a3f5f\"},\"geo\":{\"bgcolor\":\"white\",\"lakecolor\":\"white\",\"landcolor\":\"#E5ECF6\",\"showlakes\":true,\"showland\":true,\"subunitcolor\":\"white\"},\"hoverlabel\":{\"align\":\"left\"},\"hovermode\":\"closest\",\"mapbox\":{\"style\":\"light\"},\"paper_bgcolor\":\"white\",\"plot_bgcolor\":\"#E5ECF6\",\"polar\":{\"angularaxis\":{\"gridcolor\":\"white\",\"linecolor\":\"white\",\"ticks\":\"\"},\"bgcolor\":\"#E5ECF6\",\"radialaxis\":{\"gridcolor\":\"white\",\"linecolor\":\"white\",\"ticks\":\"\"}},\"scene\":{\"xaxis\":{\"backgroundcolor\":\"#E5ECF6\",\"gridcolor\":\"white\",\"gridwidth\":2,\"linecolor\":\"white\",\"showbackground\":true,\"ticks\":\"\",\"zerolinecolor\":\"white\"},\"yaxis\":{\"backgroundcolor\":\"#E5ECF6\",\"gridcolor\":\"white\",\"gridwidth\":2,\"linecolor\":\"white\",\"showbackground\":true,\"ticks\":\"\",\"zerolinecolor\":\"white\"},\"zaxis\":{\"backgroundcolor\":\"#E5ECF6\",\"gridcolor\":\"white\",\"gridwidth\":2,\"linecolor\":\"white\",\"showbackground\":true,\"ticks\":\"\",\"zerolinecolor\":\"white\"}},\"shapedefaults\":{\"line\":{\"color\":\"#2a3f5f\"}},\"ternary\":{\"aaxis\":{\"gridcolor\":\"white\",\"linecolor\":\"white\",\"ticks\":\"\"},\"baxis\":{\"gridcolor\":\"white\",\"linecolor\":\"white\",\"ticks\":\"\"},\"bgcolor\":\"#E5ECF6\",\"caxis\":{\"gridcolor\":\"white\",\"linecolor\":\"white\",\"ticks\":\"\"}},\"title\":{\"x\":0.05},\"xaxis\":{\"automargin\":true,\"gridcolor\":\"white\",\"linecolor\":\"white\",\"ticks\":\"\",\"title\":{\"standoff\":15},\"zerolinecolor\":\"white\",\"zerolinewidth\":2},\"yaxis\":{\"automargin\":true,\"gridcolor\":\"white\",\"linecolor\":\"white\",\"ticks\":\"\",\"title\":{\"standoff\":15},\"zerolinecolor\":\"white\",\"zerolinewidth\":2}}},\"xaxis\":{\"anchor\":\"y\",\"domain\":[0.0,1.0],\"title\":{\"text\":\"hour\"}},\"yaxis\":{\"anchor\":\"x\",\"domain\":[0.0,1.0],\"title\":{\"text\":\"count\"}}},                        {\"responsive\": true}                    ).then(function(){\n",
       "                            \n",
       "var gd = document.getElementById('6f19ac91-d5fc-4b9f-9274-a112edf179c4');\n",
       "var x = new MutationObserver(function (mutations, observer) {{\n",
       "        var display = window.getComputedStyle(gd).display;\n",
       "        if (!display || display === 'none') {{\n",
       "            console.log([gd, 'removed!']);\n",
       "            Plotly.purge(gd);\n",
       "            observer.disconnect();\n",
       "        }}\n",
       "}});\n",
       "\n",
       "// Listen for the removal of the full notebook cells\n",
       "var notebookContainer = gd.closest('#notebook-container');\n",
       "if (notebookContainer) {{\n",
       "    x.observe(notebookContainer, {childList: true});\n",
       "}}\n",
       "\n",
       "// Listen for the clearing of the current output cell\n",
       "var outputEl = gd.closest('.output');\n",
       "if (outputEl) {{\n",
       "    x.observe(outputEl, {childList: true});\n",
       "}}\n",
       "\n",
       "                        })                };                });            </script>        </div>"
      ]
     },
     "metadata": {},
     "output_type": "display_data"
    }
   ],
   "source": [
    "fig = px.line(df_by_hour, x=\"hour\", y=\"count\", color=\"registered_customer\")\n",
    "fig.show()"
   ]
  },
  {
   "cell_type": "code",
   "execution_count": 20,
   "id": "1fe622b9",
   "metadata": {
    "tags": []
   },
   "outputs": [
    {
     "data": {
      "application/vnd.plotly.v1+json": {
       "config": {
        "plotlyServerURL": "https://plot.ly"
       },
       "data": [
        {
         "hovertemplate": "weather=clear, few clouds<br>hour=%{x}<br>count=%{y}<extra></extra>",
         "legendgroup": "clear, few clouds",
         "line": {
          "color": "#636efa",
          "dash": "solid"
         },
         "mode": "lines",
         "name": "clear, few clouds",
         "orientation": "v",
         "showlegend": true,
         "type": "scatter",
         "x": [
          0,
          1,
          2,
          3,
          4,
          5,
          6,
          7,
          8,
          9,
          10,
          11,
          12,
          13,
          14,
          15,
          16,
          17,
          18,
          19,
          20,
          21,
          22,
          23
         ],
         "xaxis": "x",
         "y": [
          29005,
          16844,
          10920,
          5429,
          3070,
          9462,
          36534,
          96656,
          160274,
          98174,
          85453,
          103911,
          125070,
          131288,
          126633,
          132717,
          170081,
          256060,
          230312,
          171826,
          128103,
          95954,
          73823,
          47285
         ],
         "yaxis": "y"
        },
        {
         "hovertemplate": "weather=cloudy, mist<br>hour=%{x}<br>count=%{y}<extra></extra>",
         "legendgroup": "cloudy, mist",
         "line": {
          "color": "#EF553B",
          "dash": "solid"
         },
         "mode": "lines",
         "name": "cloudy, mist",
         "orientation": "v",
         "showlegend": true,
         "type": "scatter",
         "x": [
          0,
          1,
          2,
          3,
          4,
          5,
          6,
          7,
          8,
          9,
          10,
          11,
          12,
          13,
          14,
          15,
          16,
          17,
          18,
          19,
          20,
          21,
          22,
          23
         ],
         "xaxis": "x",
         "y": [
          8739,
          6279,
          4327,
          2231,
          1271,
          4124,
          16117,
          47036,
          90495,
          55312,
          35867,
          42248,
          51437,
          46936,
          40200,
          40183,
          44490,
          62904,
          62438,
          46887,
          28519,
          24037,
          18966,
          13882
         ],
         "yaxis": "y"
        },
        {
         "hovertemplate": "weather=heavy rain or thunderstorm or snow or ice pallets<br>hour=%{x}<br>count=%{y}<extra></extra>",
         "legendgroup": "heavy rain or thunderstorm or snow or ice pallets",
         "line": {
          "color": "#00cc96",
          "dash": "solid"
         },
         "mode": "lines",
         "name": "heavy rain or thunderstorm or snow or ice pallets",
         "orientation": "v",
         "showlegend": true,
         "type": "scatter",
         "x": [
          0,
          1,
          2,
          3,
          4,
          5,
          6,
          7,
          8,
          9,
          10,
          11,
          12,
          13,
          14,
          15,
          16,
          17,
          18,
          19,
          20,
          21,
          22,
          23
         ],
         "xaxis": "x",
         "y": [
          0,
          51,
          0,
          0,
          0,
          0,
          0,
          0,
          0,
          0,
          0,
          0,
          0,
          0,
          0,
          0,
          25,
          0,
          164,
          0,
          0,
          0,
          0,
          0
         ],
         "yaxis": "y"
        },
        {
         "hovertemplate": "weather=light snow or rain or thunderstorm<br>hour=%{x}<br>count=%{y}<extra></extra>",
         "legendgroup": "light snow or rain or thunderstorm",
         "line": {
          "color": "#ab63fa",
          "dash": "solid"
         },
         "mode": "lines",
         "name": "light snow or rain or thunderstorm",
         "orientation": "v",
         "showlegend": true,
         "type": "scatter",
         "x": [
          0,
          1,
          2,
          3,
          4,
          5,
          6,
          7,
          8,
          9,
          10,
          11,
          12,
          13,
          14,
          15,
          16,
          17,
          18,
          19,
          20,
          21,
          22,
          23
         ],
         "xaxis": "x",
         "y": [
          1697,
          982,
          782,
          372,
          268,
          683,
          3054,
          8550,
          11582,
          6496,
          4293,
          4357,
          7448,
          6659,
          7353,
          8553,
          11732,
          21094,
          18611,
          10246,
          8156,
          5573,
          3831,
          3600
         ],
         "yaxis": "y"
        }
       ],
       "layout": {
        "autosize": true,
        "legend": {
         "title": {
          "text": "weather"
         },
         "tracegroupgap": 0
        },
        "margin": {
         "t": 60
        },
        "template": {
         "data": {
          "bar": [
           {
            "error_x": {
             "color": "#2a3f5f"
            },
            "error_y": {
             "color": "#2a3f5f"
            },
            "marker": {
             "line": {
              "color": "#E5ECF6",
              "width": 0.5
             },
             "pattern": {
              "fillmode": "overlay",
              "size": 10,
              "solidity": 0.2
             }
            },
            "type": "bar"
           }
          ],
          "barpolar": [
           {
            "marker": {
             "line": {
              "color": "#E5ECF6",
              "width": 0.5
             },
             "pattern": {
              "fillmode": "overlay",
              "size": 10,
              "solidity": 0.2
             }
            },
            "type": "barpolar"
           }
          ],
          "carpet": [
           {
            "aaxis": {
             "endlinecolor": "#2a3f5f",
             "gridcolor": "white",
             "linecolor": "white",
             "minorgridcolor": "white",
             "startlinecolor": "#2a3f5f"
            },
            "baxis": {
             "endlinecolor": "#2a3f5f",
             "gridcolor": "white",
             "linecolor": "white",
             "minorgridcolor": "white",
             "startlinecolor": "#2a3f5f"
            },
            "type": "carpet"
           }
          ],
          "choropleth": [
           {
            "colorbar": {
             "outlinewidth": 0,
             "ticks": ""
            },
            "type": "choropleth"
           }
          ],
          "contour": [
           {
            "colorbar": {
             "outlinewidth": 0,
             "ticks": ""
            },
            "colorscale": [
             [
              0,
              "#0d0887"
             ],
             [
              0.1111111111111111,
              "#46039f"
             ],
             [
              0.2222222222222222,
              "#7201a8"
             ],
             [
              0.3333333333333333,
              "#9c179e"
             ],
             [
              0.4444444444444444,
              "#bd3786"
             ],
             [
              0.5555555555555556,
              "#d8576b"
             ],
             [
              0.6666666666666666,
              "#ed7953"
             ],
             [
              0.7777777777777778,
              "#fb9f3a"
             ],
             [
              0.8888888888888888,
              "#fdca26"
             ],
             [
              1,
              "#f0f921"
             ]
            ],
            "type": "contour"
           }
          ],
          "contourcarpet": [
           {
            "colorbar": {
             "outlinewidth": 0,
             "ticks": ""
            },
            "type": "contourcarpet"
           }
          ],
          "heatmap": [
           {
            "colorbar": {
             "outlinewidth": 0,
             "ticks": ""
            },
            "colorscale": [
             [
              0,
              "#0d0887"
             ],
             [
              0.1111111111111111,
              "#46039f"
             ],
             [
              0.2222222222222222,
              "#7201a8"
             ],
             [
              0.3333333333333333,
              "#9c179e"
             ],
             [
              0.4444444444444444,
              "#bd3786"
             ],
             [
              0.5555555555555556,
              "#d8576b"
             ],
             [
              0.6666666666666666,
              "#ed7953"
             ],
             [
              0.7777777777777778,
              "#fb9f3a"
             ],
             [
              0.8888888888888888,
              "#fdca26"
             ],
             [
              1,
              "#f0f921"
             ]
            ],
            "type": "heatmap"
           }
          ],
          "heatmapgl": [
           {
            "colorbar": {
             "outlinewidth": 0,
             "ticks": ""
            },
            "colorscale": [
             [
              0,
              "#0d0887"
             ],
             [
              0.1111111111111111,
              "#46039f"
             ],
             [
              0.2222222222222222,
              "#7201a8"
             ],
             [
              0.3333333333333333,
              "#9c179e"
             ],
             [
              0.4444444444444444,
              "#bd3786"
             ],
             [
              0.5555555555555556,
              "#d8576b"
             ],
             [
              0.6666666666666666,
              "#ed7953"
             ],
             [
              0.7777777777777778,
              "#fb9f3a"
             ],
             [
              0.8888888888888888,
              "#fdca26"
             ],
             [
              1,
              "#f0f921"
             ]
            ],
            "type": "heatmapgl"
           }
          ],
          "histogram": [
           {
            "marker": {
             "pattern": {
              "fillmode": "overlay",
              "size": 10,
              "solidity": 0.2
             }
            },
            "type": "histogram"
           }
          ],
          "histogram2d": [
           {
            "colorbar": {
             "outlinewidth": 0,
             "ticks": ""
            },
            "colorscale": [
             [
              0,
              "#0d0887"
             ],
             [
              0.1111111111111111,
              "#46039f"
             ],
             [
              0.2222222222222222,
              "#7201a8"
             ],
             [
              0.3333333333333333,
              "#9c179e"
             ],
             [
              0.4444444444444444,
              "#bd3786"
             ],
             [
              0.5555555555555556,
              "#d8576b"
             ],
             [
              0.6666666666666666,
              "#ed7953"
             ],
             [
              0.7777777777777778,
              "#fb9f3a"
             ],
             [
              0.8888888888888888,
              "#fdca26"
             ],
             [
              1,
              "#f0f921"
             ]
            ],
            "type": "histogram2d"
           }
          ],
          "histogram2dcontour": [
           {
            "colorbar": {
             "outlinewidth": 0,
             "ticks": ""
            },
            "colorscale": [
             [
              0,
              "#0d0887"
             ],
             [
              0.1111111111111111,
              "#46039f"
             ],
             [
              0.2222222222222222,
              "#7201a8"
             ],
             [
              0.3333333333333333,
              "#9c179e"
             ],
             [
              0.4444444444444444,
              "#bd3786"
             ],
             [
              0.5555555555555556,
              "#d8576b"
             ],
             [
              0.6666666666666666,
              "#ed7953"
             ],
             [
              0.7777777777777778,
              "#fb9f3a"
             ],
             [
              0.8888888888888888,
              "#fdca26"
             ],
             [
              1,
              "#f0f921"
             ]
            ],
            "type": "histogram2dcontour"
           }
          ],
          "mesh3d": [
           {
            "colorbar": {
             "outlinewidth": 0,
             "ticks": ""
            },
            "type": "mesh3d"
           }
          ],
          "parcoords": [
           {
            "line": {
             "colorbar": {
              "outlinewidth": 0,
              "ticks": ""
             }
            },
            "type": "parcoords"
           }
          ],
          "pie": [
           {
            "automargin": true,
            "type": "pie"
           }
          ],
          "scatter": [
           {
            "marker": {
             "colorbar": {
              "outlinewidth": 0,
              "ticks": ""
             }
            },
            "type": "scatter"
           }
          ],
          "scatter3d": [
           {
            "line": {
             "colorbar": {
              "outlinewidth": 0,
              "ticks": ""
             }
            },
            "marker": {
             "colorbar": {
              "outlinewidth": 0,
              "ticks": ""
             }
            },
            "type": "scatter3d"
           }
          ],
          "scattercarpet": [
           {
            "marker": {
             "colorbar": {
              "outlinewidth": 0,
              "ticks": ""
             }
            },
            "type": "scattercarpet"
           }
          ],
          "scattergeo": [
           {
            "marker": {
             "colorbar": {
              "outlinewidth": 0,
              "ticks": ""
             }
            },
            "type": "scattergeo"
           }
          ],
          "scattergl": [
           {
            "marker": {
             "colorbar": {
              "outlinewidth": 0,
              "ticks": ""
             }
            },
            "type": "scattergl"
           }
          ],
          "scattermapbox": [
           {
            "marker": {
             "colorbar": {
              "outlinewidth": 0,
              "ticks": ""
             }
            },
            "type": "scattermapbox"
           }
          ],
          "scatterpolar": [
           {
            "marker": {
             "colorbar": {
              "outlinewidth": 0,
              "ticks": ""
             }
            },
            "type": "scatterpolar"
           }
          ],
          "scatterpolargl": [
           {
            "marker": {
             "colorbar": {
              "outlinewidth": 0,
              "ticks": ""
             }
            },
            "type": "scatterpolargl"
           }
          ],
          "scatterternary": [
           {
            "marker": {
             "colorbar": {
              "outlinewidth": 0,
              "ticks": ""
             }
            },
            "type": "scatterternary"
           }
          ],
          "surface": [
           {
            "colorbar": {
             "outlinewidth": 0,
             "ticks": ""
            },
            "colorscale": [
             [
              0,
              "#0d0887"
             ],
             [
              0.1111111111111111,
              "#46039f"
             ],
             [
              0.2222222222222222,
              "#7201a8"
             ],
             [
              0.3333333333333333,
              "#9c179e"
             ],
             [
              0.4444444444444444,
              "#bd3786"
             ],
             [
              0.5555555555555556,
              "#d8576b"
             ],
             [
              0.6666666666666666,
              "#ed7953"
             ],
             [
              0.7777777777777778,
              "#fb9f3a"
             ],
             [
              0.8888888888888888,
              "#fdca26"
             ],
             [
              1,
              "#f0f921"
             ]
            ],
            "type": "surface"
           }
          ],
          "table": [
           {
            "cells": {
             "fill": {
              "color": "#EBF0F8"
             },
             "line": {
              "color": "white"
             }
            },
            "header": {
             "fill": {
              "color": "#C8D4E3"
             },
             "line": {
              "color": "white"
             }
            },
            "type": "table"
           }
          ]
         },
         "layout": {
          "annotationdefaults": {
           "arrowcolor": "#2a3f5f",
           "arrowhead": 0,
           "arrowwidth": 1
          },
          "autotypenumbers": "strict",
          "coloraxis": {
           "colorbar": {
            "outlinewidth": 0,
            "ticks": ""
           }
          },
          "colorscale": {
           "diverging": [
            [
             0,
             "#8e0152"
            ],
            [
             0.1,
             "#c51b7d"
            ],
            [
             0.2,
             "#de77ae"
            ],
            [
             0.3,
             "#f1b6da"
            ],
            [
             0.4,
             "#fde0ef"
            ],
            [
             0.5,
             "#f7f7f7"
            ],
            [
             0.6,
             "#e6f5d0"
            ],
            [
             0.7,
             "#b8e186"
            ],
            [
             0.8,
             "#7fbc41"
            ],
            [
             0.9,
             "#4d9221"
            ],
            [
             1,
             "#276419"
            ]
           ],
           "sequential": [
            [
             0,
             "#0d0887"
            ],
            [
             0.1111111111111111,
             "#46039f"
            ],
            [
             0.2222222222222222,
             "#7201a8"
            ],
            [
             0.3333333333333333,
             "#9c179e"
            ],
            [
             0.4444444444444444,
             "#bd3786"
            ],
            [
             0.5555555555555556,
             "#d8576b"
            ],
            [
             0.6666666666666666,
             "#ed7953"
            ],
            [
             0.7777777777777778,
             "#fb9f3a"
            ],
            [
             0.8888888888888888,
             "#fdca26"
            ],
            [
             1,
             "#f0f921"
            ]
           ],
           "sequentialminus": [
            [
             0,
             "#0d0887"
            ],
            [
             0.1111111111111111,
             "#46039f"
            ],
            [
             0.2222222222222222,
             "#7201a8"
            ],
            [
             0.3333333333333333,
             "#9c179e"
            ],
            [
             0.4444444444444444,
             "#bd3786"
            ],
            [
             0.5555555555555556,
             "#d8576b"
            ],
            [
             0.6666666666666666,
             "#ed7953"
            ],
            [
             0.7777777777777778,
             "#fb9f3a"
            ],
            [
             0.8888888888888888,
             "#fdca26"
            ],
            [
             1,
             "#f0f921"
            ]
           ]
          },
          "colorway": [
           "#636efa",
           "#EF553B",
           "#00cc96",
           "#ab63fa",
           "#FFA15A",
           "#19d3f3",
           "#FF6692",
           "#B6E880",
           "#FF97FF",
           "#FECB52"
          ],
          "font": {
           "color": "#2a3f5f"
          },
          "geo": {
           "bgcolor": "white",
           "lakecolor": "white",
           "landcolor": "#E5ECF6",
           "showlakes": true,
           "showland": true,
           "subunitcolor": "white"
          },
          "hoverlabel": {
           "align": "left"
          },
          "hovermode": "closest",
          "mapbox": {
           "style": "light"
          },
          "paper_bgcolor": "white",
          "plot_bgcolor": "#E5ECF6",
          "polar": {
           "angularaxis": {
            "gridcolor": "white",
            "linecolor": "white",
            "ticks": ""
           },
           "bgcolor": "#E5ECF6",
           "radialaxis": {
            "gridcolor": "white",
            "linecolor": "white",
            "ticks": ""
           }
          },
          "scene": {
           "xaxis": {
            "backgroundcolor": "#E5ECF6",
            "gridcolor": "white",
            "gridwidth": 2,
            "linecolor": "white",
            "showbackground": true,
            "ticks": "",
            "zerolinecolor": "white"
           },
           "yaxis": {
            "backgroundcolor": "#E5ECF6",
            "gridcolor": "white",
            "gridwidth": 2,
            "linecolor": "white",
            "showbackground": true,
            "ticks": "",
            "zerolinecolor": "white"
           },
           "zaxis": {
            "backgroundcolor": "#E5ECF6",
            "gridcolor": "white",
            "gridwidth": 2,
            "linecolor": "white",
            "showbackground": true,
            "ticks": "",
            "zerolinecolor": "white"
           }
          },
          "shapedefaults": {
           "line": {
            "color": "#2a3f5f"
           }
          },
          "ternary": {
           "aaxis": {
            "gridcolor": "white",
            "linecolor": "white",
            "ticks": ""
           },
           "baxis": {
            "gridcolor": "white",
            "linecolor": "white",
            "ticks": ""
           },
           "bgcolor": "#E5ECF6",
           "caxis": {
            "gridcolor": "white",
            "linecolor": "white",
            "ticks": ""
           }
          },
          "title": {
           "x": 0.05
          },
          "xaxis": {
           "automargin": true,
           "gridcolor": "white",
           "linecolor": "white",
           "ticks": "",
           "title": {
            "standoff": 15
           },
           "zerolinecolor": "white",
           "zerolinewidth": 2
          },
          "yaxis": {
           "automargin": true,
           "gridcolor": "white",
           "linecolor": "white",
           "ticks": "",
           "title": {
            "standoff": 15
           },
           "zerolinecolor": "white",
           "zerolinewidth": 2
          }
         }
        },
        "xaxis": {
         "anchor": "y",
         "autorange": true,
         "domain": [
          0,
          1
         ],
         "range": [
          0,
          23
         ],
         "title": {
          "text": "hour"
         },
         "type": "linear"
        },
        "yaxis": {
         "anchor": "x",
         "autorange": true,
         "domain": [
          0,
          1
         ],
         "range": [
          -14225.555555555557,
          270285.55555555556
         ],
         "title": {
          "text": "count"
         },
         "type": "linear"
        }
       }
      },
      "image/png": "[encoded data removed]",
      "text/html": [
       "<div>                            <div id=\"d3effe16-1798-40e9-b79f-9996e8893aa8\" class=\"plotly-graph-div\" style=\"height:525px; width:100%;\"></div>            <script type=\"text/javascript\">                require([\"plotly\"], function(Plotly) {                    window.PLOTLYENV=window.PLOTLYENV || {};                                    if (document.getElementById(\"d3effe16-1798-40e9-b79f-9996e8893aa8\")) {                    Plotly.newPlot(                        \"d3effe16-1798-40e9-b79f-9996e8893aa8\",                        [{\"hovertemplate\":\"weather=clear, few clouds<br>hour=%{x}<br>count=%{y}<extra></extra>\",\"legendgroup\":\"clear, few clouds\",\"line\":{\"color\":\"#636efa\",\"dash\":\"solid\"},\"mode\":\"lines\",\"name\":\"clear, few clouds\",\"orientation\":\"v\",\"showlegend\":true,\"type\":\"scatter\",\"x\":[0,1,2,3,4,5,6,7,8,9,10,11,12,13,14,15,16,17,18,19,20,21,22,23],\"xaxis\":\"x\",\"y\":[29005,16844,10920,5429,3070,9462,36534,96656,160274,98174,85453,103911,125070,131288,126633,132717,170081,256060,230312,171826,128103,95954,73823,47285],\"yaxis\":\"y\"},{\"hovertemplate\":\"weather=cloudy, mist<br>hour=%{x}<br>count=%{y}<extra></extra>\",\"legendgroup\":\"cloudy, mist\",\"line\":{\"color\":\"#EF553B\",\"dash\":\"solid\"},\"mode\":\"lines\",\"name\":\"cloudy, mist\",\"orientation\":\"v\",\"showlegend\":true,\"type\":\"scatter\",\"x\":[0,1,2,3,4,5,6,7,8,9,10,11,12,13,14,15,16,17,18,19,20,21,22,23],\"xaxis\":\"x\",\"y\":[8739,6279,4327,2231,1271,4124,16117,47036,90495,55312,35867,42248,51437,46936,40200,40183,44490,62904,62438,46887,28519,24037,18966,13882],\"yaxis\":\"y\"},{\"hovertemplate\":\"weather=heavy rain or thunderstorm or snow or ice pallets<br>hour=%{x}<br>count=%{y}<extra></extra>\",\"legendgroup\":\"heavy rain or thunderstorm or snow or ice pallets\",\"line\":{\"color\":\"#00cc96\",\"dash\":\"solid\"},\"mode\":\"lines\",\"name\":\"heavy rain or thunderstorm or snow or ice pallets\",\"orientation\":\"v\",\"showlegend\":true,\"type\":\"scatter\",\"x\":[0,1,2,3,4,5,6,7,8,9,10,11,12,13,14,15,16,17,18,19,20,21,22,23],\"xaxis\":\"x\",\"y\":[0,51,0,0,0,0,0,0,0,0,0,0,0,0,0,0,25,0,164,0,0,0,0,0],\"yaxis\":\"y\"},{\"hovertemplate\":\"weather=light snow or rain or thunderstorm<br>hour=%{x}<br>count=%{y}<extra></extra>\",\"legendgroup\":\"light snow or rain or thunderstorm\",\"line\":{\"color\":\"#ab63fa\",\"dash\":\"solid\"},\"mode\":\"lines\",\"name\":\"light snow or rain or thunderstorm\",\"orientation\":\"v\",\"showlegend\":true,\"type\":\"scatter\",\"x\":[0,1,2,3,4,5,6,7,8,9,10,11,12,13,14,15,16,17,18,19,20,21,22,23],\"xaxis\":\"x\",\"y\":[1697,982,782,372,268,683,3054,8550,11582,6496,4293,4357,7448,6659,7353,8553,11732,21094,18611,10246,8156,5573,3831,3600],\"yaxis\":\"y\"}],                        {\"legend\":{\"title\":{\"text\":\"weather\"},\"tracegroupgap\":0},\"margin\":{\"t\":60},\"template\":{\"data\":{\"bar\":[{\"error_x\":{\"color\":\"#2a3f5f\"},\"error_y\":{\"color\":\"#2a3f5f\"},\"marker\":{\"line\":{\"color\":\"#E5ECF6\",\"width\":0.5},\"pattern\":{\"fillmode\":\"overlay\",\"size\":10,\"solidity\":0.2}},\"type\":\"bar\"}],\"barpolar\":[{\"marker\":{\"line\":{\"color\":\"#E5ECF6\",\"width\":0.5},\"pattern\":{\"fillmode\":\"overlay\",\"size\":10,\"solidity\":0.2}},\"type\":\"barpolar\"}],\"carpet\":[{\"aaxis\":{\"endlinecolor\":\"#2a3f5f\",\"gridcolor\":\"white\",\"linecolor\":\"white\",\"minorgridcolor\":\"white\",\"startlinecolor\":\"#2a3f5f\"},\"baxis\":{\"endlinecolor\":\"#2a3f5f\",\"gridcolor\":\"white\",\"linecolor\":\"white\",\"minorgridcolor\":\"white\",\"startlinecolor\":\"#2a3f5f\"},\"type\":\"carpet\"}],\"choropleth\":[{\"colorbar\":{\"outlinewidth\":0,\"ticks\":\"\"},\"type\":\"choropleth\"}],\"contour\":[{\"colorbar\":{\"outlinewidth\":0,\"ticks\":\"\"},\"colorscale\":[[0.0,\"#0d0887\"],[0.1111111111111111,\"#46039f\"],[0.2222222222222222,\"#7201a8\"],[0.3333333333333333,\"#9c179e\"],[0.4444444444444444,\"#bd3786\"],[0.5555555555555556,\"#d8576b\"],[0.6666666666666666,\"#ed7953\"],[0.7777777777777778,\"#fb9f3a\"],[0.8888888888888888,\"#fdca26\"],[1.0,\"#f0f921\"]],\"type\":\"contour\"}],\"contourcarpet\":[{\"colorbar\":{\"outlinewidth\":0,\"ticks\":\"\"},\"type\":\"contourcarpet\"}],\"heatmap\":[{\"colorbar\":{\"outlinewidth\":0,\"ticks\":\"\"},\"colorscale\":[[0.0,\"#0d0887\"],[0.1111111111111111,\"#46039f\"],[0.2222222222222222,\"#7201a8\"],[0.3333333333333333,\"#9c179e\"],[0.4444444444444444,\"#bd3786\"],[0.5555555555555556,\"#d8576b\"],[0.6666666666666666,\"#ed7953\"],[0.7777777777777778,\"#fb9f3a\"],[0.8888888888888888,\"#fdca26\"],[1.0,\"#f0f921\"]],\"type\":\"heatmap\"}],\"heatmapgl\":[{\"colorbar\":{\"outlinewidth\":0,\"ticks\":\"\"},\"colorscale\":[[0.0,\"#0d0887\"],[0.1111111111111111,\"#46039f\"],[0.2222222222222222,\"#7201a8\"],[0.3333333333333333,\"#9c179e\"],[0.4444444444444444,\"#bd3786\"],[0.5555555555555556,\"#d8576b\"],[0.6666666666666666,\"#ed7953\"],[0.7777777777777778,\"#fb9f3a\"],[0.8888888888888888,\"#fdca26\"],[1.0,\"#f0f921\"]],\"type\":\"heatmapgl\"}],\"histogram\":[{\"marker\":{\"pattern\":{\"fillmode\":\"overlay\",\"size\":10,\"solidity\":0.2}},\"type\":\"histogram\"}],\"histogram2d\":[{\"colorbar\":{\"outlinewidth\":0,\"ticks\":\"\"},\"colorscale\":[[0.0,\"#0d0887\"],[0.1111111111111111,\"#46039f\"],[0.2222222222222222,\"#7201a8\"],[0.3333333333333333,\"#9c179e\"],[0.4444444444444444,\"#bd3786\"],[0.5555555555555556,\"#d8576b\"],[0.6666666666666666,\"#ed7953\"],[0.7777777777777778,\"#fb9f3a\"],[0.8888888888888888,\"#fdca26\"],[1.0,\"#f0f921\"]],\"type\":\"histogram2d\"}],\"histogram2dcontour\":[{\"colorbar\":{\"outlinewidth\":0,\"ticks\":\"\"},\"colorscale\":[[0.0,\"#0d0887\"],[0.1111111111111111,\"#46039f\"],[0.2222222222222222,\"#7201a8\"],[0.3333333333333333,\"#9c179e\"],[0.4444444444444444,\"#bd3786\"],[0.5555555555555556,\"#d8576b\"],[0.6666666666666666,\"#ed7953\"],[0.7777777777777778,\"#fb9f3a\"],[0.8888888888888888,\"#fdca26\"],[1.0,\"#f0f921\"]],\"type\":\"histogram2dcontour\"}],\"mesh3d\":[{\"colorbar\":{\"outlinewidth\":0,\"ticks\":\"\"},\"type\":\"mesh3d\"}],\"parcoords\":[{\"line\":{\"colorbar\":{\"outlinewidth\":0,\"ticks\":\"\"}},\"type\":\"parcoords\"}],\"pie\":[{\"automargin\":true,\"type\":\"pie\"}],\"scatter\":[{\"marker\":{\"colorbar\":{\"outlinewidth\":0,\"ticks\":\"\"}},\"type\":\"scatter\"}],\"scatter3d\":[{\"line\":{\"colorbar\":{\"outlinewidth\":0,\"ticks\":\"\"}},\"marker\":{\"colorbar\":{\"outlinewidth\":0,\"ticks\":\"\"}},\"type\":\"scatter3d\"}],\"scattercarpet\":[{\"marker\":{\"colorbar\":{\"outlinewidth\":0,\"ticks\":\"\"}},\"type\":\"scattercarpet\"}],\"scattergeo\":[{\"marker\":{\"colorbar\":{\"outlinewidth\":0,\"ticks\":\"\"}},\"type\":\"scattergeo\"}],\"scattergl\":[{\"marker\":{\"colorbar\":{\"outlinewidth\":0,\"ticks\":\"\"}},\"type\":\"scattergl\"}],\"scattermapbox\":[{\"marker\":{\"colorbar\":{\"outlinewidth\":0,\"ticks\":\"\"}},\"type\":\"scattermapbox\"}],\"scatterpolar\":[{\"marker\":{\"colorbar\":{\"outlinewidth\":0,\"ticks\":\"\"}},\"type\":\"scatterpolar\"}],\"scatterpolargl\":[{\"marker\":{\"colorbar\":{\"outlinewidth\":0,\"ticks\":\"\"}},\"type\":\"scatterpolargl\"}],\"scatterternary\":[{\"marker\":{\"colorbar\":{\"outlinewidth\":0,\"ticks\":\"\"}},\"type\":\"scatterternary\"}],\"surface\":[{\"colorbar\":{\"outlinewidth\":0,\"ticks\":\"\"},\"colorscale\":[[0.0,\"#0d0887\"],[0.1111111111111111,\"#46039f\"],[0.2222222222222222,\"#7201a8\"],[0.3333333333333333,\"#9c179e\"],[0.4444444444444444,\"#bd3786\"],[0.5555555555555556,\"#d8576b\"],[0.6666666666666666,\"#ed7953\"],[0.7777777777777778,\"#fb9f3a\"],[0.8888888888888888,\"#fdca26\"],[1.0,\"#f0f921\"]],\"type\":\"surface\"}],\"table\":[{\"cells\":{\"fill\":{\"color\":\"#EBF0F8\"},\"line\":{\"color\":\"white\"}},\"header\":{\"fill\":{\"color\":\"#C8D4E3\"},\"line\":{\"color\":\"white\"}},\"type\":\"table\"}]},\"layout\":{\"annotationdefaults\":{\"arrowcolor\":\"#2a3f5f\",\"arrowhead\":0,\"arrowwidth\":1},\"autotypenumbers\":\"strict\",\"coloraxis\":{\"colorbar\":{\"outlinewidth\":0,\"ticks\":\"\"}},\"colorscale\":{\"diverging\":[[0,\"#8e0152\"],[0.1,\"#c51b7d\"],[0.2,\"#de77ae\"],[0.3,\"#f1b6da\"],[0.4,\"#fde0ef\"],[0.5,\"#f7f7f7\"],[0.6,\"#e6f5d0\"],[0.7,\"#b8e186\"],[0.8,\"#7fbc41\"],[0.9,\"#4d9221\"],[1,\"#276419\"]],\"sequential\":[[0.0,\"#0d0887\"],[0.1111111111111111,\"#46039f\"],[0.2222222222222222,\"#7201a8\"],[0.3333333333333333,\"#9c179e\"],[0.4444444444444444,\"#bd3786\"],[0.5555555555555556,\"#d8576b\"],[0.6666666666666666,\"#ed7953\"],[0.7777777777777778,\"#fb9f3a\"],[0.8888888888888888,\"#fdca26\"],[1.0,\"#f0f921\"]],\"sequentialminus\":[[0.0,\"#0d0887\"],[0.1111111111111111,\"#46039f\"],[0.2222222222222222,\"#7201a8\"],[0.3333333333333333,\"#9c179e\"],[0.4444444444444444,\"#bd3786\"],[0.5555555555555556,\"#d8576b\"],[0.6666666666666666,\"#ed7953\"],[0.7777777777777778,\"#fb9f3a\"],[0.8888888888888888,\"#fdca26\"],[1.0,\"#f0f921\"]]},\"colorway\":[\"#636efa\",\"#EF553B\",\"#00cc96\",\"#ab63fa\",\"#FFA15A\",\"#19d3f3\",\"#FF6692\",\"#B6E880\",\"#FF97FF\",\"#FECB52\"],\"font\":{\"color\":\"#2a3f5f\"},\"geo\":{\"bgcolor\":\"white\",\"lakecolor\":\"white\",\"landcolor\":\"#E5ECF6\",\"showlakes\":true,\"showland\":true,\"subunitcolor\":\"white\"},\"hoverlabel\":{\"align\":\"left\"},\"hovermode\":\"closest\",\"mapbox\":{\"style\":\"light\"},\"paper_bgcolor\":\"white\",\"plot_bgcolor\":\"#E5ECF6\",\"polar\":{\"angularaxis\":{\"gridcolor\":\"white\",\"linecolor\":\"white\",\"ticks\":\"\"},\"bgcolor\":\"#E5ECF6\",\"radialaxis\":{\"gridcolor\":\"white\",\"linecolor\":\"white\",\"ticks\":\"\"}},\"scene\":{\"xaxis\":{\"backgroundcolor\":\"#E5ECF6\",\"gridcolor\":\"white\",\"gridwidth\":2,\"linecolor\":\"white\",\"showbackground\":true,\"ticks\":\"\",\"zerolinecolor\":\"white\"},\"yaxis\":{\"backgroundcolor\":\"#E5ECF6\",\"gridcolor\":\"white\",\"gridwidth\":2,\"linecolor\":\"white\",\"showbackground\":true,\"ticks\":\"\",\"zerolinecolor\":\"white\"},\"zaxis\":{\"backgroundcolor\":\"#E5ECF6\",\"gridcolor\":\"white\",\"gridwidth\":2,\"linecolor\":\"white\",\"showbackground\":true,\"ticks\":\"\",\"zerolinecolor\":\"white\"}},\"shapedefaults\":{\"line\":{\"color\":\"#2a3f5f\"}},\"ternary\":{\"aaxis\":{\"gridcolor\":\"white\",\"linecolor\":\"white\",\"ticks\":\"\"},\"baxis\":{\"gridcolor\":\"white\",\"linecolor\":\"white\",\"ticks\":\"\"},\"bgcolor\":\"#E5ECF6\",\"caxis\":{\"gridcolor\":\"white\",\"linecolor\":\"white\",\"ticks\":\"\"}},\"title\":{\"x\":0.05},\"xaxis\":{\"automargin\":true,\"gridcolor\":\"white\",\"linecolor\":\"white\",\"ticks\":\"\",\"title\":{\"standoff\":15},\"zerolinecolor\":\"white\",\"zerolinewidth\":2},\"yaxis\":{\"automargin\":true,\"gridcolor\":\"white\",\"linecolor\":\"white\",\"ticks\":\"\",\"title\":{\"standoff\":15},\"zerolinecolor\":\"white\",\"zerolinewidth\":2}}},\"xaxis\":{\"anchor\":\"y\",\"domain\":[0.0,1.0],\"title\":{\"text\":\"hour\"}},\"yaxis\":{\"anchor\":\"x\",\"domain\":[0.0,1.0],\"title\":{\"text\":\"count\"}}},                        {\"responsive\": true}                    ).then(function(){\n",
       "                            \n",
       "var gd = document.getElementById('d3effe16-1798-40e9-b79f-9996e8893aa8');\n",
       "var x = new MutationObserver(function (mutations, observer) {{\n",
       "        var display = window.getComputedStyle(gd).display;\n",
       "        if (!display || display === 'none') {{\n",
       "            console.log([gd, 'removed!']);\n",
       "            Plotly.purge(gd);\n",
       "            observer.disconnect();\n",
       "        }}\n",
       "}});\n",
       "\n",
       "// Listen for the removal of the full notebook cells\n",
       "var notebookContainer = gd.closest('#notebook-container');\n",
       "if (notebookContainer) {{\n",
       "    x.observe(notebookContainer, {childList: true});\n",
       "}}\n",
       "\n",
       "// Listen for the clearing of the current output cell\n",
       "var outputEl = gd.closest('.output');\n",
       "if (outputEl) {{\n",
       "    x.observe(outputEl, {childList: true});\n",
       "}}\n",
       "\n",
       "                        })                };                });            </script>        </div>"
      ]
     },
     "metadata": {},
     "output_type": "display_data"
    }
   ],
   "source": [
    "fig = px.line(df_by_weather, x=\"hour\", y=\"count\", color=\"weather\")\n",
    "fig.show()"
   ]
  },
  {
   "cell_type": "code",
   "execution_count": 21,
   "id": "feb573d6",
   "metadata": {
    "tags": []
   },
   "outputs": [
    {
     "data": {
      "text/html": [
       "<div>\n",
       "<style scoped>\n",
       "    .dataframe tbody tr th:only-of-type {\n",
       "        vertical-align: middle;\n",
       "    }\n",
       "\n",
       "    .dataframe tbody tr th {\n",
       "        vertical-align: top;\n",
       "    }\n",
       "\n",
       "    .dataframe thead th {\n",
       "        text-align: right;\n",
       "    }\n",
       "</style>\n",
       "<table border=\"1\" class=\"dataframe\">\n",
       "  <thead>\n",
       "    <tr style=\"text-align: right;\">\n",
       "      <th></th>\n",
       "      <th>hour</th>\n",
       "      <th>registered_customer</th>\n",
       "      <th>count</th>\n",
       "      <th>holiday</th>\n",
       "      <th>workingday</th>\n",
       "      <th>temp</th>\n",
       "      <th>atemp</th>\n",
       "      <th>humidity</th>\n",
       "      <th>windspeed</th>\n",
       "    </tr>\n",
       "  </thead>\n",
       "  <tbody>\n",
       "    <tr>\n",
       "      <th>0</th>\n",
       "      <td>0</td>\n",
       "      <td>False</td>\n",
       "      <td>7412</td>\n",
       "      <td>0.044927</td>\n",
       "      <td>0.47531</td>\n",
       "      <td>22.847820</td>\n",
       "      <td>26.517522</td>\n",
       "      <td>69.557744</td>\n",
       "      <td>10.108258</td>\n",
       "    </tr>\n",
       "    <tr>\n",
       "      <th>1</th>\n",
       "      <td>0</td>\n",
       "      <td>True</td>\n",
       "      <td>32029</td>\n",
       "      <td>0.031222</td>\n",
       "      <td>0.453964</td>\n",
       "      <td>20.935487</td>\n",
       "      <td>24.459698</td>\n",
       "      <td>68.577539</td>\n",
       "      <td>10.306241</td>\n",
       "    </tr>\n",
       "    <tr>\n",
       "      <th>2</th>\n",
       "      <td>1</td>\n",
       "      <td>False</td>\n",
       "      <td>4648</td>\n",
       "      <td>0.042599</td>\n",
       "      <td>0.361231</td>\n",
       "      <td>21.958993</td>\n",
       "      <td>25.517612</td>\n",
       "      <td>71.004733</td>\n",
       "      <td>9.618428</td>\n",
       "    </tr>\n",
       "    <tr>\n",
       "      <th>3</th>\n",
       "      <td>1</td>\n",
       "      <td>True</td>\n",
       "      <td>19508</td>\n",
       "      <td>0.03332</td>\n",
       "      <td>0.316434</td>\n",
       "      <td>20.240902</td>\n",
       "      <td>23.665396</td>\n",
       "      <td>70.219295</td>\n",
       "      <td>10.057094</td>\n",
       "    </tr>\n",
       "    <tr>\n",
       "      <th>4</th>\n",
       "      <td>2</td>\n",
       "      <td>False</td>\n",
       "      <td>3307</td>\n",
       "      <td>0.052011</td>\n",
       "      <td>0.289084</td>\n",
       "      <td>21.248092</td>\n",
       "      <td>24.786451</td>\n",
       "      <td>71.652253</td>\n",
       "      <td>9.767869</td>\n",
       "    </tr>\n",
       "    <tr>\n",
       "      <th>5</th>\n",
       "      <td>2</td>\n",
       "      <td>True</td>\n",
       "      <td>12722</td>\n",
       "      <td>0.031363</td>\n",
       "      <td>0.249096</td>\n",
       "      <td>19.996604</td>\n",
       "      <td>23.450803</td>\n",
       "      <td>71.342320</td>\n",
       "      <td>9.867901</td>\n",
       "    </tr>\n",
       "    <tr>\n",
       "      <th>6</th>\n",
       "      <td>3</td>\n",
       "      <td>False</td>\n",
       "      <td>1783</td>\n",
       "      <td>0.03309</td>\n",
       "      <td>0.22995</td>\n",
       "      <td>20.789736</td>\n",
       "      <td>24.440098</td>\n",
       "      <td>73.179473</td>\n",
       "      <td>9.037909</td>\n",
       "    </tr>\n",
       "    <tr>\n",
       "      <th>7</th>\n",
       "      <td>3</td>\n",
       "      <td>True</td>\n",
       "      <td>6249</td>\n",
       "      <td>0.025124</td>\n",
       "      <td>0.321331</td>\n",
       "      <td>19.657036</td>\n",
       "      <td>23.126814</td>\n",
       "      <td>72.872460</td>\n",
       "      <td>9.593566</td>\n",
       "    </tr>\n",
       "    <tr>\n",
       "      <th>8</th>\n",
       "      <td>4</td>\n",
       "      <td>False</td>\n",
       "      <td>866</td>\n",
       "      <td>0.047344</td>\n",
       "      <td>0.398383</td>\n",
       "      <td>20.336189</td>\n",
       "      <td>23.866443</td>\n",
       "      <td>75.401848</td>\n",
       "      <td>10.078974</td>\n",
       "    </tr>\n",
       "    <tr>\n",
       "      <th>9</th>\n",
       "      <td>4</td>\n",
       "      <td>True</td>\n",
       "      <td>3743</td>\n",
       "      <td>0.029923</td>\n",
       "      <td>0.615816</td>\n",
       "      <td>19.655025</td>\n",
       "      <td>23.095254</td>\n",
       "      <td>74.586962</td>\n",
       "      <td>9.707933</td>\n",
       "    </tr>\n",
       "    <tr>\n",
       "      <th>10</th>\n",
       "      <td>5</td>\n",
       "      <td>False</td>\n",
       "      <td>1035</td>\n",
       "      <td>0.034783</td>\n",
       "      <td>0.610628</td>\n",
       "      <td>21.712174</td>\n",
       "      <td>25.348580</td>\n",
       "      <td>75.265700</td>\n",
       "      <td>9.311472</td>\n",
       "    </tr>\n",
       "    <tr>\n",
       "      <th>11</th>\n",
       "      <td>5</td>\n",
       "      <td>True</td>\n",
       "      <td>13234</td>\n",
       "      <td>0.018815</td>\n",
       "      <td>0.869578</td>\n",
       "      <td>19.546783</td>\n",
       "      <td>22.967604</td>\n",
       "      <td>75.381820</td>\n",
       "      <td>9.626269</td>\n",
       "    </tr>\n",
       "    <tr>\n",
       "      <th>12</th>\n",
       "      <td>6</td>\n",
       "      <td>False</td>\n",
       "      <td>3077</td>\n",
       "      <td>0.027624</td>\n",
       "      <td>0.720507</td>\n",
       "      <td>21.492421</td>\n",
       "      <td>25.100188</td>\n",
       "      <td>75.570686</td>\n",
       "      <td>9.839276</td>\n",
       "    </tr>\n",
       "    <tr>\n",
       "      <th>13</th>\n",
       "      <td>6</td>\n",
       "      <td>True</td>\n",
       "      <td>52628</td>\n",
       "      <td>0.012503</td>\n",
       "      <td>0.931386</td>\n",
       "      <td>19.519655</td>\n",
       "      <td>22.911065</td>\n",
       "      <td>75.311754</td>\n",
       "      <td>10.080646</td>\n",
       "    </tr>\n",
       "    <tr>\n",
       "      <th>14</th>\n",
       "      <td>7</td>\n",
       "      <td>False</td>\n",
       "      <td>8023</td>\n",
       "      <td>0.023807</td>\n",
       "      <td>0.747102</td>\n",
       "      <td>21.778190</td>\n",
       "      <td>25.446169</td>\n",
       "      <td>73.409199</td>\n",
       "      <td>10.643684</td>\n",
       "    </tr>\n",
       "    <tr>\n",
       "      <th>15</th>\n",
       "      <td>7</td>\n",
       "      <td>True</td>\n",
       "      <td>144219</td>\n",
       "      <td>0.013167</td>\n",
       "      <td>0.938711</td>\n",
       "      <td>19.773276</td>\n",
       "      <td>23.237864</td>\n",
       "      <td>73.097206</td>\n",
       "      <td>10.628998</td>\n",
       "    </tr>\n",
       "    <tr>\n",
       "      <th>16</th>\n",
       "      <td>8</td>\n",
       "      <td>False</td>\n",
       "      <td>15475</td>\n",
       "      <td>0.033279</td>\n",
       "      <td>0.697189</td>\n",
       "      <td>22.045998</td>\n",
       "      <td>25.731457</td>\n",
       "      <td>69.435477</td>\n",
       "      <td>11.578298</td>\n",
       "    </tr>\n",
       "    <tr>\n",
       "      <th>17</th>\n",
       "      <td>8</td>\n",
       "      <td>True</td>\n",
       "      <td>246876</td>\n",
       "      <td>0.015198</td>\n",
       "      <td>0.917886</td>\n",
       "      <td>19.856425</td>\n",
       "      <td>23.353159</td>\n",
       "      <td>69.970864</td>\n",
       "      <td>11.299497</td>\n",
       "    </tr>\n",
       "    <tr>\n",
       "      <th>18</th>\n",
       "      <td>9</td>\n",
       "      <td>False</td>\n",
       "      <td>22401</td>\n",
       "      <td>0.040445</td>\n",
       "      <td>0.540244</td>\n",
       "      <td>22.992725</td>\n",
       "      <td>26.812120</td>\n",
       "      <td>64.696174</td>\n",
       "      <td>12.001940</td>\n",
       "    </tr>\n",
       "    <tr>\n",
       "      <th>19</th>\n",
       "      <td>9</td>\n",
       "      <td>True</td>\n",
       "      <td>137581</td>\n",
       "      <td>0.024335</td>\n",
       "      <td>0.780711</td>\n",
       "      <td>20.525462</td>\n",
       "      <td>24.057110</td>\n",
       "      <td>65.589740</td>\n",
       "      <td>12.266271</td>\n",
       "    </tr>\n",
       "    <tr>\n",
       "      <th>20</th>\n",
       "      <td>10</td>\n",
       "      <td>False</td>\n",
       "      <td>32886</td>\n",
       "      <td>0.041233</td>\n",
       "      <td>0.451651</td>\n",
       "      <td>24.012241</td>\n",
       "      <td>27.815289</td>\n",
       "      <td>59.047133</td>\n",
       "      <td>12.995440</td>\n",
       "    </tr>\n",
       "    <tr>\n",
       "      <th>21</th>\n",
       "      <td>10</td>\n",
       "      <td>True</td>\n",
       "      <td>92727</td>\n",
       "      <td>0.034025</td>\n",
       "      <td>0.555092</td>\n",
       "      <td>21.767155</td>\n",
       "      <td>25.336549</td>\n",
       "      <td>60.493405</td>\n",
       "      <td>13.128071</td>\n",
       "    </tr>\n",
       "    <tr>\n",
       "      <th>22</th>\n",
       "      <td>11</td>\n",
       "      <td>False</td>\n",
       "      <td>42659</td>\n",
       "      <td>0.040695</td>\n",
       "      <td>0.430132</td>\n",
       "      <td>24.839009</td>\n",
       "      <td>28.674968</td>\n",
       "      <td>54.329122</td>\n",
       "      <td>13.225465</td>\n",
       "    </tr>\n",
       "    <tr>\n",
       "      <th>23</th>\n",
       "      <td>11</td>\n",
       "      <td>True</td>\n",
       "      <td>107857</td>\n",
       "      <td>0.03322</td>\n",
       "      <td>0.552686</td>\n",
       "      <td>22.789031</td>\n",
       "      <td>26.420599</td>\n",
       "      <td>55.784344</td>\n",
       "      <td>13.498757</td>\n",
       "    </tr>\n",
       "    <tr>\n",
       "      <th>24</th>\n",
       "      <td>12</td>\n",
       "      <td>False</td>\n",
       "      <td>49457</td>\n",
       "      <td>0.040783</td>\n",
       "      <td>0.407627</td>\n",
       "      <td>25.406835</td>\n",
       "      <td>29.230493</td>\n",
       "      <td>50.733506</td>\n",
       "      <td>13.729257</td>\n",
       "    </tr>\n",
       "    <tr>\n",
       "      <th>25</th>\n",
       "      <td>12</td>\n",
       "      <td>True</td>\n",
       "      <td>134498</td>\n",
       "      <td>0.032774</td>\n",
       "      <td>0.581027</td>\n",
       "      <td>23.569833</td>\n",
       "      <td>27.224083</td>\n",
       "      <td>51.786636</td>\n",
       "      <td>14.078007</td>\n",
       "    </tr>\n",
       "    <tr>\n",
       "      <th>26</th>\n",
       "      <td>13</td>\n",
       "      <td>False</td>\n",
       "      <td>53111</td>\n",
       "      <td>0.038523</td>\n",
       "      <td>0.391821</td>\n",
       "      <td>25.820451</td>\n",
       "      <td>29.687723</td>\n",
       "      <td>47.967954</td>\n",
       "      <td>14.241598</td>\n",
       "    </tr>\n",
       "    <tr>\n",
       "      <th>27</th>\n",
       "      <td>13</td>\n",
       "      <td>True</td>\n",
       "      <td>131772</td>\n",
       "      <td>0.033179</td>\n",
       "      <td>0.57752</td>\n",
       "      <td>24.079861</td>\n",
       "      <td>27.770775</td>\n",
       "      <td>49.128366</td>\n",
       "      <td>14.466719</td>\n",
       "    </tr>\n",
       "    <tr>\n",
       "      <th>28</th>\n",
       "      <td>14</td>\n",
       "      <td>False</td>\n",
       "      <td>54428</td>\n",
       "      <td>0.039116</td>\n",
       "      <td>0.399335</td>\n",
       "      <td>26.013456</td>\n",
       "      <td>29.830184</td>\n",
       "      <td>46.312596</td>\n",
       "      <td>15.270079</td>\n",
       "    </tr>\n",
       "    <tr>\n",
       "      <th>29</th>\n",
       "      <td>14</td>\n",
       "      <td>True</td>\n",
       "      <td>119758</td>\n",
       "      <td>0.035171</td>\n",
       "      <td>0.560029</td>\n",
       "      <td>24.495396</td>\n",
       "      <td>28.169531</td>\n",
       "      <td>47.551562</td>\n",
       "      <td>15.277053</td>\n",
       "    </tr>\n",
       "    <tr>\n",
       "      <th>30</th>\n",
       "      <td>15</td>\n",
       "      <td>False</td>\n",
       "      <td>53791</td>\n",
       "      <td>0.034708</td>\n",
       "      <td>0.413378</td>\n",
       "      <td>26.154465</td>\n",
       "      <td>29.875602</td>\n",
       "      <td>45.829265</td>\n",
       "      <td>15.623128</td>\n",
       "    </tr>\n",
       "    <tr>\n",
       "      <th>31</th>\n",
       "      <td>15</td>\n",
       "      <td>True</td>\n",
       "      <td>127662</td>\n",
       "      <td>0.031912</td>\n",
       "      <td>0.590559</td>\n",
       "      <td>24.562334</td>\n",
       "      <td>28.169666</td>\n",
       "      <td>47.137950</td>\n",
       "      <td>15.420444</td>\n",
       "    </tr>\n",
       "    <tr>\n",
       "      <th>32</th>\n",
       "      <td>16</td>\n",
       "      <td>False</td>\n",
       "      <td>53303</td>\n",
       "      <td>0.03527</td>\n",
       "      <td>0.442189</td>\n",
       "      <td>26.347056</td>\n",
       "      <td>30.045418</td>\n",
       "      <td>45.949684</td>\n",
       "      <td>15.752412</td>\n",
       "    </tr>\n",
       "    <tr>\n",
       "      <th>33</th>\n",
       "      <td>16</td>\n",
       "      <td>True</td>\n",
       "      <td>173025</td>\n",
       "      <td>0.026459</td>\n",
       "      <td>0.692137</td>\n",
       "      <td>24.782554</td>\n",
       "      <td>28.361025</td>\n",
       "      <td>47.447860</td>\n",
       "      <td>15.590531</td>\n",
       "    </tr>\n",
       "    <tr>\n",
       "      <th>34</th>\n",
       "      <td>17</td>\n",
       "      <td>False</td>\n",
       "      <td>54424</td>\n",
       "      <td>0.033441</td>\n",
       "      <td>0.524493</td>\n",
       "      <td>26.549413</td>\n",
       "      <td>30.205528</td>\n",
       "      <td>47.372575</td>\n",
       "      <td>15.390289</td>\n",
       "    </tr>\n",
       "    <tr>\n",
       "      <th>35</th>\n",
       "      <td>17</td>\n",
       "      <td>True</td>\n",
       "      <td>285634</td>\n",
       "      <td>0.019893</td>\n",
       "      <td>0.822357</td>\n",
       "      <td>24.677397</td>\n",
       "      <td>28.247806</td>\n",
       "      <td>49.093420</td>\n",
       "      <td>15.309166</td>\n",
       "    </tr>\n",
       "    <tr>\n",
       "      <th>36</th>\n",
       "      <td>18</td>\n",
       "      <td>False</td>\n",
       "      <td>44724</td>\n",
       "      <td>0.034187</td>\n",
       "      <td>0.565446</td>\n",
       "      <td>26.579228</td>\n",
       "      <td>30.365025</td>\n",
       "      <td>49.757848</td>\n",
       "      <td>14.892273</td>\n",
       "    </tr>\n",
       "    <tr>\n",
       "      <th>37</th>\n",
       "      <td>18</td>\n",
       "      <td>True</td>\n",
       "      <td>266801</td>\n",
       "      <td>0.021162</td>\n",
       "      <td>0.825402</td>\n",
       "      <td>24.262695</td>\n",
       "      <td>27.911055</td>\n",
       "      <td>51.694645</td>\n",
       "      <td>14.771243</td>\n",
       "    </tr>\n",
       "    <tr>\n",
       "      <th>38</th>\n",
       "      <td>19</td>\n",
       "      <td>False</td>\n",
       "      <td>35323</td>\n",
       "      <td>0.031339</td>\n",
       "      <td>0.581576</td>\n",
       "      <td>26.248891</td>\n",
       "      <td>30.109125</td>\n",
       "      <td>54.445489</td>\n",
       "      <td>13.799623</td>\n",
       "    </tr>\n",
       "    <tr>\n",
       "      <th>39</th>\n",
       "      <td>19</td>\n",
       "      <td>True</td>\n",
       "      <td>193636</td>\n",
       "      <td>0.023839</td>\n",
       "      <td>0.799485</td>\n",
       "      <td>23.638259</td>\n",
       "      <td>27.338757</td>\n",
       "      <td>55.560536</td>\n",
       "      <td>13.763953</td>\n",
       "    </tr>\n",
       "    <tr>\n",
       "      <th>40</th>\n",
       "      <td>20</td>\n",
       "      <td>False</td>\n",
       "      <td>26560</td>\n",
       "      <td>0.040512</td>\n",
       "      <td>0.5782</td>\n",
       "      <td>25.859361</td>\n",
       "      <td>29.793668</td>\n",
       "      <td>57.498193</td>\n",
       "      <td>12.697998</td>\n",
       "    </tr>\n",
       "    <tr>\n",
       "      <th>41</th>\n",
       "      <td>20</td>\n",
       "      <td>True</td>\n",
       "      <td>138218</td>\n",
       "      <td>0.025532</td>\n",
       "      <td>0.780803</td>\n",
       "      <td>23.115525</td>\n",
       "      <td>26.877716</td>\n",
       "      <td>58.737538</td>\n",
       "      <td>12.681038</td>\n",
       "    </tr>\n",
       "    <tr>\n",
       "      <th>42</th>\n",
       "      <td>21</td>\n",
       "      <td>False</td>\n",
       "      <td>20654</td>\n",
       "      <td>0.040428</td>\n",
       "      <td>0.5902</td>\n",
       "      <td>25.166226</td>\n",
       "      <td>29.161885</td>\n",
       "      <td>61.634357</td>\n",
       "      <td>11.441581</td>\n",
       "    </tr>\n",
       "    <tr>\n",
       "      <th>43</th>\n",
       "      <td>21</td>\n",
       "      <td>True</td>\n",
       "      <td>104910</td>\n",
       "      <td>0.027347</td>\n",
       "      <td>0.763197</td>\n",
       "      <td>22.566078</td>\n",
       "      <td>26.341151</td>\n",
       "      <td>62.335488</td>\n",
       "      <td>11.564035</td>\n",
       "    </tr>\n",
       "    <tr>\n",
       "      <th>44</th>\n",
       "      <td>22</td>\n",
       "      <td>False</td>\n",
       "      <td>16324</td>\n",
       "      <td>0.036388</td>\n",
       "      <td>0.590051</td>\n",
       "      <td>24.477382</td>\n",
       "      <td>28.407681</td>\n",
       "      <td>64.322899</td>\n",
       "      <td>10.990986</td>\n",
       "    </tr>\n",
       "    <tr>\n",
       "      <th>45</th>\n",
       "      <td>22</td>\n",
       "      <td>True</td>\n",
       "      <td>80296</td>\n",
       "      <td>0.028395</td>\n",
       "      <td>0.736201</td>\n",
       "      <td>22.070945</td>\n",
       "      <td>25.779474</td>\n",
       "      <td>64.692226</td>\n",
       "      <td>11.006301</td>\n",
       "    </tr>\n",
       "    <tr>\n",
       "      <th>46</th>\n",
       "      <td>23</td>\n",
       "      <td>False</td>\n",
       "      <td>11176</td>\n",
       "      <td>0.020311</td>\n",
       "      <td>0.592341</td>\n",
       "      <td>23.756815</td>\n",
       "      <td>27.613928</td>\n",
       "      <td>67.329903</td>\n",
       "      <td>10.133573</td>\n",
       "    </tr>\n",
       "    <tr>\n",
       "      <th>47</th>\n",
       "      <td>23</td>\n",
       "      <td>True</td>\n",
       "      <td>53591</td>\n",
       "      <td>0.02409</td>\n",
       "      <td>0.705678</td>\n",
       "      <td>21.579644</td>\n",
       "      <td>25.248456</td>\n",
       "      <td>66.943703</td>\n",
       "      <td>10.234394</td>\n",
       "    </tr>\n",
       "  </tbody>\n",
       "</table>\n",
       "</div>"
      ],
      "text/plain": [
       "    hour  registered_customer   count   holiday  workingday       temp  \\\n",
       "0      0                False    7412  0.044927     0.47531  22.847820   \n",
       "1      0                 True   32029  0.031222    0.453964  20.935487   \n",
       "2      1                False    4648  0.042599    0.361231  21.958993   \n",
       "3      1                 True   19508   0.03332    0.316434  20.240902   \n",
       "4      2                False    3307  0.052011    0.289084  21.248092   \n",
       "5      2                 True   12722  0.031363    0.249096  19.996604   \n",
       "6      3                False    1783   0.03309     0.22995  20.789736   \n",
       "7      3                 True    6249  0.025124    0.321331  19.657036   \n",
       "8      4                False     866  0.047344    0.398383  20.336189   \n",
       "9      4                 True    3743  0.029923    0.615816  19.655025   \n",
       "10     5                False    1035  0.034783    0.610628  21.712174   \n",
       "11     5                 True   13234  0.018815    0.869578  19.546783   \n",
       "12     6                False    3077  0.027624    0.720507  21.492421   \n",
       "13     6                 True   52628  0.012503    0.931386  19.519655   \n",
       "14     7                False    8023  0.023807    0.747102  21.778190   \n",
       "15     7                 True  144219  0.013167    0.938711  19.773276   \n",
       "16     8                False   15475  0.033279    0.697189  22.045998   \n",
       "17     8                 True  246876  0.015198    0.917886  19.856425   \n",
       "18     9                False   22401  0.040445    0.540244  22.992725   \n",
       "19     9                 True  137581  0.024335    0.780711  20.525462   \n",
       "20    10                False   32886  0.041233    0.451651  24.012241   \n",
       "21    10                 True   92727  0.034025    0.555092  21.767155   \n",
       "22    11                False   42659  0.040695    0.430132  24.839009   \n",
       "23    11                 True  107857   0.03322    0.552686  22.789031   \n",
       "24    12                False   49457  0.040783    0.407627  25.406835   \n",
       "25    12                 True  134498  0.032774    0.581027  23.569833   \n",
       "26    13                False   53111  0.038523    0.391821  25.820451   \n",
       "27    13                 True  131772  0.033179     0.57752  24.079861   \n",
       "28    14                False   54428  0.039116    0.399335  26.013456   \n",
       "29    14                 True  119758  0.035171    0.560029  24.495396   \n",
       "30    15                False   53791  0.034708    0.413378  26.154465   \n",
       "31    15                 True  127662  0.031912    0.590559  24.562334   \n",
       "32    16                False   53303   0.03527    0.442189  26.347056   \n",
       "33    16                 True  173025  0.026459    0.692137  24.782554   \n",
       "34    17                False   54424  0.033441    0.524493  26.549413   \n",
       "35    17                 True  285634  0.019893    0.822357  24.677397   \n",
       "36    18                False   44724  0.034187    0.565446  26.579228   \n",
       "37    18                 True  266801  0.021162    0.825402  24.262695   \n",
       "38    19                False   35323  0.031339    0.581576  26.248891   \n",
       "39    19                 True  193636  0.023839    0.799485  23.638259   \n",
       "40    20                False   26560  0.040512      0.5782  25.859361   \n",
       "41    20                 True  138218  0.025532    0.780803  23.115525   \n",
       "42    21                False   20654  0.040428      0.5902  25.166226   \n",
       "43    21                 True  104910  0.027347    0.763197  22.566078   \n",
       "44    22                False   16324  0.036388    0.590051  24.477382   \n",
       "45    22                 True   80296  0.028395    0.736201  22.070945   \n",
       "46    23                False   11176  0.020311    0.592341  23.756815   \n",
       "47    23                 True   53591   0.02409    0.705678  21.579644   \n",
       "\n",
       "        atemp   humidity  windspeed  \n",
       "0   26.517522  69.557744  10.108258  \n",
       "1   24.459698  68.577539  10.306241  \n",
       "2   25.517612  71.004733   9.618428  \n",
       "3   23.665396  70.219295  10.057094  \n",
       "4   24.786451  71.652253   9.767869  \n",
       "5   23.450803  71.342320   9.867901  \n",
       "6   24.440098  73.179473   9.037909  \n",
       "7   23.126814  72.872460   9.593566  \n",
       "8   23.866443  75.401848  10.078974  \n",
       "9   23.095254  74.586962   9.707933  \n",
       "10  25.348580  75.265700   9.311472  \n",
       "11  22.967604  75.381820   9.626269  \n",
       "12  25.100188  75.570686   9.839276  \n",
       "13  22.911065  75.311754  10.080646  \n",
       "14  25.446169  73.409199  10.643684  \n",
       "15  23.237864  73.097206  10.628998  \n",
       "16  25.731457  69.435477  11.578298  \n",
       "17  23.353159  69.970864  11.299497  \n",
       "18  26.812120  64.696174  12.001940  \n",
       "19  24.057110  65.589740  12.266271  \n",
       "20  27.815289  59.047133  12.995440  \n",
       "21  25.336549  60.493405  13.128071  \n",
       "22  28.674968  54.329122  13.225465  \n",
       "23  26.420599  55.784344  13.498757  \n",
       "24  29.230493  50.733506  13.729257  \n",
       "25  27.224083  51.786636  14.078007  \n",
       "26  29.687723  47.967954  14.241598  \n",
       "27  27.770775  49.128366  14.466719  \n",
       "28  29.830184  46.312596  15.270079  \n",
       "29  28.169531  47.551562  15.277053  \n",
       "30  29.875602  45.829265  15.623128  \n",
       "31  28.169666  47.137950  15.420444  \n",
       "32  30.045418  45.949684  15.752412  \n",
       "33  28.361025  47.447860  15.590531  \n",
       "34  30.205528  47.372575  15.390289  \n",
       "35  28.247806  49.093420  15.309166  \n",
       "36  30.365025  49.757848  14.892273  \n",
       "37  27.911055  51.694645  14.771243  \n",
       "38  30.109125  54.445489  13.799623  \n",
       "39  27.338757  55.560536  13.763953  \n",
       "40  29.793668  57.498193  12.697998  \n",
       "41  26.877716  58.737538  12.681038  \n",
       "42  29.161885  61.634357  11.441581  \n",
       "43  26.341151  62.335488  11.564035  \n",
       "44  28.407681  64.322899  10.990986  \n",
       "45  25.779474  64.692226  11.006301  \n",
       "46  27.613928  67.329903  10.133573  \n",
       "47  25.248456  66.943703  10.234394  "
      ]
     },
     "execution_count": 21,
     "metadata": {},
     "output_type": "execute_result"
    }
   ],
   "source": [
    "df_by_hour"
   ]
  },
  {
   "cell_type": "code",
   "execution_count": null,
   "id": "78922b1f-4901-47b3-ac69-d9c08c92880b",
   "metadata": {},
   "outputs": [],
   "source": []
  }
 ],
 "metadata": {
  "kernelspec": {
   "display_name": "Python 3 (ipykernel)",
   "language": "python",
   "name": "python3"
  },
  "language_info": {
   "codemirror_mode": {
    "name": "ipython",
    "version": 3
   },
   "file_extension": ".py",
   "mimetype": "text/x-python",
   "name": "python",
   "nbconvert_exporter": "python",
   "pygments_lexer": "ipython3",
   "version": "3.7.11"
  }
 },
 "nbformat": 4,
 "nbformat_minor": 5
}
